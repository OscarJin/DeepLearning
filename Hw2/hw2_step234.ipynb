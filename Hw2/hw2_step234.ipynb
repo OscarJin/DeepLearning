{
 "cells": [
  {
   "cell_type": "markdown",
   "id": "2da49b89-1192-4ad7-8efa-7f38b61fafd6",
   "metadata": {},
   "source": [
    "# Homework 2, Step 2. CNN for CIFAR-100\n",
    "\n",
    "In the step 2, you need to try CNN on the CIFAR-100 classification."
   ]
  },
  {
   "cell_type": "markdown",
   "id": "958a41c9-3ac0-4313-92aa-05ad4bb6f961",
   "metadata": {},
   "source": [
    "## 1. Prepare the dataset and the model\n",
    "### Import Library"
   ]
  },
  {
   "cell_type": "code",
   "execution_count": 1,
   "id": "704dfb5f-488d-4d4f-813d-45d52316e07c",
   "metadata": {},
   "outputs": [],
   "source": [
    "import os\n",
    "import sys\n",
    "\n",
    "os.environ[\"CUDA_VISIBLE_DEVICES\"] = \"0\"\n",
    "\n",
    "import numpy as np\n",
    "import torch\n",
    "import torch.backends.cudnn as cudnn\n",
    "import torch.nn as nn\n",
    "import torch.nn.functional as F\n",
    "import torch.optim as optim\n",
    "import torchvision\n",
    "import torchvision.transforms as transforms\n",
    "from torch.utils.tensorboard import SummaryWriter\n",
    "\n",
    "import time\n",
    "\n",
    "import tqdm"
   ]
  },
  {
   "cell_type": "markdown",
   "id": "37c6aa65-3eeb-4020-82d8-035c0ec29a0f",
   "metadata": {},
   "source": [
    "### Hyperparameters\n",
    "**For step 3, 4, 5,** you need to change the value of momentum, weight decay, data augmentation and batch normalization, to see the difference.\n",
    "\n",
    "`mmt`: momentum for the optimizer. Use `0` if you do not want to use the momentum.\n",
    "\n",
    "`wd`: weight decay for the optimizer. Use `0` if you do not want to use the weight decay.\n",
    "\n",
    "`data_augmentation`: whether to use the data augmentation for the training.\n",
    "\n",
    "`use_BN`: wheter to use the batch normalization for the training. "
   ]
  },
  {
   "cell_type": "code",
   "execution_count": 2,
   "id": "e2a13524-df5b-4a31-9aaa-99b0b899eae2",
   "metadata": {},
   "outputs": [],
   "source": [
    "lr = 0.1  # learning rate\n",
    "opt = 'sgd'\n",
    "batchsize = 256  # training batchsize\n",
    "\n",
    "mmt = 0.9  # momentum for optimizer\n",
    "wd = 5e-4  # weight_decay for optimizer\n",
    "data_augmentation = True\n",
    "use_BN = False"
   ]
  },
  {
   "cell_type": "markdown",
   "id": "64b09db2-d22c-4915-b642-40416f6622bd",
   "metadata": {},
   "source": [
    "### Load Dataset\n",
    "In pytorch, you can use the following API to load the dataset.\n",
    "\n",
    "The RGB mean and std are pre-calculated values for normalizing the data. **Do not modify them**."
   ]
  },
  {
   "cell_type": "code",
   "execution_count": 3,
   "id": "454fbb59-155b-4f57-b834-3eef178ca19d",
   "metadata": {},
   "outputs": [
    {
     "name": "stdout",
     "output_type": "stream",
     "text": [
      "Files already downloaded and verified\n",
      "Files already downloaded and verified\n"
     ]
    }
   ],
   "source": [
    "rgb_mean = np.array([0.4914, 0.4822, 0.4465])\n",
    "rgb_std = np.array([0.2023, 0.1994, 0.2010])\n",
    "if data_augmentation:\n",
    "    transform_train = transforms.Compose([\n",
    "        transforms.RandomCrop(32, padding=4),\n",
    "        transforms.RandomHorizontalFlip(),\n",
    "        transforms.ToTensor(),\n",
    "        transforms.Normalize(rgb_mean, rgb_std),\n",
    "    ])\n",
    "else:\n",
    "    transform_train = transforms.Compose([\n",
    "        transforms.ToTensor(),\n",
    "        transforms.Normalize(rgb_mean, rgb_std),\n",
    "    ])\n",
    "\n",
    "transform_test = transforms.Compose([\n",
    "    transforms.ToTensor(),\n",
    "    transforms.Normalize(rgb_mean, rgb_std),\n",
    "])\n",
    "\n",
    "trainset = torchvision.datasets.CIFAR100(\n",
    "    root='../data', train=True, download=True, transform=transform_train)\n",
    "trainloader = torch.utils.data.DataLoader(\n",
    "    trainset, batch_size=batchsize, shuffle=True, num_workers=1)\n",
    "\n",
    "testset = torchvision.datasets.CIFAR100(\n",
    "    root='../data', train=False, download=True, transform=transform_test)\n",
    "testloader = torch.utils.data.DataLoader(\n",
    "    testset, batch_size=500, shuffle=False, num_workers=1)"
   ]
  },
  {
   "cell_type": "markdown",
   "id": "de988042-1dff-4cae-ab43-5a190e26fb02",
   "metadata": {},
   "source": [
    "### Define the CNN Model"
   ]
  },
  {
   "cell_type": "code",
   "execution_count": 4,
   "id": "c828fe5d-3889-4262-b5f7-a480201901f8",
   "metadata": {},
   "outputs": [],
   "source": [
    "class Identity(nn.Module):\n",
    "    def __init__(self) -> None:\n",
    "        super().__init__()\n",
    "\n",
    "    def forward(self, x):\n",
    "        return x\n",
    "\n",
    "\n",
    "def _weights_init(m):\n",
    "    if isinstance(m, nn.Linear) or isinstance(m, nn.Conv2d):\n",
    "        nn.init.kaiming_normal_(m.weight.data)\n",
    "\n",
    "\n",
    "def compute_feature_map_size(ks, pks):\n",
    "    s = 32\n",
    "    for k, pk in zip(ks, pks):\n",
    "        s = s-k+1\n",
    "        s = int(s/pk)\n",
    "    return s\n",
    "\n",
    "\n",
    "class LeNet(nn.Module):\n",
    "    def __init__(self, num_classes, hidden_chns, ks, pks):\n",
    "        super(LeNet, self).__init__()\n",
    "        in_chns, out_chns = [3, *hidden_chns[:-1]], hidden_chns\n",
    "        layers = []\n",
    "        for ic, oc, k, pk in zip(in_chns, out_chns, ks, pks):\n",
    "            layers.append(nn.Conv2d(ic, oc, kernel_size=k))\n",
    "            if use_BN:\n",
    "                layers.append(nn.BatchNorm2d(oc))\n",
    "            layers.append(nn.MaxPool2d(kernel_size=pk, stride=2) if pk>1 else Identity()) \n",
    "            layers.append(nn.ReLU(inplace=True))\n",
    "        self.layers = nn.Sequential(*layers)\n",
    "\n",
    "        s = compute_feature_map_size(ks, pks)\n",
    "        print(f\"feature size: {s}\")\n",
    "\n",
    "#         self.fc = nn.Linear(hidden_chns[-1] * s * s, num_classes)\n",
    "        self.fc = nn.Sequential(\n",
    "            nn.Linear(hidden_chns[-1] * s * s, 4096),\n",
    "            nn.ReLU(inplace=True),\n",
    "            nn.Dropout(),\n",
    "            nn.Linear(4096, 4096),\n",
    "            nn.ReLU(inplace=True),\n",
    "            nn.Dropout(),\n",
    "            nn.Linear(4096, num_classes)\n",
    "        )\n",
    "\n",
    "    def forward(self, x):\n",
    "        x = self.layers(x)\n",
    "        x = x.view(x.size(0), -1)\n",
    "        return self.fc(x)\n",
    "\n",
    "\n",
    "def lenet(hidden_chns, ks, pks):\n",
    "    return LeNet(num_classes=100, hidden_chns=hidden_chns, ks=ks, pks=pks)"
   ]
  },
  {
   "cell_type": "markdown",
   "id": "6c3f1ce2-5dd6-48ba-843f-161df36d8d5d",
   "metadata": {},
   "source": [
    "## 2. Define the model and run\n",
    "\n",
    "### Training settings\n",
    "You may modify the `num_epochs` for the fast training or the better performance."
   ]
  },
  {
   "cell_type": "code",
   "execution_count": 5,
   "id": "5559de8f-6242-4241-b7f6-2faab5c46328",
   "metadata": {},
   "outputs": [],
   "source": [
    "num_epochs = 150  # training epochs\n",
    "best_acc = 0.0  # best accuracy"
   ]
  },
  {
   "cell_type": "markdown",
   "id": "ad2e59ae-dcb0-452a-b45d-78cc89debe72",
   "metadata": {},
   "source": [
    "### Define the model, optimizer, loss function, learning rate scheduler\n",
    "For step 2, 3, 4, 5, you need to change the network structure of the CNN.\n",
    "\n",
    "`hidden_chns`: a list of the hidden channels of the conv layer.\n",
    "\n",
    "`ks`: a list of the kernel sizes of the conv layer.\n",
    "\n",
    "`pks`: a list of the pooling kernel sizes of the pooling layer. Use `1` if you do not want to use a pooling layer (and it will be an identity function)."
   ]
  },
  {
   "cell_type": "code",
   "execution_count": 6,
   "id": "4641b049-e129-4558-ad71-26be90cea90a",
   "metadata": {},
   "outputs": [
    {
     "name": "stdout",
     "output_type": "stream",
     "text": [
      "feature size: 1\n",
      "cuda\n"
     ]
    }
   ],
   "source": [
    "net = lenet(\n",
    "    hidden_chns=[128, 128, 256, 256, 512],\n",
    "    ks=[3, 3, 3, 3, 3],\n",
    "    pks=[1, 2, 1, 2, 2]\n",
    ")\n",
    "device = \"cuda\" if torch.cuda.is_available() else \"cpu\"\n",
    "print(device)\n",
    "net = net.to(device)  # put the model on the specified device(e.g. gpu/cpu)\n",
    "\n",
    "# loss function\n",
    "criterion = nn.CrossEntropyLoss()\n",
    "\n",
    "# optimizer\n",
    "optimizer = optim.SGD(net.parameters(), lr=lr, momentum=mmt, weight_decay=wd)  # momentum\n",
    "\n",
    "# learning rate scheduler\n",
    "scheduler = torch.optim.lr_scheduler.CosineAnnealingLR(optimizer, T_max=200)"
   ]
  },
  {
   "cell_type": "markdown",
   "id": "c5789a90-3f4e-49c2-8c93-c28a33c105da",
   "metadata": {},
   "source": [
    "### Check the total number of parameters"
   ]
  },
  {
   "cell_type": "code",
   "execution_count": 7,
   "id": "2389dbef-e616-4690-97f1-ef374e1d1cce",
   "metadata": {},
   "outputs": [
    {
     "name": "stdout",
     "output_type": "stream",
     "text": [
      "Total number of params 21508836\n",
      "Total layers 8\n"
     ]
    }
   ],
   "source": [
    "def count_params(net):\n",
    "    # you can use this function to count amount of your model parameters\n",
    "    import numpy as np\n",
    "    total_params = 0\n",
    "\n",
    "    for x in filter(lambda p: p.requires_grad, net.parameters()):\n",
    "        total_params += np.prod(x.data.cpu().numpy().shape)\n",
    "    print(\"Total number of params\", total_params)\n",
    "    print(\"Total layers\", len(list(filter(lambda p: p.requires_grad and len(p.data.size())>1, net.parameters()))))\n",
    "\n",
    "\n",
    "count_params(net)"
   ]
  },
  {
   "cell_type": "markdown",
   "id": "fa9285ae-3ead-4b49-8c40-6833919a1591",
   "metadata": {},
   "source": [
    "### Training logs\n",
    "The training logs are saved in the `exp` folder. You can use tensorboard to see the logs."
   ]
  },
  {
   "cell_type": "code",
   "execution_count": 8,
   "id": "972fc6a8-282a-4da7-bb6b-59279a3c2f09",
   "metadata": {},
   "outputs": [],
   "source": [
    "if not os.path.exists(\"exp\"):\n",
    "    os.mkdir(\"exp\")\n",
    "last_train = max([eval(s.split(\"-\")[-1]) for s in os.listdir(\"exp\")] + [0])\n",
    "current_train = last_train + 1\n",
    "save_dir = \"exp/cifar100-{}\".format(current_train)\n",
    "os.makedirs(save_dir)\n",
    "writer = SummaryWriter(save_dir)\n",
    "\n",
    "best_acc = 0"
   ]
  },
  {
   "cell_type": "markdown",
   "id": "18714981-d3f5-4888-9333-055508713dce",
   "metadata": {},
   "source": [
    "### Training and testing"
   ]
  },
  {
   "cell_type": "code",
   "execution_count": 9,
   "id": "e08130fc-5109-4174-a32c-2173a69c5dde",
   "metadata": {},
   "outputs": [
    {
     "name": "stderr",
     "output_type": "stream",
     "text": [
      "Epoch 0 train:   0%|          | 0/196 [00:00<?, ?it/s]/opt/conda/lib/python3.8/site-packages/torch/nn/functional.py:718: UserWarning: Named tensors and all their associated APIs are an experimental feature and subject to change. Please do not use them for anything important until they are released as stable. (Triggered internally at  /pytorch/c10/core/TensorImpl.h:1156.)\n",
      "  return torch.max_pool2d(input, kernel_size, stride, padding, dilation, ceil_mode)\n",
      "Epoch 0 train: 100%|██████████| 196/196 [00:20<00:00,  9.63it/s, loss=4.444, acc=2.542%, 1271/50000]\n",
      "Epoch 0  test: 100%|██████████| 20/20 [00:02<00:00,  6.81it/s, loss=4.208, acc=5.300%, 530/10000]\n"
     ]
    },
    {
     "name": "stdout",
     "output_type": "stream",
     "text": [
      "Saving..\n",
      "Epoch 0 | total time: 24s, test acc: 5.300%, best acc: 5.300%\n"
     ]
    },
    {
     "name": "stderr",
     "output_type": "stream",
     "text": [
      "Epoch 1 train: 100%|██████████| 196/196 [00:19<00:00,  9.89it/s, loss=4.035, acc=6.822%, 3411/50000]\n",
      "Epoch 1  test: 100%|██████████| 20/20 [00:03<00:00,  6.13it/s, loss=3.886, acc=9.130%, 913/10000]\n"
     ]
    },
    {
     "name": "stdout",
     "output_type": "stream",
     "text": [
      "Saving..\n",
      "Epoch 1 | total time: 24s, test acc: 9.130%, best acc: 9.130%\n"
     ]
    },
    {
     "name": "stderr",
     "output_type": "stream",
     "text": [
      "Epoch 2 train: 100%|██████████| 196/196 [00:19<00:00,  9.91it/s, loss=3.772, acc=11.252%, 5626/50000]\n",
      "Epoch 2  test: 100%|██████████| 20/20 [00:03<00:00,  5.98it/s, loss=3.530, acc=14.690%, 1469/10000]\n"
     ]
    },
    {
     "name": "stdout",
     "output_type": "stream",
     "text": [
      "Saving..\n",
      "Epoch 2 | total time: 24s, test acc: 14.690%, best acc: 14.690%\n"
     ]
    },
    {
     "name": "stderr",
     "output_type": "stream",
     "text": [
      "Epoch 3 train: 100%|██████████| 196/196 [00:19<00:00,  9.82it/s, loss=3.513, acc=15.570%, 7785/50000]\n",
      "Epoch 3  test: 100%|██████████| 20/20 [00:03<00:00,  5.77it/s, loss=3.357, acc=17.780%, 1778/10000]\n"
     ]
    },
    {
     "name": "stdout",
     "output_type": "stream",
     "text": [
      "Saving..\n",
      "Epoch 3 | total time: 24s, test acc: 17.780%, best acc: 17.780%\n"
     ]
    },
    {
     "name": "stderr",
     "output_type": "stream",
     "text": [
      "Epoch 4 train: 100%|██████████| 196/196 [00:20<00:00,  9.44it/s, loss=3.279, acc=19.848%, 9924/50000]\n",
      "Epoch 4  test: 100%|██████████| 20/20 [00:03<00:00,  6.10it/s, loss=3.049, acc=23.900%, 2390/10000]\n"
     ]
    },
    {
     "name": "stdout",
     "output_type": "stream",
     "text": [
      "Saving..\n",
      "Epoch 4 | total time: 25s, test acc: 23.900%, best acc: 23.900%\n"
     ]
    },
    {
     "name": "stderr",
     "output_type": "stream",
     "text": [
      "Epoch 5 train: 100%|██████████| 196/196 [00:20<00:00,  9.74it/s, loss=3.055, acc=23.996%, 11998/50000]\n",
      "Epoch 5  test: 100%|██████████| 20/20 [00:03<00:00,  6.08it/s, loss=2.839, acc=28.330%, 2833/10000]\n"
     ]
    },
    {
     "name": "stdout",
     "output_type": "stream",
     "text": [
      "Saving..\n",
      "Epoch 5 | total time: 24s, test acc: 28.330%, best acc: 28.330%\n"
     ]
    },
    {
     "name": "stderr",
     "output_type": "stream",
     "text": [
      "Epoch 6 train: 100%|██████████| 196/196 [00:19<00:00,  9.81it/s, loss=2.903, acc=26.966%, 13483/50000]\n",
      "Epoch 6  test: 100%|██████████| 20/20 [00:03<00:00,  6.18it/s, loss=2.719, acc=30.570%, 3057/10000]\n"
     ]
    },
    {
     "name": "stdout",
     "output_type": "stream",
     "text": [
      "Saving..\n",
      "Epoch 6 | total time: 24s, test acc: 30.570%, best acc: 30.570%\n"
     ]
    },
    {
     "name": "stderr",
     "output_type": "stream",
     "text": [
      "Epoch 7 train: 100%|██████████| 196/196 [00:19<00:00,  9.84it/s, loss=2.791, acc=29.366%, 14683/50000]\n",
      "Epoch 7  test: 100%|██████████| 20/20 [00:03<00:00,  5.82it/s, loss=2.659, acc=32.610%, 3261/10000]\n"
     ]
    },
    {
     "name": "stdout",
     "output_type": "stream",
     "text": [
      "Saving..\n",
      "Epoch 7 | total time: 24s, test acc: 32.610%, best acc: 32.610%\n"
     ]
    },
    {
     "name": "stderr",
     "output_type": "stream",
     "text": [
      "Epoch 8 train: 100%|██████████| 196/196 [00:20<00:00,  9.68it/s, loss=2.677, acc=31.892%, 15946/50000]\n",
      "Epoch 8  test: 100%|██████████| 20/20 [00:03<00:00,  6.02it/s, loss=2.577, acc=34.070%, 3407/10000]\n"
     ]
    },
    {
     "name": "stdout",
     "output_type": "stream",
     "text": [
      "Saving..\n",
      "Epoch 8 | total time: 24s, test acc: 34.070%, best acc: 34.070%\n"
     ]
    },
    {
     "name": "stderr",
     "output_type": "stream",
     "text": [
      "Epoch 9 train: 100%|██████████| 196/196 [00:19<00:00,  9.84it/s, loss=2.594, acc=33.618%, 16809/50000]\n",
      "Epoch 9  test: 100%|██████████| 20/20 [00:03<00:00,  6.01it/s, loss=2.439, acc=38.170%, 3817/10000]\n"
     ]
    },
    {
     "name": "stdout",
     "output_type": "stream",
     "text": [
      "Saving..\n",
      "Epoch 9 | total time: 24s, test acc: 38.170%, best acc: 38.170%\n"
     ]
    },
    {
     "name": "stderr",
     "output_type": "stream",
     "text": [
      "Epoch 10 train: 100%|██████████| 196/196 [00:19<00:00,  9.81it/s, loss=2.518, acc=35.728%, 17864/50000]\n",
      "Epoch 10  test: 100%|██████████| 20/20 [00:03<00:00,  6.11it/s, loss=2.343, acc=39.820%, 3982/10000]\n"
     ]
    },
    {
     "name": "stdout",
     "output_type": "stream",
     "text": [
      "Saving..\n",
      "Epoch 10 | total time: 24s, test acc: 39.820%, best acc: 39.820%\n"
     ]
    },
    {
     "name": "stderr",
     "output_type": "stream",
     "text": [
      "Epoch 11 train: 100%|██████████| 196/196 [00:20<00:00,  9.70it/s, loss=2.487, acc=36.406%, 18203/50000]\n",
      "Epoch 11  test: 100%|██████████| 20/20 [00:03<00:00,  6.12it/s, loss=2.416, acc=37.580%, 3758/10000]"
     ]
    },
    {
     "name": "stdout",
     "output_type": "stream",
     "text": [
      "Epoch 11 | total time: 24s, test acc: 37.580%, best acc: 39.820%\n"
     ]
    },
    {
     "name": "stderr",
     "output_type": "stream",
     "text": [
      "\n",
      "Epoch 12 train: 100%|██████████| 196/196 [00:19<00:00,  9.84it/s, loss=2.421, acc=37.810%, 18905/50000]\n",
      "Epoch 12  test: 100%|██████████| 20/20 [00:03<00:00,  6.12it/s, loss=2.452, acc=38.480%, 3848/10000]"
     ]
    },
    {
     "name": "stdout",
     "output_type": "stream",
     "text": [
      "Epoch 12 | total time: 23s, test acc: 38.480%, best acc: 39.820%\n"
     ]
    },
    {
     "name": "stderr",
     "output_type": "stream",
     "text": [
      "\n",
      "Epoch 13 train: 100%|██████████| 196/196 [00:20<00:00,  9.64it/s, loss=2.380, acc=38.596%, 19298/50000]\n",
      "Epoch 13  test: 100%|██████████| 20/20 [00:02<00:00,  7.30it/s, loss=2.244, acc=41.810%, 4181/10000]\n"
     ]
    },
    {
     "name": "stdout",
     "output_type": "stream",
     "text": [
      "Saving..\n",
      "Epoch 13 | total time: 24s, test acc: 41.810%, best acc: 41.810%\n"
     ]
    },
    {
     "name": "stderr",
     "output_type": "stream",
     "text": [
      "Epoch 14 train: 100%|██████████| 196/196 [00:20<00:00,  9.66it/s, loss=2.339, acc=39.710%, 19855/50000]\n",
      "Epoch 14  test: 100%|██████████| 20/20 [00:03<00:00,  6.11it/s, loss=2.400, acc=39.460%, 3946/10000]\n"
     ]
    },
    {
     "name": "stdout",
     "output_type": "stream",
     "text": [
      "Epoch 14 | total time: 24s, test acc: 39.460%, best acc: 41.810%\n"
     ]
    },
    {
     "name": "stderr",
     "output_type": "stream",
     "text": [
      "Epoch 15 train: 100%|██████████| 196/196 [00:19<00:00,  9.98it/s, loss=2.304, acc=40.628%, 20314/50000]\n",
      "Epoch 15  test: 100%|██████████| 20/20 [00:03<00:00,  6.04it/s, loss=2.188, acc=43.300%, 4330/10000]\n"
     ]
    },
    {
     "name": "stdout",
     "output_type": "stream",
     "text": [
      "Saving..\n",
      "Epoch 15 | total time: 24s, test acc: 43.300%, best acc: 43.300%\n"
     ]
    },
    {
     "name": "stderr",
     "output_type": "stream",
     "text": [
      "Epoch 16 train: 100%|██████████| 196/196 [00:20<00:00,  9.69it/s, loss=2.272, acc=41.524%, 20762/50000]\n",
      "Epoch 16  test: 100%|██████████| 20/20 [00:03<00:00,  6.08it/s, loss=2.232, acc=42.770%, 4277/10000]"
     ]
    },
    {
     "name": "stdout",
     "output_type": "stream",
     "text": [
      "Epoch 16 | total time: 24s, test acc: 42.770%, best acc: 43.300%\n"
     ]
    },
    {
     "name": "stderr",
     "output_type": "stream",
     "text": [
      "\n",
      "Epoch 17 train: 100%|██████████| 196/196 [00:19<00:00,  9.97it/s, loss=2.237, acc=42.214%, 21107/50000]\n",
      "Epoch 17  test: 100%|██████████| 20/20 [00:03<00:00,  6.31it/s, loss=2.191, acc=43.190%, 4319/10000]"
     ]
    },
    {
     "name": "stdout",
     "output_type": "stream",
     "text": [
      "Epoch 17 | total time: 23s, test acc: 43.190%, best acc: 43.300%\n"
     ]
    },
    {
     "name": "stderr",
     "output_type": "stream",
     "text": [
      "\n",
      "Epoch 18 train: 100%|██████████| 196/196 [00:19<00:00, 10.00it/s, loss=2.191, acc=43.070%, 21535/50000]\n",
      "Epoch 18  test: 100%|██████████| 20/20 [00:03<00:00,  6.09it/s, loss=2.192, acc=43.690%, 4369/10000]\n"
     ]
    },
    {
     "name": "stdout",
     "output_type": "stream",
     "text": [
      "Saving..\n",
      "Epoch 18 | total time: 24s, test acc: 43.690%, best acc: 43.690%\n"
     ]
    },
    {
     "name": "stderr",
     "output_type": "stream",
     "text": [
      "Epoch 19 train: 100%|██████████| 196/196 [00:20<00:00,  9.64it/s, loss=2.169, acc=43.814%, 21907/50000]\n",
      "Epoch 19  test: 100%|██████████| 20/20 [00:03<00:00,  6.02it/s, loss=2.117, acc=44.870%, 4487/10000]\n"
     ]
    },
    {
     "name": "stdout",
     "output_type": "stream",
     "text": [
      "Saving..\n",
      "Epoch 19 | total time: 24s, test acc: 44.870%, best acc: 44.870%\n"
     ]
    },
    {
     "name": "stderr",
     "output_type": "stream",
     "text": [
      "Epoch 20 train: 100%|██████████| 196/196 [00:20<00:00,  9.60it/s, loss=2.125, acc=44.584%, 22292/50000]\n",
      "Epoch 20  test: 100%|██████████| 20/20 [00:03<00:00,  5.58it/s, loss=2.139, acc=45.020%, 4502/10000]\n"
     ]
    },
    {
     "name": "stdout",
     "output_type": "stream",
     "text": [
      "Saving..\n",
      "Epoch 20 | total time: 25s, test acc: 45.020%, best acc: 45.020%\n"
     ]
    },
    {
     "name": "stderr",
     "output_type": "stream",
     "text": [
      "Epoch 21 train: 100%|██████████| 196/196 [00:20<00:00,  9.72it/s, loss=2.115, acc=45.150%, 22575/50000]\n",
      "Epoch 21  test: 100%|██████████| 20/20 [00:03<00:00,  6.07it/s, loss=2.122, acc=45.000%, 4500/10000]"
     ]
    },
    {
     "name": "stdout",
     "output_type": "stream",
     "text": [
      "Epoch 21 | total time: 24s, test acc: 45.000%, best acc: 45.020%\n"
     ]
    },
    {
     "name": "stderr",
     "output_type": "stream",
     "text": [
      "\n",
      "Epoch 22 train: 100%|██████████| 196/196 [00:19<00:00, 10.10it/s, loss=2.121, acc=45.062%, 22531/50000]\n",
      "Epoch 22  test: 100%|██████████| 20/20 [00:02<00:00,  7.02it/s, loss=2.085, acc=45.810%, 4581/10000]\n"
     ]
    },
    {
     "name": "stdout",
     "output_type": "stream",
     "text": [
      "Saving..\n",
      "Epoch 22 | total time: 23s, test acc: 45.810%, best acc: 45.810%\n"
     ]
    },
    {
     "name": "stderr",
     "output_type": "stream",
     "text": [
      "Epoch 23 train: 100%|██████████| 196/196 [00:20<00:00,  9.56it/s, loss=2.087, acc=45.740%, 22870/50000]\n",
      "Epoch 23  test: 100%|██████████| 20/20 [00:03<00:00,  5.84it/s, loss=2.046, acc=47.290%, 4729/10000]\n"
     ]
    },
    {
     "name": "stdout",
     "output_type": "stream",
     "text": [
      "Saving..\n",
      "Epoch 23 | total time: 24s, test acc: 47.290%, best acc: 47.290%\n"
     ]
    },
    {
     "name": "stderr",
     "output_type": "stream",
     "text": [
      "Epoch 24 train: 100%|██████████| 196/196 [00:20<00:00,  9.61it/s, loss=2.079, acc=46.024%, 23012/50000]\n",
      "Epoch 24  test: 100%|██████████| 20/20 [00:03<00:00,  6.06it/s, loss=2.184, acc=44.570%, 4457/10000]"
     ]
    },
    {
     "name": "stdout",
     "output_type": "stream",
     "text": [
      "Epoch 24 | total time: 24s, test acc: 44.570%, best acc: 47.290%\n"
     ]
    },
    {
     "name": "stderr",
     "output_type": "stream",
     "text": [
      "\n",
      "Epoch 25 train: 100%|██████████| 196/196 [00:20<00:00,  9.57it/s, loss=2.047, acc=46.460%, 23230/50000]\n",
      "Epoch 25  test: 100%|██████████| 20/20 [00:03<00:00,  6.66it/s, loss=2.164, acc=44.960%, 4496/10000]"
     ]
    },
    {
     "name": "stdout",
     "output_type": "stream",
     "text": [
      "Epoch 25 | total time: 24s, test acc: 44.960%, best acc: 47.290%\n"
     ]
    },
    {
     "name": "stderr",
     "output_type": "stream",
     "text": [
      "\n",
      "Epoch 26 train: 100%|██████████| 196/196 [00:19<00:00,  9.94it/s, loss=2.050, acc=46.876%, 23438/50000]\n",
      "Epoch 26  test: 100%|██████████| 20/20 [00:03<00:00,  6.66it/s, loss=2.079, acc=46.100%, 4610/10000]"
     ]
    },
    {
     "name": "stdout",
     "output_type": "stream",
     "text": [
      "Epoch 26 | total time: 23s, test acc: 46.100%, best acc: 47.290%\n"
     ]
    },
    {
     "name": "stderr",
     "output_type": "stream",
     "text": [
      "\n",
      "Epoch 27 train: 100%|██████████| 196/196 [00:20<00:00,  9.58it/s, loss=2.014, acc=47.496%, 23748/50000]\n",
      "Epoch 27  test: 100%|██████████| 20/20 [00:03<00:00,  5.99it/s, loss=2.042, acc=47.060%, 4706/10000]"
     ]
    },
    {
     "name": "stdout",
     "output_type": "stream",
     "text": [
      "Epoch 27 | total time: 24s, test acc: 47.060%, best acc: 47.290%\n"
     ]
    },
    {
     "name": "stderr",
     "output_type": "stream",
     "text": [
      "\n",
      "Epoch 28 train: 100%|██████████| 196/196 [00:20<00:00,  9.75it/s, loss=1.989, acc=48.194%, 24097/50000]\n",
      "Epoch 28  test: 100%|██████████| 20/20 [00:03<00:00,  6.09it/s, loss=2.029, acc=47.360%, 4736/10000]\n"
     ]
    },
    {
     "name": "stdout",
     "output_type": "stream",
     "text": [
      "Saving..\n",
      "Epoch 28 | total time: 24s, test acc: 47.360%, best acc: 47.360%\n"
     ]
    },
    {
     "name": "stderr",
     "output_type": "stream",
     "text": [
      "Epoch 29 train: 100%|██████████| 196/196 [00:20<00:00,  9.59it/s, loss=1.971, acc=48.342%, 24171/50000]\n",
      "Epoch 29  test: 100%|██████████| 20/20 [00:03<00:00,  6.05it/s, loss=2.089, acc=46.050%, 4605/10000]"
     ]
    },
    {
     "name": "stdout",
     "output_type": "stream",
     "text": [
      "Epoch 29 | total time: 24s, test acc: 46.050%, best acc: 47.360%\n"
     ]
    },
    {
     "name": "stderr",
     "output_type": "stream",
     "text": [
      "\n",
      "Epoch 30 train: 100%|██████████| 196/196 [00:20<00:00,  9.61it/s, loss=1.984, acc=48.220%, 24110/50000]\n",
      "Epoch 30  test: 100%|██████████| 20/20 [00:03<00:00,  6.04it/s, loss=1.994, acc=48.440%, 4844/10000]\n"
     ]
    },
    {
     "name": "stdout",
     "output_type": "stream",
     "text": [
      "Saving..\n",
      "Epoch 30 | total time: 24s, test acc: 48.440%, best acc: 48.440%\n"
     ]
    },
    {
     "name": "stderr",
     "output_type": "stream",
     "text": [
      "Epoch 31 train: 100%|██████████| 196/196 [00:20<00:00,  9.71it/s, loss=1.945, acc=49.024%, 24512/50000]\n",
      "Epoch 31  test: 100%|██████████| 20/20 [00:03<00:00,  6.04it/s, loss=1.998, acc=48.830%, 4883/10000]\n"
     ]
    },
    {
     "name": "stdout",
     "output_type": "stream",
     "text": [
      "Saving..\n",
      "Epoch 31 | total time: 24s, test acc: 48.830%, best acc: 48.830%\n"
     ]
    },
    {
     "name": "stderr",
     "output_type": "stream",
     "text": [
      "Epoch 32 train: 100%|██████████| 196/196 [00:20<00:00,  9.54it/s, loss=1.931, acc=49.446%, 24723/50000]\n",
      "Epoch 32  test: 100%|██████████| 20/20 [00:03<00:00,  6.38it/s, loss=2.067, acc=46.820%, 4682/10000]"
     ]
    },
    {
     "name": "stdout",
     "output_type": "stream",
     "text": [
      "Epoch 32 | total time: 24s, test acc: 46.820%, best acc: 48.830%\n"
     ]
    },
    {
     "name": "stderr",
     "output_type": "stream",
     "text": [
      "\n",
      "Epoch 33 train: 100%|██████████| 196/196 [00:20<00:00,  9.75it/s, loss=1.941, acc=49.172%, 24586/50000]\n",
      "Epoch 33  test: 100%|██████████| 20/20 [00:02<00:00,  6.67it/s, loss=1.999, acc=48.700%, 4870/10000]\n"
     ]
    },
    {
     "name": "stdout",
     "output_type": "stream",
     "text": [
      "Epoch 33 | total time: 23s, test acc: 48.700%, best acc: 48.830%\n"
     ]
    },
    {
     "name": "stderr",
     "output_type": "stream",
     "text": [
      "Epoch 34 train: 100%|██████████| 196/196 [00:20<00:00,  9.74it/s, loss=1.914, acc=49.984%, 24992/50000]\n",
      "Epoch 34  test: 100%|██████████| 20/20 [00:03<00:00,  6.02it/s, loss=1.949, acc=50.100%, 5010/10000]\n"
     ]
    },
    {
     "name": "stdout",
     "output_type": "stream",
     "text": [
      "Saving..\n",
      "Epoch 34 | total time: 24s, test acc: 50.100%, best acc: 50.100%\n"
     ]
    },
    {
     "name": "stderr",
     "output_type": "stream",
     "text": [
      "Epoch 35 train: 100%|██████████| 196/196 [00:20<00:00,  9.80it/s, loss=1.896, acc=50.678%, 25339/50000]\n",
      "Epoch 35  test: 100%|██████████| 20/20 [00:03<00:00,  6.03it/s, loss=1.930, acc=49.800%, 4980/10000]"
     ]
    },
    {
     "name": "stdout",
     "output_type": "stream",
     "text": [
      "Epoch 35 | total time: 24s, test acc: 49.800%, best acc: 50.100%\n"
     ]
    },
    {
     "name": "stderr",
     "output_type": "stream",
     "text": [
      "\n",
      "Epoch 36 train: 100%|██████████| 196/196 [00:19<00:00, 10.04it/s, loss=1.913, acc=50.340%, 25170/50000]\n",
      "Epoch 36  test: 100%|██████████| 20/20 [00:03<00:00,  6.11it/s, loss=2.041, acc=48.260%, 4826/10000]"
     ]
    },
    {
     "name": "stdout",
     "output_type": "stream",
     "text": [
      "Epoch 36 | total time: 23s, test acc: 48.260%, best acc: 50.100%\n"
     ]
    },
    {
     "name": "stderr",
     "output_type": "stream",
     "text": [
      "\n",
      "Epoch 37 train: 100%|██████████| 196/196 [00:20<00:00,  9.51it/s, loss=1.878, acc=50.950%, 25475/50000]\n",
      "Epoch 37  test: 100%|██████████| 20/20 [00:03<00:00,  6.04it/s, loss=1.964, acc=49.800%, 4980/10000]"
     ]
    },
    {
     "name": "stdout",
     "output_type": "stream",
     "text": [
      "Epoch 37 | total time: 24s, test acc: 49.800%, best acc: 50.100%\n"
     ]
    },
    {
     "name": "stderr",
     "output_type": "stream",
     "text": [
      "\n",
      "Epoch 38 train: 100%|██████████| 196/196 [00:20<00:00,  9.75it/s, loss=1.861, acc=51.444%, 25722/50000]\n",
      "Epoch 38  test: 100%|██████████| 20/20 [00:03<00:00,  5.88it/s, loss=1.932, acc=49.810%, 4981/10000]"
     ]
    },
    {
     "name": "stdout",
     "output_type": "stream",
     "text": [
      "Epoch 38 | total time: 24s, test acc: 49.810%, best acc: 50.100%\n"
     ]
    },
    {
     "name": "stderr",
     "output_type": "stream",
     "text": [
      "\n",
      "Epoch 39 train: 100%|██████████| 196/196 [00:20<00:00,  9.77it/s, loss=1.856, acc=51.524%, 25762/50000]\n",
      "Epoch 39  test: 100%|██████████| 20/20 [00:02<00:00,  6.70it/s, loss=1.939, acc=50.800%, 5080/10000]\n"
     ]
    },
    {
     "name": "stdout",
     "output_type": "stream",
     "text": [
      "Saving..\n",
      "Epoch 39 | total time: 24s, test acc: 50.800%, best acc: 50.800%\n"
     ]
    },
    {
     "name": "stderr",
     "output_type": "stream",
     "text": [
      "Epoch 40 train: 100%|██████████| 196/196 [00:20<00:00,  9.66it/s, loss=1.828, acc=52.014%, 26007/50000]\n",
      "Epoch 40  test: 100%|██████████| 20/20 [00:03<00:00,  6.10it/s, loss=1.995, acc=48.140%, 4814/10000]"
     ]
    },
    {
     "name": "stdout",
     "output_type": "stream",
     "text": [
      "Epoch 40 | total time: 24s, test acc: 48.140%, best acc: 50.800%\n"
     ]
    },
    {
     "name": "stderr",
     "output_type": "stream",
     "text": [
      "\n",
      "Epoch 41 train: 100%|██████████| 196/196 [00:20<00:00,  9.76it/s, loss=1.826, acc=51.756%, 25878/50000]\n",
      "Epoch 41  test: 100%|██████████| 20/20 [00:03<00:00,  6.42it/s, loss=1.952, acc=50.140%, 5014/10000]"
     ]
    },
    {
     "name": "stdout",
     "output_type": "stream",
     "text": [
      "Epoch 41 | total time: 23s, test acc: 50.140%, best acc: 50.800%\n"
     ]
    },
    {
     "name": "stderr",
     "output_type": "stream",
     "text": [
      "\n",
      "Epoch 42 train: 100%|██████████| 196/196 [00:20<00:00,  9.64it/s, loss=1.827, acc=51.862%, 25931/50000]\n",
      "Epoch 42  test: 100%|██████████| 20/20 [00:03<00:00,  6.00it/s, loss=1.915, acc=51.300%, 5130/10000]\n"
     ]
    },
    {
     "name": "stdout",
     "output_type": "stream",
     "text": [
      "Saving..\n",
      "Epoch 42 | total time: 24s, test acc: 51.300%, best acc: 51.300%\n"
     ]
    },
    {
     "name": "stderr",
     "output_type": "stream",
     "text": [
      "Epoch 43 train: 100%|██████████| 196/196 [00:20<00:00,  9.69it/s, loss=1.795, acc=52.820%, 26410/50000]\n",
      "Epoch 43  test: 100%|██████████| 20/20 [00:03<00:00,  6.06it/s, loss=1.997, acc=48.630%, 4863/10000]"
     ]
    },
    {
     "name": "stdout",
     "output_type": "stream",
     "text": [
      "Epoch 43 | total time: 24s, test acc: 48.630%, best acc: 51.300%\n"
     ]
    },
    {
     "name": "stderr",
     "output_type": "stream",
     "text": [
      "\n",
      "Epoch 44 train: 100%|██████████| 196/196 [00:20<00:00,  9.55it/s, loss=1.799, acc=53.084%, 26542/50000]\n",
      "Epoch 44  test: 100%|██████████| 20/20 [00:03<00:00,  6.01it/s, loss=1.896, acc=51.520%, 5152/10000]\n"
     ]
    },
    {
     "name": "stdout",
     "output_type": "stream",
     "text": [
      "Saving..\n",
      "Epoch 44 | total time: 24s, test acc: 51.520%, best acc: 51.520%\n"
     ]
    },
    {
     "name": "stderr",
     "output_type": "stream",
     "text": [
      "Epoch 45 train: 100%|██████████| 196/196 [00:20<00:00,  9.75it/s, loss=1.769, acc=53.612%, 26806/50000]\n",
      "Epoch 45  test: 100%|██████████| 20/20 [00:03<00:00,  5.76it/s, loss=1.945, acc=50.070%, 5007/10000]"
     ]
    },
    {
     "name": "stdout",
     "output_type": "stream",
     "text": [
      "Epoch 45 | total time: 24s, test acc: 50.070%, best acc: 51.520%\n"
     ]
    },
    {
     "name": "stderr",
     "output_type": "stream",
     "text": [
      "\n",
      "Epoch 46 train: 100%|██████████| 196/196 [00:20<00:00,  9.75it/s, loss=1.775, acc=53.450%, 26725/50000]\n",
      "Epoch 46  test: 100%|██████████| 20/20 [00:03<00:00,  5.99it/s, loss=1.889, acc=51.170%, 5117/10000]"
     ]
    },
    {
     "name": "stdout",
     "output_type": "stream",
     "text": [
      "Epoch 46 | total time: 24s, test acc: 51.170%, best acc: 51.520%\n"
     ]
    },
    {
     "name": "stderr",
     "output_type": "stream",
     "text": [
      "\n",
      "Epoch 47 train: 100%|██████████| 196/196 [00:20<00:00,  9.58it/s, loss=1.757, acc=53.652%, 26826/50000]\n",
      "Epoch 47  test: 100%|██████████| 20/20 [00:03<00:00,  6.16it/s, loss=1.932, acc=50.500%, 5050/10000]"
     ]
    },
    {
     "name": "stdout",
     "output_type": "stream",
     "text": [
      "Epoch 47 | total time: 24s, test acc: 50.500%, best acc: 51.520%\n"
     ]
    },
    {
     "name": "stderr",
     "output_type": "stream",
     "text": [
      "\n",
      "Epoch 48 train: 100%|██████████| 196/196 [00:19<00:00,  9.93it/s, loss=1.734, acc=54.102%, 27051/50000]\n",
      "Epoch 48  test: 100%|██████████| 20/20 [00:03<00:00,  5.99it/s, loss=1.928, acc=51.110%, 5111/10000]"
     ]
    },
    {
     "name": "stdout",
     "output_type": "stream",
     "text": [
      "Epoch 48 | total time: 24s, test acc: 51.110%, best acc: 51.520%\n"
     ]
    },
    {
     "name": "stderr",
     "output_type": "stream",
     "text": [
      "\n",
      "Epoch 49 train: 100%|██████████| 196/196 [00:19<00:00, 10.09it/s, loss=1.742, acc=54.096%, 27048/50000]\n",
      "Epoch 49  test: 100%|██████████| 20/20 [00:03<00:00,  5.87it/s, loss=1.939, acc=50.430%, 5043/10000]"
     ]
    },
    {
     "name": "stdout",
     "output_type": "stream",
     "text": [
      "Epoch 49 | total time: 23s, test acc: 50.430%, best acc: 51.520%\n"
     ]
    },
    {
     "name": "stderr",
     "output_type": "stream",
     "text": [
      "\n",
      "Epoch 50 train: 100%|██████████| 196/196 [00:19<00:00,  9.89it/s, loss=1.725, acc=54.416%, 27208/50000]\n",
      "Epoch 50  test: 100%|██████████| 20/20 [00:02<00:00,  7.06it/s, loss=2.021, acc=49.790%, 4979/10000]"
     ]
    },
    {
     "name": "stdout",
     "output_type": "stream",
     "text": [
      "Epoch 50 | total time: 23s, test acc: 49.790%, best acc: 51.520%\n"
     ]
    },
    {
     "name": "stderr",
     "output_type": "stream",
     "text": [
      "\n",
      "Epoch 51 train: 100%|██████████| 196/196 [00:20<00:00,  9.65it/s, loss=1.724, acc=54.782%, 27391/50000]\n",
      "Epoch 51  test: 100%|██████████| 20/20 [00:02<00:00,  6.91it/s, loss=1.849, acc=52.100%, 5210/10000]\n"
     ]
    },
    {
     "name": "stdout",
     "output_type": "stream",
     "text": [
      "Saving..\n",
      "Epoch 51 | total time: 24s, test acc: 52.100%, best acc: 52.100%\n"
     ]
    },
    {
     "name": "stderr",
     "output_type": "stream",
     "text": [
      "Epoch 52 train: 100%|██████████| 196/196 [00:20<00:00,  9.69it/s, loss=1.694, acc=55.224%, 27612/50000]\n",
      "Epoch 52  test: 100%|██████████| 20/20 [00:03<00:00,  5.83it/s, loss=1.920, acc=50.830%, 5083/10000]"
     ]
    },
    {
     "name": "stdout",
     "output_type": "stream",
     "text": [
      "Epoch 52 | total time: 24s, test acc: 50.830%, best acc: 52.100%\n"
     ]
    },
    {
     "name": "stderr",
     "output_type": "stream",
     "text": [
      "\n",
      "Epoch 53 train: 100%|██████████| 196/196 [00:20<00:00,  9.76it/s, loss=1.690, acc=55.314%, 27657/50000]\n",
      "Epoch 53  test: 100%|██████████| 20/20 [00:03<00:00,  6.14it/s, loss=1.891, acc=51.450%, 5145/10000]"
     ]
    },
    {
     "name": "stdout",
     "output_type": "stream",
     "text": [
      "Epoch 53 | total time: 24s, test acc: 51.450%, best acc: 52.100%\n"
     ]
    },
    {
     "name": "stderr",
     "output_type": "stream",
     "text": [
      "\n",
      "Epoch 54 train: 100%|██████████| 196/196 [00:20<00:00,  9.74it/s, loss=1.686, acc=55.418%, 27709/50000]\n",
      "Epoch 54  test: 100%|██████████| 20/20 [00:03<00:00,  6.66it/s, loss=1.898, acc=51.410%, 5141/10000]"
     ]
    },
    {
     "name": "stdout",
     "output_type": "stream",
     "text": [
      "Epoch 54 | total time: 23s, test acc: 51.410%, best acc: 52.100%\n"
     ]
    },
    {
     "name": "stderr",
     "output_type": "stream",
     "text": [
      "\n",
      "Epoch 55 train: 100%|██████████| 196/196 [00:20<00:00,  9.64it/s, loss=1.697, acc=55.032%, 27516/50000]\n",
      "Epoch 55  test: 100%|██████████| 20/20 [00:03<00:00,  6.03it/s, loss=1.882, acc=50.760%, 5076/10000]"
     ]
    },
    {
     "name": "stdout",
     "output_type": "stream",
     "text": [
      "Epoch 55 | total time: 24s, test acc: 50.760%, best acc: 52.100%\n"
     ]
    },
    {
     "name": "stderr",
     "output_type": "stream",
     "text": [
      "\n",
      "Epoch 56 train: 100%|██████████| 196/196 [00:19<00:00,  9.81it/s, loss=1.657, acc=55.810%, 27905/50000]\n",
      "Epoch 56  test: 100%|██████████| 20/20 [00:03<00:00,  5.99it/s, loss=1.819, acc=52.400%, 5240/10000]\n"
     ]
    },
    {
     "name": "stdout",
     "output_type": "stream",
     "text": [
      "Saving..\n",
      "Epoch 56 | total time: 24s, test acc: 52.400%, best acc: 52.400%\n"
     ]
    },
    {
     "name": "stderr",
     "output_type": "stream",
     "text": [
      "Epoch 57 train: 100%|██████████| 196/196 [00:20<00:00,  9.67it/s, loss=1.639, acc=56.264%, 28132/50000]\n",
      "Epoch 57  test: 100%|██████████| 20/20 [00:03<00:00,  5.98it/s, loss=1.828, acc=53.010%, 5301/10000]\n"
     ]
    },
    {
     "name": "stdout",
     "output_type": "stream",
     "text": [
      "Saving..\n",
      "Epoch 57 | total time: 24s, test acc: 53.010%, best acc: 53.010%\n"
     ]
    },
    {
     "name": "stderr",
     "output_type": "stream",
     "text": [
      "Epoch 58 train: 100%|██████████| 196/196 [00:20<00:00,  9.65it/s, loss=1.627, acc=56.682%, 28341/50000]\n",
      "Epoch 58  test: 100%|██████████| 20/20 [00:03<00:00,  6.12it/s, loss=1.841, acc=52.810%, 5281/10000]"
     ]
    },
    {
     "name": "stdout",
     "output_type": "stream",
     "text": [
      "Epoch 58 | total time: 24s, test acc: 52.810%, best acc: 53.010%\n"
     ]
    },
    {
     "name": "stderr",
     "output_type": "stream",
     "text": [
      "\n",
      "Epoch 59 train: 100%|██████████| 196/196 [00:20<00:00,  9.80it/s, loss=1.601, acc=57.280%, 28640/50000]\n",
      "Epoch 59  test: 100%|██████████| 20/20 [00:02<00:00,  7.51it/s, loss=1.864, acc=51.960%, 5196/10000]"
     ]
    },
    {
     "name": "stdout",
     "output_type": "stream",
     "text": [
      "Epoch 59 | total time: 23s, test acc: 51.960%, best acc: 53.010%\n"
     ]
    },
    {
     "name": "stderr",
     "output_type": "stream",
     "text": [
      "\n",
      "Epoch 60 train: 100%|██████████| 196/196 [00:19<00:00,  9.96it/s, loss=1.618, acc=56.832%, 28416/50000]\n",
      "Epoch 60  test: 100%|██████████| 20/20 [00:03<00:00,  6.09it/s, loss=1.962, acc=51.300%, 5130/10000]"
     ]
    },
    {
     "name": "stdout",
     "output_type": "stream",
     "text": [
      "Epoch 60 | total time: 23s, test acc: 51.300%, best acc: 53.010%\n"
     ]
    },
    {
     "name": "stderr",
     "output_type": "stream",
     "text": [
      "\n",
      "Epoch 61 train: 100%|██████████| 196/196 [00:20<00:00,  9.60it/s, loss=1.610, acc=57.228%, 28614/50000]\n",
      "Epoch 61  test: 100%|██████████| 20/20 [00:03<00:00,  5.88it/s, loss=1.890, acc=51.860%, 5186/10000]"
     ]
    },
    {
     "name": "stdout",
     "output_type": "stream",
     "text": [
      "Epoch 61 | total time: 24s, test acc: 51.860%, best acc: 53.010%\n"
     ]
    },
    {
     "name": "stderr",
     "output_type": "stream",
     "text": [
      "\n",
      "Epoch 62 train: 100%|██████████| 196/196 [00:20<00:00,  9.77it/s, loss=1.568, acc=58.318%, 29159/50000]\n",
      "Epoch 62  test: 100%|██████████| 20/20 [00:03<00:00,  5.58it/s, loss=1.873, acc=52.210%, 5221/10000]"
     ]
    },
    {
     "name": "stdout",
     "output_type": "stream",
     "text": [
      "Epoch 62 | total time: 24s, test acc: 52.210%, best acc: 53.010%\n"
     ]
    },
    {
     "name": "stderr",
     "output_type": "stream",
     "text": [
      "\n",
      "Epoch 63 train: 100%|██████████| 196/196 [00:20<00:00,  9.62it/s, loss=1.577, acc=58.168%, 29084/50000]\n",
      "Epoch 63  test: 100%|██████████| 20/20 [00:03<00:00,  6.08it/s, loss=1.786, acc=53.760%, 5376/10000]\n"
     ]
    },
    {
     "name": "stdout",
     "output_type": "stream",
     "text": [
      "Saving..\n",
      "Epoch 63 | total time: 24s, test acc: 53.760%, best acc: 53.760%\n"
     ]
    },
    {
     "name": "stderr",
     "output_type": "stream",
     "text": [
      "Epoch 64 train: 100%|██████████| 196/196 [00:19<00:00,  9.81it/s, loss=1.534, acc=58.992%, 29496/50000]\n",
      "Epoch 64  test: 100%|██████████| 20/20 [00:03<00:00,  6.08it/s, loss=1.824, acc=53.620%, 5362/10000]"
     ]
    },
    {
     "name": "stdout",
     "output_type": "stream",
     "text": [
      "Epoch 64 | total time: 24s, test acc: 53.620%, best acc: 53.760%\n"
     ]
    },
    {
     "name": "stderr",
     "output_type": "stream",
     "text": [
      "\n",
      "Epoch 65 train: 100%|██████████| 196/196 [00:20<00:00,  9.66it/s, loss=1.532, acc=58.858%, 29429/50000]\n",
      "Epoch 65  test: 100%|██████████| 20/20 [00:03<00:00,  6.07it/s, loss=1.871, acc=51.910%, 5191/10000]"
     ]
    },
    {
     "name": "stdout",
     "output_type": "stream",
     "text": [
      "Epoch 65 | total time: 24s, test acc: 51.910%, best acc: 53.760%\n"
     ]
    },
    {
     "name": "stderr",
     "output_type": "stream",
     "text": [
      "\n",
      "Epoch 66 train: 100%|██████████| 196/196 [00:20<00:00,  9.77it/s, loss=1.546, acc=58.808%, 29404/50000]\n",
      "Epoch 66  test: 100%|██████████| 20/20 [00:03<00:00,  6.04it/s, loss=1.761, acc=54.540%, 5454/10000]\n"
     ]
    },
    {
     "name": "stdout",
     "output_type": "stream",
     "text": [
      "Saving..\n",
      "Epoch 66 | total time: 24s, test acc: 54.540%, best acc: 54.540%\n"
     ]
    },
    {
     "name": "stderr",
     "output_type": "stream",
     "text": [
      "Epoch 67 train: 100%|██████████| 196/196 [00:20<00:00,  9.52it/s, loss=1.511, acc=59.258%, 29629/50000]\n",
      "Epoch 67  test: 100%|██████████| 20/20 [00:03<00:00,  6.06it/s, loss=1.768, acc=54.610%, 5461/10000]\n"
     ]
    },
    {
     "name": "stdout",
     "output_type": "stream",
     "text": [
      "Saving..\n",
      "Epoch 67 | total time: 24s, test acc: 54.610%, best acc: 54.610%\n"
     ]
    },
    {
     "name": "stderr",
     "output_type": "stream",
     "text": [
      "Epoch 68 train: 100%|██████████| 196/196 [00:20<00:00,  9.65it/s, loss=1.509, acc=59.590%, 29795/50000]\n",
      "Epoch 68  test: 100%|██████████| 20/20 [00:03<00:00,  5.79it/s, loss=1.774, acc=54.260%, 5426/10000]\n"
     ]
    },
    {
     "name": "stdout",
     "output_type": "stream",
     "text": [
      "Epoch 68 | total time: 24s, test acc: 54.260%, best acc: 54.610%\n"
     ]
    },
    {
     "name": "stderr",
     "output_type": "stream",
     "text": [
      "Epoch 69 train: 100%|██████████| 196/196 [00:20<00:00,  9.69it/s, loss=1.489, acc=59.914%, 29957/50000]\n",
      "Epoch 69  test: 100%|██████████| 20/20 [00:03<00:00,  6.00it/s, loss=1.774, acc=53.960%, 5396/10000]"
     ]
    },
    {
     "name": "stdout",
     "output_type": "stream",
     "text": [
      "Epoch 69 | total time: 24s, test acc: 53.960%, best acc: 54.610%\n"
     ]
    },
    {
     "name": "stderr",
     "output_type": "stream",
     "text": [
      "\n",
      "Epoch 70 train: 100%|██████████| 196/196 [00:20<00:00,  9.68it/s, loss=1.472, acc=60.324%, 30162/50000]\n",
      "Epoch 70  test: 100%|██████████| 20/20 [00:02<00:00,  6.77it/s, loss=1.736, acc=54.710%, 5471/10000]\n"
     ]
    },
    {
     "name": "stdout",
     "output_type": "stream",
     "text": [
      "Saving..\n",
      "Epoch 70 | total time: 24s, test acc: 54.710%, best acc: 54.710%\n"
     ]
    },
    {
     "name": "stderr",
     "output_type": "stream",
     "text": [
      "Epoch 71 train: 100%|██████████| 196/196 [00:20<00:00,  9.75it/s, loss=1.465, acc=60.358%, 30179/50000]\n",
      "Epoch 71  test: 100%|██████████| 20/20 [00:03<00:00,  6.06it/s, loss=1.726, acc=55.780%, 5578/10000]\n"
     ]
    },
    {
     "name": "stdout",
     "output_type": "stream",
     "text": [
      "Saving..\n",
      "Epoch 71 | total time: 24s, test acc: 55.780%, best acc: 55.780%\n"
     ]
    },
    {
     "name": "stderr",
     "output_type": "stream",
     "text": [
      "Epoch 72 train: 100%|██████████| 196/196 [00:20<00:00,  9.65it/s, loss=1.440, acc=61.136%, 30568/50000]\n",
      "Epoch 72  test: 100%|██████████| 20/20 [00:03<00:00,  6.12it/s, loss=1.738, acc=55.420%, 5542/10000]"
     ]
    },
    {
     "name": "stdout",
     "output_type": "stream",
     "text": [
      "Epoch 72 | total time: 24s, test acc: 55.420%, best acc: 55.780%\n"
     ]
    },
    {
     "name": "stderr",
     "output_type": "stream",
     "text": [
      "\n",
      "Epoch 73 train: 100%|██████████| 196/196 [00:20<00:00,  9.69it/s, loss=1.445, acc=60.922%, 30461/50000]\n",
      "Epoch 73  test: 100%|██████████| 20/20 [00:03<00:00,  6.09it/s, loss=1.738, acc=55.400%, 5540/10000]"
     ]
    },
    {
     "name": "stdout",
     "output_type": "stream",
     "text": [
      "Epoch 73 | total time: 24s, test acc: 55.400%, best acc: 55.780%\n"
     ]
    },
    {
     "name": "stderr",
     "output_type": "stream",
     "text": [
      "\n",
      "Epoch 74 train: 100%|██████████| 196/196 [00:20<00:00,  9.58it/s, loss=1.434, acc=61.222%, 30611/50000]\n",
      "Epoch 74  test: 100%|██████████| 20/20 [00:03<00:00,  6.10it/s, loss=1.754, acc=55.270%, 5527/10000]"
     ]
    },
    {
     "name": "stdout",
     "output_type": "stream",
     "text": [
      "Epoch 74 | total time: 24s, test acc: 55.270%, best acc: 55.780%\n"
     ]
    },
    {
     "name": "stderr",
     "output_type": "stream",
     "text": [
      "\n",
      "Epoch 75 train: 100%|██████████| 196/196 [00:20<00:00,  9.56it/s, loss=1.414, acc=61.634%, 30817/50000]\n",
      "Epoch 75  test: 100%|██████████| 20/20 [00:03<00:00,  6.23it/s, loss=1.747, acc=55.890%, 5589/10000]\n"
     ]
    },
    {
     "name": "stdout",
     "output_type": "stream",
     "text": [
      "Saving..\n",
      "Epoch 75 | total time: 24s, test acc: 55.890%, best acc: 55.890%\n"
     ]
    },
    {
     "name": "stderr",
     "output_type": "stream",
     "text": [
      "Epoch 76 train: 100%|██████████| 196/196 [00:20<00:00,  9.77it/s, loss=1.405, acc=61.986%, 30993/50000]\n",
      "Epoch 76  test: 100%|██████████| 20/20 [00:03<00:00,  6.01it/s, loss=1.818, acc=54.820%, 5482/10000]"
     ]
    },
    {
     "name": "stdout",
     "output_type": "stream",
     "text": [
      "Epoch 76 | total time: 24s, test acc: 54.820%, best acc: 55.890%\n"
     ]
    },
    {
     "name": "stderr",
     "output_type": "stream",
     "text": [
      "\n",
      "Epoch 77 train: 100%|██████████| 196/196 [00:19<00:00,  9.88it/s, loss=1.368, acc=62.888%, 31444/50000]\n",
      "Epoch 77  test: 100%|██████████| 20/20 [00:03<00:00,  6.05it/s, loss=1.694, acc=56.910%, 5691/10000]\n"
     ]
    },
    {
     "name": "stdout",
     "output_type": "stream",
     "text": [
      "Saving..\n",
      "Epoch 77 | total time: 24s, test acc: 56.910%, best acc: 56.910%\n"
     ]
    },
    {
     "name": "stderr",
     "output_type": "stream",
     "text": [
      "Epoch 78 train: 100%|██████████| 196/196 [00:19<00:00,  9.83it/s, loss=1.384, acc=62.534%, 31267/50000]\n",
      "Epoch 78  test: 100%|██████████| 20/20 [00:03<00:00,  6.03it/s, loss=1.769, acc=54.620%, 5462/10000]"
     ]
    },
    {
     "name": "stdout",
     "output_type": "stream",
     "text": [
      "Epoch 78 | total time: 23s, test acc: 54.620%, best acc: 56.910%\n"
     ]
    },
    {
     "name": "stderr",
     "output_type": "stream",
     "text": [
      "\n",
      "Epoch 79 train: 100%|██████████| 196/196 [00:20<00:00,  9.72it/s, loss=1.362, acc=62.940%, 31470/50000]\n",
      "Epoch 79  test: 100%|██████████| 20/20 [00:03<00:00,  6.04it/s, loss=1.790, acc=54.500%, 5450/10000]"
     ]
    },
    {
     "name": "stdout",
     "output_type": "stream",
     "text": [
      "Epoch 79 | total time: 24s, test acc: 54.500%, best acc: 56.910%\n"
     ]
    },
    {
     "name": "stderr",
     "output_type": "stream",
     "text": [
      "\n",
      "Epoch 80 train: 100%|██████████| 196/196 [00:19<00:00,  9.81it/s, loss=1.346, acc=63.310%, 31655/50000]\n",
      "Epoch 80  test: 100%|██████████| 20/20 [00:03<00:00,  6.10it/s, loss=1.762, acc=55.480%, 5548/10000]"
     ]
    },
    {
     "name": "stdout",
     "output_type": "stream",
     "text": [
      "Epoch 80 | total time: 24s, test acc: 55.480%, best acc: 56.910%\n"
     ]
    },
    {
     "name": "stderr",
     "output_type": "stream",
     "text": [
      "\n",
      "Epoch 81 train: 100%|██████████| 196/196 [00:19<00:00,  9.97it/s, loss=1.340, acc=63.502%, 31751/50000]\n",
      "Epoch 81  test: 100%|██████████| 20/20 [00:03<00:00,  6.04it/s, loss=1.681, acc=56.550%, 5655/10000]"
     ]
    },
    {
     "name": "stdout",
     "output_type": "stream",
     "text": [
      "Epoch 81 | total time: 24s, test acc: 56.550%, best acc: 56.910%\n"
     ]
    },
    {
     "name": "stderr",
     "output_type": "stream",
     "text": [
      "\n",
      "Epoch 82 train: 100%|██████████| 196/196 [00:20<00:00,  9.57it/s, loss=1.320, acc=63.992%, 31996/50000]\n",
      "Epoch 82  test: 100%|██████████| 20/20 [00:02<00:00,  7.00it/s, loss=1.710, acc=56.140%, 5614/10000]"
     ]
    },
    {
     "name": "stdout",
     "output_type": "stream",
     "text": [
      "Epoch 82 | total time: 24s, test acc: 56.140%, best acc: 56.910%\n"
     ]
    },
    {
     "name": "stderr",
     "output_type": "stream",
     "text": [
      "\n",
      "Epoch 83 train: 100%|██████████| 196/196 [00:20<00:00,  9.70it/s, loss=1.294, acc=64.448%, 32224/50000]\n",
      "Epoch 83  test: 100%|██████████| 20/20 [00:03<00:00,  5.89it/s, loss=1.692, acc=56.660%, 5666/10000]"
     ]
    },
    {
     "name": "stdout",
     "output_type": "stream",
     "text": [
      "Epoch 83 | total time: 24s, test acc: 56.660%, best acc: 56.910%\n"
     ]
    },
    {
     "name": "stderr",
     "output_type": "stream",
     "text": [
      "\n",
      "Epoch 84 train: 100%|██████████| 196/196 [00:19<00:00,  9.97it/s, loss=1.280, acc=64.860%, 32430/50000]\n",
      "Epoch 84  test: 100%|██████████| 20/20 [00:03<00:00,  6.16it/s, loss=1.704, acc=56.140%, 5614/10000]"
     ]
    },
    {
     "name": "stdout",
     "output_type": "stream",
     "text": [
      "Epoch 84 | total time: 23s, test acc: 56.140%, best acc: 56.910%\n"
     ]
    },
    {
     "name": "stderr",
     "output_type": "stream",
     "text": [
      "\n",
      "Epoch 85 train: 100%|██████████| 196/196 [00:20<00:00,  9.71it/s, loss=1.274, acc=64.848%, 32424/50000]\n",
      "Epoch 85  test: 100%|██████████| 20/20 [00:03<00:00,  6.00it/s, loss=1.750, acc=55.780%, 5578/10000]"
     ]
    },
    {
     "name": "stdout",
     "output_type": "stream",
     "text": [
      "Epoch 85 | total time: 24s, test acc: 55.780%, best acc: 56.910%\n"
     ]
    },
    {
     "name": "stderr",
     "output_type": "stream",
     "text": [
      "\n",
      "Epoch 86 train: 100%|██████████| 196/196 [00:20<00:00,  9.59it/s, loss=1.264, acc=65.082%, 32541/50000]\n",
      "Epoch 86  test: 100%|██████████| 20/20 [00:03<00:00,  6.01it/s, loss=1.823, acc=54.590%, 5459/10000]"
     ]
    },
    {
     "name": "stdout",
     "output_type": "stream",
     "text": [
      "Epoch 86 | total time: 24s, test acc: 54.590%, best acc: 56.910%\n"
     ]
    },
    {
     "name": "stderr",
     "output_type": "stream",
     "text": [
      "\n",
      "Epoch 87 train: 100%|██████████| 196/196 [00:20<00:00,  9.60it/s, loss=1.248, acc=65.652%, 32826/50000]\n",
      "Epoch 87  test: 100%|██████████| 20/20 [00:03<00:00,  6.05it/s, loss=1.728, acc=56.700%, 5670/10000]\n"
     ]
    },
    {
     "name": "stdout",
     "output_type": "stream",
     "text": [
      "Epoch 87 | total time: 24s, test acc: 56.700%, best acc: 56.910%\n"
     ]
    },
    {
     "name": "stderr",
     "output_type": "stream",
     "text": [
      "Epoch 88 train: 100%|██████████| 196/196 [00:20<00:00,  9.73it/s, loss=1.208, acc=66.762%, 33381/50000]\n",
      "Epoch 88  test: 100%|██████████| 20/20 [00:03<00:00,  5.89it/s, loss=1.732, acc=56.460%, 5646/10000]\n"
     ]
    },
    {
     "name": "stdout",
     "output_type": "stream",
     "text": [
      "Epoch 88 | total time: 24s, test acc: 56.460%, best acc: 56.910%\n"
     ]
    },
    {
     "name": "stderr",
     "output_type": "stream",
     "text": [
      "Epoch 89 train: 100%|██████████| 196/196 [00:20<00:00,  9.65it/s, loss=1.205, acc=66.668%, 33334/50000]\n",
      "Epoch 89  test: 100%|██████████| 20/20 [00:03<00:00,  5.96it/s, loss=1.665, acc=57.180%, 5718/10000]\n"
     ]
    },
    {
     "name": "stdout",
     "output_type": "stream",
     "text": [
      "Saving..\n",
      "Epoch 89 | total time: 24s, test acc: 57.180%, best acc: 57.180%\n"
     ]
    },
    {
     "name": "stderr",
     "output_type": "stream",
     "text": [
      "Epoch 90 train: 100%|██████████| 196/196 [00:20<00:00,  9.61it/s, loss=1.187, acc=67.080%, 33540/50000]\n",
      "Epoch 90  test: 100%|██████████| 20/20 [00:03<00:00,  6.07it/s, loss=1.719, acc=56.870%, 5687/10000]"
     ]
    },
    {
     "name": "stdout",
     "output_type": "stream",
     "text": [
      "Epoch 90 | total time: 24s, test acc: 56.870%, best acc: 57.180%\n"
     ]
    },
    {
     "name": "stderr",
     "output_type": "stream",
     "text": [
      "\n",
      "Epoch 91 train: 100%|██████████| 196/196 [00:20<00:00,  9.65it/s, loss=1.179, acc=67.230%, 33615/50000]\n",
      "Epoch 91  test: 100%|██████████| 20/20 [00:03<00:00,  6.01it/s, loss=1.629, acc=57.920%, 5792/10000]\n"
     ]
    },
    {
     "name": "stdout",
     "output_type": "stream",
     "text": [
      "Saving..\n",
      "Epoch 91 | total time: 24s, test acc: 57.920%, best acc: 57.920%\n"
     ]
    },
    {
     "name": "stderr",
     "output_type": "stream",
     "text": [
      "Epoch 92 train: 100%|██████████| 196/196 [00:20<00:00,  9.59it/s, loss=1.172, acc=67.294%, 33647/50000]\n",
      "Epoch 92  test: 100%|██████████| 20/20 [00:02<00:00,  6.82it/s, loss=1.749, acc=56.310%, 5631/10000]\n"
     ]
    },
    {
     "name": "stdout",
     "output_type": "stream",
     "text": [
      "Epoch 92 | total time: 24s, test acc: 56.310%, best acc: 57.920%\n"
     ]
    },
    {
     "name": "stderr",
     "output_type": "stream",
     "text": [
      "Epoch 93 train: 100%|██████████| 196/196 [00:20<00:00,  9.54it/s, loss=1.150, acc=68.076%, 34038/50000]\n",
      "Epoch 93  test: 100%|██████████| 20/20 [00:03<00:00,  5.95it/s, loss=1.733, acc=56.600%, 5660/10000]\n"
     ]
    },
    {
     "name": "stdout",
     "output_type": "stream",
     "text": [
      "Epoch 93 | total time: 24s, test acc: 56.600%, best acc: 57.920%\n"
     ]
    },
    {
     "name": "stderr",
     "output_type": "stream",
     "text": [
      "Epoch 94 train: 100%|██████████| 196/196 [00:20<00:00,  9.79it/s, loss=1.146, acc=68.056%, 34028/50000]\n",
      "Epoch 94  test: 100%|██████████| 20/20 [00:03<00:00,  6.27it/s, loss=1.662, acc=57.880%, 5788/10000]"
     ]
    },
    {
     "name": "stdout",
     "output_type": "stream",
     "text": [
      "Epoch 94 | total time: 23s, test acc: 57.880%, best acc: 57.920%\n"
     ]
    },
    {
     "name": "stderr",
     "output_type": "stream",
     "text": [
      "\n",
      "Epoch 95 train: 100%|██████████| 196/196 [00:19<00:00,  9.89it/s, loss=1.137, acc=68.518%, 34259/50000]\n",
      "Epoch 95  test: 100%|██████████| 20/20 [00:03<00:00,  5.62it/s, loss=1.656, acc=57.910%, 5791/10000]"
     ]
    },
    {
     "name": "stdout",
     "output_type": "stream",
     "text": [
      "Epoch 95 | total time: 24s, test acc: 57.910%, best acc: 57.920%\n"
     ]
    },
    {
     "name": "stderr",
     "output_type": "stream",
     "text": [
      "\n",
      "Epoch 96 train: 100%|██████████| 196/196 [00:20<00:00,  9.62it/s, loss=1.109, acc=68.658%, 34329/50000]\n",
      "Epoch 96  test: 100%|██████████| 20/20 [00:03<00:00,  6.20it/s, loss=1.669, acc=58.030%, 5803/10000]\n"
     ]
    },
    {
     "name": "stdout",
     "output_type": "stream",
     "text": [
      "Saving..\n",
      "Epoch 96 | total time: 24s, test acc: 58.030%, best acc: 58.030%\n"
     ]
    },
    {
     "name": "stderr",
     "output_type": "stream",
     "text": [
      "Epoch 97 train: 100%|██████████| 196/196 [00:20<00:00,  9.77it/s, loss=1.083, acc=69.596%, 34798/50000]\n",
      "Epoch 97  test: 100%|██████████| 20/20 [00:03<00:00,  6.05it/s, loss=1.704, acc=58.080%, 5808/10000]\n"
     ]
    },
    {
     "name": "stdout",
     "output_type": "stream",
     "text": [
      "Saving..\n",
      "Epoch 97 | total time: 24s, test acc: 58.080%, best acc: 58.080%\n"
     ]
    },
    {
     "name": "stderr",
     "output_type": "stream",
     "text": [
      "Epoch 98 train: 100%|██████████| 196/196 [00:20<00:00,  9.65it/s, loss=1.087, acc=69.744%, 34872/50000]\n",
      "Epoch 98  test: 100%|██████████| 20/20 [00:02<00:00,  6.77it/s, loss=1.660, acc=57.800%, 5780/10000]\n"
     ]
    },
    {
     "name": "stdout",
     "output_type": "stream",
     "text": [
      "Epoch 98 | total time: 24s, test acc: 57.800%, best acc: 58.080%\n"
     ]
    },
    {
     "name": "stderr",
     "output_type": "stream",
     "text": [
      "Epoch 99 train: 100%|██████████| 196/196 [00:19<00:00,  9.81it/s, loss=1.084, acc=69.494%, 34747/50000]\n",
      "Epoch 99  test: 100%|██████████| 20/20 [00:03<00:00,  6.25it/s, loss=1.616, acc=58.620%, 5862/10000]\n"
     ]
    },
    {
     "name": "stdout",
     "output_type": "stream",
     "text": [
      "Saving..\n",
      "Epoch 99 | total time: 24s, test acc: 58.620%, best acc: 58.620%\n"
     ]
    },
    {
     "name": "stderr",
     "output_type": "stream",
     "text": [
      "Epoch 100 train: 100%|██████████| 196/196 [00:19<00:00,  9.86it/s, loss=1.041, acc=70.608%, 35304/50000]\n",
      "Epoch 100  test: 100%|██████████| 20/20 [00:03<00:00,  6.00it/s, loss=1.634, acc=58.420%, 5842/10000]"
     ]
    },
    {
     "name": "stdout",
     "output_type": "stream",
     "text": [
      "Epoch 100 | total time: 23s, test acc: 58.420%, best acc: 58.620%\n"
     ]
    },
    {
     "name": "stderr",
     "output_type": "stream",
     "text": [
      "\n",
      "Epoch 101 train: 100%|██████████| 196/196 [00:20<00:00,  9.53it/s, loss=1.039, acc=70.630%, 35315/50000]\n",
      "Epoch 101  test: 100%|██████████| 20/20 [00:03<00:00,  6.12it/s, loss=1.659, acc=57.760%, 5776/10000]"
     ]
    },
    {
     "name": "stdout",
     "output_type": "stream",
     "text": [
      "Epoch 101 | total time: 24s, test acc: 57.760%, best acc: 58.620%\n"
     ]
    },
    {
     "name": "stderr",
     "output_type": "stream",
     "text": [
      "\n",
      "Epoch 102 train: 100%|██████████| 196/196 [00:20<00:00,  9.62it/s, loss=1.013, acc=71.428%, 35714/50000]\n",
      "Epoch 102  test: 100%|██████████| 20/20 [00:03<00:00,  6.00it/s, loss=1.614, acc=59.250%, 5925/10000]\n"
     ]
    },
    {
     "name": "stdout",
     "output_type": "stream",
     "text": [
      "Saving..\n",
      "Epoch 102 | total time: 24s, test acc: 59.250%, best acc: 59.250%\n"
     ]
    },
    {
     "name": "stderr",
     "output_type": "stream",
     "text": [
      "Epoch 103 train: 100%|██████████| 196/196 [00:20<00:00,  9.76it/s, loss=1.002, acc=71.568%, 35784/50000]\n",
      "Epoch 103  test: 100%|██████████| 20/20 [00:03<00:00,  6.05it/s, loss=1.613, acc=59.130%, 5913/10000]"
     ]
    },
    {
     "name": "stdout",
     "output_type": "stream",
     "text": [
      "Epoch 103 | total time: 24s, test acc: 59.130%, best acc: 59.250%\n"
     ]
    },
    {
     "name": "stderr",
     "output_type": "stream",
     "text": [
      "\n",
      "Epoch 104 train: 100%|██████████| 196/196 [00:19<00:00,  9.84it/s, loss=0.995, acc=71.640%, 35820/50000]\n",
      "Epoch 104  test: 100%|██████████| 20/20 [00:03<00:00,  6.07it/s, loss=1.722, acc=57.360%, 5736/10000]"
     ]
    },
    {
     "name": "stdout",
     "output_type": "stream",
     "text": [
      "Epoch 104 | total time: 23s, test acc: 57.360%, best acc: 59.250%\n"
     ]
    },
    {
     "name": "stderr",
     "output_type": "stream",
     "text": [
      "\n",
      "Epoch 105 train: 100%|██████████| 196/196 [00:19<00:00,  9.93it/s, loss=0.984, acc=71.980%, 35990/50000]\n",
      "Epoch 105  test: 100%|██████████| 20/20 [00:03<00:00,  6.06it/s, loss=1.647, acc=58.380%, 5838/10000]"
     ]
    },
    {
     "name": "stdout",
     "output_type": "stream",
     "text": [
      "Epoch 105 | total time: 23s, test acc: 58.380%, best acc: 59.250%\n"
     ]
    },
    {
     "name": "stderr",
     "output_type": "stream",
     "text": [
      "\n",
      "Epoch 106 train: 100%|██████████| 196/196 [00:20<00:00,  9.73it/s, loss=0.951, acc=72.916%, 36458/50000]\n",
      "Epoch 106  test: 100%|██████████| 20/20 [00:03<00:00,  6.04it/s, loss=1.669, acc=58.350%, 5835/10000]"
     ]
    },
    {
     "name": "stdout",
     "output_type": "stream",
     "text": [
      "Epoch 106 | total time: 24s, test acc: 58.350%, best acc: 59.250%\n"
     ]
    },
    {
     "name": "stderr",
     "output_type": "stream",
     "text": [
      "\n",
      "Epoch 107 train: 100%|██████████| 196/196 [00:19<00:00,  9.88it/s, loss=0.937, acc=73.396%, 36698/50000]\n",
      "Epoch 107  test: 100%|██████████| 20/20 [00:03<00:00,  5.79it/s, loss=1.660, acc=58.360%, 5836/10000]"
     ]
    },
    {
     "name": "stdout",
     "output_type": "stream",
     "text": [
      "Epoch 107 | total time: 24s, test acc: 58.360%, best acc: 59.250%\n"
     ]
    },
    {
     "name": "stderr",
     "output_type": "stream",
     "text": [
      "\n",
      "Epoch 108 train: 100%|██████████| 196/196 [00:20<00:00,  9.47it/s, loss=0.941, acc=73.220%, 36610/50000]\n",
      "Epoch 108  test: 100%|██████████| 20/20 [00:02<00:00,  6.78it/s, loss=1.635, acc=59.390%, 5939/10000]\n"
     ]
    },
    {
     "name": "stdout",
     "output_type": "stream",
     "text": [
      "Saving..\n",
      "Epoch 108 | total time: 24s, test acc: 59.390%, best acc: 59.390%\n"
     ]
    },
    {
     "name": "stderr",
     "output_type": "stream",
     "text": [
      "Epoch 109 train: 100%|██████████| 196/196 [00:20<00:00,  9.48it/s, loss=0.919, acc=73.548%, 36774/50000]\n",
      "Epoch 109  test: 100%|██████████| 20/20 [00:03<00:00,  5.59it/s, loss=1.631, acc=59.040%, 5904/10000]"
     ]
    },
    {
     "name": "stdout",
     "output_type": "stream",
     "text": [
      "Epoch 109 | total time: 24s, test acc: 59.040%, best acc: 59.390%\n"
     ]
    },
    {
     "name": "stderr",
     "output_type": "stream",
     "text": [
      "\n",
      "Epoch 110 train: 100%|██████████| 196/196 [00:19<00:00, 10.03it/s, loss=0.893, acc=74.488%, 37244/50000]\n",
      "Epoch 110  test: 100%|██████████| 20/20 [00:03<00:00,  6.24it/s, loss=1.629, acc=59.400%, 5940/10000]\n"
     ]
    },
    {
     "name": "stdout",
     "output_type": "stream",
     "text": [
      "Saving..\n",
      "Epoch 110 | total time: 24s, test acc: 59.400%, best acc: 59.400%\n"
     ]
    },
    {
     "name": "stderr",
     "output_type": "stream",
     "text": [
      "Epoch 111 train: 100%|██████████| 196/196 [00:20<00:00,  9.53it/s, loss=0.876, acc=74.828%, 37414/50000]\n",
      "Epoch 111  test: 100%|██████████| 20/20 [00:03<00:00,  6.55it/s, loss=1.633, acc=59.970%, 5997/10000]\n"
     ]
    },
    {
     "name": "stdout",
     "output_type": "stream",
     "text": [
      "Saving..\n",
      "Epoch 111 | total time: 24s, test acc: 59.970%, best acc: 59.970%\n"
     ]
    },
    {
     "name": "stderr",
     "output_type": "stream",
     "text": [
      "Epoch 112 train: 100%|██████████| 196/196 [00:20<00:00,  9.69it/s, loss=0.861, acc=75.088%, 37544/50000]\n",
      "Epoch 112  test: 100%|██████████| 20/20 [00:03<00:00,  6.09it/s, loss=1.610, acc=60.310%, 6031/10000]\n"
     ]
    },
    {
     "name": "stdout",
     "output_type": "stream",
     "text": [
      "Saving..\n",
      "Epoch 112 | total time: 24s, test acc: 60.310%, best acc: 60.310%\n"
     ]
    },
    {
     "name": "stderr",
     "output_type": "stream",
     "text": [
      "Epoch 113 train: 100%|██████████| 196/196 [00:19<00:00,  9.81it/s, loss=0.842, acc=75.762%, 37881/50000]\n",
      "Epoch 113  test: 100%|██████████| 20/20 [00:03<00:00,  6.11it/s, loss=1.677, acc=59.580%, 5958/10000]"
     ]
    },
    {
     "name": "stdout",
     "output_type": "stream",
     "text": [
      "Epoch 113 | total time: 23s, test acc: 59.580%, best acc: 60.310%\n"
     ]
    },
    {
     "name": "stderr",
     "output_type": "stream",
     "text": [
      "\n",
      "Epoch 114 train: 100%|██████████| 196/196 [00:20<00:00,  9.53it/s, loss=0.830, acc=76.112%, 38056/50000]\n",
      "Epoch 114  test: 100%|██████████| 20/20 [00:03<00:00,  6.40it/s, loss=1.656, acc=59.330%, 5933/10000]"
     ]
    },
    {
     "name": "stdout",
     "output_type": "stream",
     "text": [
      "Epoch 114 | total time: 24s, test acc: 59.330%, best acc: 60.310%\n"
     ]
    },
    {
     "name": "stderr",
     "output_type": "stream",
     "text": [
      "\n",
      "Epoch 115 train: 100%|██████████| 196/196 [00:20<00:00,  9.80it/s, loss=0.819, acc=75.992%, 37996/50000]\n",
      "Epoch 115  test: 100%|██████████| 20/20 [00:03<00:00,  6.13it/s, loss=1.635, acc=59.630%, 5963/10000]"
     ]
    },
    {
     "name": "stdout",
     "output_type": "stream",
     "text": [
      "Epoch 115 | total time: 24s, test acc: 59.630%, best acc: 60.310%\n"
     ]
    },
    {
     "name": "stderr",
     "output_type": "stream",
     "text": [
      "\n",
      "Epoch 116 train: 100%|██████████| 196/196 [00:20<00:00,  9.59it/s, loss=0.802, acc=76.818%, 38409/50000]\n",
      "Epoch 116  test: 100%|██████████| 20/20 [00:03<00:00,  6.57it/s, loss=1.631, acc=60.220%, 6022/10000]"
     ]
    },
    {
     "name": "stdout",
     "output_type": "stream",
     "text": [
      "Epoch 116 | total time: 24s, test acc: 60.220%, best acc: 60.310%\n"
     ]
    },
    {
     "name": "stderr",
     "output_type": "stream",
     "text": [
      "\n",
      "Epoch 117 train: 100%|██████████| 196/196 [00:20<00:00,  9.67it/s, loss=0.777, acc=77.562%, 38781/50000]\n",
      "Epoch 117  test: 100%|██████████| 20/20 [00:03<00:00,  5.97it/s, loss=1.659, acc=59.810%, 5981/10000]\n"
     ]
    },
    {
     "name": "stdout",
     "output_type": "stream",
     "text": [
      "Epoch 117 | total time: 24s, test acc: 59.810%, best acc: 60.310%\n"
     ]
    },
    {
     "name": "stderr",
     "output_type": "stream",
     "text": [
      "Epoch 118 train: 100%|██████████| 196/196 [00:19<00:00,  9.87it/s, loss=0.770, acc=77.556%, 38778/50000]\n",
      "Epoch 118  test: 100%|██████████| 20/20 [00:03<00:00,  5.97it/s, loss=1.634, acc=60.280%, 6028/10000]\n"
     ]
    },
    {
     "name": "stdout",
     "output_type": "stream",
     "text": [
      "Epoch 118 | total time: 23s, test acc: 60.280%, best acc: 60.310%\n"
     ]
    },
    {
     "name": "stderr",
     "output_type": "stream",
     "text": [
      "Epoch 119 train: 100%|██████████| 196/196 [00:20<00:00,  9.64it/s, loss=0.759, acc=77.752%, 38876/50000]\n",
      "Epoch 119  test: 100%|██████████| 20/20 [00:03<00:00,  6.04it/s, loss=1.684, acc=59.800%, 5980/10000]"
     ]
    },
    {
     "name": "stdout",
     "output_type": "stream",
     "text": [
      "Epoch 119 | total time: 24s, test acc: 59.800%, best acc: 60.310%\n"
     ]
    },
    {
     "name": "stderr",
     "output_type": "stream",
     "text": [
      "\n",
      "Epoch 120 train: 100%|██████████| 196/196 [00:20<00:00,  9.61it/s, loss=0.738, acc=78.370%, 39185/50000]\n",
      "Epoch 120  test: 100%|██████████| 20/20 [00:03<00:00,  6.01it/s, loss=1.640, acc=60.850%, 6085/10000]\n"
     ]
    },
    {
     "name": "stdout",
     "output_type": "stream",
     "text": [
      "Saving..\n",
      "Epoch 120 | total time: 24s, test acc: 60.850%, best acc: 60.850%\n"
     ]
    },
    {
     "name": "stderr",
     "output_type": "stream",
     "text": [
      "Epoch 121 train: 100%|██████████| 196/196 [00:20<00:00,  9.50it/s, loss=0.719, acc=78.974%, 39487/50000]\n",
      "Epoch 121  test: 100%|██████████| 20/20 [00:03<00:00,  6.08it/s, loss=1.620, acc=60.670%, 6067/10000]"
     ]
    },
    {
     "name": "stdout",
     "output_type": "stream",
     "text": [
      "Epoch 121 | total time: 24s, test acc: 60.670%, best acc: 60.850%\n"
     ]
    },
    {
     "name": "stderr",
     "output_type": "stream",
     "text": [
      "\n",
      "Epoch 122 train: 100%|██████████| 196/196 [00:20<00:00,  9.74it/s, loss=0.695, acc=79.484%, 39742/50000]\n",
      "Epoch 122  test: 100%|██████████| 20/20 [00:03<00:00,  6.15it/s, loss=1.611, acc=61.760%, 6176/10000]\n"
     ]
    },
    {
     "name": "stdout",
     "output_type": "stream",
     "text": [
      "Saving..\n",
      "Epoch 122 | total time: 24s, test acc: 61.760%, best acc: 61.760%\n"
     ]
    },
    {
     "name": "stderr",
     "output_type": "stream",
     "text": [
      "Epoch 123 train: 100%|██████████| 196/196 [00:20<00:00,  9.70it/s, loss=0.670, acc=80.152%, 40076/50000]\n",
      "Epoch 123  test: 100%|██████████| 20/20 [00:02<00:00,  7.17it/s, loss=1.643, acc=61.550%, 6155/10000]"
     ]
    },
    {
     "name": "stdout",
     "output_type": "stream",
     "text": [
      "Epoch 123 | total time: 23s, test acc: 61.550%, best acc: 61.760%\n"
     ]
    },
    {
     "name": "stderr",
     "output_type": "stream",
     "text": [
      "\n",
      "Epoch 124 train: 100%|██████████| 196/196 [00:20<00:00,  9.61it/s, loss=0.669, acc=80.170%, 40085/50000]\n",
      "Epoch 124  test: 100%|██████████| 20/20 [00:03<00:00,  6.04it/s, loss=1.647, acc=60.610%, 6061/10000]\n"
     ]
    },
    {
     "name": "stdout",
     "output_type": "stream",
     "text": [
      "Epoch 124 | total time: 24s, test acc: 60.610%, best acc: 61.760%\n"
     ]
    },
    {
     "name": "stderr",
     "output_type": "stream",
     "text": [
      "Epoch 125 train: 100%|██████████| 196/196 [00:20<00:00,  9.44it/s, loss=0.648, acc=80.822%, 40411/50000]\n",
      "Epoch 125  test: 100%|██████████| 20/20 [00:03<00:00,  6.08it/s, loss=1.698, acc=60.640%, 6064/10000]"
     ]
    },
    {
     "name": "stdout",
     "output_type": "stream",
     "text": [
      "Epoch 125 | total time: 24s, test acc: 60.640%, best acc: 61.760%\n"
     ]
    },
    {
     "name": "stderr",
     "output_type": "stream",
     "text": [
      "\n",
      "Epoch 126 train: 100%|██████████| 196/196 [00:19<00:00, 10.04it/s, loss=0.648, acc=80.838%, 40419/50000]\n",
      "Epoch 126  test: 100%|██████████| 20/20 [00:03<00:00,  6.08it/s, loss=1.605, acc=61.290%, 6129/10000]"
     ]
    },
    {
     "name": "stdout",
     "output_type": "stream",
     "text": [
      "Epoch 126 | total time: 23s, test acc: 61.290%, best acc: 61.760%\n"
     ]
    },
    {
     "name": "stderr",
     "output_type": "stream",
     "text": [
      "\n",
      "Epoch 127 train: 100%|██████████| 196/196 [00:20<00:00,  9.57it/s, loss=0.621, acc=81.620%, 40810/50000]\n",
      "Epoch 127  test: 100%|██████████| 20/20 [00:03<00:00,  5.98it/s, loss=1.668, acc=60.740%, 6074/10000]"
     ]
    },
    {
     "name": "stdout",
     "output_type": "stream",
     "text": [
      "Epoch 127 | total time: 24s, test acc: 60.740%, best acc: 61.760%\n"
     ]
    },
    {
     "name": "stderr",
     "output_type": "stream",
     "text": [
      "\n",
      "Epoch 128 train: 100%|██████████| 196/196 [00:19<00:00,  9.85it/s, loss=0.613, acc=81.888%, 40944/50000]\n",
      "Epoch 128  test: 100%|██████████| 20/20 [00:03<00:00,  6.09it/s, loss=1.673, acc=61.600%, 6160/10000]\n"
     ]
    },
    {
     "name": "stdout",
     "output_type": "stream",
     "text": [
      "Epoch 128 | total time: 23s, test acc: 61.600%, best acc: 61.760%\n"
     ]
    },
    {
     "name": "stderr",
     "output_type": "stream",
     "text": [
      "Epoch 129 train: 100%|██████████| 196/196 [00:20<00:00,  9.65it/s, loss=0.603, acc=82.138%, 41069/50000]\n",
      "Epoch 129  test: 100%|██████████| 20/20 [00:03<00:00,  6.16it/s, loss=1.628, acc=61.080%, 6108/10000]"
     ]
    },
    {
     "name": "stdout",
     "output_type": "stream",
     "text": [
      "Epoch 129 | total time: 24s, test acc: 61.080%, best acc: 61.760%\n"
     ]
    },
    {
     "name": "stderr",
     "output_type": "stream",
     "text": [
      "\n",
      "Epoch 130 train: 100%|██████████| 196/196 [00:20<00:00,  9.78it/s, loss=0.575, acc=82.846%, 41423/50000]\n",
      "Epoch 130  test: 100%|██████████| 20/20 [00:03<00:00,  5.65it/s, loss=1.585, acc=61.820%, 6182/10000]\n"
     ]
    },
    {
     "name": "stdout",
     "output_type": "stream",
     "text": [
      "Saving..\n",
      "Epoch 130 | total time: 24s, test acc: 61.820%, best acc: 61.820%\n"
     ]
    },
    {
     "name": "stderr",
     "output_type": "stream",
     "text": [
      "Epoch 131 train: 100%|██████████| 196/196 [00:19<00:00,  9.83it/s, loss=0.551, acc=83.832%, 41916/50000]\n",
      "Epoch 131  test: 100%|██████████| 20/20 [00:03<00:00,  6.03it/s, loss=1.636, acc=61.680%, 6168/10000]"
     ]
    },
    {
     "name": "stdout",
     "output_type": "stream",
     "text": [
      "Epoch 131 | total time: 23s, test acc: 61.680%, best acc: 61.820%\n"
     ]
    },
    {
     "name": "stderr",
     "output_type": "stream",
     "text": [
      "\n",
      "Epoch 132 train: 100%|██████████| 196/196 [00:20<00:00,  9.57it/s, loss=0.546, acc=83.554%, 41777/50000]\n",
      "Epoch 132  test: 100%|██████████| 20/20 [00:03<00:00,  6.06it/s, loss=1.626, acc=61.750%, 6175/10000]"
     ]
    },
    {
     "name": "stdout",
     "output_type": "stream",
     "text": [
      "Epoch 132 | total time: 24s, test acc: 61.750%, best acc: 61.820%\n"
     ]
    },
    {
     "name": "stderr",
     "output_type": "stream",
     "text": [
      "\n",
      "Epoch 133 train: 100%|██████████| 196/196 [00:20<00:00,  9.43it/s, loss=0.527, acc=84.142%, 42071/50000]\n",
      "Epoch 133  test: 100%|██████████| 20/20 [00:02<00:00,  7.00it/s, loss=1.654, acc=62.500%, 6250/10000]\n"
     ]
    },
    {
     "name": "stdout",
     "output_type": "stream",
     "text": [
      "Saving..\n",
      "Epoch 133 | total time: 24s, test acc: 62.500%, best acc: 62.500%\n"
     ]
    },
    {
     "name": "stderr",
     "output_type": "stream",
     "text": [
      "Epoch 134 train: 100%|██████████| 196/196 [00:20<00:00,  9.55it/s, loss=0.516, acc=84.522%, 42261/50000]\n",
      "Epoch 134  test: 100%|██████████| 20/20 [00:03<00:00,  6.09it/s, loss=1.662, acc=62.080%, 6208/10000]"
     ]
    },
    {
     "name": "stdout",
     "output_type": "stream",
     "text": [
      "Epoch 134 | total time: 24s, test acc: 62.080%, best acc: 62.500%\n"
     ]
    },
    {
     "name": "stderr",
     "output_type": "stream",
     "text": [
      "\n",
      "Epoch 135 train: 100%|██████████| 196/196 [00:19<00:00,  9.89it/s, loss=0.498, acc=84.998%, 42499/50000]\n",
      "Epoch 135  test: 100%|██████████| 20/20 [00:03<00:00,  5.97it/s, loss=1.614, acc=62.450%, 6245/10000]"
     ]
    },
    {
     "name": "stdout",
     "output_type": "stream",
     "text": [
      "Epoch 135 | total time: 24s, test acc: 62.450%, best acc: 62.500%\n"
     ]
    },
    {
     "name": "stderr",
     "output_type": "stream",
     "text": [
      "\n",
      "Epoch 136 train: 100%|██████████| 196/196 [00:19<00:00,  9.93it/s, loss=0.486, acc=85.368%, 42684/50000]\n",
      "Epoch 136  test: 100%|██████████| 20/20 [00:02<00:00,  7.19it/s, loss=1.634, acc=61.900%, 6190/10000]"
     ]
    },
    {
     "name": "stdout",
     "output_type": "stream",
     "text": [
      "Epoch 136 | total time: 23s, test acc: 61.900%, best acc: 62.500%\n"
     ]
    },
    {
     "name": "stderr",
     "output_type": "stream",
     "text": [
      "\n",
      "Epoch 137 train: 100%|██████████| 196/196 [00:19<00:00,  9.89it/s, loss=0.468, acc=85.732%, 42866/50000]\n",
      "Epoch 137  test: 100%|██████████| 20/20 [00:03<00:00,  5.86it/s, loss=1.669, acc=61.980%, 6198/10000]"
     ]
    },
    {
     "name": "stdout",
     "output_type": "stream",
     "text": [
      "Epoch 137 | total time: 23s, test acc: 61.980%, best acc: 62.500%\n"
     ]
    },
    {
     "name": "stderr",
     "output_type": "stream",
     "text": [
      "\n",
      "Epoch 138 train: 100%|██████████| 196/196 [00:20<00:00,  9.67it/s, loss=0.455, acc=86.234%, 43117/50000]\n",
      "Epoch 138  test: 100%|██████████| 20/20 [00:03<00:00,  5.85it/s, loss=1.644, acc=62.700%, 6270/10000]\n"
     ]
    },
    {
     "name": "stdout",
     "output_type": "stream",
     "text": [
      "Saving..\n",
      "Epoch 138 | total time: 24s, test acc: 62.700%, best acc: 62.700%\n"
     ]
    },
    {
     "name": "stderr",
     "output_type": "stream",
     "text": [
      "Epoch 139 train: 100%|██████████| 196/196 [00:19<00:00,  9.83it/s, loss=0.438, acc=86.766%, 43383/50000]\n",
      "Epoch 139  test: 100%|██████████| 20/20 [00:03<00:00,  6.08it/s, loss=1.626, acc=62.800%, 6280/10000]\n"
     ]
    },
    {
     "name": "stdout",
     "output_type": "stream",
     "text": [
      "Saving..\n",
      "Epoch 139 | total time: 24s, test acc: 62.800%, best acc: 62.800%\n"
     ]
    },
    {
     "name": "stderr",
     "output_type": "stream",
     "text": [
      "Epoch 140 train: 100%|██████████| 196/196 [00:20<00:00,  9.62it/s, loss=0.423, acc=87.042%, 43521/50000]\n",
      "Epoch 140  test: 100%|██████████| 20/20 [00:03<00:00,  6.01it/s, loss=1.662, acc=62.230%, 6223/10000]"
     ]
    },
    {
     "name": "stdout",
     "output_type": "stream",
     "text": [
      "Epoch 140 | total time: 24s, test acc: 62.230%, best acc: 62.800%\n"
     ]
    },
    {
     "name": "stderr",
     "output_type": "stream",
     "text": [
      "\n",
      "Epoch 141 train: 100%|██████████| 196/196 [00:20<00:00,  9.76it/s, loss=0.409, acc=87.518%, 43759/50000]\n",
      "Epoch 141  test: 100%|██████████| 20/20 [00:02<00:00,  6.96it/s, loss=1.687, acc=62.860%, 6286/10000]\n"
     ]
    },
    {
     "name": "stdout",
     "output_type": "stream",
     "text": [
      "Saving..\n",
      "Epoch 141 | total time: 25s, test acc: 62.860%, best acc: 62.860%\n"
     ]
    },
    {
     "name": "stderr",
     "output_type": "stream",
     "text": [
      "Epoch 142 train: 100%|██████████| 196/196 [00:20<00:00,  9.61it/s, loss=0.391, acc=88.100%, 44050/50000]\n",
      "Epoch 142  test: 100%|██████████| 20/20 [00:02<00:00,  6.81it/s, loss=1.711, acc=61.650%, 6165/10000]"
     ]
    },
    {
     "name": "stdout",
     "output_type": "stream",
     "text": [
      "Epoch 142 | total time: 24s, test acc: 61.650%, best acc: 62.860%\n"
     ]
    },
    {
     "name": "stderr",
     "output_type": "stream",
     "text": [
      "\n",
      "Epoch 143 train: 100%|██████████| 196/196 [00:19<00:00,  9.97it/s, loss=0.387, acc=88.222%, 44111/50000]\n",
      "Epoch 143  test: 100%|██████████| 20/20 [00:03<00:00,  6.13it/s, loss=1.711, acc=61.680%, 6168/10000]"
     ]
    },
    {
     "name": "stdout",
     "output_type": "stream",
     "text": [
      "Epoch 143 | total time: 24s, test acc: 61.680%, best acc: 62.860%\n"
     ]
    },
    {
     "name": "stderr",
     "output_type": "stream",
     "text": [
      "\n",
      "Epoch 144 train: 100%|██████████| 196/196 [00:20<00:00,  9.50it/s, loss=0.372, acc=88.698%, 44349/50000]\n",
      "Epoch 144  test: 100%|██████████| 20/20 [00:03<00:00,  6.08it/s, loss=1.640, acc=63.190%, 6319/10000]\n"
     ]
    },
    {
     "name": "stdout",
     "output_type": "stream",
     "text": [
      "Saving..\n",
      "Epoch 144 | total time: 24s, test acc: 63.190%, best acc: 63.190%\n"
     ]
    },
    {
     "name": "stderr",
     "output_type": "stream",
     "text": [
      "Epoch 145 train: 100%|██████████| 196/196 [00:20<00:00,  9.56it/s, loss=0.348, acc=89.278%, 44639/50000]\n",
      "Epoch 145  test: 100%|██████████| 20/20 [00:03<00:00,  6.03it/s, loss=1.663, acc=62.550%, 6255/10000]"
     ]
    },
    {
     "name": "stdout",
     "output_type": "stream",
     "text": [
      "Epoch 145 | total time: 24s, test acc: 62.550%, best acc: 63.190%\n"
     ]
    },
    {
     "name": "stderr",
     "output_type": "stream",
     "text": [
      "\n",
      "Epoch 146 train: 100%|██████████| 196/196 [00:20<00:00,  9.61it/s, loss=0.344, acc=89.484%, 44742/50000]\n",
      "Epoch 146  test: 100%|██████████| 20/20 [00:03<00:00,  6.63it/s, loss=1.668, acc=63.180%, 6318/10000]\n"
     ]
    },
    {
     "name": "stdout",
     "output_type": "stream",
     "text": [
      "Epoch 146 | total time: 24s, test acc: 63.180%, best acc: 63.190%\n"
     ]
    },
    {
     "name": "stderr",
     "output_type": "stream",
     "text": [
      "Epoch 147 train: 100%|██████████| 196/196 [00:20<00:00,  9.58it/s, loss=0.324, acc=90.062%, 45031/50000]\n",
      "Epoch 147  test: 100%|██████████| 20/20 [00:03<00:00,  6.01it/s, loss=1.719, acc=62.670%, 6267/10000]\n"
     ]
    },
    {
     "name": "stdout",
     "output_type": "stream",
     "text": [
      "Epoch 147 | total time: 24s, test acc: 62.670%, best acc: 63.190%\n"
     ]
    },
    {
     "name": "stderr",
     "output_type": "stream",
     "text": [
      "Epoch 148 train: 100%|██████████| 196/196 [00:20<00:00,  9.54it/s, loss=0.325, acc=90.134%, 45067/50000]\n",
      "Epoch 148  test: 100%|██████████| 20/20 [00:03<00:00,  5.78it/s, loss=1.691, acc=63.410%, 6341/10000]\n"
     ]
    },
    {
     "name": "stdout",
     "output_type": "stream",
     "text": [
      "Saving..\n",
      "Epoch 148 | total time: 25s, test acc: 63.410%, best acc: 63.410%\n"
     ]
    },
    {
     "name": "stderr",
     "output_type": "stream",
     "text": [
      "Epoch 149 train: 100%|██████████| 196/196 [00:20<00:00,  9.68it/s, loss=0.312, acc=90.538%, 45269/50000]\n",
      "Epoch 149  test: 100%|██████████| 20/20 [00:03<00:00,  6.04it/s, loss=1.671, acc=63.970%, 6397/10000]\n"
     ]
    },
    {
     "name": "stdout",
     "output_type": "stream",
     "text": [
      "Saving..\n",
      "Epoch 149 | total time: 24s, test acc: 63.970%, best acc: 63.970%\n"
     ]
    }
   ],
   "source": [
    "# Training\n",
    "def train(epoch):\n",
    "    net.train()\n",
    "    train_loss = 0\n",
    "    correct = 0\n",
    "    total = 0\n",
    "\n",
    "    with tqdm.tqdm(enumerate(trainloader), total=len(trainloader)) as t:\n",
    "        t.set_description(f\"Epoch {epoch} train\")\n",
    "        for batch_idx, (inputs, targets) in t:\n",
    "            inputs, targets = inputs.to(device), targets.to(device)\n",
    "            optimizer.zero_grad()\n",
    "            outputs = net(inputs)\n",
    "            loss = criterion(outputs, targets)\n",
    "            loss.backward()\n",
    "            optimizer.step()\n",
    "\n",
    "            train_loss += loss.item()\n",
    "            _, predicted = outputs.max(1)\n",
    "            total += targets.size(0)\n",
    "            correct += predicted.eq(targets).sum().item()\n",
    "\n",
    "            t.set_postfix(\n",
    "                {\n",
    "                    \"loss\": f\"{train_loss/(batch_idx+1):.3f}\",\n",
    "                    \"acc\": f\"{100.*correct/total:.3f}%, {correct}/{total}\",\n",
    "                }\n",
    "            )\n",
    "\n",
    "    writer.add_scalars(\n",
    "        \"loss\", {\"train\": train_loss/len(trainloader)},\n",
    "        global_step=epoch * len(trainloader)\n",
    "    )\n",
    "    writer.add_scalars(\n",
    "        \"accuracy\", {\"train\": correct/total},\n",
    "        global_step=epoch\n",
    "    )\n",
    "\n",
    "\n",
    "# validation\n",
    "def test(epoch):\n",
    "    global best_acc\n",
    "    net.eval()\n",
    "    test_loss = 0\n",
    "    correct = 0\n",
    "    total = 0\n",
    "    with torch.no_grad():\n",
    "        with tqdm.tqdm(enumerate(testloader), total=len(testloader)) as t:\n",
    "            t.set_description(f\"Epoch {epoch}  test\")\n",
    "            for batch_idx, (inputs, targets) in t:\n",
    "                inputs, targets = inputs.to(device), targets.to(device)\n",
    "                outputs = net(inputs)\n",
    "                loss = criterion(outputs, targets)\n",
    "\n",
    "                test_loss += loss.item()\n",
    "                _, predicted = outputs.max(1)\n",
    "                total += targets.size(0)\n",
    "                correct += predicted.eq(targets).sum().item()\n",
    "\n",
    "                t.set_postfix(\n",
    "                    {\n",
    "                        \"loss\": f\"{test_loss / (batch_idx + 1):.3f}\",\n",
    "                        \"acc\": f\"{correct*100./total:.3f}%, {correct}/{total}\",\n",
    "                    }\n",
    "                )\n",
    "\n",
    "    writer.add_scalars(\n",
    "        \"loss\", {\"test\": test_loss/len(testloader)},\n",
    "        global_step=epoch * len(trainloader)\n",
    "    )\n",
    "    writer.add_scalars(\n",
    "        \"accuracy\", {\"test\": correct/total},\n",
    "        global_step=epoch\n",
    "    )\n",
    "\n",
    "    # Save checkpoint.\n",
    "    acc = 100.0 * correct / total\n",
    "    if acc > best_acc:\n",
    "        print(\"Saving..\")\n",
    "        state = {\n",
    "            \"net\": net.state_dict(),\n",
    "            \"acc\": acc,\n",
    "            \"epoch\": epoch,\n",
    "        }\n",
    "        torch.save(state, os.path.join(save_dir, \"ckpt.pth\"))\n",
    "        best_acc = acc\n",
    "\n",
    "    return acc\n",
    "\n",
    "\n",
    "for epoch in range(0, num_epochs):\n",
    "    tic = time.time()\n",
    "    train(epoch)\n",
    "    test_acc = test(epoch)\n",
    "    t = time.time() - tic\n",
    "    print(\n",
    "        f\"Epoch {epoch} | total time: {t:.0f}s, test acc: {test_acc:.3f}%, best acc: {best_acc:.3f}%\"\n",
    "    )\n",
    "    scheduler.step()"
   ]
  },
  {
   "cell_type": "code",
   "execution_count": null,
   "id": "5bceb1c8-9fc0-4343-a49b-15a5ae815121",
   "metadata": {},
   "outputs": [],
   "source": []
  }
 ],
 "metadata": {
  "kernelspec": {
   "display_name": "Python 3",
   "language": "python",
   "name": "python3"
  },
  "language_info": {
   "codemirror_mode": {
    "name": "ipython",
    "version": 3
   },
   "file_extension": ".py",
   "mimetype": "text/x-python",
   "name": "python",
   "nbconvert_exporter": "python",
   "pygments_lexer": "ipython3",
   "version": "3.8.10"
  }
 },
 "nbformat": 4,
 "nbformat_minor": 5
}
