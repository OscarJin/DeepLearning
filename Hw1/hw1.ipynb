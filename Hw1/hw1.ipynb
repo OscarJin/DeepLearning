{
 "cells": [
  {
   "cell_type": "markdown",
   "id": "d59cff9f-6bed-4fd6-84d0-e8b1f9ca2b32",
   "metadata": {
    "tags": []
   },
   "source": [
    "# Homework 1"
   ]
  },
  {
   "cell_type": "markdown",
   "id": "bf73e1c5-5d18-4e52-9c67-d29ac7dd11e7",
   "metadata": {
    "tags": []
   },
   "source": [
    "## Preparations"
   ]
  },
  {
   "cell_type": "markdown",
   "id": "60c923b7-177c-42fc-8e06-a8300b96810b",
   "metadata": {
    "tags": []
   },
   "source": [
    "### Data Loading"
   ]
  },
  {
   "cell_type": "code",
   "execution_count": 1,
   "id": "7aa25e8d-00fc-4f79-a23e-aa261ca713f9",
   "metadata": {},
   "outputs": [
    {
     "name": "stderr",
     "output_type": "stream",
     "text": [
      "/opt/conda/lib/python3.8/site-packages/torchvision/datasets/mnist.py:498: UserWarning: The given NumPy array is not writeable, and PyTorch does not support non-writeable tensors. This means you can write to the underlying (supposedly non-writeable) NumPy array using the tensor. You may want to copy the array to protect its data or make it writeable before converting it to a tensor. This type of warning will be suppressed for the rest of this program. (Triggered internally at  /pytorch/torch/csrc/utils/tensor_numpy.cpp:180.)\n",
      "  return torch.from_numpy(parsed.astype(m[2], copy=False)).view(*s)\n"
     ]
    }
   ],
   "source": [
    "import torch\n",
    "from torchvision import datasets, transforms\n",
    "from matplotlib import pyplot as plt\n",
    "torch.manual_seed(2022)\n",
    "\n",
    "batchsize = 128  # training batch size\n",
    "transform = transforms.Compose([\n",
    "    transforms.ToTensor(),\n",
    "    transforms.Normalize((0.1307,), (0.3081,))\n",
    "])\n",
    "\n",
    "trainset = datasets.MNIST(\n",
    "    root='../data', train=True, download=True, transform=transform)\n",
    "trainloader = torch.utils.data.DataLoader(\n",
    "    trainset, batch_size=batchsize, shuffle=True, num_workers=1)\n",
    "\n",
    "testset = datasets.MNIST(\n",
    "    root='../data', train=False, download=True, transform=transform)\n",
    "testloader = torch.utils.data.DataLoader(\n",
    "    testset, batch_size=1000, shuffle=False, num_workers=1)"
   ]
  },
  {
   "cell_type": "markdown",
   "id": "24987267-581e-4379-80ce-799e947be61b",
   "metadata": {
    "tags": []
   },
   "source": [
    "### Some introductions of the MNIST dataset\n",
    "1. Some quantitative descriptions of the whole dataset \\\n",
    "There are 60000 images in the training set and 10000 images in the test set, the size of single image is (28, 28)."
   ]
  },
  {
   "cell_type": "code",
   "execution_count": 2,
   "id": "652653b0-3d33-48db-ab60-e8d17d982e62",
   "metadata": {},
   "outputs": [
    {
     "name": "stdout",
     "output_type": "stream",
     "text": [
      "torch.Size([60000, 28, 28]) torch.Size([60000])\n",
      "torch.Size([10000, 28, 28]) torch.Size([10000])\n"
     ]
    }
   ],
   "source": [
    "print(trainset.data.shape, trainset.targets.shape)\n",
    "print(testset.data.shape, testset.targets.shape)"
   ]
  },
  {
   "cell_type": "markdown",
   "id": "769d748f-89b1-4997-8b21-7c2540e54dbe",
   "metadata": {
    "tags": []
   },
   "source": [
    "2. Some quantitative descriptions of a single image \\\n",
    "The raw data is taken value in \\[0, 255\\] using integer format. \\\n",
    "For example, you can print the first data in trainset to verify. \\\n",
    "We can also access the data by **dataloader**, and usually take this way. \\\n",
    "However, the data obtained in this way are transformed by specified transformations, and the range of value will also change. \\\n",
    "In this homework, how these transformations works is not important."
   ]
  },
  {
   "cell_type": "code",
   "execution_count": 3,
   "id": "3859c32e-f6f9-4c8f-8c7d-f91b426084dc",
   "metadata": {},
   "outputs": [
    {
     "name": "stdout",
     "output_type": "stream",
     "text": [
      "torch.Size([28, 28])\n",
      "tensor([[  0,   0,   0,   0,   0,   0,   0,   0,   0,   0,   0,   0,   0,   0,\n",
      "           0,   0,   0,   0,   0,   0,   0,   0,   0,   0,   0,   0,   0,   0],\n",
      "        [  0,   0,   0,   0,   0,   0,   0,   0,   0,   0,   0,   0,   0,   0,\n",
      "           0,   0,   0,   0,   0,   0,   0,   0,   0,   0,   0,   0,   0,   0],\n",
      "        [  0,   0,   0,   0,   0,   0,   0,   0,   0,   0,   0,   0,   0,   0,\n",
      "           0,   0,   0,   0,   0,   0,   0,   0,   0,   0,   0,   0,   0,   0],\n",
      "        [  0,   0,   0,   0,   0,   0,   0,   0,   0,   0,   0,   0,   0,   0,\n",
      "           0,   0,   0,   0,   0,   0,   0,   0,   0,   0,   0,   0,   0,   0],\n",
      "        [  0,   0,   0,   0,   0,   0,   0,   0,   0,   0,   0,   0,   0,   0,\n",
      "           0,   0,   0,   0,   0,   0,   0,   0,   0,   0,   0,   0,   0,   0],\n",
      "        [  0,   0,   0,   0,   0,   0,   0,   0,   0,   0,   0,   0,   3,  18,\n",
      "          18,  18, 126, 136, 175,  26, 166, 255, 247, 127,   0,   0,   0,   0],\n",
      "        [  0,   0,   0,   0,   0,   0,   0,   0,  30,  36,  94, 154, 170, 253,\n",
      "         253, 253, 253, 253, 225, 172, 253, 242, 195,  64,   0,   0,   0,   0],\n",
      "        [  0,   0,   0,   0,   0,   0,   0,  49, 238, 253, 253, 253, 253, 253,\n",
      "         253, 253, 253, 251,  93,  82,  82,  56,  39,   0,   0,   0,   0,   0],\n",
      "        [  0,   0,   0,   0,   0,   0,   0,  18, 219, 253, 253, 253, 253, 253,\n",
      "         198, 182, 247, 241,   0,   0,   0,   0,   0,   0,   0,   0,   0,   0],\n",
      "        [  0,   0,   0,   0,   0,   0,   0,   0,  80, 156, 107, 253, 253, 205,\n",
      "          11,   0,  43, 154,   0,   0,   0,   0,   0,   0,   0,   0,   0,   0],\n",
      "        [  0,   0,   0,   0,   0,   0,   0,   0,   0,  14,   1, 154, 253,  90,\n",
      "           0,   0,   0,   0,   0,   0,   0,   0,   0,   0,   0,   0,   0,   0],\n",
      "        [  0,   0,   0,   0,   0,   0,   0,   0,   0,   0,   0, 139, 253, 190,\n",
      "           2,   0,   0,   0,   0,   0,   0,   0,   0,   0,   0,   0,   0,   0],\n",
      "        [  0,   0,   0,   0,   0,   0,   0,   0,   0,   0,   0,  11, 190, 253,\n",
      "          70,   0,   0,   0,   0,   0,   0,   0,   0,   0,   0,   0,   0,   0],\n",
      "        [  0,   0,   0,   0,   0,   0,   0,   0,   0,   0,   0,   0,  35, 241,\n",
      "         225, 160, 108,   1,   0,   0,   0,   0,   0,   0,   0,   0,   0,   0],\n",
      "        [  0,   0,   0,   0,   0,   0,   0,   0,   0,   0,   0,   0,   0,  81,\n",
      "         240, 253, 253, 119,  25,   0,   0,   0,   0,   0,   0,   0,   0,   0],\n",
      "        [  0,   0,   0,   0,   0,   0,   0,   0,   0,   0,   0,   0,   0,   0,\n",
      "          45, 186, 253, 253, 150,  27,   0,   0,   0,   0,   0,   0,   0,   0],\n",
      "        [  0,   0,   0,   0,   0,   0,   0,   0,   0,   0,   0,   0,   0,   0,\n",
      "           0,  16,  93, 252, 253, 187,   0,   0,   0,   0,   0,   0,   0,   0],\n",
      "        [  0,   0,   0,   0,   0,   0,   0,   0,   0,   0,   0,   0,   0,   0,\n",
      "           0,   0,   0, 249, 253, 249,  64,   0,   0,   0,   0,   0,   0,   0],\n",
      "        [  0,   0,   0,   0,   0,   0,   0,   0,   0,   0,   0,   0,   0,   0,\n",
      "          46, 130, 183, 253, 253, 207,   2,   0,   0,   0,   0,   0,   0,   0],\n",
      "        [  0,   0,   0,   0,   0,   0,   0,   0,   0,   0,   0,   0,  39, 148,\n",
      "         229, 253, 253, 253, 250, 182,   0,   0,   0,   0,   0,   0,   0,   0],\n",
      "        [  0,   0,   0,   0,   0,   0,   0,   0,   0,   0,  24, 114, 221, 253,\n",
      "         253, 253, 253, 201,  78,   0,   0,   0,   0,   0,   0,   0,   0,   0],\n",
      "        [  0,   0,   0,   0,   0,   0,   0,   0,  23,  66, 213, 253, 253, 253,\n",
      "         253, 198,  81,   2,   0,   0,   0,   0,   0,   0,   0,   0,   0,   0],\n",
      "        [  0,   0,   0,   0,   0,   0,  18, 171, 219, 253, 253, 253, 253, 195,\n",
      "          80,   9,   0,   0,   0,   0,   0,   0,   0,   0,   0,   0,   0,   0],\n",
      "        [  0,   0,   0,   0,  55, 172, 226, 253, 253, 253, 253, 244, 133,  11,\n",
      "           0,   0,   0,   0,   0,   0,   0,   0,   0,   0,   0,   0,   0,   0],\n",
      "        [  0,   0,   0,   0, 136, 253, 253, 253, 212, 135, 132,  16,   0,   0,\n",
      "           0,   0,   0,   0,   0,   0,   0,   0,   0,   0,   0,   0,   0,   0],\n",
      "        [  0,   0,   0,   0,   0,   0,   0,   0,   0,   0,   0,   0,   0,   0,\n",
      "           0,   0,   0,   0,   0,   0,   0,   0,   0,   0,   0,   0,   0,   0],\n",
      "        [  0,   0,   0,   0,   0,   0,   0,   0,   0,   0,   0,   0,   0,   0,\n",
      "           0,   0,   0,   0,   0,   0,   0,   0,   0,   0,   0,   0,   0,   0],\n",
      "        [  0,   0,   0,   0,   0,   0,   0,   0,   0,   0,   0,   0,   0,   0,\n",
      "           0,   0,   0,   0,   0,   0,   0,   0,   0,   0,   0,   0,   0,   0]],\n",
      "       dtype=torch.uint8)\n",
      "torch.Size([128, 1, 28, 28]) torch.Size([1, 28, 28])\n"
     ]
    }
   ],
   "source": [
    "img1 = trainset.data[0]  # one image from trainset\n",
    "print(img1.shape)\n",
    "print(img1)\n",
    "\n",
    "imgs, labels = next(iter(trainloader))  # get a batch of data from trainloader randomly\n",
    "img2 = imgs[0]\n",
    "print(imgs.shape, img2.shape)\n",
    "# print(img2)"
   ]
  },
  {
   "cell_type": "markdown",
   "id": "bd4331cd-8c38-4929-a9d0-6a72762b9e6d",
   "metadata": {
    "tags": []
   },
   "source": [
    "3. Some intuitive illustrations of the dataset \\\n",
    "Here we illustrate the first five images in the trainset."
   ]
  },
  {
   "cell_type": "code",
   "execution_count": 4,
   "id": "9a801c8b-2601-4a5b-aaa4-b6249777c51c",
   "metadata": {},
   "outputs": [
    {
     "data": {
      "image/png": "[encoded data removed]",
      "text/plain": [
       "<Figure size 720x144 with 5 Axes>"
      ]
     },
     "metadata": {
      "needs_background": "light"
     },
     "output_type": "display_data"
    }
   ],
   "source": [
    "n = 5\n",
    "fig, ax = plt.subplots(1, n, figsize=(2*n, 2))\n",
    "for i in range(n):\n",
    "    img = trainset.data[i]\n",
    "    ax[i].imshow(img, cmap='gray')\n",
    "    ax[i].set_axis_off()\n",
    "plt.tight_layout()"
   ]
  },
  {
   "cell_type": "markdown",
   "id": "b49af229-c3c8-4fba-8e5f-c311da25544f",
   "metadata": {},
   "source": [
    "### Import"
   ]
  },
  {
   "cell_type": "code",
   "execution_count": 5,
   "id": "bed2fc47-cd6f-4a73-9a57-38bd07b798d3",
   "metadata": {},
   "outputs": [],
   "source": [
    "import torch\n",
    "import math\n",
    "import time"
   ]
  },
  {
   "cell_type": "markdown",
   "id": "583a8044-3967-4aba-9354-2c2b3baa7d5a",
   "metadata": {},
   "source": [
    "### Define Layers"
   ]
  },
  {
   "cell_type": "code",
   "execution_count": 6,
   "id": "7426c72a-9801-4bfe-bc9d-6ce95e4a14c7",
   "metadata": {
    "tags": []
   },
   "outputs": [],
   "source": [
    "class Layer(object):\n",
    "    def __init__(self):\n",
    "        self._saved_tensor = None\n",
    "\n",
    "    def forward(self, input):\n",
    "        pass\n",
    "\n",
    "    def backward(self, grad_output):\n",
    "        pass\n",
    "\n",
    "    def _saved_for_backward(self, tensor):\n",
    "        '''The intermediate results computed during forward stage\n",
    "        can be saved and reused for backward, for saving computation'''\n",
    "\n",
    "        self._saved_tensor = tensor\n",
    "\n",
    "    def parameters(self):\n",
    "        return []\n",
    "\n",
    "\n",
    "class ReLU(Layer):\n",
    "    def __init__(self):\n",
    "        super(ReLU, self).__init__()\n",
    "\n",
    "    def forward(self, input):\n",
    "        # TODO: implement this function, return the output\n",
    "        self._saved_for_backward(input)\n",
    "        return torch.clamp(input, min=0)\n",
    "        pass\n",
    "\n",
    "    def backward(self, grad_output):\n",
    "        # TODO: implement this function, return the gradient w.r.t. input\n",
    "        relu_mask = (self._saved_tensor >= 0)\n",
    "        grad_input = grad_output * relu_mask\n",
    "        return grad_input\n",
    "        pass\n",
    "\n",
    "\n",
    "class Sigmoid(Layer):\n",
    "    def __init__(self):\n",
    "        super(Sigmoid, self).__init__()\n",
    "\n",
    "    def forward(self, input):\n",
    "        # TODO, implement this function, return the output\n",
    "        output = 1 / (1+torch.exp(-input))\n",
    "        self._saved_for_backward(output)\n",
    "        return output\n",
    "        pass\n",
    "\n",
    "    def backward(self, grad_output):\n",
    "        # TODO, implement this function, return the gradient w.r.t. input\n",
    "        output = self._saved_tensor\n",
    "        return grad_output * output * (1-output)\n",
    "        pass\n",
    "\n",
    "\n",
    "class Linear(Layer):\n",
    "    def __init__(self, in_features, out_features):\n",
    "        super(Linear, self).__init__()\n",
    "        self.in_features = in_features\n",
    "        self.out_features = out_features\n",
    "        # initialization\n",
    "        bound = 1 / math.sqrt(in_features)\n",
    "        self.weight = torch.empty(out_features, in_features)\n",
    "        self.weight.uniform_(-bound, bound)\n",
    "        self.bias = torch.empty(out_features)\n",
    "        self.bias.uniform_(-bound, bound)\n",
    "\n",
    "    def forward(self, input):\n",
    "        # TODO: implement this function, return the output\n",
    "        self._saved_for_backward(input)\n",
    "        return input @ self.weight.t() + self.bias\n",
    "        pass\n",
    "\n",
    "    def backward(self, grad_output):\n",
    "        # 1. return the gradient w.r.t. input\n",
    "        grad_input = grad_output.matmul(self.weight)\n",
    "        # 2. store the gradient w.r.t. parameters in `weight.grad` and `bias.grad`\n",
    "        # batch_size = grad_output.shape[0]\n",
    "        self.weight.grad = grad_output.t() @ self._saved_tensor\n",
    "        self.bias.grad = torch.einsum('i...->...', grad_output)\n",
    "        # TODO: complete this function\n",
    "        return grad_input\n",
    "\n",
    "    def parameters(self):\n",
    "        return [self.weight, self.bias]\n"
   ]
  },
  {
   "cell_type": "markdown",
   "id": "195dff5a-77e6-4310-92d0-2729f17af531",
   "metadata": {},
   "source": [
    "### Define Loss Function"
   ]
  },
  {
   "cell_type": "code",
   "execution_count": 7,
   "id": "aae80c50-3ecc-4439-8a8c-de944015c49f",
   "metadata": {},
   "outputs": [],
   "source": [
    "class MSELoss(object):\n",
    "    def forward(self, input, target):\n",
    "        # TODO: implement this function, return the scalar output\n",
    "        return torch.mean((input-target)**2)\n",
    "        pass\n",
    "\n",
    "    def backward(self, input, target):\n",
    "        # TODO: implement this function, return the gradient w.r.t. input\n",
    "        dx = 2 * (input-target) / torch.numel(input)\n",
    "        return dx\n",
    "        pass\n",
    "\n",
    "\n",
    "class BCELoss(object):\n",
    "    def forward(self, input, target):\n",
    "        # TODO: implement this function, return the scalar output\n",
    "        return torch.mean(-(torch.log(input) * target + torch.log(1-input) * (1-target)))\n",
    "        pass\n",
    "\n",
    "    def backward(self, input, target):\n",
    "        # TODO: implement this function, return the gradient w.r.t. input\n",
    "        return (input-target) / target.size(dim=0)\n",
    "        pass\n",
    "\n",
    "\n",
    "class CrossEntropyLoss(object):\n",
    "    def forward(self, input, target):\n",
    "        # TODO: implement this function, return the scalar output\n",
    "        yhat = input.exp() / input.exp().sum(dim=1, keepdim=True)\n",
    "        return - torch.log(yhat.gather(1, target.view(-1, 1))).mean()\n",
    "        pass\n",
    "\n",
    "    def backward(self, input, target):\n",
    "        # TODO: implement this function, return the gradient w.r.t. input\n",
    "        dim_target = target.size(dim=0)\n",
    "        gt = torch.zeros(dim_target, input.size(dim=1)).scatter(1, target.view(dim_target,1),1)\n",
    "        yhat = input.exp() / input.exp().sum(dim=1, keepdim=True)\n",
    "        return (yhat-gt) / dim_target\n",
    "        pass\n"
   ]
  },
  {
   "cell_type": "markdown",
   "id": "979a2581-97ad-4f4d-9623-1f1299b08eb6",
   "metadata": {},
   "source": [
    "### Define Model"
   ]
  },
  {
   "cell_type": "code",
   "execution_count": 8,
   "id": "13fb41a4-af02-448c-89e0-c5d6c032f68b",
   "metadata": {},
   "outputs": [],
   "source": [
    "class Sequential(object):\n",
    "    def __init__(self):\n",
    "        self.layers = []\n",
    "        self.num_layers = 0\n",
    "\n",
    "    def append(self, layer):\n",
    "        self.layers.append(layer)\n",
    "        self.num_layers += 1\n",
    "\n",
    "    def forward(self, x):\n",
    "        out = x\n",
    "        for i in range(self.num_layers):\n",
    "            out = self.layers[i].forward(out)\n",
    "        return out\n",
    "\n",
    "    def backward(self, grad_output):\n",
    "        grad_input = grad_output\n",
    "        for i in range(self.num_layers - 1, -1, -1):\n",
    "            grad_input = self.layers[i].backward(grad_input)\n",
    "\n",
    "    def parameters(self):\n",
    "        parameters = []\n",
    "        for i in range(self.num_layers):\n",
    "            parameters += self.layers[i].parameters()\n",
    "        return parameters\n",
    "\n",
    "\n",
    "class LogisticRegression(Sequential):\n",
    "    def __init__(self, in_features):\n",
    "        super(LogisticRegression, self).__init__()\n",
    "        # TODO: construct the logistic regression function\n",
    "        lr = Linear(in_features, 1)\n",
    "        s= Sigmoid()\n",
    "        self.append(lr)\n",
    "        self.append(s)\n",
    "        pass\n",
    "\n",
    "\n",
    "class TwoLayerNet(Sequential):\n",
    "    def __init__(self, input_dim, num_classes, hidden_dims) -> None:\n",
    "        super(TwoLayerNet, self).__init__()\n",
    "        \n",
    "        # TODO: construct a neural network with one hidden layer, using ReLU activation\n",
    "        lr1 = Linear(input_dim, hidden_dims)\n",
    "        s1 = ReLU()\n",
    "        lr2 = Linear(hidden_dims, num_classes)\n",
    "        s2 = ReLU()\n",
    "        \n",
    "        self.append(lr1)\n",
    "        self.append(s1)\n",
    "        self.append(lr2)\n",
    "        self.append(s2)\n",
    "        pass\n"
   ]
  },
  {
   "cell_type": "markdown",
   "id": "f07065b6-df3f-4952-b269-311fc5d0de57",
   "metadata": {
    "tags": []
   },
   "source": [
    "### Verification\n",
    "We use the tools in **autograd** and **torch.nn** to give a correctness check for the manual implementation. \\\n",
    "Afterwards, we will use these 'tools' in network training directly. \\\n",
    "Here we give a example for CrossEntropyLoss, and you can modify the **input and target** to check other loss functions. \\\n",
    "Next, with the help of loss function, you can check the correctess of layers(Linear, ReLU, Sigmoid)."
   ]
  },
  {
   "cell_type": "code",
   "execution_count": 9,
   "id": "73c184b5-d31e-4003-a3bd-b6a05d098857",
   "metadata": {},
   "outputs": [
    {
     "name": "stdout",
     "output_type": "stream",
     "text": [
      "CrossEntropyLoss:\n",
      "Forward Correct\n",
      "Backward Correct\n",
      "MSELoss:\n",
      "Forward Correct\n",
      "Backward Correct\n",
      "BCELoss:\n",
      "Forward Correct\n",
      "Backward Correct\n",
      "Sigmoid:\n",
      "Forward Correct\n",
      "Backward Correct\n",
      "ReLU:\n",
      "Forward Correct\n",
      "Backward Correct\n"
     ]
    }
   ],
   "source": [
    "import torch.nn as nn\n",
    "\n",
    "\n",
    "def equal(tensor1, tensor2):\n",
    "    diff = (tensor1 - tensor2).abs().max()\n",
    "    return diff < 1e-5\n",
    "\n",
    "\n",
    "def correctness_test_for_cross_entropy_loss():\n",
    "    loss_standard = nn.CrossEntropyLoss()\n",
    "    loss_ours = CrossEntropyLoss()\n",
    "\n",
    "    # input and target\n",
    "    input = torch.randn(3, 5, requires_grad=True)\n",
    "    target = torch.empty(3, dtype=torch.long).random_(5)\n",
    "\n",
    "    # autograd computation\n",
    "    output_standard = loss_standard(input, target)\n",
    "    output_standard.backward()\n",
    "    grad_standard = input.grad.clone()\n",
    "\n",
    "    # our manual computation\n",
    "    with torch.no_grad():\n",
    "        output_ours = loss_ours.forward(input, target)\n",
    "        grad_ours = loss_ours.backward(input, target)\n",
    "\n",
    "    print(\"CrossEntropyLoss:\")\n",
    "    print(\"Forward Correct\") if equal(output_ours, output_standard) else print(\"Forward Wrong\")\n",
    "    print(\"Backward Correct\") if equal(grad_ours, grad_standard) else print(\"Backward Wrong\")\n",
    "\n",
    "\n",
    "correctness_test_for_cross_entropy_loss()\n",
    "\n",
    "\n",
    "# You can use nn.MSELoss, nn.BCELoss, nn.Linear, nn.Sigmoid, nn.ReLU to do left correctness check\n",
    "def correctness_test_for_mse_loss():\n",
    "    loss_standard = nn.MSELoss()\n",
    "    loss_ours = MSELoss()\n",
    "\n",
    "    # input and target\n",
    "    input = torch.randn(3, 5, requires_grad=True)\n",
    "    target = torch.randn(3, 5)\n",
    "\n",
    "    # autograd computation\n",
    "    output_standard = loss_standard(input, target)\n",
    "    output_standard.backward()\n",
    "    grad_standard = input.grad.clone()\n",
    "\n",
    "    # our manual computation\n",
    "    with torch.no_grad():\n",
    "        output_ours = loss_ours.forward(input, target)\n",
    "        grad_ours = loss_ours.backward(input, target)\n",
    "\n",
    "    print(\"MSELoss:\")\n",
    "    print(\"Forward Correct\") if equal(output_ours, output_standard) else print(\"Forward Wrong\")\n",
    "    print(\"Backward Correct\") if equal(grad_ours, grad_standard) else print(\"Backward Wrong\") \n",
    "\n",
    "\n",
    "correctness_test_for_mse_loss()\n",
    "\n",
    "\n",
    "def correctness_test_for_bce_loss():\n",
    "    loss_standard = nn.BCELoss()\n",
    "    loss_ours = BCELoss()\n",
    "\n",
    "    # input and target\n",
    "    s = nn.Sigmoid()\n",
    "    input = torch.randn(3, requires_grad=True)\n",
    "    target = torch.empty(3).random_(2)\n",
    "\n",
    "    # autograd computation\n",
    "    output_standard = loss_standard(s(input), target)\n",
    "    output_standard.backward()\n",
    "    grad_standard = input.grad.clone()\n",
    "\n",
    "    # our manual computation\n",
    "    with torch.no_grad():\n",
    "        output_ours = loss_ours.forward(s(input), target)\n",
    "        grad_ours = loss_ours.backward(s(input), target)\n",
    "\n",
    "    print(\"BCELoss:\")\n",
    "    print(\"Forward Correct\") if equal(output_ours, output_standard) else print(\"Forward Wrong\")\n",
    "    print(\"Backward Correct\") if equal(grad_ours, grad_standard) else print(\"Backward Wrong\")\n",
    "\n",
    "\n",
    "correctness_test_for_bce_loss()\n",
    "\n",
    "\n",
    "def correctness_test_for_sigmoid():\n",
    "    sigmoid_standard = nn.Sigmoid()\n",
    "    sigmoid_ours = Sigmoid()\n",
    "\n",
    "    input = torch.randn(5, requires_grad=True)\n",
    "\n",
    "    # autograd computation\n",
    "    output_standard = sigmoid_standard(input)\n",
    "    output_standard.backward(torch.ones_like(input), retain_graph=True)\n",
    "    grad_standard = input.grad.clone()\n",
    "\n",
    "    # our manual computation\n",
    "    with torch.no_grad():\n",
    "        output_ours = sigmoid_ours.forward(input)\n",
    "        grad_ours = sigmoid_ours.backward(torch.ones_like(input))\n",
    "\n",
    "    print(\"Sigmoid:\")\n",
    "    print(\"Forward Correct\") if equal(output_ours, output_standard) else print(\"Forward Wrong\")\n",
    "    print(\"Backward Correct\") if equal(grad_ours, grad_standard) else print(\"Backward Wrong\")\n",
    "\n",
    "\n",
    "correctness_test_for_sigmoid()\n",
    "\n",
    "\n",
    "def correctness_test_for_relu():\n",
    "    relu_standard = nn.ReLU()\n",
    "    relu_ours = ReLU()\n",
    "\n",
    "    input = torch.randn(5, 2, requires_grad=True)\n",
    "\n",
    "    # autograd computation\n",
    "    output_standard = relu_standard(input)\n",
    "    output_standard.backward(torch.ones_like(input), retain_graph=True)\n",
    "    grad_standard = input.grad.clone()\n",
    "\n",
    "    # our manual computation\n",
    "    with torch.no_grad():\n",
    "        output_ours = relu_ours.forward(input)\n",
    "        grad_ours = relu_ours.backward(torch.ones_like(input))\n",
    "\n",
    "    print(\"ReLU:\")\n",
    "    print(\"Forward Correct\") if equal(output_ours, output_standard) else print(\"Forward Wrong\")\n",
    "    print(\"Backward Correct\") if equal(grad_ours, grad_standard) else print(\"Backward Wrong\")\n",
    "\n",
    "\n",
    "correctness_test_for_relu()\n"
   ]
  },
  {
   "cell_type": "markdown",
   "id": "55e0309f-2957-4730-b292-d663a5a862d5",
   "metadata": {},
   "source": [
    "### Define Optimizer"
   ]
  },
  {
   "cell_type": "code",
   "execution_count": 10,
   "id": "9ad9e55a-9cd2-455b-85eb-0eb148b1601c",
   "metadata": {},
   "outputs": [],
   "source": [
    "class SGD(object):\n",
    "    def __init__(self, parameters, lr):\n",
    "        assert type(parameters) is list\n",
    "        # Note: In the built-in optimizers like torch.optim.SGD in pytorch, the type of the fisrt parameter 'parameters' is 'generator' rather than 'list'.\n",
    "        # For simplification, we use the 'list' type for 'parameters' here and you can just care about how the optimizer works.\n",
    "        self.parameters = parameters\n",
    "        self.lr = lr\n",
    "\n",
    "    def zero_grad(self):\n",
    "        for p in self.parameters:\n",
    "            p.grad = torch.zeros_like(p)\n",
    "\n",
    "    @torch.no_grad()\n",
    "    def step(self):\n",
    "        for p in self.parameters:\n",
    "            # TODO, compute the update vector in gradient descent\n",
    "            upd = lr * p.grad\n",
    "            p.data -= upd\n"
   ]
  },
  {
   "cell_type": "markdown",
   "id": "63e7cfc0-69f4-4a39-9d87-759a7c2d8558",
   "metadata": {
    "tags": []
   },
   "source": [
    "## Step 1: Logistic Regression"
   ]
  },
  {
   "cell_type": "markdown",
   "id": "a0763046-3f81-42e3-9813-9245f451c7e7",
   "metadata": {
    "tags": []
   },
   "source": [
    "### Trainer"
   ]
  },
  {
   "cell_type": "code",
   "execution_count": 11,
   "id": "b7fe642a-0bc0-4a55-b9fe-0d39f741844f",
   "metadata": {},
   "outputs": [],
   "source": [
    "# utils\n",
    "def binarize_label(labels, interested):\n",
    "    return (labels == interested).float()\n",
    "\n",
    "\n",
    "# Training for Logstic Regression\n",
    "def train(model, criterion, train_loader, optimizer, epoch, logging_steps):\n",
    "\n",
    "    loss_list = []\n",
    "    acc_list = []\n",
    "    for batch_idx, (inputs, targets) in enumerate(train_loader):\n",
    "\n",
    "        # 0. data preprocessing\n",
    "        inputs = torch.flatten(inputs, start_dim=1)\n",
    "        targets = binarize_label(targets, interested=interested_label)\n",
    "        targets.unsqueeze_(dim=1)\n",
    "\n",
    "        # 1. reset gradient to zero\n",
    "        optimizer.zero_grad()\n",
    "\n",
    "        # 2. forward computation\n",
    "        outputs = model.forward(inputs)\n",
    "        loss = criterion.forward(outputs, targets)\n",
    "\n",
    "        # 3. backward computation\n",
    "        # compute gradient w.r.t. output\n",
    "        grad_output = criterion.backward(outputs, targets)\n",
    "        # compute gradient w.r.t. parameters\n",
    "        model.backward(grad_output)\n",
    "\n",
    "        # 4. update parameters\n",
    "        optimizer.step()\n",
    "\n",
    "        # log\n",
    "        predicted = (outputs >= 0.5).float()\n",
    "        total = targets.size(0)\n",
    "        correct = predicted.eq(targets).sum().item()\n",
    "        acc = correct / total\n",
    "        loss_list.append(loss.item())\n",
    "        acc_list.append(acc)\n",
    "\n",
    "        if batch_idx % logging_steps == 0:\n",
    "            print('Train Epoch: {} [{}/{}]\\tLoss: {:.3f}\\tAcc: {:.3f}'.format(\n",
    "                epoch, batch_idx * len(inputs), len(train_loader.dataset),\n",
    "                loss_list[-1], acc_list[-1]))\n",
    "\n",
    "    return loss_list, acc_list\n",
    "\n",
    "\n",
    "# Validation for Logstic Regression\n",
    "def test(model, criterion, test_loader):\n",
    "    test_loss = 0\n",
    "    correct = 0\n",
    "    total = 0\n",
    "    num_batches = 0\n",
    "    for inputs, targets in test_loader:\n",
    "        inputs = torch.flatten(inputs, start_dim=1)\n",
    "        targets = binarize_label(targets, interested=interested_label)\n",
    "        targets.unsqueeze_(dim=1)\n",
    "\n",
    "        outputs = model.forward(inputs)\n",
    "        loss = criterion.forward(outputs, targets)\n",
    "\n",
    "        # log\n",
    "        test_loss += loss.item()\n",
    "        predicted = (outputs >= 0.5).float()\n",
    "        total += targets.size(0)\n",
    "        correct += predicted.eq(targets).sum().item()\n",
    "        num_batches += 1\n",
    "\n",
    "    test_loss /= num_batches\n",
    "    test_acc = correct / total\n",
    "    return test_loss, test_acc\n"
   ]
  },
  {
   "cell_type": "markdown",
   "id": "f7affa9a-c9c2-418f-be02-f9443226fe03",
   "metadata": {},
   "source": [
    "### Set Hyperparameters"
   ]
  },
  {
   "cell_type": "code",
   "execution_count": 12,
   "id": "d591a703-a20d-4575-907e-8431c6eab867",
   "metadata": {},
   "outputs": [],
   "source": [
    "num_epochs = 15  # training epochs\n",
    "lr = 0.01  # learning rate\n",
    "logging_steps = 64  # logging batchsize\n",
    "best_acc = 0.0  # best accuracy\n",
    "\n",
    "interested_label = 3"
   ]
  },
  {
   "cell_type": "markdown",
   "id": "654a427f-a2d4-4c41-8dc1-17621cd882c8",
   "metadata": {},
   "source": [
    "### Model, Loss Function and Optimizer"
   ]
  },
  {
   "cell_type": "code",
   "execution_count": 13,
   "id": "3c6f3b26-490e-4ef4-a80e-dbf48c555905",
   "metadata": {},
   "outputs": [],
   "source": [
    "model = LogisticRegression(in_features=784)\n",
    "# criterion = BCELoss()\n",
    "criterion = MSELoss()\n",
    "optimizer = SGD(model.parameters(), lr=lr)"
   ]
  },
  {
   "cell_type": "markdown",
   "id": "c13f9777-bcf3-455b-a57c-0e6d7b01e818",
   "metadata": {},
   "source": [
    "### Main Loop"
   ]
  },
  {
   "cell_type": "code",
   "execution_count": 14,
   "id": "0be2db62-71d6-44d7-9580-63acd6b2ca26",
   "metadata": {
    "tags": []
   },
   "outputs": [
    {
     "name": "stdout",
     "output_type": "stream",
     "text": [
      "Step 1: Logistic Regression\n",
      "Train Epoch: 0 [0/60000]\tLoss: 0.223\tAcc: 0.602\n",
      "Train Epoch: 0 [8192/60000]\tLoss: 0.043\tAcc: 0.953\n",
      "Train Epoch: 0 [16384/60000]\tLoss: 0.074\tAcc: 0.906\n",
      "Train Epoch: 0 [24576/60000]\tLoss: 0.045\tAcc: 0.945\n",
      "Train Epoch: 0 [32768/60000]\tLoss: 0.043\tAcc: 0.953\n",
      "Train Epoch: 0 [40960/60000]\tLoss: 0.036\tAcc: 0.977\n",
      "Train Epoch: 0 [49152/60000]\tLoss: 0.022\tAcc: 0.984\n",
      "Train Epoch: 0 [57344/60000]\tLoss: 0.021\tAcc: 0.984\n",
      "Epoch 0 | Total Time: 24s, Test Loss: 0.031, Test Acc: 0.966\n",
      "Train Epoch: 1 [0/60000]\tLoss: 0.029\tAcc: 0.969\n",
      "Train Epoch: 1 [8192/60000]\tLoss: 0.020\tAcc: 0.984\n",
      "Train Epoch: 1 [16384/60000]\tLoss: 0.042\tAcc: 0.945\n",
      "Train Epoch: 1 [24576/60000]\tLoss: 0.022\tAcc: 0.977\n",
      "Train Epoch: 1 [32768/60000]\tLoss: 0.012\tAcc: 0.984\n",
      "Train Epoch: 1 [40960/60000]\tLoss: 0.024\tAcc: 0.969\n",
      "Train Epoch: 1 [49152/60000]\tLoss: 0.035\tAcc: 0.961\n",
      "Train Epoch: 1 [57344/60000]\tLoss: 0.029\tAcc: 0.977\n",
      "Epoch 1 | Total Time: 23s, Test Loss: 0.026, Test Acc: 0.972\n",
      "Train Epoch: 2 [0/60000]\tLoss: 0.024\tAcc: 0.984\n",
      "Train Epoch: 2 [8192/60000]\tLoss: 0.007\tAcc: 1.000\n",
      "Train Epoch: 2 [16384/60000]\tLoss: 0.055\tAcc: 0.938\n",
      "Train Epoch: 2 [24576/60000]\tLoss: 0.014\tAcc: 0.992\n",
      "Train Epoch: 2 [32768/60000]\tLoss: 0.027\tAcc: 0.953\n",
      "Train Epoch: 2 [40960/60000]\tLoss: 0.029\tAcc: 0.953\n",
      "Train Epoch: 2 [49152/60000]\tLoss: 0.018\tAcc: 0.977\n",
      "Train Epoch: 2 [57344/60000]\tLoss: 0.033\tAcc: 0.969\n",
      "Epoch 2 | Total Time: 25s, Test Loss: 0.024, Test Acc: 0.974\n",
      "Train Epoch: 3 [0/60000]\tLoss: 0.046\tAcc: 0.945\n",
      "Train Epoch: 3 [8192/60000]\tLoss: 0.019\tAcc: 0.977\n",
      "Train Epoch: 3 [16384/60000]\tLoss: 0.037\tAcc: 0.953\n",
      "Train Epoch: 3 [24576/60000]\tLoss: 0.021\tAcc: 0.969\n",
      "Train Epoch: 3 [32768/60000]\tLoss: 0.017\tAcc: 0.977\n",
      "Train Epoch: 3 [40960/60000]\tLoss: 0.025\tAcc: 0.977\n",
      "Train Epoch: 3 [49152/60000]\tLoss: 0.028\tAcc: 0.938\n",
      "Train Epoch: 3 [57344/60000]\tLoss: 0.025\tAcc: 0.961\n",
      "Epoch 3 | Total Time: 23s, Test Loss: 0.023, Test Acc: 0.974\n",
      "Train Epoch: 4 [0/60000]\tLoss: 0.018\tAcc: 0.984\n",
      "Train Epoch: 4 [8192/60000]\tLoss: 0.059\tAcc: 0.930\n",
      "Train Epoch: 4 [16384/60000]\tLoss: 0.031\tAcc: 0.961\n",
      "Train Epoch: 4 [24576/60000]\tLoss: 0.029\tAcc: 0.961\n",
      "Train Epoch: 4 [32768/60000]\tLoss: 0.017\tAcc: 0.984\n",
      "Train Epoch: 4 [40960/60000]\tLoss: 0.018\tAcc: 0.977\n",
      "Train Epoch: 4 [49152/60000]\tLoss: 0.016\tAcc: 0.977\n",
      "Train Epoch: 4 [57344/60000]\tLoss: 0.013\tAcc: 0.984\n",
      "Epoch 4 | Total Time: 23s, Test Loss: 0.022, Test Acc: 0.975\n",
      "Train Epoch: 5 [0/60000]\tLoss: 0.014\tAcc: 0.984\n",
      "Train Epoch: 5 [8192/60000]\tLoss: 0.028\tAcc: 0.961\n",
      "Train Epoch: 5 [16384/60000]\tLoss: 0.032\tAcc: 0.961\n",
      "Train Epoch: 5 [24576/60000]\tLoss: 0.026\tAcc: 0.969\n",
      "Train Epoch: 5 [32768/60000]\tLoss: 0.019\tAcc: 0.977\n",
      "Train Epoch: 5 [40960/60000]\tLoss: 0.018\tAcc: 0.984\n",
      "Train Epoch: 5 [49152/60000]\tLoss: 0.023\tAcc: 0.977\n",
      "Train Epoch: 5 [57344/60000]\tLoss: 0.005\tAcc: 1.000\n",
      "Epoch 5 | Total Time: 24s, Test Loss: 0.021, Test Acc: 0.976\n",
      "Train Epoch: 6 [0/60000]\tLoss: 0.024\tAcc: 0.984\n",
      "Train Epoch: 6 [8192/60000]\tLoss: 0.022\tAcc: 0.977\n",
      "Train Epoch: 6 [16384/60000]\tLoss: 0.024\tAcc: 0.969\n",
      "Train Epoch: 6 [24576/60000]\tLoss: 0.018\tAcc: 0.984\n",
      "Train Epoch: 6 [32768/60000]\tLoss: 0.025\tAcc: 0.969\n",
      "Train Epoch: 6 [40960/60000]\tLoss: 0.032\tAcc: 0.953\n",
      "Train Epoch: 6 [49152/60000]\tLoss: 0.023\tAcc: 0.961\n",
      "Train Epoch: 6 [57344/60000]\tLoss: 0.014\tAcc: 0.992\n",
      "Epoch 6 | Total Time: 23s, Test Loss: 0.021, Test Acc: 0.976\n",
      "Train Epoch: 7 [0/60000]\tLoss: 0.021\tAcc: 0.969\n",
      "Train Epoch: 7 [8192/60000]\tLoss: 0.006\tAcc: 1.000\n",
      "Train Epoch: 7 [16384/60000]\tLoss: 0.035\tAcc: 0.953\n",
      "Train Epoch: 7 [24576/60000]\tLoss: 0.019\tAcc: 0.984\n",
      "Train Epoch: 7 [32768/60000]\tLoss: 0.021\tAcc: 0.977\n",
      "Train Epoch: 7 [40960/60000]\tLoss: 0.024\tAcc: 0.977\n",
      "Train Epoch: 7 [49152/60000]\tLoss: 0.010\tAcc: 0.984\n",
      "Train Epoch: 7 [57344/60000]\tLoss: 0.035\tAcc: 0.945\n",
      "Epoch 7 | Total Time: 23s, Test Loss: 0.021, Test Acc: 0.977\n",
      "Train Epoch: 8 [0/60000]\tLoss: 0.030\tAcc: 0.953\n",
      "Train Epoch: 8 [8192/60000]\tLoss: 0.015\tAcc: 0.977\n",
      "Train Epoch: 8 [16384/60000]\tLoss: 0.018\tAcc: 0.977\n",
      "Train Epoch: 8 [24576/60000]\tLoss: 0.028\tAcc: 0.969\n",
      "Train Epoch: 8 [32768/60000]\tLoss: 0.021\tAcc: 0.977\n",
      "Train Epoch: 8 [40960/60000]\tLoss: 0.043\tAcc: 0.945\n",
      "Train Epoch: 8 [49152/60000]\tLoss: 0.030\tAcc: 0.969\n",
      "Train Epoch: 8 [57344/60000]\tLoss: 0.018\tAcc: 0.977\n",
      "Epoch 8 | Total Time: 24s, Test Loss: 0.020, Test Acc: 0.977\n",
      "Train Epoch: 9 [0/60000]\tLoss: 0.019\tAcc: 0.977\n",
      "Train Epoch: 9 [8192/60000]\tLoss: 0.022\tAcc: 0.977\n",
      "Train Epoch: 9 [16384/60000]\tLoss: 0.020\tAcc: 0.969\n",
      "Train Epoch: 9 [24576/60000]\tLoss: 0.024\tAcc: 0.953\n",
      "Train Epoch: 9 [32768/60000]\tLoss: 0.018\tAcc: 0.984\n",
      "Train Epoch: 9 [40960/60000]\tLoss: 0.019\tAcc: 0.977\n",
      "Train Epoch: 9 [49152/60000]\tLoss: 0.026\tAcc: 0.945\n",
      "Train Epoch: 9 [57344/60000]\tLoss: 0.016\tAcc: 0.984\n",
      "Epoch 9 | Total Time: 24s, Test Loss: 0.020, Test Acc: 0.977\n",
      "Train Epoch: 10 [0/60000]\tLoss: 0.016\tAcc: 0.984\n",
      "Train Epoch: 10 [8192/60000]\tLoss: 0.012\tAcc: 0.992\n",
      "Train Epoch: 10 [16384/60000]\tLoss: 0.037\tAcc: 0.953\n",
      "Train Epoch: 10 [24576/60000]\tLoss: 0.016\tAcc: 0.977\n",
      "Train Epoch: 10 [32768/60000]\tLoss: 0.029\tAcc: 0.969\n",
      "Train Epoch: 10 [40960/60000]\tLoss: 0.027\tAcc: 0.969\n",
      "Train Epoch: 10 [49152/60000]\tLoss: 0.027\tAcc: 0.961\n",
      "Train Epoch: 10 [57344/60000]\tLoss: 0.023\tAcc: 0.969\n",
      "Epoch 10 | Total Time: 24s, Test Loss: 0.020, Test Acc: 0.977\n",
      "Train Epoch: 11 [0/60000]\tLoss: 0.022\tAcc: 0.977\n",
      "Train Epoch: 11 [8192/60000]\tLoss: 0.036\tAcc: 0.945\n",
      "Train Epoch: 11 [16384/60000]\tLoss: 0.051\tAcc: 0.930\n",
      "Train Epoch: 11 [24576/60000]\tLoss: 0.013\tAcc: 0.984\n",
      "Train Epoch: 11 [32768/60000]\tLoss: 0.025\tAcc: 0.969\n",
      "Train Epoch: 11 [40960/60000]\tLoss: 0.037\tAcc: 0.953\n",
      "Train Epoch: 11 [49152/60000]\tLoss: 0.026\tAcc: 0.969\n",
      "Train Epoch: 11 [57344/60000]\tLoss: 0.023\tAcc: 0.977\n",
      "Epoch 11 | Total Time: 23s, Test Loss: 0.019, Test Acc: 0.977\n",
      "Train Epoch: 12 [0/60000]\tLoss: 0.005\tAcc: 1.000\n",
      "Train Epoch: 12 [8192/60000]\tLoss: 0.027\tAcc: 0.961\n",
      "Train Epoch: 12 [16384/60000]\tLoss: 0.016\tAcc: 0.969\n",
      "Train Epoch: 12 [24576/60000]\tLoss: 0.033\tAcc: 0.953\n",
      "Train Epoch: 12 [32768/60000]\tLoss: 0.027\tAcc: 0.969\n",
      "Train Epoch: 12 [40960/60000]\tLoss: 0.019\tAcc: 0.984\n",
      "Train Epoch: 12 [49152/60000]\tLoss: 0.022\tAcc: 0.961\n",
      "Train Epoch: 12 [57344/60000]\tLoss: 0.014\tAcc: 0.984\n",
      "Epoch 12 | Total Time: 23s, Test Loss: 0.019, Test Acc: 0.977\n",
      "Train Epoch: 13 [0/60000]\tLoss: 0.028\tAcc: 0.969\n",
      "Train Epoch: 13 [8192/60000]\tLoss: 0.029\tAcc: 0.969\n",
      "Train Epoch: 13 [16384/60000]\tLoss: 0.038\tAcc: 0.953\n",
      "Train Epoch: 13 [24576/60000]\tLoss: 0.031\tAcc: 0.969\n",
      "Train Epoch: 13 [32768/60000]\tLoss: 0.027\tAcc: 0.969\n",
      "Train Epoch: 13 [40960/60000]\tLoss: 0.005\tAcc: 1.000\n",
      "Train Epoch: 13 [49152/60000]\tLoss: 0.032\tAcc: 0.961\n",
      "Train Epoch: 13 [57344/60000]\tLoss: 0.027\tAcc: 0.969\n",
      "Epoch 13 | Total Time: 24s, Test Loss: 0.019, Test Acc: 0.977\n",
      "Train Epoch: 14 [0/60000]\tLoss: 0.023\tAcc: 0.969\n",
      "Train Epoch: 14 [8192/60000]\tLoss: 0.013\tAcc: 0.984\n",
      "Train Epoch: 14 [16384/60000]\tLoss: 0.045\tAcc: 0.945\n",
      "Train Epoch: 14 [24576/60000]\tLoss: 0.013\tAcc: 0.984\n",
      "Train Epoch: 14 [32768/60000]\tLoss: 0.026\tAcc: 0.961\n",
      "Train Epoch: 14 [40960/60000]\tLoss: 0.005\tAcc: 1.000\n",
      "Train Epoch: 14 [49152/60000]\tLoss: 0.017\tAcc: 0.977\n",
      "Train Epoch: 14 [57344/60000]\tLoss: 0.030\tAcc: 0.953\n",
      "Epoch 14 | Total Time: 23s, Test Loss: 0.019, Test Acc: 0.978\n",
      "Best Accuracy: 0.978\n"
     ]
    }
   ],
   "source": [
    "print(\"Step 1: Logistic Regression\")\n",
    "\n",
    "train_loss_list = []\n",
    "train_acc_list = []\n",
    "test_loss_list = []\n",
    "test_acc_list = []\n",
    "\n",
    "for epoch in range(num_epochs):\n",
    "    tic = time.time()\n",
    "    loss_list, acc_list = train(model, criterion, trainloader, optimizer, epoch, logging_steps)\n",
    "    test_loss, test_acc = test(model, criterion, testloader)\n",
    "    t = time.time() - tic\n",
    "\n",
    "    train_loss_list.append(torch.mean(torch.as_tensor(loss_list)))\n",
    "    train_acc_list.append(torch.mean(torch.as_tensor(acc_list)))\n",
    "    test_loss_list.append(test_loss)\n",
    "    test_acc_list.append(test_acc)\n",
    "\n",
    "    if test_acc > best_acc:\n",
    "        best_acc = test_acc\n",
    "    print(f\"Epoch {epoch} | Total Time: {t:.0f}s, Test Loss: {test_loss:.3f}, Test Acc: {test_acc:.3f}\")\n",
    "print(f\"Best Accuracy: {best_acc:.3f}\")\n"
   ]
  },
  {
   "cell_type": "code",
   "execution_count": 15,
   "id": "cf57fc90-c35e-4911-a8f5-e76e778ec281",
   "metadata": {
    "tags": []
   },
   "outputs": [
    {
     "data": {
      "image/png": "[encoded data removed]",
      "text/plain": [
       "<Figure size 900x600 with 1 Axes>"
      ]
     },
     "metadata": {
      "needs_background": "light"
     },
     "output_type": "display_data"
    }
   ],
   "source": [
    "# plot loss and accuracy\n",
    "epoch_list = range(num_epochs)\n",
    "plt.figure(dpi=150)\n",
    "l1 = plt.plot(epoch_list, train_loss_list, 'r-', label='Train Loss')\n",
    "l2 = plt.plot(epoch_list, test_loss_list, 'g-', label='Test Loss')\n",
    "plt.plot(epoch_list, train_loss_list, 'ro', epoch_list, test_loss_list, 'g^')\n",
    "plt.xlabel('Epoch')\n",
    "plt.ylabel('Loss')\n",
    "plt.legend()\n",
    "plt.show()"
   ]
  },
  {
   "cell_type": "code",
   "execution_count": 16,
   "id": "10ebc81b-8c5f-457d-9579-145377f1e923",
   "metadata": {},
   "outputs": [
    {
     "data": {
      "image/png": "[encoded data removed]",
      "text/plain": [
       "<Figure size 900x600 with 1 Axes>"
      ]
     },
     "metadata": {
      "needs_background": "light"
     },
     "output_type": "display_data"
    }
   ],
   "source": [
    "plt.figure(dpi=150)\n",
    "l3 = plt.plot(epoch_list, train_acc_list, 'r-', label='Train Accuracy')\n",
    "l4 = plt.plot(epoch_list, test_acc_list, 'g-', label='Test Accuracy')\n",
    "plt.plot(epoch_list, train_acc_list, 'ro', epoch_list, test_acc_list, 'g^')\n",
    "plt.xlabel('Epoch')\n",
    "plt.ylabel('Accuracy')\n",
    "plt.legend()\n",
    "plt.show()"
   ]
  },
  {
   "cell_type": "markdown",
   "id": "eddf26f5-44c2-42c5-9a5c-6e3b5c7b3245",
   "metadata": {},
   "source": [
    "## Step 2: MLP Classification"
   ]
  },
  {
   "cell_type": "markdown",
   "id": "8de6a8a2-bdae-4933-9571-5ec4b2792b75",
   "metadata": {},
   "source": [
    "### Trainer"
   ]
  },
  {
   "cell_type": "code",
   "execution_count": 35,
   "id": "c992508c-36fb-4bb6-8964-43992af84eab",
   "metadata": {},
   "outputs": [],
   "source": [
    "# utils\n",
    "def onehot_encoding(targets, num_classes):\n",
    "    eye = torch.eye(num_classes)\n",
    "    onehot_targets = eye[targets]\n",
    "    return onehot_targets\n",
    "\n",
    "\n",
    "# Training for MLP Classification\n",
    "def train(model, criterion, train_loader, optimizer, epoch, logging_steps):\n",
    "\n",
    "    loss_list = []\n",
    "    acc_list = []\n",
    "    for batch_idx, (inputs, targets) in enumerate(train_loader):\n",
    "\n",
    "        # 0. data preprocessing\n",
    "        inputs = torch.flatten(inputs, start_dim=1)\n",
    "\n",
    "        # 1. reset gradient to zero\n",
    "        optimizer.zero_grad()\n",
    "\n",
    "        # 2. forward computation\n",
    "        outputs = model.forward(inputs)\n",
    "\n",
    "        loss = criterion.forward(outputs, targets)\n",
    "#         loss = criterion.forward(outputs, onehot_encoding(targets, 10))  # for MSELoss\n",
    "        \n",
    "        # 3. backward computation\n",
    "        # compute gradient w.r.t. output\n",
    "        grad_output = criterion.backward(outputs, targets)\n",
    "#         grad_output = criterion.backward(outputs, onehot_encoding(targets, 10))  # for MSELoss\n",
    "        \n",
    "        # compute gradient w.r.t. parameters\n",
    "        model.backward(grad_output)\n",
    "\n",
    "        # 4. update parameters\n",
    "        optimizer.step()\n",
    "\n",
    "        # log\n",
    "        _, predicted = outputs.max(1)\n",
    "        total = targets.size(0)\n",
    "        correct = predicted.eq(targets).sum().item()\n",
    "        acc = correct / total\n",
    "        loss_list.append(loss.item())\n",
    "        acc_list.append(acc)\n",
    "\n",
    "        if batch_idx % logging_steps == 0:\n",
    "            print('Train Epoch: {} [{}/{}]\\tLoss: {:.3f}\\tAcc: {:.3f}'.format(\n",
    "                epoch, batch_idx * len(inputs), len(train_loader.dataset),\n",
    "                loss_list[-1], acc_list[-1]))\n",
    "\n",
    "    return loss_list, acc_list\n",
    "\n",
    "\n",
    "# Validation for MLP Classification\n",
    "def test(model, criterion, test_loader):\n",
    "    test_loss = 0\n",
    "    correct = 0\n",
    "    total = 0\n",
    "    num_batches = 0\n",
    "    for inputs, targets in test_loader:\n",
    "        inputs = torch.flatten(inputs, start_dim=1)\n",
    "\n",
    "        outputs = model.forward(inputs)\n",
    "        loss = criterion.forward(outputs, targets)\n",
    "#         loss = criterion.forward(outputs, onehot_encoding(targets, 10))  # for MSELoss\n",
    "\n",
    "        # log\n",
    "        test_loss += loss.item()\n",
    "        _, predicted = outputs.max(1)\n",
    "        total += targets.size(0)\n",
    "        correct += predicted.eq(targets).sum().item()\n",
    "        num_batches += 1\n",
    "\n",
    "    test_loss /= num_batches\n",
    "    test_acc = correct / total\n",
    "    return test_loss, test_acc\n"
   ]
  },
  {
   "cell_type": "markdown",
   "id": "5e953a92-3f2d-4858-a1f8-298a5b6ac04d",
   "metadata": {},
   "source": [
    "### Set Hyperparameters"
   ]
  },
  {
   "cell_type": "code",
   "execution_count": 36,
   "id": "afe429f3-26ff-411a-8657-6b9d876a58b8",
   "metadata": {},
   "outputs": [],
   "source": [
    "num_epochs = 15  # training epochs\n",
    "lr = 0.01  # learning rate\n",
    "logging_steps = 100  # logging batchsize\n",
    "best_acc = 0.0  # best accuracy"
   ]
  },
  {
   "cell_type": "markdown",
   "id": "021d1106-e510-4772-9035-734376879fb9",
   "metadata": {},
   "source": [
    "### Model, Loss Function and Optimizer"
   ]
  },
  {
   "cell_type": "code",
   "execution_count": 37,
   "id": "9de9d70c-f5f6-4a8f-aa1d-312a5af47b4b",
   "metadata": {},
   "outputs": [],
   "source": [
    "model = TwoLayerNet(input_dim=784, num_classes=10, hidden_dims=300)\n",
    "criterion = CrossEntropyLoss()\n",
    "# criterion = MSELoss()\n",
    "optimizer = SGD(model.parameters(), lr=lr)"
   ]
  },
  {
   "cell_type": "markdown",
   "id": "e4b38d43-3772-4f6f-8e40-1ecfba2bc05f",
   "metadata": {
    "tags": []
   },
   "source": [
    "### Main Loop"
   ]
  },
  {
   "cell_type": "code",
   "execution_count": 38,
   "id": "87b074c3-dea7-495c-872a-77501585b275",
   "metadata": {
    "tags": []
   },
   "outputs": [
    {
     "name": "stdout",
     "output_type": "stream",
     "text": [
      "Step 2: MLP Classification\n",
      "Train Epoch: 0 [0/60000]\tLoss: 2.301\tAcc: 0.125\n",
      "Train Epoch: 0 [12800/60000]\tLoss: 1.112\tAcc: 0.789\n",
      "Train Epoch: 0 [25600/60000]\tLoss: 0.681\tAcc: 0.820\n",
      "Train Epoch: 0 [38400/60000]\tLoss: 0.499\tAcc: 0.867\n",
      "Train Epoch: 0 [51200/60000]\tLoss: 0.526\tAcc: 0.844\n",
      "Epoch 0 | Total Time: 13s, Test Loss: 0.396, Test Acc: 0.894\n",
      "Train Epoch: 1 [0/60000]\tLoss: 0.278\tAcc: 0.930\n",
      "Train Epoch: 1 [12800/60000]\tLoss: 0.443\tAcc: 0.914\n",
      "Train Epoch: 1 [25600/60000]\tLoss: 0.279\tAcc: 0.930\n",
      "Train Epoch: 1 [38400/60000]\tLoss: 0.370\tAcc: 0.867\n",
      "Train Epoch: 1 [51200/60000]\tLoss: 0.393\tAcc: 0.859\n",
      "Epoch 1 | Total Time: 13s, Test Loss: 0.311, Test Acc: 0.912\n",
      "Train Epoch: 2 [0/60000]\tLoss: 0.430\tAcc: 0.859\n",
      "Train Epoch: 2 [12800/60000]\tLoss: 0.283\tAcc: 0.914\n",
      "Train Epoch: 2 [25600/60000]\tLoss: 0.221\tAcc: 0.938\n",
      "Train Epoch: 2 [38400/60000]\tLoss: 0.370\tAcc: 0.883\n",
      "Train Epoch: 2 [51200/60000]\tLoss: 0.272\tAcc: 0.914\n",
      "Epoch 2 | Total Time: 14s, Test Loss: 0.276, Test Acc: 0.920\n",
      "Train Epoch: 3 [0/60000]\tLoss: 0.235\tAcc: 0.922\n",
      "Train Epoch: 3 [12800/60000]\tLoss: 0.326\tAcc: 0.891\n",
      "Train Epoch: 3 [25600/60000]\tLoss: 0.309\tAcc: 0.891\n",
      "Train Epoch: 3 [38400/60000]\tLoss: 0.255\tAcc: 0.922\n",
      "Train Epoch: 3 [51200/60000]\tLoss: 0.214\tAcc: 0.938\n",
      "Epoch 3 | Total Time: 13s, Test Loss: 0.253, Test Acc: 0.928\n",
      "Train Epoch: 4 [0/60000]\tLoss: 0.267\tAcc: 0.922\n",
      "Train Epoch: 4 [12800/60000]\tLoss: 0.193\tAcc: 0.961\n",
      "Train Epoch: 4 [25600/60000]\tLoss: 0.222\tAcc: 0.961\n",
      "Train Epoch: 4 [38400/60000]\tLoss: 0.185\tAcc: 0.945\n",
      "Train Epoch: 4 [51200/60000]\tLoss: 0.256\tAcc: 0.930\n",
      "Epoch 4 | Total Time: 14s, Test Loss: 0.231, Test Acc: 0.934\n",
      "Train Epoch: 5 [0/60000]\tLoss: 0.206\tAcc: 0.953\n",
      "Train Epoch: 5 [12800/60000]\tLoss: 0.260\tAcc: 0.922\n",
      "Train Epoch: 5 [25600/60000]\tLoss: 0.259\tAcc: 0.953\n",
      "Train Epoch: 5 [38400/60000]\tLoss: 0.189\tAcc: 0.938\n",
      "Train Epoch: 5 [51200/60000]\tLoss: 0.281\tAcc: 0.891\n",
      "Epoch 5 | Total Time: 13s, Test Loss: 0.218, Test Acc: 0.938\n",
      "Train Epoch: 6 [0/60000]\tLoss: 0.219\tAcc: 0.906\n",
      "Train Epoch: 6 [12800/60000]\tLoss: 0.227\tAcc: 0.922\n",
      "Train Epoch: 6 [25600/60000]\tLoss: 0.177\tAcc: 0.938\n",
      "Train Epoch: 6 [38400/60000]\tLoss: 0.170\tAcc: 0.953\n",
      "Train Epoch: 6 [51200/60000]\tLoss: 0.249\tAcc: 0.906\n",
      "Epoch 6 | Total Time: 14s, Test Loss: 0.204, Test Acc: 0.941\n",
      "Train Epoch: 7 [0/60000]\tLoss: 0.248\tAcc: 0.930\n",
      "Train Epoch: 7 [12800/60000]\tLoss: 0.101\tAcc: 0.969\n",
      "Train Epoch: 7 [25600/60000]\tLoss: 0.157\tAcc: 0.945\n",
      "Train Epoch: 7 [38400/60000]\tLoss: 0.197\tAcc: 0.953\n",
      "Train Epoch: 7 [51200/60000]\tLoss: 0.264\tAcc: 0.922\n",
      "Epoch 7 | Total Time: 14s, Test Loss: 0.191, Test Acc: 0.945\n",
      "Train Epoch: 8 [0/60000]\tLoss: 0.144\tAcc: 0.977\n",
      "Train Epoch: 8 [12800/60000]\tLoss: 0.225\tAcc: 0.945\n",
      "Train Epoch: 8 [25600/60000]\tLoss: 0.191\tAcc: 0.922\n",
      "Train Epoch: 8 [38400/60000]\tLoss: 0.281\tAcc: 0.891\n",
      "Train Epoch: 8 [51200/60000]\tLoss: 0.216\tAcc: 0.945\n",
      "Epoch 8 | Total Time: 14s, Test Loss: 0.182, Test Acc: 0.947\n",
      "Train Epoch: 9 [0/60000]\tLoss: 0.201\tAcc: 0.938\n",
      "Train Epoch: 9 [12800/60000]\tLoss: 0.179\tAcc: 0.953\n",
      "Train Epoch: 9 [25600/60000]\tLoss: 0.315\tAcc: 0.938\n",
      "Train Epoch: 9 [38400/60000]\tLoss: 0.352\tAcc: 0.898\n",
      "Train Epoch: 9 [51200/60000]\tLoss: 0.096\tAcc: 0.977\n",
      "Epoch 9 | Total Time: 13s, Test Loss: 0.173, Test Acc: 0.949\n",
      "Train Epoch: 10 [0/60000]\tLoss: 0.224\tAcc: 0.922\n",
      "Train Epoch: 10 [12800/60000]\tLoss: 0.096\tAcc: 0.961\n",
      "Train Epoch: 10 [25600/60000]\tLoss: 0.110\tAcc: 0.961\n",
      "Train Epoch: 10 [38400/60000]\tLoss: 0.097\tAcc: 0.977\n",
      "Train Epoch: 10 [51200/60000]\tLoss: 0.115\tAcc: 0.977\n",
      "Epoch 10 | Total Time: 13s, Test Loss: 0.164, Test Acc: 0.952\n",
      "Train Epoch: 11 [0/60000]\tLoss: 0.119\tAcc: 0.953\n",
      "Train Epoch: 11 [12800/60000]\tLoss: 0.143\tAcc: 0.953\n",
      "Train Epoch: 11 [25600/60000]\tLoss: 0.153\tAcc: 0.961\n",
      "Train Epoch: 11 [38400/60000]\tLoss: 0.137\tAcc: 0.961\n",
      "Train Epoch: 11 [51200/60000]\tLoss: 0.171\tAcc: 0.953\n",
      "Epoch 11 | Total Time: 14s, Test Loss: 0.157, Test Acc: 0.954\n",
      "Train Epoch: 12 [0/60000]\tLoss: 0.080\tAcc: 0.977\n",
      "Train Epoch: 12 [12800/60000]\tLoss: 0.259\tAcc: 0.938\n",
      "Train Epoch: 12 [25600/60000]\tLoss: 0.156\tAcc: 0.977\n",
      "Train Epoch: 12 [38400/60000]\tLoss: 0.110\tAcc: 0.961\n",
      "Train Epoch: 12 [51200/60000]\tLoss: 0.172\tAcc: 0.938\n",
      "Epoch 12 | Total Time: 13s, Test Loss: 0.150, Test Acc: 0.956\n",
      "Train Epoch: 13 [0/60000]\tLoss: 0.140\tAcc: 0.930\n",
      "Train Epoch: 13 [12800/60000]\tLoss: 0.168\tAcc: 0.922\n",
      "Train Epoch: 13 [25600/60000]\tLoss: 0.040\tAcc: 1.000\n",
      "Train Epoch: 13 [38400/60000]\tLoss: 0.131\tAcc: 0.961\n",
      "Train Epoch: 13 [51200/60000]\tLoss: 0.127\tAcc: 0.969\n",
      "Epoch 13 | Total Time: 14s, Test Loss: 0.145, Test Acc: 0.957\n",
      "Train Epoch: 14 [0/60000]\tLoss: 0.097\tAcc: 0.977\n",
      "Train Epoch: 14 [12800/60000]\tLoss: 0.131\tAcc: 0.953\n",
      "Train Epoch: 14 [25600/60000]\tLoss: 0.115\tAcc: 0.961\n",
      "Train Epoch: 14 [38400/60000]\tLoss: 0.122\tAcc: 0.961\n",
      "Train Epoch: 14 [51200/60000]\tLoss: 0.115\tAcc: 0.961\n",
      "Epoch 14 | Total Time: 14s, Test Loss: 0.139, Test Acc: 0.959\n",
      "Best Accuracy: 0.959\n"
     ]
    }
   ],
   "source": [
    "print(\"Step 2: MLP Classification\")\n",
    "\n",
    "train_loss_list = []\n",
    "train_acc_list = []\n",
    "test_loss_list = []\n",
    "test_acc_list = []\n",
    "\n",
    "for epoch in range(num_epochs):\n",
    "    tic = time.time()\n",
    "    loss_list, acc_list = train(model, criterion, trainloader, optimizer, epoch, logging_steps)\n",
    "    test_loss, test_acc = test(model, criterion, testloader)\n",
    "    t = time.time() - tic\n",
    "    \n",
    "    train_loss_list.append(torch.mean(torch.as_tensor(loss_list)))\n",
    "    train_acc_list.append(torch.mean(torch.as_tensor(acc_list)))\n",
    "    test_loss_list.append(test_loss)\n",
    "    test_acc_list.append(test_acc)\n",
    "\n",
    "    if test_acc > best_acc:\n",
    "        best_acc = test_acc\n",
    "    print(f\"Epoch {epoch} | Total Time: {t:.0f}s, Test Loss: {test_loss:.3f}, Test Acc: {test_acc:.3f}\")\n",
    "print(f\"Best Accuracy: {best_acc:.3f}\")\n"
   ]
  },
  {
   "cell_type": "code",
   "execution_count": 39,
   "id": "4c55c51f-7486-41cd-bc49-45a92b0cf034",
   "metadata": {},
   "outputs": [
    {
     "data": {
      "image/png": "[encoded data removed]",
      "text/plain": [
       "<Figure size 900x600 with 1 Axes>"
      ]
     },
     "metadata": {
      "needs_background": "light"
     },
     "output_type": "display_data"
    }
   ],
   "source": [
    "# plot loss and accuracy\n",
    "epoch_list = range(num_epochs)\n",
    "plt.figure(dpi=150)\n",
    "l1 = plt.plot(epoch_list, train_loss_list, 'r-', label='Train Loss')\n",
    "l2 = plt.plot(epoch_list, test_loss_list, 'g-', label='Test Loss')\n",
    "plt.plot(epoch_list, train_loss_list, 'ro', epoch_list, test_loss_list, 'g^')\n",
    "plt.xlabel('Epoch')\n",
    "plt.ylabel('Loss')\n",
    "plt.legend()\n",
    "plt.show()"
   ]
  },
  {
   "cell_type": "code",
   "execution_count": 40,
   "id": "dc906197-268a-47b6-8d6c-0e997517b5d5",
   "metadata": {},
   "outputs": [
    {
     "data": {
      "image/png": "[encoded data removed]",
      "text/plain": [
       "<Figure size 900x600 with 1 Axes>"
      ]
     },
     "metadata": {
      "needs_background": "light"
     },
     "output_type": "display_data"
    }
   ],
   "source": [
    "plt.figure(dpi=150)\n",
    "l3 = plt.plot(epoch_list, train_acc_list, 'r-', label='Train Accuracy')\n",
    "l4 = plt.plot(epoch_list, test_acc_list, 'g-', label='Test Accuracy')\n",
    "plt.plot(epoch_list, train_acc_list, 'ro', epoch_list, test_acc_list, 'g^')\n",
    "plt.xlabel('Epoch')\n",
    "plt.ylabel('Accuracy')\n",
    "plt.legend()\n",
    "plt.show()"
   ]
  },
  {
   "cell_type": "markdown",
   "id": "34729531-cfc5-4590-9d44-87f9adbdff47",
   "metadata": {
    "tags": []
   },
   "source": [
    "## Step 3: Training with Autograd"
   ]
  },
  {
   "cell_type": "markdown",
   "id": "0124d644-c693-4e02-8ae4-4667498e19b5",
   "metadata": {
    "tags": []
   },
   "source": [
    "### Autograd Introduction\n",
    "#### Example 1"
   ]
  },
  {
   "cell_type": "code",
   "execution_count": 41,
   "id": "008db4a7-6495-42b9-b6b6-93cc25c0299f",
   "metadata": {},
   "outputs": [
    {
     "name": "stdout",
     "output_type": "stream",
     "text": [
      "tensor([0.0000, 0.2618, 0.5236, 0.7854, 1.0472, 1.3090, 1.5708, 1.8326, 2.0944,\n",
      "        2.3562, 2.6180, 2.8798, 3.1416, 3.4034, 3.6652, 3.9270, 4.1888, 4.4506,\n",
      "        4.7124, 4.9742, 5.2360, 5.4978, 5.7596, 6.0214, 6.2832],\n",
      "       requires_grad=True)\n",
      "tensor([ 0.0000e+00,  2.5882e-01,  5.0000e-01,  7.0711e-01,  8.6603e-01,\n",
      "         9.6593e-01,  1.0000e+00,  9.6593e-01,  8.6603e-01,  7.0711e-01,\n",
      "         5.0000e-01,  2.5882e-01, -8.7423e-08, -2.5882e-01, -5.0000e-01,\n",
      "        -7.0711e-01, -8.6603e-01, -9.6593e-01, -1.0000e+00, -9.6593e-01,\n",
      "        -8.6603e-01, -7.0711e-01, -5.0000e-01, -2.5882e-01,  1.7485e-07],\n",
      "       grad_fn=<SinBackward>)\n"
     ]
    },
    {
     "data": {
      "text/plain": [
       "[<matplotlib.lines.Line2D at 0x7f20e4b68190>]"
      ]
     },
     "execution_count": 41,
     "metadata": {},
     "output_type": "execute_result"
    },
    {
     "data": {
      "image/png": "[encoded data removed]",
      "text/plain": [
       "<Figure size 432x288 with 1 Axes>"
      ]
     },
     "metadata": {
      "needs_background": "light"
     },
     "output_type": "display_data"
    }
   ],
   "source": [
    "import torch\n",
    "\n",
    "import matplotlib.pyplot as plt\n",
    "import math\n",
    "\n",
    "a = torch.linspace(0., 2. * math.pi, steps=25, requires_grad=True)\n",
    "print(a)\n",
    "b = torch.sin(a)\n",
    "print(b)\n",
    "plt.plot(a.detach(), b.detach())"
   ]
  },
  {
   "cell_type": "code",
   "execution_count": 42,
   "id": "6f08b563-f500-4738-9946-65a1a8294026",
   "metadata": {},
   "outputs": [
    {
     "name": "stdout",
     "output_type": "stream",
     "text": [
      "tensor(25., grad_fn=<SumBackward0>)\n"
     ]
    }
   ],
   "source": [
    "c = 2 * b\n",
    "d = c + 1\n",
    "out = d.sum()\n",
    "print(out)"
   ]
  },
  {
   "cell_type": "code",
   "execution_count": 43,
   "id": "1561a764-e21b-480f-803e-65896292a08f",
   "metadata": {},
   "outputs": [
    {
     "name": "stdout",
     "output_type": "stream",
     "text": [
      "tensor([ 2.0000e+00,  1.9319e+00,  1.7321e+00,  1.4142e+00,  1.0000e+00,\n",
      "         5.1764e-01, -8.7423e-08, -5.1764e-01, -1.0000e+00, -1.4142e+00,\n",
      "        -1.7321e+00, -1.9319e+00, -2.0000e+00, -1.9319e+00, -1.7321e+00,\n",
      "        -1.4142e+00, -1.0000e+00, -5.1764e-01,  2.3850e-08,  5.1764e-01,\n",
      "         1.0000e+00,  1.4142e+00,  1.7321e+00,  1.9319e+00,  2.0000e+00])\n"
     ]
    },
    {
     "data": {
      "text/plain": [
       "[<matplotlib.lines.Line2D at 0x7f20e5648700>]"
      ]
     },
     "execution_count": 43,
     "metadata": {},
     "output_type": "execute_result"
    },
    {
     "data": {
      "image/png": "[encoded data removed]",
      "text/plain": [
       "<Figure size 432x288 with 1 Axes>"
      ]
     },
     "metadata": {
      "needs_background": "light"
     },
     "output_type": "display_data"
    }
   ],
   "source": [
    "out.backward()  # call the backward to compute the gradient\n",
    "print(a.grad)  # the gradient of out w.r.t. a\n",
    "plt.plot(a.detach(), a.grad.detach())"
   ]
  },
  {
   "cell_type": "markdown",
   "id": "ed32c274-7d59-496f-ab2f-199383b9705f",
   "metadata": {
    "tags": []
   },
   "source": [
    "#### Example 2"
   ]
  },
  {
   "cell_type": "code",
   "execution_count": 44,
   "id": "a817b412-abc3-437b-8116-fd0c998aa22e",
   "metadata": {},
   "outputs": [],
   "source": [
    "a = torch.tensor([2., 3.], requires_grad=True)\n",
    "b = torch.tensor([6., 4.], requires_grad=True)"
   ]
  },
  {
   "cell_type": "markdown",
   "id": "54b28d11-dfc3-4f7c-8d62-749428c14554",
   "metadata": {},
   "source": [
    "create another tensor Q from a and b.\n",
    "\\begin{align}\n",
    "Q = 3a^3 - b^2\n",
    "\\end{align}"
   ]
  },
  {
   "cell_type": "code",
   "execution_count": 45,
   "id": "db74c938-88f2-454b-9319-bb87875325bb",
   "metadata": {},
   "outputs": [],
   "source": [
    "Q = 3*a**3 - b**2"
   ]
  },
  {
   "cell_type": "markdown",
   "id": "ebc9271f-8b2f-4402-aac7-72989dd3c5f0",
   "metadata": {},
   "source": [
    "then, we have\n",
    "\\begin{align}\n",
    "\\frac{\\partial Q}{\\partial a} = 9a^2 \\\\\n",
    "\\frac{\\partial Q}{\\partial b} = -2b\n",
    "\\end{align}\n",
    "We want to call backward on Q to compute the gradients. \\\n",
    "To do this, we need to explicitly pass a gradient argument in `Q.backward()` because it is a vector, where gradient is a tensor of the same shape as Q, and it represents the gradient of Q w.r.t. itself, i.e.\n",
    "\\begin{align}\n",
    "\\frac{d Q}{d Q} = 1\n",
    "\\end{align}"
   ]
  },
  {
   "cell_type": "code",
   "execution_count": 46,
   "id": "05039bc1-ef8f-4840-842a-e592ae9618c0",
   "metadata": {},
   "outputs": [
    {
     "name": "stdout",
     "output_type": "stream",
     "text": [
      "tensor([True, True])\n",
      "tensor([True, True])\n"
     ]
    }
   ],
   "source": [
    "external_grad = torch.tensor([1., 1.])\n",
    "Q.backward(gradient=external_grad)\n",
    "\n",
    "# check if collected gradients are correct\n",
    "print(9*a**2 == a.grad)\n",
    "print(-2*b == b.grad)"
   ]
  },
  {
   "cell_type": "markdown",
   "id": "32e30c74-6b5b-4aa1-922b-7b0e2ad8f0e8",
   "metadata": {
    "tags": []
   },
   "source": [
    "### Set Hyperparameters"
   ]
  },
  {
   "cell_type": "code",
   "execution_count": 47,
   "id": "4a62c3b4-be93-4c72-9b2d-361b7143d788",
   "metadata": {},
   "outputs": [],
   "source": [
    "num_epochs = 15 # training epochs\n",
    "lr = 0.01 # learning rate\n",
    "logging_steps = 100 # logging batchsize\n",
    "best_acc = 0.0 # best accuracy"
   ]
  },
  {
   "cell_type": "markdown",
   "id": "4c9d38f3-3007-4c5e-b470-230845f643bb",
   "metadata": {
    "tags": []
   },
   "source": [
    "### Model, Loss Function and Optimizer"
   ]
  },
  {
   "cell_type": "code",
   "execution_count": 48,
   "id": "8e9a3364-4cb4-469d-ae97-d7a483f4fc91",
   "metadata": {},
   "outputs": [],
   "source": [
    "model = TwoLayerNet(input_dim=784, num_classes=10, hidden_dims=300)\n",
    "criterion = CrossEntropyLoss()\n",
    "optimizer = SGD(model.parameters(), lr=lr)\n",
    "\n",
    "# open the requires_grad flag for model parameters to use autograd(or/and computation graph)\n",
    "for p in model.parameters():\n",
    "    p.requires_grad = True"
   ]
  },
  {
   "cell_type": "markdown",
   "id": "bd41aeac-8489-4798-8048-5bb2ba60c98a",
   "metadata": {
    "tags": []
   },
   "source": [
    "### Trainer"
   ]
  },
  {
   "cell_type": "code",
   "execution_count": 49,
   "id": "c459379a-1343-49c0-a6f6-535f863d8020",
   "metadata": {},
   "outputs": [],
   "source": [
    "# Training for MLP Classification with Autograd\n",
    "def train(model, criterion, train_loader, optimizer, epoch, logging_steps):\n",
    "\n",
    "    loss_list = []\n",
    "    acc_list = []\n",
    "    for batch_idx, (inputs, targets) in enumerate(train_loader):\n",
    "\n",
    "        # 0. data preprocessing\n",
    "        inputs = torch.flatten(inputs, start_dim=1)\n",
    "\n",
    "        # 1. reset gradient to zero\n",
    "        optimizer.zero_grad()\n",
    "\n",
    "        # 2. forward computation\n",
    "        outputs = model.forward(inputs)\n",
    "        loss = criterion.forward(outputs, targets)\n",
    "\n",
    "        # 3. backward computation\n",
    "        # the whole backward computation is performed by this single statement\n",
    "        # note that manually defined backward functions are not used\n",
    "        loss.backward()\n",
    "\n",
    "        # 4. update parameters\n",
    "        optimizer.step()\n",
    "\n",
    "        # log\n",
    "        _, predicted = outputs.max(1)\n",
    "        total = targets.size(0)\n",
    "        correct = predicted.eq(targets).sum().item()\n",
    "        acc = correct / total\n",
    "        loss_list.append(loss.item())\n",
    "        acc_list.append(acc)\n",
    "\n",
    "        if batch_idx % logging_steps == 0:\n",
    "            print('Train Epoch: {} [{}/{}]\\tLoss: {:.3f}\\tAcc: {:.3f}'.format(\n",
    "                epoch, batch_idx * len(inputs), len(train_loader.dataset),\n",
    "                loss_list[-1], acc_list[-1]))\n",
    "\n",
    "    return loss_list, acc_list\n",
    "\n",
    "\n",
    "# Validation for MLP Classification with Autograd\n",
    "def test(model, criterion, test_loader):\n",
    "    test_loss = 0\n",
    "    correct = 0\n",
    "    total = 0\n",
    "    num_batches = 0\n",
    "    with torch.no_grad():\n",
    "        for inputs, targets in test_loader:\n",
    "            inputs = torch.flatten(inputs, start_dim=1)\n",
    "\n",
    "            outputs = model.forward(inputs)\n",
    "            loss = criterion.forward(outputs, targets)\n",
    "\n",
    "            # log\n",
    "            test_loss += loss.item()\n",
    "            _, predicted = outputs.max(1)\n",
    "            total += targets.size(0)\n",
    "            correct += predicted.eq(targets).sum().item()\n",
    "            num_batches += 1\n",
    "\n",
    "    test_loss /= num_batches\n",
    "    test_acc = correct / total\n",
    "    return test_loss, test_acc\n"
   ]
  },
  {
   "cell_type": "markdown",
   "id": "91360e76-a67a-4ed3-a675-2fa9f39e54c0",
   "metadata": {
    "tags": []
   },
   "source": [
    "### Main Loop"
   ]
  },
  {
   "cell_type": "code",
   "execution_count": 50,
   "id": "1592ccb2-411d-4ccb-9137-6d9f93df82f0",
   "metadata": {
    "tags": []
   },
   "outputs": [
    {
     "name": "stdout",
     "output_type": "stream",
     "text": [
      "Step 3: Training with Autograd\n",
      "Train Epoch: 0 [0/60000]\tLoss: 2.303\tAcc: 0.125\n",
      "Train Epoch: 0 [12800/60000]\tLoss: 1.431\tAcc: 0.633\n",
      "Train Epoch: 0 [25600/60000]\tLoss: 1.089\tAcc: 0.711\n",
      "Train Epoch: 0 [38400/60000]\tLoss: 0.913\tAcc: 0.758\n",
      "Train Epoch: 0 [51200/60000]\tLoss: 0.685\tAcc: 0.805\n",
      "Epoch 0 | Total Time: 13s, Test Loss: 0.646, Test Acc: 0.813\n",
      "Train Epoch: 1 [0/60000]\tLoss: 0.590\tAcc: 0.844\n",
      "Train Epoch: 1 [12800/60000]\tLoss: 0.596\tAcc: 0.828\n",
      "Train Epoch: 1 [25600/60000]\tLoss: 0.398\tAcc: 0.883\n",
      "Train Epoch: 1 [38400/60000]\tLoss: 0.337\tAcc: 0.922\n",
      "Train Epoch: 1 [51200/60000]\tLoss: 0.338\tAcc: 0.914\n",
      "Epoch 1 | Total Time: 13s, Test Loss: 0.326, Test Acc: 0.912\n",
      "Train Epoch: 2 [0/60000]\tLoss: 0.378\tAcc: 0.906\n",
      "Train Epoch: 2 [12800/60000]\tLoss: 0.280\tAcc: 0.930\n",
      "Train Epoch: 2 [25600/60000]\tLoss: 0.268\tAcc: 0.930\n",
      "Train Epoch: 2 [38400/60000]\tLoss: 0.177\tAcc: 0.945\n",
      "Train Epoch: 2 [51200/60000]\tLoss: 0.327\tAcc: 0.898\n",
      "Epoch 2 | Total Time: 14s, Test Loss: 0.283, Test Acc: 0.922\n",
      "Train Epoch: 3 [0/60000]\tLoss: 0.336\tAcc: 0.922\n",
      "Train Epoch: 3 [12800/60000]\tLoss: 0.282\tAcc: 0.898\n",
      "Train Epoch: 3 [25600/60000]\tLoss: 0.239\tAcc: 0.930\n",
      "Train Epoch: 3 [38400/60000]\tLoss: 0.305\tAcc: 0.891\n",
      "Train Epoch: 3 [51200/60000]\tLoss: 0.311\tAcc: 0.930\n",
      "Epoch 3 | Total Time: 13s, Test Loss: 0.257, Test Acc: 0.927\n",
      "Train Epoch: 4 [0/60000]\tLoss: 0.290\tAcc: 0.930\n",
      "Train Epoch: 4 [12800/60000]\tLoss: 0.257\tAcc: 0.930\n",
      "Train Epoch: 4 [25600/60000]\tLoss: 0.251\tAcc: 0.914\n",
      "Train Epoch: 4 [38400/60000]\tLoss: 0.278\tAcc: 0.922\n",
      "Train Epoch: 4 [51200/60000]\tLoss: 0.225\tAcc: 0.938\n",
      "Epoch 4 | Total Time: 13s, Test Loss: 0.237, Test Acc: 0.932\n",
      "Train Epoch: 5 [0/60000]\tLoss: 0.151\tAcc: 0.977\n",
      "Train Epoch: 5 [12800/60000]\tLoss: 0.343\tAcc: 0.891\n",
      "Train Epoch: 5 [25600/60000]\tLoss: 0.383\tAcc: 0.867\n",
      "Train Epoch: 5 [38400/60000]\tLoss: 0.261\tAcc: 0.914\n",
      "Train Epoch: 5 [51200/60000]\tLoss: 0.232\tAcc: 0.945\n",
      "Epoch 5 | Total Time: 13s, Test Loss: 0.221, Test Acc: 0.935\n",
      "Train Epoch: 6 [0/60000]\tLoss: 0.302\tAcc: 0.914\n",
      "Train Epoch: 6 [12800/60000]\tLoss: 0.298\tAcc: 0.914\n",
      "Train Epoch: 6 [25600/60000]\tLoss: 0.194\tAcc: 0.938\n",
      "Train Epoch: 6 [38400/60000]\tLoss: 0.247\tAcc: 0.914\n",
      "Train Epoch: 6 [51200/60000]\tLoss: 0.219\tAcc: 0.914\n",
      "Epoch 6 | Total Time: 13s, Test Loss: 0.208, Test Acc: 0.940\n",
      "Train Epoch: 7 [0/60000]\tLoss: 0.215\tAcc: 0.945\n",
      "Train Epoch: 7 [12800/60000]\tLoss: 0.114\tAcc: 0.969\n",
      "Train Epoch: 7 [25600/60000]\tLoss: 0.210\tAcc: 0.922\n",
      "Train Epoch: 7 [38400/60000]\tLoss: 0.153\tAcc: 0.969\n",
      "Train Epoch: 7 [51200/60000]\tLoss: 0.209\tAcc: 0.945\n",
      "Epoch 7 | Total Time: 13s, Test Loss: 0.195, Test Acc: 0.943\n",
      "Train Epoch: 8 [0/60000]\tLoss: 0.115\tAcc: 0.969\n",
      "Train Epoch: 8 [12800/60000]\tLoss: 0.199\tAcc: 0.922\n",
      "Train Epoch: 8 [25600/60000]\tLoss: 0.160\tAcc: 0.961\n",
      "Train Epoch: 8 [38400/60000]\tLoss: 0.172\tAcc: 0.945\n",
      "Train Epoch: 8 [51200/60000]\tLoss: 0.134\tAcc: 0.961\n",
      "Epoch 8 | Total Time: 13s, Test Loss: 0.185, Test Acc: 0.946\n",
      "Train Epoch: 9 [0/60000]\tLoss: 0.157\tAcc: 0.953\n",
      "Train Epoch: 9 [12800/60000]\tLoss: 0.236\tAcc: 0.938\n",
      "Train Epoch: 9 [25600/60000]\tLoss: 0.175\tAcc: 0.961\n",
      "Train Epoch: 9 [38400/60000]\tLoss: 0.111\tAcc: 0.969\n",
      "Train Epoch: 9 [51200/60000]\tLoss: 0.138\tAcc: 0.977\n",
      "Epoch 9 | Total Time: 13s, Test Loss: 0.176, Test Acc: 0.950\n",
      "Train Epoch: 10 [0/60000]\tLoss: 0.147\tAcc: 0.961\n",
      "Train Epoch: 10 [12800/60000]\tLoss: 0.124\tAcc: 0.969\n",
      "Train Epoch: 10 [25600/60000]\tLoss: 0.257\tAcc: 0.914\n",
      "Train Epoch: 10 [38400/60000]\tLoss: 0.073\tAcc: 0.984\n",
      "Train Epoch: 10 [51200/60000]\tLoss: 0.124\tAcc: 0.969\n",
      "Epoch 10 | Total Time: 13s, Test Loss: 0.166, Test Acc: 0.953\n",
      "Train Epoch: 11 [0/60000]\tLoss: 0.208\tAcc: 0.938\n",
      "Train Epoch: 11 [12800/60000]\tLoss: 0.280\tAcc: 0.930\n",
      "Train Epoch: 11 [25600/60000]\tLoss: 0.164\tAcc: 0.961\n",
      "Train Epoch: 11 [38400/60000]\tLoss: 0.156\tAcc: 0.961\n",
      "Train Epoch: 11 [51200/60000]\tLoss: 0.116\tAcc: 0.977\n",
      "Epoch 11 | Total Time: 14s, Test Loss: 0.159, Test Acc: 0.955\n",
      "Train Epoch: 12 [0/60000]\tLoss: 0.102\tAcc: 0.977\n",
      "Train Epoch: 12 [12800/60000]\tLoss: 0.233\tAcc: 0.953\n",
      "Train Epoch: 12 [25600/60000]\tLoss: 0.105\tAcc: 0.977\n",
      "Train Epoch: 12 [38400/60000]\tLoss: 0.116\tAcc: 0.984\n",
      "Train Epoch: 12 [51200/60000]\tLoss: 0.122\tAcc: 0.961\n",
      "Epoch 12 | Total Time: 13s, Test Loss: 0.153, Test Acc: 0.956\n",
      "Train Epoch: 13 [0/60000]\tLoss: 0.131\tAcc: 0.953\n",
      "Train Epoch: 13 [12800/60000]\tLoss: 0.207\tAcc: 0.922\n",
      "Train Epoch: 13 [25600/60000]\tLoss: 0.205\tAcc: 0.953\n",
      "Train Epoch: 13 [38400/60000]\tLoss: 0.100\tAcc: 0.992\n",
      "Train Epoch: 13 [51200/60000]\tLoss: 0.121\tAcc: 0.977\n",
      "Epoch 13 | Total Time: 13s, Test Loss: 0.147, Test Acc: 0.957\n",
      "Train Epoch: 14 [0/60000]\tLoss: 0.151\tAcc: 0.969\n",
      "Train Epoch: 14 [12800/60000]\tLoss: 0.167\tAcc: 0.953\n",
      "Train Epoch: 14 [25600/60000]\tLoss: 0.142\tAcc: 0.961\n",
      "Train Epoch: 14 [38400/60000]\tLoss: 0.121\tAcc: 0.953\n",
      "Train Epoch: 14 [51200/60000]\tLoss: 0.178\tAcc: 0.938\n",
      "Epoch 14 | Total Time: 13s, Test Loss: 0.141, Test Acc: 0.960\n",
      "Best Accuracy: 0.960\n"
     ]
    }
   ],
   "source": [
    "print(\"Step 3: Training with Autograd\")\n",
    "\n",
    "train_loss_list = []\n",
    "train_acc_list = []\n",
    "test_loss_list = []\n",
    "test_acc_list = []\n",
    "\n",
    "for epoch in range(num_epochs):\n",
    "    tic = time.time()\n",
    "    loss_list, acc_list = train(model, criterion, trainloader, optimizer, epoch, logging_steps)\n",
    "    test_loss, test_acc = test(model, criterion, testloader)\n",
    "    t = time.time() - tic\n",
    "    \n",
    "    train_loss_list.append(torch.mean(torch.as_tensor(loss_list)))\n",
    "    train_acc_list.append(torch.mean(torch.as_tensor(acc_list)))\n",
    "    test_loss_list.append(test_loss)\n",
    "    test_acc_list.append(test_acc)\n",
    "\n",
    "    if test_acc > best_acc:\n",
    "        best_acc = test_acc\n",
    "    print(f\"Epoch {epoch} | Total Time: {t:.0f}s, Test Loss: {test_loss:.3f}, Test Acc: {test_acc:.3f}\")\n",
    "print(f\"Best Accuracy: {best_acc:.3f}\")\n"
   ]
  },
  {
   "cell_type": "code",
   "execution_count": 51,
   "id": "656c3034-8eae-4b2c-a703-21f2ca893309",
   "metadata": {},
   "outputs": [
    {
     "data": {
      "image/png": "[encoded data removed]",
      "text/plain": [
       "<Figure size 900x600 with 1 Axes>"
      ]
     },
     "metadata": {
      "needs_background": "light"
     },
     "output_type": "display_data"
    }
   ],
   "source": [
    "# plot loss and accuracy\n",
    "epoch_list = range(num_epochs)\n",
    "plt.figure(dpi=150)\n",
    "l1 = plt.plot(epoch_list, train_loss_list, 'r-', label='Train Loss')\n",
    "l2 = plt.plot(epoch_list, test_loss_list, 'g-', label='Test Loss')\n",
    "plt.plot(epoch_list, train_loss_list, 'ro', epoch_list, test_loss_list, 'g^')\n",
    "plt.xlabel('Epoch')\n",
    "plt.ylabel('Loss')\n",
    "plt.legend()\n",
    "plt.show()"
   ]
  },
  {
   "cell_type": "code",
   "execution_count": 52,
   "id": "2ada0c20-4f1e-4b9b-8343-9d57d790b40b",
   "metadata": {},
   "outputs": [
    {
     "data": {
      "image/png": "[encoded data removed]",
      "text/plain": [
       "<Figure size 900x600 with 1 Axes>"
      ]
     },
     "metadata": {
      "needs_background": "light"
     },
     "output_type": "display_data"
    }
   ],
   "source": [
    "plt.figure(dpi=150)\n",
    "l3 = plt.plot(epoch_list, train_acc_list, 'r-', label='Train Accuracy')\n",
    "l4 = plt.plot(epoch_list, test_acc_list, 'g-', label='Test Accuracy')\n",
    "plt.plot(epoch_list, train_acc_list, 'ro', epoch_list, test_acc_list, 'g^')\n",
    "plt.xlabel('Epoch')\n",
    "plt.ylabel('Accuracy')\n",
    "plt.legend()\n",
    "plt.show()"
   ]
  },
  {
   "cell_type": "markdown",
   "id": "cb20ea3e-de4e-4c44-893a-5e8071a57991",
   "metadata": {
    "tags": []
   },
   "source": [
    "## Step 4: Training with torch.nn"
   ]
  },
  {
   "cell_type": "markdown",
   "id": "cc003b7c-0923-48bf-81e7-effa83df3506",
   "metadata": {
    "tags": []
   },
   "source": [
    "### Import"
   ]
  },
  {
   "cell_type": "code",
   "execution_count": null,
   "id": "2280cf86-a894-4692-a7d8-8f88cab6d67d",
   "metadata": {},
   "outputs": [],
   "source": [
    "import torch.nn as nn\n",
    "import torch.optim as optim\n",
    "import os\n",
    "os.environ['CUDA_VISIBLE_DEVICES']=\"0\""
   ]
  },
  {
   "cell_type": "markdown",
   "id": "d2bee038-c594-4b73-8ef5-7a62de1352c0",
   "metadata": {
    "tags": []
   },
   "source": [
    "### Define Model\n",
    "`torch.nn` has built-in implementations for the above layers(Linear, ReLU, Sigmoid) and loss functions(MSE, BCE, CrossEntropy) \\\n",
    "Here we give an example about how to use `torch.nn` to construct your neural network."
   ]
  },
  {
   "cell_type": "code",
   "execution_count": null,
   "id": "98088b45-a431-483d-98c2-1f382ec1684f",
   "metadata": {},
   "outputs": [],
   "source": [
    "class ExampleModel(nn.Module):\n",
    "    def __init__(self):\n",
    "        super(ExampleModel, self).__init__()\n",
    "        self.flatten = nn.Flatten()\n",
    "        self.linear_relu_stack = nn.Sequential(\n",
    "            nn.Linear(28*28, 512),\n",
    "            nn.ReLU(),\n",
    "            nn.Linear(512, 512),\n",
    "            nn.ReLU(),\n",
    "            nn.Linear(512, 10),\n",
    "        )\n",
    "\n",
    "    def forward(self, x):\n",
    "        x = self.flatten(x)\n",
    "        logits = self.linear_relu_stack(x)\n",
    "        return logits"
   ]
  },
  {
   "cell_type": "markdown",
   "id": "03deaa6f-5b9b-4f3b-bef2-13f30bd31fb1",
   "metadata": {
    "tags": []
   },
   "source": [
    "Then, you need to construct the MLP architecture by yourself"
   ]
  },
  {
   "cell_type": "code",
   "execution_count": null,
   "id": "016f7fdf-81ce-4c1a-a230-59635c55fed4",
   "metadata": {},
   "outputs": [],
   "source": [
    "class MLP(nn.Module):\n",
    "    def __init__(self, input_dim, num_classes, hidden_dims=[]) -> None:\n",
    "        super().__init__()\n",
    "        self.flatten = nn.Flatten()\n",
    "        self.linear_relu_stack = nn.Sequential(\n",
    "            nn.Linear(input_dim, hidden_dims[0]),\n",
    "            nn.ReLU(),\n",
    "        )\n",
    "        \n",
    "        for i in range(1, len(hidden_dims)):\n",
    "            self.linear_relu_stack.add_module('linear_'+str(i), nn.Linear(hidden_dims[i-1], hidden_dims[i]))\n",
    "            self.linear_relu_stack.add_module('relu_'+str(i), nn.ReLU())\n",
    "        \n",
    "        self.linear_relu_stack.add_module('linear_'+str(len(hidden_dims)), nn.Linear(hidden_dims[-1], num_classes))\n",
    "        # TODO, construct the MLP architecture with any number of hidden layers, with ReLU activation\n",
    "        # HINT, The ExampleModel is a MLP with two hidden layers\n",
    "        pass\n",
    "\n",
    "    def forward(self, x):\n",
    "        # TODO, implement this function\n",
    "        x = self.flatten(x)\n",
    "        logits = self.linear_relu_stack(x)\n",
    "        return logits\n",
    "        pass\n"
   ]
  },
  {
   "cell_type": "markdown",
   "id": "3f00262b-a947-4ed8-8d60-25afa0d32ec2",
   "metadata": {
    "tags": []
   },
   "source": [
    "### Set Hyperparameters"
   ]
  },
  {
   "cell_type": "code",
   "execution_count": null,
   "id": "1e94bf50-3b48-4c5e-9cc6-56b53c8a338c",
   "metadata": {},
   "outputs": [],
   "source": [
    "num_epochs = 25  # training epochs\n",
    "lr = 0.01  # learning rate\n",
    "logging_steps = 100  # logging batchsize\n",
    "best_acc = 0.0  # best accuracy"
   ]
  },
  {
   "cell_type": "markdown",
   "id": "24d4fcad-df95-4ceb-afa4-22473c0c5c0a",
   "metadata": {
    "tags": []
   },
   "source": [
    "### Model, Loss Function and Optimizer"
   ]
  },
  {
   "cell_type": "code",
   "execution_count": null,
   "id": "dc29e683-0421-46f5-b0d3-b6cb462f56ff",
   "metadata": {},
   "outputs": [],
   "source": [
    "# model with one hidden layer\n",
    "# model = MLP(input_dim=784, num_classes=10, hidden_dims=[300])\n",
    "\n",
    "# model with two hidden layers\n",
    "model = MLP(input_dim=784, num_classes=10, hidden_dims=[512, 300])\n",
    "\n",
    "device = 'cuda' if torch.cuda.is_available() else 'cpu'\n",
    "print(device)\n",
    "model = model.to(device)  # put the model on the specified device(e.g. gpu/cpu)\n",
    "\n",
    "criterion = nn.CrossEntropyLoss()\n",
    "optimizer = optim.SGD(model.parameters(), lr=lr)"
   ]
  },
  {
   "cell_type": "markdown",
   "id": "6023639f-4a1d-4b4c-88b7-ce9be1d69254",
   "metadata": {
    "tags": []
   },
   "source": [
    "### Trainer"
   ]
  },
  {
   "cell_type": "code",
   "execution_count": null,
   "id": "3236b6ac-f079-42e6-990f-e2b5b465ef30",
   "metadata": {},
   "outputs": [],
   "source": [
    "# Training for MLP Classification with torch.nn\n",
    "def train(model, criterion, train_loader, optimizer, epoch, logging_steps):\n",
    "\n",
    "    loss_list = []\n",
    "    acc_list = []\n",
    "    for batch_idx, (inputs, targets) in enumerate(train_loader):\n",
    "\n",
    "        # 0. data preprocessing\n",
    "        inputs, targets = inputs.to(device), targets.to(device)\n",
    "        inputs = torch.flatten(inputs, start_dim=1)\n",
    "\n",
    "        # 1. reset gradient to zero\n",
    "        optimizer.zero_grad()\n",
    "\n",
    "        # 2. forward computation\n",
    "        outputs = model(inputs)\n",
    "        loss = criterion(outputs, targets)\n",
    "\n",
    "        # 3. backward computation\n",
    "        loss.backward()\n",
    "\n",
    "        # 4. update parameters\n",
    "        optimizer.step()\n",
    "\n",
    "        # log\n",
    "        _, predicted = outputs.max(1)\n",
    "        total = targets.size(0)\n",
    "        correct = predicted.eq(targets).sum().item()\n",
    "        acc = correct / total\n",
    "        loss_list.append(loss.item())\n",
    "        acc_list.append(acc)\n",
    "\n",
    "        if batch_idx % logging_steps == 0:\n",
    "            print('Train Epoch: {} [{}/{}]\\tLoss: {:.3f}\\tAcc: {:.3f}'.format(\n",
    "                epoch, batch_idx * len(inputs), len(train_loader.dataset),\n",
    "                loss_list[-1], acc_list[-1]))\n",
    "\n",
    "    return loss_list, acc_list\n",
    "\n",
    "\n",
    "# Validation for MLP Classification with torch.nn\n",
    "def test(model, criterion, test_loader):\n",
    "    test_loss = 0\n",
    "    correct = 0\n",
    "    total = 0\n",
    "    num_batches = 0\n",
    "    with torch.no_grad():\n",
    "        for inputs, targets in test_loader:\n",
    "            inputs, targets = inputs.to(device), targets.to(device)\n",
    "            inputs = torch.flatten(inputs, start_dim=1)\n",
    "\n",
    "            outputs = model(inputs)\n",
    "            loss = criterion(outputs, targets)\n",
    "\n",
    "            # log\n",
    "            test_loss += loss.item()\n",
    "            _, predicted = outputs.max(1)\n",
    "            total += targets.size(0)\n",
    "            correct += predicted.eq(targets).sum().item()\n",
    "            num_batches += 1\n",
    "\n",
    "    test_loss /= num_batches\n",
    "    test_acc = correct / total\n",
    "    return test_loss, test_acc\n"
   ]
  },
  {
   "cell_type": "markdown",
   "id": "9a61d0d5-53cf-4a9f-b6d5-d72421265f5d",
   "metadata": {
    "tags": []
   },
   "source": [
    "### Main Loop"
   ]
  },
  {
   "cell_type": "code",
   "execution_count": null,
   "id": "2a8a83ce-76e1-4120-a698-e6c4dec80043",
   "metadata": {},
   "outputs": [],
   "source": [
    "print(\"Step 4: Training with torch.nn\")\n",
    "\n",
    "train_loss_list = []\n",
    "train_acc_list = []\n",
    "test_loss_list = []\n",
    "test_acc_list = []\n",
    "\n",
    "for epoch in range(num_epochs):\n",
    "    tic = time.time()\n",
    "    loss_list, acc_list = train(model, criterion, trainloader, optimizer, epoch, logging_steps)\n",
    "    test_loss, test_acc = test(model, criterion, testloader)\n",
    "    t = time.time() - tic\n",
    "\n",
    "    train_loss_list.append(loss_list[-1])\n",
    "    train_acc_list.append(acc_list[-1])\n",
    "    test_loss_list.append(test_loss)\n",
    "    test_acc_list.append(test_acc)\n",
    "\n",
    "    if test_acc > best_acc:\n",
    "        best_acc = test_acc\n",
    "    print(f\"Epoch {epoch} | Total Time: {t:.0f}s, Test Loss: {test_loss:.3f}, Test Acc: {test_acc:.3f}\")\n",
    "print(f\"Best Accuracy: {best_acc:.3f}\")\n"
   ]
  },
  {
   "cell_type": "code",
   "execution_count": null,
   "id": "77f2db13-7df1-4672-81fb-877cfc782161",
   "metadata": {},
   "outputs": [],
   "source": [
    "# plot loss and accuracy\n",
    "epoch_list = range(num_epochs)\n",
    "plt.figure(dpi=150)\n",
    "l1 = plt.plot(epoch_list, train_loss_list, 'r-', label='Train Loss')\n",
    "l2 = plt.plot(epoch_list, test_loss_list, 'g-', label='Test Loss')\n",
    "plt.plot(epoch_list, train_loss_list, 'ro', epoch_list, test_loss_list, 'g^')\n",
    "plt.xlabel('Epoch')\n",
    "plt.ylabel('Loss')\n",
    "plt.legend()\n",
    "plt.show()"
   ]
  },
  {
   "cell_type": "code",
   "execution_count": null,
   "id": "44e720a4-1120-43be-9d7a-3f7e9f340d7c",
   "metadata": {
    "tags": []
   },
   "outputs": [],
   "source": [
    "plt.figure(dpi=150)\n",
    "l3 = plt.plot(epoch_list, train_acc_list, 'r-', label='Train Accuracy')\n",
    "l4 = plt.plot(epoch_list, test_acc_list, 'g-', label='Test Accuracy')\n",
    "plt.plot(epoch_list, train_acc_list, 'ro', epoch_list, test_acc_list, 'g^')\n",
    "plt.xlabel('Epoch')\n",
    "plt.ylabel('Accuracy')\n",
    "plt.legend()\n",
    "plt.show()"
   ]
  },
  {
   "cell_type": "code",
   "execution_count": null,
   "id": "53d77aed-3cbc-4a29-9a2e-d35641549be9",
   "metadata": {},
   "outputs": [],
   "source": []
  }
 ],
 "metadata": {
  "kernelspec": {
   "display_name": "Python 3",
   "language": "python",
   "name": "python3"
  },
  "language_info": {
   "codemirror_mode": {
    "name": "ipython",
    "version": 3
   },
   "file_extension": ".py",
   "mimetype": "text/x-python",
   "name": "python",
   "nbconvert_exporter": "python",
   "pygments_lexer": "ipython3",
   "version": "3.8.10"
  }
 },
 "nbformat": 4,
 "nbformat_minor": 5
}
