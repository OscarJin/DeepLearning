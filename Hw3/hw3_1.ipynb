{
 "cells": [
  {
   "cell_type": "markdown",
   "id": "2da49b89-1192-4ad7-8efa-7f38b61fafd6",
   "metadata": {},
   "source": [
    "# Homework 3, ResNet for CIFAR-100\n"
   ]
  },
  {
   "cell_type": "markdown",
   "id": "958a41c9-3ac0-4313-92aa-05ad4bb6f961",
   "metadata": {},
   "source": [
    "## 1. Prepare the dataset and the model\n",
    "### Import Library"
   ]
  },
  {
   "cell_type": "code",
   "execution_count": 1,
   "id": "704dfb5f-488d-4d4f-813d-45d52316e07c",
   "metadata": {},
   "outputs": [],
   "source": [
    "import os\n",
    "import sys\n",
    "\n",
    "import numpy as np\n",
    "import torch\n",
    "import torch.backends.cudnn as cudnn\n",
    "import torch.nn as nn\n",
    "import torch.nn.functional as F\n",
    "import torch.optim as optim\n",
    "import torchvision\n",
    "import torchvision.transforms as transforms\n",
    "from torch.utils.tensorboard import SummaryWriter\n",
    "\n",
    "os.environ[\"CUDA_VISIBLE_DEVICES\"] = \"0\"\n",
    "import time\n",
    "\n",
    "import tqdm"
   ]
  },
  {
   "cell_type": "markdown",
   "id": "37c6aa65-3eeb-4020-82d8-035c0ec29a0f",
   "metadata": {},
   "source": [
    "### Hyperparameters\n",
    "**For step 1, 2,** you may change the value of momentum, weight decay, data augmentation and batch normalization.\n",
    "\n",
    "`mmt`: momentum for the optimizer. Use `0` if you do not want to use the momentum.\n",
    "\n",
    "`wd`: weight decay for the optimizer. Use `0` if you do not want to use the weight decay.\n",
    "\n",
    "`data_augmentation`: whether to use the data augmentation for the training.\n",
    "\n",
    "`use_BN`: wheter to use the batch normalization for the training. "
   ]
  },
  {
   "cell_type": "code",
   "execution_count": 2,
   "id": "e2a13524-df5b-4a31-9aaa-99b0b899eae2",
   "metadata": {},
   "outputs": [],
   "source": [
    "lr = 0.1  # learning rate\n",
    "opt = 'sgd'\n",
    "batchsize = 256  # training batchsize\n",
    "\n",
    "mmt = 0.9  # momentum for optimizer\n",
    "wd = 5e-4  # weight_decay for optimizer\n",
    "data_augmentation = True\n",
    "use_BN = True"
   ]
  },
  {
   "cell_type": "markdown",
   "id": "64b09db2-d22c-4915-b642-40416f6622bd",
   "metadata": {},
   "source": [
    "### Load Dataset\n",
    "In pytorch, you can use the following API to load the dataset.\n",
    "\n",
    "The RGB mean and std are pre-calculated values for normalizing the data. **Do not modify them**."
   ]
  },
  {
   "cell_type": "code",
   "execution_count": 3,
   "id": "454fbb59-155b-4f57-b834-3eef178ca19d",
   "metadata": {},
   "outputs": [
    {
     "name": "stdout",
     "output_type": "stream",
     "text": [
      "Files already downloaded and verified\n",
      "Files already downloaded and verified\n"
     ]
    }
   ],
   "source": [
    "rgb_mean = np.array([0.4914, 0.4822, 0.4465])\n",
    "rgb_std = np.array([0.2023, 0.1994, 0.2010])\n",
    "if data_augmentation:\n",
    "    transform_train = transforms.Compose([\n",
    "        transforms.RandomCrop(32, padding=4),\n",
    "        transforms.RandomHorizontalFlip(), \n",
    "        transforms.ToTensor(),\n",
    "        transforms.Normalize(rgb_mean, rgb_std),\n",
    "    ])\n",
    "else:\n",
    "    transform_train = transforms.Compose([\n",
    "        transforms.ToTensor(),\n",
    "        transforms.Normalize(rgb_mean, rgb_std),\n",
    "    ])\n",
    "\n",
    "transform_test = transforms.Compose([\n",
    "    transforms.ToTensor(),\n",
    "    transforms.Normalize(rgb_mean, rgb_std),\n",
    "])\n",
    "\n",
    "trainset = torchvision.datasets.CIFAR100(\n",
    "    root='../data', train=True, download=True, transform=transform_train)\n",
    "trainloader = torch.utils.data.DataLoader(\n",
    "    trainset, batch_size=batchsize, shuffle=True, num_workers=1)\n",
    "\n",
    "testset = torchvision.datasets.CIFAR100(\n",
    "    root='../data', train=False, download=True, transform=transform_test)\n",
    "testloader = torch.utils.data.DataLoader(\n",
    "    testset, batch_size=500, shuffle=False, num_workers=1)"
   ]
  },
  {
   "cell_type": "markdown",
   "id": "de988042-1dff-4cae-ab43-5a190e26fb02",
   "metadata": {},
   "source": [
    "### Define the CNN Model"
   ]
  },
  {
   "cell_type": "code",
   "execution_count": 4,
   "id": "c828fe5d-3889-4262-b5f7-a480201901f8",
   "metadata": {},
   "outputs": [],
   "source": [
    "class Identity(nn.Module):\n",
    "    def __init__(self) -> None:\n",
    "        super().__init__()\n",
    "\n",
    "    def forward(self, x):\n",
    "        return x\n",
    "\n",
    "class LambdaLayer(nn.Module):\n",
    "    def __init__(self, lambd):\n",
    "        super(LambdaLayer, self).__init__()\n",
    "        self.lambd = lambd\n",
    "\n",
    "    def forward(self, x):\n",
    "        return self.lambd(x)\n",
    "\n",
    "def compute_feature_map_size(ks, pks):\n",
    "    s = 32\n",
    "    for k, pk in zip(ks, pks):\n",
    "        s = s-k+3\n",
    "        s = int(s/pk)\n",
    "    return s\n",
    "\n",
    "class LeNet(nn.Module):\n",
    "    def __init__(self, num_classes, hidden_chns, ks, pks):\n",
    "        super(LeNet, self).__init__()\n",
    "        in_chns, out_chns = [3, *hidden_chns[:-1]], hidden_chns\n",
    "        layers = []\n",
    "        for ic, oc, k, pk in zip(in_chns, out_chns, ks, pks):\n",
    "            layers.append(nn.Conv2d(ic, oc, kernel_size=k, stride=1, padding=1))\n",
    "            if use_BN:\n",
    "                layers.append(nn.BatchNorm2d(oc))\n",
    "            layers.append(nn.MaxPool2d(kernel_size=pk, stride=2) if pk>1 else Identity()) \n",
    "            layers.append(nn.ReLU(inplace=True))\n",
    "        self.layers = nn.Sequential(*layers)\n",
    "\n",
    "        s = compute_feature_map_size(ks, pks)\n",
    "        print(f\"feature size: {s}\")\n",
    "\n",
    "#         self.fc = nn.Linear(hidden_chns[-1] * s * s, num_classes)\n",
    "        self.fc = nn.Sequential(\n",
    "            nn.Linear(hidden_chns[-1] * s * s, 128),\n",
    "            nn.ReLU(inplace=True),\n",
    "            nn.Dropout(),\n",
    "            nn.Linear(128, 128),\n",
    "            nn.ReLU(inplace=True),\n",
    "            nn.Dropout(),\n",
    "            nn.Linear(128, num_classes)\n",
    "        )\n",
    "\n",
    "    def forward(self, x):\n",
    "        x = self.layers(x)\n",
    "        x = x.view(x.size(0), -1)\n",
    "        return self.fc(x)\n",
    "\n",
    "class BasicBlock(nn.Module):\n",
    "    expansion = 1\n",
    "\n",
    "    def __init__(self, in_planes, planes, stride=1):\n",
    "        super(BasicBlock, self).__init__()\n",
    "        self.conv1 = nn.Conv2d(in_planes, planes, kernel_size=3, stride=stride, padding=1, bias=False)\n",
    "        self.bn1 = nn.BatchNorm2d(planes) if use_BN else Identity()\n",
    "        self.conv2 = nn.Conv2d(planes, planes, kernel_size=3, stride=1, padding=1, bias=False)\n",
    "        self.bn2 = nn.BatchNorm2d(planes) if use_BN else Identity()\n",
    "\n",
    "        self.shortcut = nn.Sequential()\n",
    "        if stride != 1 or in_planes != planes:\n",
    "            \"\"\"\n",
    "            For CIFAR10 ResNet paper uses option A.\n",
    "            \"\"\"\n",
    "            self.shortcut = LambdaLayer(lambda x:\n",
    "                                        F.pad(x[:, :, ::2, ::2], (0, 0, 0, 0, planes//4, planes//4), \"constant\", 0))\n",
    "\n",
    "    def forward(self, x):\n",
    "        out = F.relu(self.bn1(self.conv1(x)))\n",
    "        out = self.bn2(self.conv2(out))\n",
    "        out += self.shortcut(x)\n",
    "        out = F.relu(out)\n",
    "        return out\n",
    "\n",
    "class ResNet(nn.Module):\n",
    "    def __init__(self, block, num_blocks, channels, num_classes=10):\n",
    "        super(ResNet, self).__init__()\n",
    "        self.in_planes = channels[0]\n",
    "\n",
    "        self.conv1 = nn.Conv2d(3, channels[0], kernel_size=3, stride=1, padding=1, bias=False)\n",
    "        self.bn1 = nn.BatchNorm2d(channels[0]) if use_BN else Identity()\n",
    "        self.layer1 = self._make_layer(block, channels[0], num_blocks[0], stride=1)\n",
    "        self.layer2 = self._make_layer(block, channels[1], num_blocks[1], stride=2)\n",
    "        self.layer3 = self._make_layer(block, channels[2], num_blocks[2], stride=2)\n",
    "        self.linear = nn.Linear(channels[2], num_classes)\n",
    "\n",
    "    def _make_layer(self, block, planes, num_blocks, stride):\n",
    "        strides = [stride] + [1]*(num_blocks-1)\n",
    "        layers = []\n",
    "        for stride in strides:\n",
    "            layers.append(block(self.in_planes, planes, stride))\n",
    "            self.in_planes = planes * block.expansion\n",
    "\n",
    "        return nn.Sequential(*layers)\n",
    "\n",
    "    def forward(self, x):\n",
    "        out = F.relu(self.bn1(self.conv1(x)))\n",
    "        out = self.layer1(out)\n",
    "        out = self.layer2(out)\n",
    "        out = self.layer3(out)\n",
    "        out = F.avg_pool2d(out, out.size()[3])\n",
    "        out = out.view(out.size(0), -1)\n",
    "        out = self.linear(out)\n",
    "        return out\n",
    "\n",
    "def lenet(hidden_chns, ks, pks):\n",
    "    return LeNet(num_classes=100, hidden_chns=hidden_chns, ks=ks, pks=pks)\n",
    "\n",
    "\n",
    "def resnet20(channels):\n",
    "    return ResNet(BasicBlock, [3, 3, 3], channels, num_classes=100)\n",
    "\n",
    "\n",
    "def resnet32(channels):\n",
    "    return ResNet(BasicBlock, [5, 5, 5], channels, num_classes=100)\n",
    "\n",
    "\n",
    "def resnet44(channels):\n",
    "    return ResNet(BasicBlock, [7, 7, 7], channels, num_classes=100)\n",
    "\n",
    "\n",
    "def resnet56(channels):\n",
    "    return ResNet(BasicBlock, [9, 9, 9], channels, num_classes=100)\n"
   ]
  },
  {
   "cell_type": "markdown",
   "id": "6c3f1ce2-5dd6-48ba-843f-161df36d8d5d",
   "metadata": {},
   "source": [
    "## 2. Define the model and run\n",
    "\n",
    "### Training settings\n",
    "You may modify the `num_epochs` for the fast training or the better performance."
   ]
  },
  {
   "cell_type": "code",
   "execution_count": 5,
   "id": "5559de8f-6242-4241-b7f6-2faab5c46328",
   "metadata": {},
   "outputs": [],
   "source": [
    "num_epochs = 50  # training epochs\n",
    "best_acc = 0.0  # best accuracy"
   ]
  },
  {
   "cell_type": "markdown",
   "id": "ad2e59ae-dcb0-452a-b45d-78cc89debe72",
   "metadata": {},
   "source": [
    "### Define the model, optimizer, loss function, learning rate scheduler\n",
    "For step 1, 2, you need to change the network structure of the CNN.\n",
    "\n",
    "For CNN:\n",
    "\n",
    "  - `hidden_chns`: a list of the hidden channels of the conv layer.\n",
    "\n",
    "  - `ks`: a list of the kernel sizes of the conv layer.\n",
    "\n",
    "  - `pks`: a list of the pooling kernel sizes of the pooling layer. Use `1` if you do not want to use a pooling layer (and it will be an identity function).\n",
    "\n",
    "For ResNet:\n",
    "\n",
    "  - You can use resnet20, 32, 44 and 56 (which are the default settings for the original ResNet).\n",
    " \n",
    "  - `channels`: a list of the hidden channels of the resblock."
   ]
  },
  {
   "cell_type": "code",
   "execution_count": 6,
   "id": "3fcd3b75-035a-4286-94d4-7afb7cab0657",
   "metadata": {},
   "outputs": [
    {
     "name": "stdout",
     "output_type": "stream",
     "text": [
      "feature size: 16\n",
      "cuda\n"
     ]
    }
   ],
   "source": [
    "## For Step 1\n",
    "net = lenet(\n",
    "    hidden_chns=[32],\n",
    "    ks=[3],\n",
    "    pks=[2]\n",
    ")\n",
    "\n",
    "## For Step 2\n",
    "# net = resnet20(channels=[16, 32, 64])\n",
    "\n",
    "device = \"cuda\" if torch.cuda.is_available() else \"cpu\"\n",
    "print(device)\n",
    "net = net.to(device)  # put the model on the specified device(e.g. gpu/cpu)\n",
    "\n",
    "# loss function\n",
    "criterion = nn.CrossEntropyLoss()\n",
    "\n",
    "# optimizer\n",
    "optimizer = optim.SGD(net.parameters(), lr=lr, momentum=mmt, weight_decay=wd) # momentum\n",
    "\n",
    "# learning rate scheduler\n",
    "scheduler = torch.optim.lr_scheduler.CosineAnnealingLR(optimizer, T_max=200)"
   ]
  },
  {
   "cell_type": "markdown",
   "id": "c5789a90-3f4e-49c2-8c93-c28a33c105da",
   "metadata": {},
   "source": [
    "### Check the total number of parameters"
   ]
  },
  {
   "cell_type": "code",
   "execution_count": 7,
   "id": "2389dbef-e616-4690-97f1-ef374e1d1cce",
   "metadata": {},
   "outputs": [
    {
     "name": "stdout",
     "output_type": "stream",
     "text": [
      "Total number of params 1079076\n",
      "Total layers 4\n"
     ]
    }
   ],
   "source": [
    "def count_params(net):\n",
    "    # you can use this function to count amount of your model parameters\n",
    "    import numpy as np\n",
    "    total_params = 0\n",
    "\n",
    "    for x in filter(lambda p: p.requires_grad, net.parameters()):\n",
    "        total_params += np.prod(x.data.cpu().numpy().shape)\n",
    "    print(\"Total number of params\", total_params)\n",
    "    print(\"Total layers\", len(list(filter(lambda p: p.requires_grad and len(p.data.size())>1, net.parameters()))))\n",
    "\n",
    "\n",
    "count_params(net)"
   ]
  },
  {
   "cell_type": "markdown",
   "id": "fa9285ae-3ead-4b49-8c40-6833919a1591",
   "metadata": {},
   "source": [
    "### Training logs\n",
    "The training logs are saved in the `exp` folder. You can use tensorboard to see the logs."
   ]
  },
  {
   "cell_type": "code",
   "execution_count": 8,
   "id": "972fc6a8-282a-4da7-bb6b-59279a3c2f09",
   "metadata": {},
   "outputs": [],
   "source": [
    "if not os.path.exists(\"exp\"):\n",
    "    os.mkdir(\"exp\")\n",
    "last_train = max([eval(s.split(\"-\")[-1]) for s in os.listdir(\"exp\")] + [0])\n",
    "current_train = last_train + 1\n",
    "save_dir = \"exp/cifar100-{}\".format(current_train)\n",
    "os.makedirs(save_dir)\n",
    "writer = SummaryWriter(save_dir)\n",
    "\n",
    "best_acc = 0"
   ]
  },
  {
   "cell_type": "markdown",
   "id": "18714981-d3f5-4888-9333-055508713dce",
   "metadata": {},
   "source": [
    "### Training and testing"
   ]
  },
  {
   "cell_type": "code",
   "execution_count": 9,
   "id": "e08130fc-5109-4174-a32c-2173a69c5dde",
   "metadata": {},
   "outputs": [
    {
     "name": "stderr",
     "output_type": "stream",
     "text": [
      "Epoch 0 train:   0%|          | 0/196 [00:00<?, ?it/s]/opt/conda/lib/python3.8/site-packages/torch/nn/functional.py:718: UserWarning: Named tensors and all their associated APIs are an experimental feature and subject to change. Please do not use them for anything important until they are released as stable. (Triggered internally at  /pytorch/c10/core/TensorImpl.h:1156.)\n",
      "  return torch.max_pool2d(input, kernel_size, stride, padding, dilation, ceil_mode)\n",
      "Epoch 0 train: 100%|██████████| 196/196 [00:16<00:00, 11.91it/s, loss=4.448, acc=2.670%, 1335/50000]\n",
      "Epoch 0  test: 100%|██████████| 20/20 [00:02<00:00,  6.73it/s, loss=4.233, acc=4.700%, 470/10000]"
     ]
    },
    {
     "name": "stdout",
     "output_type": "stream",
     "text": [
      "Saving..\n",
      "Epoch 0 | total time: 20s, test acc: 4.700%, best acc: 4.700%\n"
     ]
    },
    {
     "name": "stderr",
     "output_type": "stream",
     "text": [
      "\n",
      "Epoch 1 train: 100%|██████████| 196/196 [00:16<00:00, 12.24it/s, loss=4.304, acc=3.702%, 1851/50000]\n",
      "Epoch 1  test: 100%|██████████| 20/20 [00:02<00:00,  8.40it/s, loss=4.077, acc=6.610%, 661/10000]"
     ]
    },
    {
     "name": "stdout",
     "output_type": "stream",
     "text": [
      "Saving..\n",
      "Epoch 1 | total time: 19s, test acc: 6.610%, best acc: 6.610%\n"
     ]
    },
    {
     "name": "stderr",
     "output_type": "stream",
     "text": [
      "\n",
      "Epoch 2 train: 100%|██████████| 196/196 [00:16<00:00, 11.63it/s, loss=4.196, acc=4.450%, 2225/50000]\n",
      "Epoch 2  test: 100%|██████████| 20/20 [00:03<00:00,  6.47it/s, loss=4.019, acc=8.160%, 816/10000]"
     ]
    },
    {
     "name": "stdout",
     "output_type": "stream",
     "text": [
      "Saving..\n",
      "Epoch 2 | total time: 20s, test acc: 8.160%, best acc: 8.160%\n"
     ]
    },
    {
     "name": "stderr",
     "output_type": "stream",
     "text": [
      "\n",
      "Epoch 3 train: 100%|██████████| 196/196 [00:16<00:00, 11.67it/s, loss=4.140, acc=5.082%, 2541/50000]\n",
      "Epoch 3  test: 100%|██████████| 20/20 [00:02<00:00,  6.72it/s, loss=3.981, acc=8.470%, 847/10000]"
     ]
    },
    {
     "name": "stdout",
     "output_type": "stream",
     "text": [
      "Saving..\n",
      "Epoch 3 | total time: 20s, test acc: 8.470%, best acc: 8.470%\n"
     ]
    },
    {
     "name": "stderr",
     "output_type": "stream",
     "text": [
      "\n",
      "Epoch 4 train: 100%|██████████| 196/196 [00:16<00:00, 11.74it/s, loss=4.108, acc=5.486%, 2743/50000]\n",
      "Epoch 4  test: 100%|██████████| 20/20 [00:02<00:00,  7.43it/s, loss=3.951, acc=8.730%, 873/10000]"
     ]
    },
    {
     "name": "stdout",
     "output_type": "stream",
     "text": [
      "Saving..\n",
      "Epoch 4 | total time: 20s, test acc: 8.730%, best acc: 8.730%\n"
     ]
    },
    {
     "name": "stderr",
     "output_type": "stream",
     "text": [
      "\n",
      "Epoch 5 train: 100%|██████████| 196/196 [00:16<00:00, 11.86it/s, loss=4.079, acc=5.884%, 2942/50000]\n",
      "Epoch 5  test: 100%|██████████| 20/20 [00:03<00:00,  6.45it/s, loss=3.919, acc=9.120%, 912/10000]"
     ]
    },
    {
     "name": "stdout",
     "output_type": "stream",
     "text": [
      "Saving..\n",
      "Epoch 5 | total time: 20s, test acc: 9.120%, best acc: 9.120%\n"
     ]
    },
    {
     "name": "stderr",
     "output_type": "stream",
     "text": [
      "\n",
      "Epoch 6 train: 100%|██████████| 196/196 [00:16<00:00, 12.13it/s, loss=4.055, acc=6.398%, 3199/50000]\n",
      "Epoch 6  test: 100%|██████████| 20/20 [00:03<00:00,  6.24it/s, loss=3.874, acc=10.050%, 1005/10000]"
     ]
    },
    {
     "name": "stdout",
     "output_type": "stream",
     "text": [
      "Saving..\n",
      "Epoch 6 | total time: 20s, test acc: 10.050%, best acc: 10.050%\n"
     ]
    },
    {
     "name": "stderr",
     "output_type": "stream",
     "text": [
      "\n",
      "Epoch 7 train: 100%|██████████| 196/196 [00:16<00:00, 11.67it/s, loss=4.018, acc=6.742%, 3371/50000]\n",
      "Epoch 7  test: 100%|██████████| 20/20 [00:02<00:00,  8.16it/s, loss=3.787, acc=10.910%, 1091/10000]"
     ]
    },
    {
     "name": "stdout",
     "output_type": "stream",
     "text": [
      "Saving..\n",
      "Epoch 7 | total time: 20s, test acc: 10.910%, best acc: 10.910%\n"
     ]
    },
    {
     "name": "stderr",
     "output_type": "stream",
     "text": [
      "\n",
      "Epoch 8 train: 100%|██████████| 196/196 [00:16<00:00, 11.73it/s, loss=4.002, acc=7.080%, 3540/50000]\n",
      "Epoch 8  test: 100%|██████████| 20/20 [00:02<00:00,  6.80it/s, loss=3.785, acc=11.930%, 1193/10000]"
     ]
    },
    {
     "name": "stdout",
     "output_type": "stream",
     "text": [
      "Saving..\n",
      "Epoch 8 | total time: 20s, test acc: 11.930%, best acc: 11.930%\n"
     ]
    },
    {
     "name": "stderr",
     "output_type": "stream",
     "text": [
      "\n",
      "Epoch 9 train: 100%|██████████| 196/196 [00:16<00:00, 11.89it/s, loss=3.984, acc=7.366%, 3683/50000]\n",
      "Epoch 9  test: 100%|██████████| 20/20 [00:02<00:00,  6.71it/s, loss=3.758, acc=11.850%, 1185/10000]"
     ]
    },
    {
     "name": "stdout",
     "output_type": "stream",
     "text": [
      "Epoch 9 | total time: 20s, test acc: 11.850%, best acc: 11.930%\n"
     ]
    },
    {
     "name": "stderr",
     "output_type": "stream",
     "text": [
      "\n",
      "Epoch 10 train: 100%|██████████| 196/196 [00:16<00:00, 11.61it/s, loss=3.966, acc=7.690%, 3845/50000]\n",
      "Epoch 10  test: 100%|██████████| 20/20 [00:03<00:00,  6.63it/s, loss=3.715, acc=14.410%, 1441/10000]"
     ]
    },
    {
     "name": "stdout",
     "output_type": "stream",
     "text": [
      "Saving..\n",
      "Epoch 10 | total time: 20s, test acc: 14.410%, best acc: 14.410%\n"
     ]
    },
    {
     "name": "stderr",
     "output_type": "stream",
     "text": [
      "\n",
      "Epoch 11 train: 100%|██████████| 196/196 [00:16<00:00, 11.65it/s, loss=3.939, acc=7.966%, 3983/50000]\n",
      "Epoch 11  test: 100%|██████████| 20/20 [00:03<00:00,  6.32it/s, loss=3.757, acc=12.210%, 1221/10000]"
     ]
    },
    {
     "name": "stdout",
     "output_type": "stream",
     "text": [
      "Epoch 11 | total time: 20s, test acc: 12.210%, best acc: 14.410%\n"
     ]
    },
    {
     "name": "stderr",
     "output_type": "stream",
     "text": [
      "\n",
      "Epoch 12 train: 100%|██████████| 196/196 [00:16<00:00, 11.93it/s, loss=3.946, acc=8.014%, 4007/50000]\n",
      "Epoch 12  test: 100%|██████████| 20/20 [00:03<00:00,  6.57it/s, loss=3.753, acc=12.560%, 1256/10000]"
     ]
    },
    {
     "name": "stdout",
     "output_type": "stream",
     "text": [
      "Epoch 12 | total time: 20s, test acc: 12.560%, best acc: 14.410%\n"
     ]
    },
    {
     "name": "stderr",
     "output_type": "stream",
     "text": [
      "\n",
      "Epoch 13 train: 100%|██████████| 196/196 [00:16<00:00, 11.65it/s, loss=3.935, acc=8.022%, 4011/50000]\n",
      "Epoch 13  test: 100%|██████████| 20/20 [00:03<00:00,  6.63it/s, loss=3.696, acc=13.720%, 1372/10000]"
     ]
    },
    {
     "name": "stdout",
     "output_type": "stream",
     "text": [
      "Epoch 13 | total time: 20s, test acc: 13.720%, best acc: 14.410%\n"
     ]
    },
    {
     "name": "stderr",
     "output_type": "stream",
     "text": [
      "\n",
      "Epoch 14 train: 100%|██████████| 196/196 [00:16<00:00, 11.63it/s, loss=3.933, acc=8.300%, 4150/50000]\n",
      "Epoch 14  test: 100%|██████████| 20/20 [00:03<00:00,  6.52it/s, loss=3.753, acc=11.900%, 1190/10000]"
     ]
    },
    {
     "name": "stdout",
     "output_type": "stream",
     "text": [
      "Epoch 14 | total time: 20s, test acc: 11.900%, best acc: 14.410%\n"
     ]
    },
    {
     "name": "stderr",
     "output_type": "stream",
     "text": [
      "\n",
      "Epoch 15 train: 100%|██████████| 196/196 [00:16<00:00, 11.73it/s, loss=3.937, acc=8.262%, 4131/50000]\n",
      "Epoch 15  test: 100%|██████████| 20/20 [00:03<00:00,  6.41it/s, loss=3.706, acc=13.620%, 1362/10000]"
     ]
    },
    {
     "name": "stdout",
     "output_type": "stream",
     "text": [
      "Epoch 15 | total time: 20s, test acc: 13.620%, best acc: 14.410%\n"
     ]
    },
    {
     "name": "stderr",
     "output_type": "stream",
     "text": [
      "\n",
      "Epoch 16 train: 100%|██████████| 196/196 [00:16<00:00, 11.70it/s, loss=3.927, acc=8.606%, 4303/50000]\n",
      "Epoch 16  test: 100%|██████████| 20/20 [00:02<00:00,  7.66it/s, loss=3.679, acc=13.430%, 1343/10000]"
     ]
    },
    {
     "name": "stdout",
     "output_type": "stream",
     "text": [
      "Epoch 16 | total time: 20s, test acc: 13.430%, best acc: 14.410%\n"
     ]
    },
    {
     "name": "stderr",
     "output_type": "stream",
     "text": [
      "\n",
      "Epoch 17 train: 100%|██████████| 196/196 [00:16<00:00, 11.88it/s, loss=3.914, acc=8.854%, 4427/50000]\n",
      "Epoch 17  test: 100%|██████████| 20/20 [00:03<00:00,  6.45it/s, loss=3.631, acc=14.800%, 1480/10000]"
     ]
    },
    {
     "name": "stdout",
     "output_type": "stream",
     "text": [
      "Saving..\n",
      "Epoch 17 | total time: 20s, test acc: 14.800%, best acc: 14.800%\n"
     ]
    },
    {
     "name": "stderr",
     "output_type": "stream",
     "text": [
      "\n",
      "Epoch 18 train: 100%|██████████| 196/196 [00:16<00:00, 11.69it/s, loss=3.904, acc=8.656%, 4328/50000]\n",
      "Epoch 18  test: 100%|██████████| 20/20 [00:03<00:00,  6.44it/s, loss=3.657, acc=14.670%, 1467/10000]"
     ]
    },
    {
     "name": "stdout",
     "output_type": "stream",
     "text": [
      "Epoch 18 | total time: 20s, test acc: 14.670%, best acc: 14.800%\n"
     ]
    },
    {
     "name": "stderr",
     "output_type": "stream",
     "text": [
      "\n",
      "Epoch 19 train: 100%|██████████| 196/196 [00:16<00:00, 11.86it/s, loss=3.896, acc=8.958%, 4479/50000]\n",
      "Epoch 19  test: 100%|██████████| 20/20 [00:03<00:00,  6.48it/s, loss=3.687, acc=13.680%, 1368/10000]"
     ]
    },
    {
     "name": "stdout",
     "output_type": "stream",
     "text": [
      "Epoch 19 | total time: 20s, test acc: 13.680%, best acc: 14.800%\n"
     ]
    },
    {
     "name": "stderr",
     "output_type": "stream",
     "text": [
      "\n",
      "Epoch 20 train: 100%|██████████| 196/196 [00:16<00:00, 11.78it/s, loss=3.910, acc=8.844%, 4422/50000]\n",
      "Epoch 20  test: 100%|██████████| 20/20 [00:03<00:00,  6.14it/s, loss=3.652, acc=15.070%, 1507/10000]"
     ]
    },
    {
     "name": "stdout",
     "output_type": "stream",
     "text": [
      "Saving..\n",
      "Epoch 20 | total time: 20s, test acc: 15.070%, best acc: 15.070%\n"
     ]
    },
    {
     "name": "stderr",
     "output_type": "stream",
     "text": [
      "\n",
      "Epoch 21 train: 100%|██████████| 196/196 [00:16<00:00, 11.64it/s, loss=3.873, acc=9.234%, 4617/50000]\n",
      "Epoch 21  test: 100%|██████████| 20/20 [00:02<00:00,  7.37it/s, loss=3.663, acc=13.960%, 1396/10000]"
     ]
    },
    {
     "name": "stdout",
     "output_type": "stream",
     "text": [
      "Epoch 21 | total time: 20s, test acc: 13.960%, best acc: 15.070%\n"
     ]
    },
    {
     "name": "stderr",
     "output_type": "stream",
     "text": [
      "\n",
      "Epoch 22 train: 100%|██████████| 196/196 [00:16<00:00, 11.62it/s, loss=3.879, acc=9.212%, 4606/50000]\n",
      "Epoch 22  test: 100%|██████████| 20/20 [00:03<00:00,  6.61it/s, loss=3.576, acc=16.350%, 1635/10000]"
     ]
    },
    {
     "name": "stdout",
     "output_type": "stream",
     "text": [
      "Saving..\n",
      "Epoch 22 | total time: 20s, test acc: 16.350%, best acc: 16.350%\n"
     ]
    },
    {
     "name": "stderr",
     "output_type": "stream",
     "text": [
      "\n",
      "Epoch 23 train: 100%|██████████| 196/196 [00:16<00:00, 11.69it/s, loss=3.878, acc=9.532%, 4766/50000]\n",
      "Epoch 23  test: 100%|██████████| 20/20 [00:03<00:00,  6.28it/s, loss=3.663, acc=14.150%, 1415/10000]"
     ]
    },
    {
     "name": "stdout",
     "output_type": "stream",
     "text": [
      "Epoch 23 | total time: 20s, test acc: 14.150%, best acc: 16.350%\n"
     ]
    },
    {
     "name": "stderr",
     "output_type": "stream",
     "text": [
      "\n",
      "Epoch 24 train: 100%|██████████| 196/196 [00:16<00:00, 12.01it/s, loss=3.864, acc=9.220%, 4610/50000]\n",
      "Epoch 24  test: 100%|██████████| 20/20 [00:03<00:00,  6.55it/s, loss=3.632, acc=14.260%, 1426/10000]"
     ]
    },
    {
     "name": "stdout",
     "output_type": "stream",
     "text": [
      "Epoch 24 | total time: 20s, test acc: 14.260%, best acc: 16.350%\n"
     ]
    },
    {
     "name": "stderr",
     "output_type": "stream",
     "text": [
      "\n",
      "Epoch 25 train: 100%|██████████| 196/196 [00:16<00:00, 11.63it/s, loss=3.865, acc=9.506%, 4753/50000]\n",
      "Epoch 25  test: 100%|██████████| 20/20 [00:03<00:00,  6.63it/s, loss=3.584, acc=15.350%, 1535/10000]"
     ]
    },
    {
     "name": "stdout",
     "output_type": "stream",
     "text": [
      "Epoch 25 | total time: 20s, test acc: 15.350%, best acc: 16.350%\n"
     ]
    },
    {
     "name": "stderr",
     "output_type": "stream",
     "text": [
      "\n",
      "Epoch 26 train: 100%|██████████| 196/196 [00:16<00:00, 11.96it/s, loss=3.854, acc=9.812%, 4906/50000]\n",
      "Epoch 26  test: 100%|██████████| 20/20 [00:03<00:00,  6.66it/s, loss=3.629, acc=13.920%, 1392/10000]"
     ]
    },
    {
     "name": "stdout",
     "output_type": "stream",
     "text": [
      "Epoch 26 | total time: 20s, test acc: 13.920%, best acc: 16.350%\n"
     ]
    },
    {
     "name": "stderr",
     "output_type": "stream",
     "text": [
      "\n",
      "Epoch 27 train: 100%|██████████| 196/196 [00:16<00:00, 11.64it/s, loss=3.845, acc=9.748%, 4874/50000]\n",
      "Epoch 27  test: 100%|██████████| 20/20 [00:03<00:00,  6.58it/s, loss=3.571, acc=16.440%, 1644/10000]"
     ]
    },
    {
     "name": "stdout",
     "output_type": "stream",
     "text": [
      "Saving..\n",
      "Epoch 27 | total time: 20s, test acc: 16.440%, best acc: 16.440%\n"
     ]
    },
    {
     "name": "stderr",
     "output_type": "stream",
     "text": [
      "\n",
      "Epoch 28 train: 100%|██████████| 196/196 [00:16<00:00, 12.02it/s, loss=3.853, acc=9.840%, 4920/50000]\n",
      "Epoch 28  test: 100%|██████████| 20/20 [00:03<00:00,  6.32it/s, loss=3.530, acc=16.370%, 1637/10000]"
     ]
    },
    {
     "name": "stdout",
     "output_type": "stream",
     "text": [
      "Epoch 28 | total time: 20s, test acc: 16.370%, best acc: 16.440%\n"
     ]
    },
    {
     "name": "stderr",
     "output_type": "stream",
     "text": [
      "\n",
      "Epoch 29 train: 100%|██████████| 196/196 [00:16<00:00, 12.14it/s, loss=3.845, acc=9.668%, 4834/50000]\n",
      "Epoch 29  test: 100%|██████████| 20/20 [00:03<00:00,  6.58it/s, loss=3.527, acc=16.480%, 1648/10000]"
     ]
    },
    {
     "name": "stdout",
     "output_type": "stream",
     "text": [
      "Saving..\n",
      "Epoch 29 | total time: 20s, test acc: 16.480%, best acc: 16.480%\n"
     ]
    },
    {
     "name": "stderr",
     "output_type": "stream",
     "text": [
      "\n",
      "Epoch 30 train: 100%|██████████| 196/196 [00:16<00:00, 12.14it/s, loss=3.834, acc=10.156%, 5078/50000]\n",
      "Epoch 30  test: 100%|██████████| 20/20 [00:03<00:00,  6.12it/s, loss=3.468, acc=17.160%, 1716/10000]"
     ]
    },
    {
     "name": "stdout",
     "output_type": "stream",
     "text": [
      "Saving..\n",
      "Epoch 30 | total time: 20s, test acc: 17.160%, best acc: 17.160%\n"
     ]
    },
    {
     "name": "stderr",
     "output_type": "stream",
     "text": [
      "\n",
      "Epoch 31 train: 100%|██████████| 196/196 [00:16<00:00, 11.72it/s, loss=3.848, acc=9.664%, 4832/50000]\n",
      "Epoch 31  test: 100%|██████████| 20/20 [00:03<00:00,  6.61it/s, loss=3.521, acc=17.400%, 1740/10000]"
     ]
    },
    {
     "name": "stdout",
     "output_type": "stream",
     "text": [
      "Saving..\n",
      "Epoch 31 | total time: 20s, test acc: 17.400%, best acc: 17.400%\n"
     ]
    },
    {
     "name": "stderr",
     "output_type": "stream",
     "text": [
      "\n",
      "Epoch 32 train: 100%|██████████| 196/196 [00:16<00:00, 11.67it/s, loss=3.825, acc=10.080%, 5040/50000]\n",
      "Epoch 32  test: 100%|██████████| 20/20 [00:02<00:00,  7.99it/s, loss=3.515, acc=17.030%, 1703/10000]"
     ]
    },
    {
     "name": "stdout",
     "output_type": "stream",
     "text": [
      "Epoch 32 | total time: 20s, test acc: 17.030%, best acc: 17.400%\n"
     ]
    },
    {
     "name": "stderr",
     "output_type": "stream",
     "text": [
      "\n",
      "Epoch 33 train: 100%|██████████| 196/196 [00:16<00:00, 12.16it/s, loss=3.842, acc=10.050%, 5025/50000]\n",
      "Epoch 33  test: 100%|██████████| 20/20 [00:03<00:00,  6.60it/s, loss=3.529, acc=16.680%, 1668/10000]"
     ]
    },
    {
     "name": "stdout",
     "output_type": "stream",
     "text": [
      "Epoch 33 | total time: 20s, test acc: 16.680%, best acc: 17.400%\n"
     ]
    },
    {
     "name": "stderr",
     "output_type": "stream",
     "text": [
      "\n",
      "Epoch 34 train: 100%|██████████| 196/196 [00:16<00:00, 11.88it/s, loss=3.821, acc=10.454%, 5227/50000]\n",
      "Epoch 34  test: 100%|██████████| 20/20 [00:03<00:00,  6.52it/s, loss=3.505, acc=17.140%, 1714/10000]"
     ]
    },
    {
     "name": "stdout",
     "output_type": "stream",
     "text": [
      "Epoch 34 | total time: 20s, test acc: 17.140%, best acc: 17.400%\n"
     ]
    },
    {
     "name": "stderr",
     "output_type": "stream",
     "text": [
      "\n",
      "Epoch 35 train: 100%|██████████| 196/196 [00:16<00:00, 11.86it/s, loss=3.807, acc=10.632%, 5316/50000]\n",
      "Epoch 35  test: 100%|██████████| 20/20 [00:02<00:00,  6.68it/s, loss=3.605, acc=15.090%, 1509/10000]"
     ]
    },
    {
     "name": "stdout",
     "output_type": "stream",
     "text": [
      "Epoch 35 | total time: 20s, test acc: 15.090%, best acc: 17.400%\n"
     ]
    },
    {
     "name": "stderr",
     "output_type": "stream",
     "text": [
      "\n",
      "Epoch 36 train: 100%|██████████| 196/196 [00:16<00:00, 11.69it/s, loss=3.823, acc=10.482%, 5241/50000]\n",
      "Epoch 36  test: 100%|██████████| 20/20 [00:03<00:00,  6.63it/s, loss=3.504, acc=16.770%, 1677/10000]"
     ]
    },
    {
     "name": "stdout",
     "output_type": "stream",
     "text": [
      "Epoch 36 | total time: 20s, test acc: 16.770%, best acc: 17.400%\n"
     ]
    },
    {
     "name": "stderr",
     "output_type": "stream",
     "text": [
      "\n",
      "Epoch 37 train: 100%|██████████| 196/196 [00:16<00:00, 11.75it/s, loss=3.803, acc=10.620%, 5310/50000]\n",
      "Epoch 37  test: 100%|██████████| 20/20 [00:03<00:00,  6.62it/s, loss=3.480, acc=17.340%, 1734/10000]"
     ]
    },
    {
     "name": "stdout",
     "output_type": "stream",
     "text": [
      "Epoch 37 | total time: 20s, test acc: 17.340%, best acc: 17.400%\n"
     ]
    },
    {
     "name": "stderr",
     "output_type": "stream",
     "text": [
      "\n",
      "Epoch 38 train: 100%|██████████| 196/196 [00:16<00:00, 11.66it/s, loss=3.801, acc=10.516%, 5258/50000]\n",
      "Epoch 38  test: 100%|██████████| 20/20 [00:02<00:00,  7.46it/s, loss=3.464, acc=17.520%, 1752/10000]"
     ]
    },
    {
     "name": "stdout",
     "output_type": "stream",
     "text": [
      "Saving..\n",
      "Epoch 38 | total time: 20s, test acc: 17.520%, best acc: 17.520%\n"
     ]
    },
    {
     "name": "stderr",
     "output_type": "stream",
     "text": [
      "\n",
      "Epoch 39 train: 100%|██████████| 196/196 [00:16<00:00, 12.12it/s, loss=3.803, acc=10.634%, 5317/50000]\n",
      "Epoch 39  test: 100%|██████████| 20/20 [00:03<00:00,  6.40it/s, loss=3.490, acc=16.660%, 1666/10000]"
     ]
    },
    {
     "name": "stdout",
     "output_type": "stream",
     "text": [
      "Epoch 39 | total time: 20s, test acc: 16.660%, best acc: 17.520%\n"
     ]
    },
    {
     "name": "stderr",
     "output_type": "stream",
     "text": [
      "\n",
      "Epoch 40 train: 100%|██████████| 196/196 [00:16<00:00, 11.67it/s, loss=3.797, acc=10.518%, 5259/50000]\n",
      "Epoch 40  test: 100%|██████████| 20/20 [00:02<00:00,  6.95it/s, loss=3.531, acc=18.210%, 1821/10000]"
     ]
    },
    {
     "name": "stdout",
     "output_type": "stream",
     "text": [
      "Saving..\n",
      "Epoch 40 | total time: 20s, test acc: 18.210%, best acc: 18.210%\n"
     ]
    },
    {
     "name": "stderr",
     "output_type": "stream",
     "text": [
      "\n",
      "Epoch 41 train: 100%|██████████| 196/196 [00:16<00:00, 11.82it/s, loss=3.793, acc=10.700%, 5350/50000]\n",
      "Epoch 41  test: 100%|██████████| 20/20 [00:03<00:00,  6.59it/s, loss=3.459, acc=18.510%, 1851/10000]"
     ]
    },
    {
     "name": "stdout",
     "output_type": "stream",
     "text": [
      "Saving..\n",
      "Epoch 41 | total time: 20s, test acc: 18.510%, best acc: 18.510%\n"
     ]
    },
    {
     "name": "stderr",
     "output_type": "stream",
     "text": [
      "\n",
      "Epoch 42 train: 100%|██████████| 196/196 [00:16<00:00, 11.89it/s, loss=3.788, acc=10.796%, 5398/50000]\n",
      "Epoch 42  test: 100%|██████████| 20/20 [00:03<00:00,  6.50it/s, loss=3.545, acc=17.060%, 1706/10000]"
     ]
    },
    {
     "name": "stdout",
     "output_type": "stream",
     "text": [
      "Epoch 42 | total time: 20s, test acc: 17.060%, best acc: 18.510%\n"
     ]
    },
    {
     "name": "stderr",
     "output_type": "stream",
     "text": [
      "\n",
      "Epoch 43 train: 100%|██████████| 196/196 [00:16<00:00, 11.77it/s, loss=3.775, acc=10.654%, 5327/50000]\n",
      "Epoch 43  test: 100%|██████████| 20/20 [00:02<00:00,  6.73it/s, loss=3.507, acc=17.690%, 1769/10000]"
     ]
    },
    {
     "name": "stdout",
     "output_type": "stream",
     "text": [
      "Epoch 43 | total time: 20s, test acc: 17.690%, best acc: 18.510%\n"
     ]
    },
    {
     "name": "stderr",
     "output_type": "stream",
     "text": [
      "\n",
      "Epoch 44 train: 100%|██████████| 196/196 [00:16<00:00, 11.64it/s, loss=3.783, acc=10.932%, 5466/50000]\n",
      "Epoch 44  test: 100%|██████████| 20/20 [00:03<00:00,  6.54it/s, loss=3.466, acc=18.400%, 1840/10000]"
     ]
    },
    {
     "name": "stdout",
     "output_type": "stream",
     "text": [
      "Epoch 44 | total time: 20s, test acc: 18.400%, best acc: 18.510%\n"
     ]
    },
    {
     "name": "stderr",
     "output_type": "stream",
     "text": [
      "\n",
      "Epoch 45 train: 100%|██████████| 196/196 [00:17<00:00, 11.53it/s, loss=3.772, acc=11.020%, 5510/50000]\n",
      "Epoch 45  test: 100%|██████████| 20/20 [00:03<00:00,  6.56it/s, loss=3.449, acc=17.940%, 1794/10000]"
     ]
    },
    {
     "name": "stdout",
     "output_type": "stream",
     "text": [
      "Epoch 45 | total time: 20s, test acc: 17.940%, best acc: 18.510%\n"
     ]
    },
    {
     "name": "stderr",
     "output_type": "stream",
     "text": [
      "\n",
      "Epoch 46 train: 100%|██████████| 196/196 [00:16<00:00, 11.83it/s, loss=3.778, acc=11.080%, 5540/50000]\n",
      "Epoch 46  test: 100%|██████████| 20/20 [00:02<00:00,  6.67it/s, loss=3.487, acc=18.700%, 1870/10000]"
     ]
    },
    {
     "name": "stdout",
     "output_type": "stream",
     "text": [
      "Saving..\n",
      "Epoch 46 | total time: 20s, test acc: 18.700%, best acc: 18.700%\n"
     ]
    },
    {
     "name": "stderr",
     "output_type": "stream",
     "text": [
      "\n",
      "Epoch 47 train: 100%|██████████| 196/196 [00:16<00:00, 12.08it/s, loss=3.783, acc=10.854%, 5427/50000]\n",
      "Epoch 47  test: 100%|██████████| 20/20 [00:03<00:00,  6.47it/s, loss=3.435, acc=17.900%, 1790/10000]"
     ]
    },
    {
     "name": "stdout",
     "output_type": "stream",
     "text": [
      "Epoch 47 | total time: 20s, test acc: 17.900%, best acc: 18.700%\n"
     ]
    },
    {
     "name": "stderr",
     "output_type": "stream",
     "text": [
      "\n",
      "Epoch 48 train: 100%|██████████| 196/196 [00:16<00:00, 12.12it/s, loss=3.784, acc=10.940%, 5470/50000]\n",
      "Epoch 48  test: 100%|██████████| 20/20 [00:03<00:00,  6.57it/s, loss=3.451, acc=19.020%, 1902/10000]"
     ]
    },
    {
     "name": "stdout",
     "output_type": "stream",
     "text": [
      "Saving..\n",
      "Epoch 48 | total time: 20s, test acc: 19.020%, best acc: 19.020%\n"
     ]
    },
    {
     "name": "stderr",
     "output_type": "stream",
     "text": [
      "\n",
      "Epoch 49 train: 100%|██████████| 196/196 [00:16<00:00, 11.73it/s, loss=3.777, acc=10.798%, 5399/50000]\n",
      "Epoch 49  test: 100%|██████████| 20/20 [00:02<00:00,  6.69it/s, loss=3.445, acc=18.390%, 1839/10000]"
     ]
    },
    {
     "name": "stdout",
     "output_type": "stream",
     "text": [
      "Epoch 49 | total time: 20s, test acc: 18.390%, best acc: 19.020%\n"
     ]
    },
    {
     "name": "stderr",
     "output_type": "stream",
     "text": [
      "\n"
     ]
    }
   ],
   "source": [
    "# Training\n",
    "def train(epoch):\n",
    "    net.train()\n",
    "    train_loss = 0\n",
    "    correct = 0\n",
    "    total = 0\n",
    "\n",
    "    with tqdm.tqdm(enumerate(trainloader), total=len(trainloader)) as t:\n",
    "        t.set_description(f\"Epoch {epoch} train\")\n",
    "        for batch_idx, (inputs, targets) in t:\n",
    "            inputs, targets = inputs.to(device), targets.to(device)\n",
    "            optimizer.zero_grad()\n",
    "            outputs = net(inputs)\n",
    "            loss = criterion(outputs, targets)\n",
    "            loss.backward()\n",
    "            optimizer.step()\n",
    "\n",
    "            train_loss += loss.item()\n",
    "            _, predicted = outputs.max(1)\n",
    "            total += targets.size(0)\n",
    "            correct += predicted.eq(targets).sum().item()\n",
    "\n",
    "            t.set_postfix(\n",
    "                {\n",
    "                    \"loss\": f\"{train_loss/(batch_idx+1):.3f}\",\n",
    "                    \"acc\": f\"{100.*correct/total:.3f}%, {correct}/{total}\",\n",
    "                }\n",
    "            )\n",
    "\n",
    "    writer.add_scalars(\n",
    "        \"loss\", {\"train\": train_loss / len(trainloader)},\n",
    "        global_step=epoch * len(trainloader)\n",
    "    )\n",
    "    writer.add_scalars(\n",
    "        \"accuracy\", {\"train\": correct/total},\n",
    "        global_step=epoch\n",
    "    )\n",
    "\n",
    "\n",
    "# validation\n",
    "def test(epoch):\n",
    "    global best_acc\n",
    "    net.eval()\n",
    "    test_loss = 0\n",
    "    correct = 0\n",
    "    total = 0\n",
    "    with torch.no_grad():\n",
    "        with tqdm.tqdm(enumerate(testloader), total=len(testloader)) as t:\n",
    "            t.set_description(f\"Epoch {epoch}  test\")\n",
    "            for batch_idx, (inputs, targets) in t:\n",
    "                inputs, targets = inputs.to(device), targets.to(device)\n",
    "                outputs = net(inputs)\n",
    "                loss = criterion(outputs, targets)\n",
    "\n",
    "                test_loss += loss.item()\n",
    "                _, predicted = outputs.max(1)\n",
    "                total += targets.size(0)\n",
    "                correct += predicted.eq(targets).sum().item()\n",
    "\n",
    "                t.set_postfix(\n",
    "                    {\n",
    "                        \"loss\": f\"{test_loss / (batch_idx + 1):.3f}\",\n",
    "                        \"acc\": f\"{correct*100./total:.3f}%, {correct}/{total}\",\n",
    "                    }\n",
    "                )\n",
    "\n",
    "    writer.add_scalars(\n",
    "        \"loss\", {\"test\": test_loss/len(testloader)},\n",
    "        global_step=epoch * len(trainloader)\n",
    "    )\n",
    "    writer.add_scalars(\n",
    "        \"accuracy\", {\"test\": correct/total},\n",
    "        global_step=epoch\n",
    "    )\n",
    "\n",
    "    # Save checkpoint.\n",
    "    acc = 100.0 * correct / total\n",
    "    if acc > best_acc:\n",
    "        print(\"Saving..\")\n",
    "        state = {\n",
    "            \"net\": net.state_dict(),\n",
    "            \"acc\": acc,\n",
    "            \"epoch\": epoch,\n",
    "        }\n",
    "        torch.save(state, os.path.join(save_dir, \"ckpt.pth\"))\n",
    "        best_acc = acc\n",
    "\n",
    "    return acc\n",
    "\n",
    "\n",
    "for epoch in range(0, num_epochs):\n",
    "    tic = time.time()\n",
    "    train(epoch)\n",
    "    test_acc = test(epoch)\n",
    "    t = time.time() - tic\n",
    "    print(\n",
    "        f\"Epoch {epoch} | total time: {t:.0f}s, test acc: {test_acc:.3f}%, best acc: {best_acc:.3f}%\"\n",
    "    )\n",
    "    scheduler.step()"
   ]
  },
  {
   "cell_type": "code",
   "execution_count": null,
   "id": "5bceb1c8-9fc0-4343-a49b-15a5ae815121",
   "metadata": {},
   "outputs": [],
   "source": []
  }
 ],
 "metadata": {
  "kernelspec": {
   "display_name": "Python 3",
   "language": "python",
   "name": "python3"
  },
  "language_info": {
   "codemirror_mode": {
    "name": "ipython",
    "version": 3
   },
   "file_extension": ".py",
   "mimetype": "text/x-python",
   "name": "python",
   "nbconvert_exporter": "python",
   "pygments_lexer": "ipython3",
   "version": "3.8.10"
  },
  "vscode": {
   "interpreter": {
    "hash": "aee8b7b246df8f9039afb4144a1f6fd8d2ca17a180786b69acc140d282b71a49"
   }
  }
 },
 "nbformat": 4,
 "nbformat_minor": 5
}
