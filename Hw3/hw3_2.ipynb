{
 "cells": [
  {
   "cell_type": "markdown",
   "id": "2da49b89-1192-4ad7-8efa-7f38b61fafd6",
   "metadata": {},
   "source": [
    "# Homework 3, ResNet for CIFAR-100\n"
   ]
  },
  {
   "cell_type": "markdown",
   "id": "958a41c9-3ac0-4313-92aa-05ad4bb6f961",
   "metadata": {},
   "source": [
    "## 1. Prepare the dataset and the model\n",
    "### Import Library"
   ]
  },
  {
   "cell_type": "code",
   "execution_count": 1,
   "id": "704dfb5f-488d-4d4f-813d-45d52316e07c",
   "metadata": {},
   "outputs": [],
   "source": [
    "import os\n",
    "import sys\n",
    "\n",
    "import numpy as np\n",
    "import torch\n",
    "import torch.backends.cudnn as cudnn\n",
    "import torch.nn as nn\n",
    "import torch.nn.functional as F\n",
    "import torch.optim as optim\n",
    "import torchvision\n",
    "import torchvision.transforms as transforms\n",
    "from torch.utils.tensorboard import SummaryWriter\n",
    "\n",
    "os.environ[\"CUDA_VISIBLE_DEVICES\"] = \"0\"\n",
    "import time\n",
    "\n",
    "import tqdm"
   ]
  },
  {
   "cell_type": "markdown",
   "id": "37c6aa65-3eeb-4020-82d8-035c0ec29a0f",
   "metadata": {},
   "source": [
    "### Hyperparameters\n",
    "**For step 1, 2,** you may change the value of momentum, weight decay, data augmentation and batch normalization.\n",
    "\n",
    "`mmt`: momentum for the optimizer. Use `0` if you do not want to use the momentum.\n",
    "\n",
    "`wd`: weight decay for the optimizer. Use `0` if you do not want to use the weight decay.\n",
    "\n",
    "`data_augmentation`: whether to use the data augmentation for the training.\n",
    "\n",
    "`use_BN`: wheter to use the batch normalization for the training. "
   ]
  },
  {
   "cell_type": "code",
   "execution_count": 2,
   "id": "e2a13524-df5b-4a31-9aaa-99b0b899eae2",
   "metadata": {},
   "outputs": [],
   "source": [
    "lr = 0.1  # learning rate\n",
    "opt = 'sgd'\n",
    "batchsize = 128  # training batchsize\n",
    "\n",
    "mmt = 0.9  # momentum for optimizer\n",
    "wd = 5e-4  # weight_decay for optimizer\n",
    "data_augmentation = True\n",
    "use_BN = True"
   ]
  },
  {
   "cell_type": "markdown",
   "id": "64b09db2-d22c-4915-b642-40416f6622bd",
   "metadata": {},
   "source": [
    "### Load Dataset\n",
    "In pytorch, you can use the following API to load the dataset.\n",
    "\n",
    "The RGB mean and std are pre-calculated values for normalizing the data. **Do not modify them**."
   ]
  },
  {
   "cell_type": "code",
   "execution_count": 3,
   "id": "454fbb59-155b-4f57-b834-3eef178ca19d",
   "metadata": {},
   "outputs": [
    {
     "name": "stdout",
     "output_type": "stream",
     "text": [
      "Files already downloaded and verified\n",
      "Files already downloaded and verified\n"
     ]
    }
   ],
   "source": [
    "rgb_mean = np.array([0.4914, 0.4822, 0.4465])\n",
    "rgb_std = np.array([0.2023, 0.1994, 0.2010])\n",
    "if data_augmentation:\n",
    "    transform_train = transforms.Compose([\n",
    "        transforms.RandomCrop(32, padding=4),\n",
    "        transforms.RandomHorizontalFlip(), \n",
    "        transforms.ToTensor(),\n",
    "        transforms.Normalize(rgb_mean, rgb_std),\n",
    "    ])\n",
    "else:\n",
    "    transform_train = transforms.Compose([\n",
    "        transforms.ToTensor(),\n",
    "        transforms.Normalize(rgb_mean, rgb_std),\n",
    "    ])\n",
    "\n",
    "transform_test = transforms.Compose([\n",
    "    transforms.ToTensor(),\n",
    "    transforms.Normalize(rgb_mean, rgb_std),\n",
    "])\n",
    "\n",
    "trainset = torchvision.datasets.CIFAR100(\n",
    "    root='../data', train=True, download=True, transform=transform_train)\n",
    "trainloader = torch.utils.data.DataLoader(\n",
    "    trainset, batch_size=batchsize, shuffle=True, num_workers=1)\n",
    "\n",
    "testset = torchvision.datasets.CIFAR100(\n",
    "    root='../data', train=False, download=True, transform=transform_test)\n",
    "testloader = torch.utils.data.DataLoader(\n",
    "    testset, batch_size=500, shuffle=False, num_workers=1)"
   ]
  },
  {
   "cell_type": "markdown",
   "id": "de988042-1dff-4cae-ab43-5a190e26fb02",
   "metadata": {},
   "source": [
    "### Define the CNN Model"
   ]
  },
  {
   "cell_type": "code",
   "execution_count": 4,
   "id": "c828fe5d-3889-4262-b5f7-a480201901f8",
   "metadata": {},
   "outputs": [],
   "source": [
    "class Identity(nn.Module):\n",
    "    def __init__(self) -> None:\n",
    "        super().__init__()\n",
    "\n",
    "    def forward(self, x):\n",
    "        return x\n",
    "\n",
    "\n",
    "class LambdaLayer(nn.Module):\n",
    "    def __init__(self, lambd):\n",
    "        super(LambdaLayer, self).__init__()\n",
    "        self.lambd = lambd\n",
    "\n",
    "    def forward(self, x):\n",
    "        return self.lambd(x)\n",
    "\n",
    "\n",
    "def compute_feature_map_size(ks, pks):\n",
    "    s = 32\n",
    "    for k, pk in zip(ks, pks):\n",
    "        s = s-k+3\n",
    "        s = int(s/pk)\n",
    "    return s\n",
    "\n",
    "\n",
    "class LeNet(nn.Module):\n",
    "    def __init__(self, num_classes, hidden_chns, ks, pks):\n",
    "        super(LeNet, self).__init__()\n",
    "        in_chns, out_chns = [3, *hidden_chns[:-1]], hidden_chns\n",
    "        layers = []\n",
    "        for ic, oc, k, pk in zip(in_chns, out_chns, ks, pks):\n",
    "            layers.append(nn.Conv2d(ic, oc, kernel_size=k, stride=1, padding=1))\n",
    "            if use_BN:\n",
    "                layers.append(nn.BatchNorm2d(oc))\n",
    "            layers.append(nn.MaxPool2d(kernel_size=pk, stride=2) if pk>1 else Identity()) \n",
    "            layers.append(nn.ReLU(inplace=True))\n",
    "        self.layers = nn.Sequential(*layers)\n",
    "\n",
    "        s = compute_feature_map_size(ks, pks)\n",
    "        print(f\"feature size: {s}\")\n",
    "\n",
    "#         self.fc = nn.Linear(hidden_chns[-1] * s * s, num_classes)\n",
    "        self.fc = nn.Sequential(\n",
    "            nn.Linear(hidden_chns[-1] * s * s, 4096),\n",
    "            nn.ReLU(inplace=True),\n",
    "            nn.Dropout(),\n",
    "            nn.Linear(4096, 4096),\n",
    "            nn.ReLU(inplace=True),\n",
    "            nn.Dropout(),\n",
    "            nn.Linear(4096, num_classes)\n",
    "        )\n",
    "\n",
    "    def forward(self, x):\n",
    "        x = self.layers(x)\n",
    "        x = x.view(x.size(0), -1)\n",
    "        return self.fc(x)\n",
    "\n",
    "\n",
    "class BasicBlock(nn.Module):\n",
    "    expansion = 1\n",
    "\n",
    "    def __init__(self, in_planes, planes, stride=1):\n",
    "        super(BasicBlock, self).__init__()\n",
    "        self.conv1 = nn.Conv2d(in_planes, planes, kernel_size=3, stride=stride, padding=1, bias=False)\n",
    "        self.bn1 = nn.BatchNorm2d(planes) if use_BN else Identity()\n",
    "        self.conv2 = nn.Conv2d(planes, planes, kernel_size=3, stride=1, padding=1, bias=False)\n",
    "        self.bn2 = nn.BatchNorm2d(planes) if use_BN else Identity()\n",
    "\n",
    "        self.shortcut = nn.Sequential()\n",
    "        if stride != 1 or in_planes != planes:\n",
    "            \"\"\"\n",
    "            For CIFAR10 ResNet paper uses option A.\n",
    "            \"\"\"\n",
    "            self.shortcut = LambdaLayer(lambda x:\n",
    "                                        F.pad(x[:, :, ::2, ::2], (0, 0, 0, 0, planes//4, planes//4), \"constant\", 0))\n",
    "\n",
    "    def forward(self, x):\n",
    "        out = F.relu(self.bn1(self.conv1(x)))\n",
    "        out = self.bn2(self.conv2(out))\n",
    "        out += self.shortcut(x)\n",
    "        out = F.relu(out)\n",
    "        return out\n",
    "\n",
    "\n",
    "class ResNet(nn.Module):\n",
    "    def __init__(self, block, num_blocks, channels, num_classes=10):\n",
    "        super(ResNet, self).__init__()\n",
    "        self.in_planes = channels[0]\n",
    "\n",
    "        self.conv1 = nn.Conv2d(3, channels[0], kernel_size=3, stride=1, padding=1, bias=False)\n",
    "        self.bn1 = nn.BatchNorm2d(channels[0]) if use_BN else Identity()\n",
    "        self.layer1 = self._make_layer(block, channels[0], num_blocks[0], stride=1)\n",
    "        self.layer2 = self._make_layer(block, channels[1], num_blocks[1], stride=2)\n",
    "        self.layer3 = self._make_layer(block, channels[2], num_blocks[2], stride=2)\n",
    "        self.layer4 = self._make_layer(block, channels[3], num_blocks[3], stride=2)\n",
    "        self.linear = nn.Linear(channels[3], num_classes)\n",
    "\n",
    "    def _make_layer(self, block, planes, num_blocks, stride):\n",
    "        strides = [stride] + [1]*(num_blocks-1)\n",
    "        layers = []\n",
    "        for stride in strides:\n",
    "            layers.append(block(self.in_planes, planes, stride))\n",
    "            self.in_planes = planes * block.expansion\n",
    "\n",
    "        return nn.Sequential(*layers)\n",
    "\n",
    "    def forward(self, x):\n",
    "        out = F.relu(self.bn1(self.conv1(x)))\n",
    "        out = self.layer1(out)\n",
    "        out = self.layer2(out)\n",
    "        out = self.layer3(out)\n",
    "        out = self.layer4(out)\n",
    "        out = F.avg_pool2d(out, out.size()[3])\n",
    "        out = out.view(out.size(0), -1)\n",
    "        out = self.linear(out)\n",
    "        return out\n",
    "\n",
    "\n",
    "def lenet(hidden_chns, ks, pks):\n",
    "    return LeNet(num_classes=100, hidden_chns=hidden_chns, ks=ks, pks=pks)\n",
    "\n",
    "\n",
    "def resnet34(channels):\n",
    "    return ResNet(BasicBlock, [3, 4, 6, 3], channels, num_classes=100)\n"
   ]
  },
  {
   "cell_type": "markdown",
   "id": "6c3f1ce2-5dd6-48ba-843f-161df36d8d5d",
   "metadata": {},
   "source": [
    "## 2. Define the model and run\n",
    "\n",
    "### Training settings\n",
    "You may modify the `num_epochs` for the fast training or the better performance."
   ]
  },
  {
   "cell_type": "code",
   "execution_count": 5,
   "id": "5559de8f-6242-4241-b7f6-2faab5c46328",
   "metadata": {},
   "outputs": [],
   "source": [
    "num_epochs = 200  # training epochs\n",
    "best_acc = 0.0  # best accuracy"
   ]
  },
  {
   "cell_type": "markdown",
   "id": "ad2e59ae-dcb0-452a-b45d-78cc89debe72",
   "metadata": {},
   "source": [
    "### Define the model, optimizer, loss function, learning rate scheduler\n",
    "For step 1, 2, you need to change the network structure of the CNN.\n",
    "\n",
    "For CNN:\n",
    "\n",
    "  - `hidden_chns`: a list of the hidden channels of the conv layer.\n",
    "\n",
    "  - `ks`: a list of the kernel sizes of the conv layer.\n",
    "\n",
    "  - `pks`: a list of the pooling kernel sizes of the pooling layer. Use `1` if you do not want to use a pooling layer (and it will be an identity function).\n",
    "\n",
    "For ResNet:\n",
    "\n",
    "  - You can use resnet20, 32, 44 and 56 (which are the default settings for the original ResNet).\n",
    " \n",
    "  - `channels`: a list of the hidden channels of the resblock."
   ]
  },
  {
   "cell_type": "code",
   "execution_count": 6,
   "id": "3fcd3b75-035a-4286-94d4-7afb7cab0657",
   "metadata": {},
   "outputs": [
    {
     "name": "stdout",
     "output_type": "stream",
     "text": [
      "cuda\n"
     ]
    }
   ],
   "source": [
    "## For Step 1\n",
    "# net = lenet(hidden_chns=[16, 16], ks=[3, 3], pks=[2, 2])\n",
    "\n",
    "## For Step 2\n",
    "net = resnet34(channels=[64, 128, 256, 512])\n",
    "\n",
    "device = \"cuda\" if torch.cuda.is_available() else \"cpu\"\n",
    "print(device)\n",
    "net = net.to(device)  # put the model on the specified device(e.g. gpu/cpu)\n",
    "\n",
    "# loss function\n",
    "criterion = nn.CrossEntropyLoss()\n",
    "\n",
    "# optimizer\n",
    "optimizer = optim.SGD(net.parameters(), lr=lr, momentum=mmt, weight_decay=wd)  # momentum\n",
    "\n",
    "# learning rate scheduler\n",
    "scheduler = torch.optim.lr_scheduler.CosineAnnealingLR(optimizer, T_max=200)"
   ]
  },
  {
   "cell_type": "markdown",
   "id": "c5789a90-3f4e-49c2-8c93-c28a33c105da",
   "metadata": {},
   "source": [
    "### Check the total number of parameters"
   ]
  },
  {
   "cell_type": "code",
   "execution_count": 7,
   "id": "2389dbef-e616-4690-97f1-ef374e1d1cce",
   "metadata": {},
   "outputs": [
    {
     "name": "stdout",
     "output_type": "stream",
     "text": [
      "Total number of params 21154468\n",
      "Total layers 34\n"
     ]
    }
   ],
   "source": [
    "def count_params(net):\n",
    "    # you can use this function to count amount of your model parameters\n",
    "    import numpy as np\n",
    "    total_params = 0\n",
    "\n",
    "    for x in filter(lambda p: p.requires_grad, net.parameters()):\n",
    "        total_params += np.prod(x.data.cpu().numpy().shape)\n",
    "    print(\"Total number of params\", total_params)\n",
    "    print(\"Total layers\", len(list(filter(lambda p: p.requires_grad and len(p.data.size())>1, net.parameters()))))\n",
    "\n",
    "\n",
    "count_params(net)"
   ]
  },
  {
   "cell_type": "markdown",
   "id": "fa9285ae-3ead-4b49-8c40-6833919a1591",
   "metadata": {},
   "source": [
    "### Training logs\n",
    "The training logs are saved in the `exp` folder. You can use tensorboard to see the logs."
   ]
  },
  {
   "cell_type": "code",
   "execution_count": 8,
   "id": "972fc6a8-282a-4da7-bb6b-59279a3c2f09",
   "metadata": {},
   "outputs": [],
   "source": [
    "if not os.path.exists(\"exp\"):\n",
    "    os.mkdir(\"exp\")\n",
    "last_train = max([eval(s.split(\"-\")[-1]) for s in os.listdir(\"exp\")] + [0])\n",
    "current_train = last_train + 1\n",
    "save_dir = \"exp/cifar100-{}\".format(current_train)\n",
    "os.makedirs(save_dir)\n",
    "writer = SummaryWriter(save_dir)\n",
    "\n",
    "best_acc = 0"
   ]
  },
  {
   "cell_type": "markdown",
   "id": "18714981-d3f5-4888-9333-055508713dce",
   "metadata": {},
   "source": [
    "### Training and testing"
   ]
  },
  {
   "cell_type": "code",
   "execution_count": 9,
   "id": "e08130fc-5109-4174-a32c-2173a69c5dde",
   "metadata": {},
   "outputs": [
    {
     "name": "stderr",
     "output_type": "stream",
     "text": [
      "Epoch 0 train: 100%|██████████| 391/391 [00:56<00:00,  6.88it/s, loss=4.460, acc=3.670%, 1835/50000]\n",
      "Epoch 0  test: 100%|██████████| 20/20 [00:06<00:00,  3.22it/s, loss=3.927, acc=8.060%, 806/10000]\n"
     ]
    },
    {
     "name": "stdout",
     "output_type": "stream",
     "text": [
      "Saving..\n",
      "Epoch 0 | total time: 64s, test acc: 8.060%, best acc: 8.060%\n"
     ]
    },
    {
     "name": "stderr",
     "output_type": "stream",
     "text": [
      "Epoch 1 train: 100%|██████████| 391/391 [00:55<00:00,  7.07it/s, loss=3.697, acc=12.228%, 6114/50000]\n",
      "Epoch 1  test: 100%|██████████| 20/20 [00:05<00:00,  3.38it/s, loss=3.466, acc=16.600%, 1660/10000]\n"
     ]
    },
    {
     "name": "stdout",
     "output_type": "stream",
     "text": [
      "Saving..\n",
      "Epoch 1 | total time: 63s, test acc: 16.600%, best acc: 16.600%\n"
     ]
    },
    {
     "name": "stderr",
     "output_type": "stream",
     "text": [
      "Epoch 2 train: 100%|██████████| 391/391 [00:56<00:00,  6.93it/s, loss=3.272, acc=19.674%, 9837/50000]\n",
      "Epoch 2  test: 100%|██████████| 20/20 [00:05<00:00,  3.55it/s, loss=3.096, acc=23.640%, 2364/10000]\n"
     ]
    },
    {
     "name": "stdout",
     "output_type": "stream",
     "text": [
      "Saving..\n",
      "Epoch 2 | total time: 63s, test acc: 23.640%, best acc: 23.640%\n"
     ]
    },
    {
     "name": "stderr",
     "output_type": "stream",
     "text": [
      "Epoch 3 train: 100%|██████████| 391/391 [00:56<00:00,  6.92it/s, loss=2.931, acc=26.144%, 13072/50000]\n",
      "Epoch 3  test: 100%|██████████| 20/20 [00:05<00:00,  3.39it/s, loss=2.859, acc=28.140%, 2814/10000]\n"
     ]
    },
    {
     "name": "stdout",
     "output_type": "stream",
     "text": [
      "Saving..\n",
      "Epoch 3 | total time: 63s, test acc: 28.140%, best acc: 28.140%\n"
     ]
    },
    {
     "name": "stderr",
     "output_type": "stream",
     "text": [
      "Epoch 4 train: 100%|██████████| 391/391 [00:56<00:00,  6.90it/s, loss=2.564, acc=33.750%, 16875/50000]\n",
      "Epoch 4  test: 100%|██████████| 20/20 [00:06<00:00,  3.10it/s, loss=2.702, acc=33.250%, 3325/10000]\n"
     ]
    },
    {
     "name": "stdout",
     "output_type": "stream",
     "text": [
      "Saving..\n",
      "Epoch 4 | total time: 64s, test acc: 33.250%, best acc: 33.250%\n"
     ]
    },
    {
     "name": "stderr",
     "output_type": "stream",
     "text": [
      "Epoch 5 train: 100%|██████████| 391/391 [00:56<00:00,  6.91it/s, loss=2.230, acc=40.220%, 20110/50000]\n",
      "Epoch 5  test: 100%|██████████| 20/20 [00:06<00:00,  3.07it/s, loss=2.231, acc=40.540%, 4054/10000]\n"
     ]
    },
    {
     "name": "stdout",
     "output_type": "stream",
     "text": [
      "Saving..\n",
      "Epoch 5 | total time: 64s, test acc: 40.540%, best acc: 40.540%\n"
     ]
    },
    {
     "name": "stderr",
     "output_type": "stream",
     "text": [
      "Epoch 6 train: 100%|██████████| 391/391 [00:56<00:00,  6.86it/s, loss=1.981, acc=45.978%, 22989/50000]\n",
      "Epoch 6  test: 100%|██████████| 20/20 [00:05<00:00,  3.39it/s, loss=2.085, acc=44.240%, 4424/10000]\n"
     ]
    },
    {
     "name": "stdout",
     "output_type": "stream",
     "text": [
      "Saving..\n",
      "Epoch 6 | total time: 64s, test acc: 44.240%, best acc: 44.240%\n"
     ]
    },
    {
     "name": "stderr",
     "output_type": "stream",
     "text": [
      "Epoch 7 train: 100%|██████████| 391/391 [00:56<00:00,  6.86it/s, loss=1.809, acc=50.024%, 25012/50000]\n",
      "Epoch 7  test: 100%|██████████| 20/20 [00:06<00:00,  3.09it/s, loss=1.915, acc=47.940%, 4794/10000]\n"
     ]
    },
    {
     "name": "stdout",
     "output_type": "stream",
     "text": [
      "Saving..\n",
      "Epoch 7 | total time: 64s, test acc: 47.940%, best acc: 47.940%\n"
     ]
    },
    {
     "name": "stderr",
     "output_type": "stream",
     "text": [
      "Epoch 8 train: 100%|██████████| 391/391 [00:56<00:00,  6.94it/s, loss=1.674, acc=53.166%, 26583/50000]\n",
      "Epoch 8  test: 100%|██████████| 20/20 [00:06<00:00,  3.08it/s, loss=1.906, acc=48.450%, 4845/10000]\n"
     ]
    },
    {
     "name": "stdout",
     "output_type": "stream",
     "text": [
      "Saving..\n",
      "Epoch 8 | total time: 64s, test acc: 48.450%, best acc: 48.450%\n"
     ]
    },
    {
     "name": "stderr",
     "output_type": "stream",
     "text": [
      "Epoch 9 train: 100%|██████████| 391/391 [00:56<00:00,  6.88it/s, loss=1.585, acc=55.240%, 27620/50000]\n",
      "Epoch 9  test: 100%|██████████| 20/20 [00:06<00:00,  3.33it/s, loss=1.979, acc=47.460%, 4746/10000]"
     ]
    },
    {
     "name": "stdout",
     "output_type": "stream",
     "text": [
      "Epoch 9 | total time: 63s, test acc: 47.460%, best acc: 48.450%\n"
     ]
    },
    {
     "name": "stderr",
     "output_type": "stream",
     "text": [
      "\n",
      "Epoch 10 train: 100%|██████████| 391/391 [00:55<00:00,  7.03it/s, loss=1.502, acc=57.148%, 28574/50000]\n",
      "Epoch 10  test: 100%|██████████| 20/20 [00:05<00:00,  3.35it/s, loss=1.777, acc=51.550%, 5155/10000]\n"
     ]
    },
    {
     "name": "stdout",
     "output_type": "stream",
     "text": [
      "Saving..\n",
      "Epoch 10 | total time: 63s, test acc: 51.550%, best acc: 51.550%\n"
     ]
    },
    {
     "name": "stderr",
     "output_type": "stream",
     "text": [
      "Epoch 11 train: 100%|██████████| 391/391 [00:57<00:00,  6.83it/s, loss=1.438, acc=59.196%, 29598/50000]\n",
      "Epoch 11  test: 100%|██████████| 20/20 [00:05<00:00,  3.39it/s, loss=1.761, acc=52.700%, 5270/10000]\n"
     ]
    },
    {
     "name": "stdout",
     "output_type": "stream",
     "text": [
      "Saving..\n",
      "Epoch 11 | total time: 64s, test acc: 52.700%, best acc: 52.700%\n"
     ]
    },
    {
     "name": "stderr",
     "output_type": "stream",
     "text": [
      "Epoch 12 train: 100%|██████████| 391/391 [00:56<00:00,  6.88it/s, loss=1.388, acc=60.288%, 30144/50000]\n",
      "Epoch 12  test: 100%|██████████| 20/20 [00:06<00:00,  3.17it/s, loss=1.621, acc=55.370%, 5537/10000]\n"
     ]
    },
    {
     "name": "stdout",
     "output_type": "stream",
     "text": [
      "Saving..\n",
      "Epoch 12 | total time: 64s, test acc: 55.370%, best acc: 55.370%\n"
     ]
    },
    {
     "name": "stderr",
     "output_type": "stream",
     "text": [
      "Epoch 13 train: 100%|██████████| 391/391 [00:57<00:00,  6.84it/s, loss=1.340, acc=61.584%, 30792/50000]\n",
      "Epoch 13  test: 100%|██████████| 20/20 [00:06<00:00,  3.17it/s, loss=1.768, acc=52.920%, 5292/10000]"
     ]
    },
    {
     "name": "stdout",
     "output_type": "stream",
     "text": [
      "Epoch 13 | total time: 64s, test acc: 52.920%, best acc: 55.370%\n"
     ]
    },
    {
     "name": "stderr",
     "output_type": "stream",
     "text": [
      "\n",
      "Epoch 14 train: 100%|██████████| 391/391 [00:55<00:00,  7.00it/s, loss=1.300, acc=62.456%, 31228/50000]\n",
      "Epoch 14  test: 100%|██████████| 20/20 [00:05<00:00,  3.37it/s, loss=1.963, acc=49.510%, 4951/10000]"
     ]
    },
    {
     "name": "stdout",
     "output_type": "stream",
     "text": [
      "Epoch 14 | total time: 63s, test acc: 49.510%, best acc: 55.370%\n"
     ]
    },
    {
     "name": "stderr",
     "output_type": "stream",
     "text": [
      "\n",
      "Epoch 15 train: 100%|██████████| 391/391 [00:56<00:00,  6.94it/s, loss=1.271, acc=63.160%, 31580/50000]\n",
      "Epoch 15  test: 100%|██████████| 20/20 [00:05<00:00,  3.34it/s, loss=1.546, acc=57.430%, 5743/10000]\n"
     ]
    },
    {
     "name": "stdout",
     "output_type": "stream",
     "text": [
      "Saving..\n",
      "Epoch 15 | total time: 63s, test acc: 57.430%, best acc: 57.430%\n"
     ]
    },
    {
     "name": "stderr",
     "output_type": "stream",
     "text": [
      "Epoch 16 train: 100%|██████████| 391/391 [00:56<00:00,  6.87it/s, loss=1.235, acc=64.150%, 32075/50000]\n",
      "Epoch 16  test: 100%|██████████| 20/20 [00:06<00:00,  3.11it/s, loss=1.689, acc=55.160%, 5516/10000]"
     ]
    },
    {
     "name": "stdout",
     "output_type": "stream",
     "text": [
      "Epoch 16 | total time: 64s, test acc: 55.160%, best acc: 57.430%\n"
     ]
    },
    {
     "name": "stderr",
     "output_type": "stream",
     "text": [
      "\n",
      "Epoch 17 train: 100%|██████████| 391/391 [00:56<00:00,  6.89it/s, loss=1.207, acc=64.916%, 32458/50000]\n",
      "Epoch 17  test: 100%|██████████| 20/20 [00:06<00:00,  3.10it/s, loss=1.810, acc=52.760%, 5276/10000]"
     ]
    },
    {
     "name": "stdout",
     "output_type": "stream",
     "text": [
      "Epoch 17 | total time: 64s, test acc: 52.760%, best acc: 57.430%\n"
     ]
    },
    {
     "name": "stderr",
     "output_type": "stream",
     "text": [
      "\n",
      "Epoch 18 train: 100%|██████████| 391/391 [00:56<00:00,  6.94it/s, loss=1.190, acc=65.224%, 32612/50000]\n",
      "Epoch 18  test: 100%|██████████| 20/20 [00:05<00:00,  3.67it/s, loss=1.535, acc=58.330%, 5833/10000]\n"
     ]
    },
    {
     "name": "stdout",
     "output_type": "stream",
     "text": [
      "Saving..\n",
      "Epoch 18 | total time: 63s, test acc: 58.330%, best acc: 58.330%\n"
     ]
    },
    {
     "name": "stderr",
     "output_type": "stream",
     "text": [
      "Epoch 19 train: 100%|██████████| 391/391 [00:56<00:00,  6.91it/s, loss=1.165, acc=66.046%, 33023/50000]\n",
      "Epoch 19  test: 100%|██████████| 20/20 [00:06<00:00,  3.11it/s, loss=1.534, acc=57.470%, 5747/10000]"
     ]
    },
    {
     "name": "stdout",
     "output_type": "stream",
     "text": [
      "Epoch 19 | total time: 63s, test acc: 57.470%, best acc: 58.330%\n"
     ]
    },
    {
     "name": "stderr",
     "output_type": "stream",
     "text": [
      "\n",
      "Epoch 20 train: 100%|██████████| 391/391 [00:56<00:00,  6.88it/s, loss=1.158, acc=66.296%, 33148/50000]\n",
      "Epoch 20  test: 100%|██████████| 20/20 [00:06<00:00,  3.09it/s, loss=1.570, acc=56.680%, 5668/10000]"
     ]
    },
    {
     "name": "stdout",
     "output_type": "stream",
     "text": [
      "Epoch 20 | total time: 64s, test acc: 56.680%, best acc: 58.330%\n"
     ]
    },
    {
     "name": "stderr",
     "output_type": "stream",
     "text": [
      "\n",
      "Epoch 21 train: 100%|██████████| 391/391 [00:56<00:00,  6.93it/s, loss=1.131, acc=66.816%, 33408/50000]\n",
      "Epoch 21  test: 100%|██████████| 20/20 [00:06<00:00,  3.12it/s, loss=1.810, acc=52.710%, 5271/10000]"
     ]
    },
    {
     "name": "stdout",
     "output_type": "stream",
     "text": [
      "Epoch 21 | total time: 64s, test acc: 52.710%, best acc: 58.330%\n"
     ]
    },
    {
     "name": "stderr",
     "output_type": "stream",
     "text": [
      "\n",
      "Epoch 22 train: 100%|██████████| 391/391 [00:55<00:00,  6.99it/s, loss=1.105, acc=67.474%, 33737/50000]\n",
      "Epoch 22  test: 100%|██████████| 20/20 [00:06<00:00,  3.04it/s, loss=1.733, acc=55.460%, 5546/10000]"
     ]
    },
    {
     "name": "stdout",
     "output_type": "stream",
     "text": [
      "Epoch 22 | total time: 64s, test acc: 55.460%, best acc: 58.330%\n"
     ]
    },
    {
     "name": "stderr",
     "output_type": "stream",
     "text": [
      "\n",
      "Epoch 23 train: 100%|██████████| 391/391 [00:56<00:00,  6.95it/s, loss=1.105, acc=67.752%, 33876/50000]\n",
      "Epoch 23  test: 100%|██████████| 20/20 [00:05<00:00,  3.38it/s, loss=1.663, acc=56.380%, 5638/10000]"
     ]
    },
    {
     "name": "stdout",
     "output_type": "stream",
     "text": [
      "Epoch 23 | total time: 63s, test acc: 56.380%, best acc: 58.330%\n"
     ]
    },
    {
     "name": "stderr",
     "output_type": "stream",
     "text": [
      "\n",
      "Epoch 24 train: 100%|██████████| 391/391 [00:56<00:00,  6.90it/s, loss=1.093, acc=67.892%, 33946/50000]\n",
      "Epoch 24  test: 100%|██████████| 20/20 [00:06<00:00,  3.27it/s, loss=1.698, acc=54.540%, 5454/10000]"
     ]
    },
    {
     "name": "stdout",
     "output_type": "stream",
     "text": [
      "Epoch 24 | total time: 63s, test acc: 54.540%, best acc: 58.330%\n"
     ]
    },
    {
     "name": "stderr",
     "output_type": "stream",
     "text": [
      "\n",
      "Epoch 25 train: 100%|██████████| 391/391 [00:56<00:00,  6.87it/s, loss=1.072, acc=68.588%, 34294/50000]\n",
      "Epoch 25  test: 100%|██████████| 20/20 [00:05<00:00,  3.61it/s, loss=1.538, acc=58.190%, 5819/10000]"
     ]
    },
    {
     "name": "stdout",
     "output_type": "stream",
     "text": [
      "Epoch 25 | total time: 63s, test acc: 58.190%, best acc: 58.330%\n"
     ]
    },
    {
     "name": "stderr",
     "output_type": "stream",
     "text": [
      "\n",
      "Epoch 26 train: 100%|██████████| 391/391 [00:56<00:00,  6.93it/s, loss=1.054, acc=68.814%, 34407/50000]\n",
      "Epoch 26  test: 100%|██████████| 20/20 [00:05<00:00,  3.34it/s, loss=1.651, acc=57.240%, 5724/10000]"
     ]
    },
    {
     "name": "stdout",
     "output_type": "stream",
     "text": [
      "Epoch 26 | total time: 63s, test acc: 57.240%, best acc: 58.330%\n"
     ]
    },
    {
     "name": "stderr",
     "output_type": "stream",
     "text": [
      "\n",
      "Epoch 27 train: 100%|██████████| 391/391 [00:55<00:00,  7.03it/s, loss=1.057, acc=68.946%, 34473/50000]\n",
      "Epoch 27  test: 100%|██████████| 20/20 [00:06<00:00,  3.07it/s, loss=1.567, acc=58.500%, 5850/10000]\n"
     ]
    },
    {
     "name": "stdout",
     "output_type": "stream",
     "text": [
      "Saving..\n",
      "Epoch 27 | total time: 64s, test acc: 58.500%, best acc: 58.500%\n"
     ]
    },
    {
     "name": "stderr",
     "output_type": "stream",
     "text": [
      "Epoch 28 train: 100%|██████████| 391/391 [00:56<00:00,  6.91it/s, loss=1.036, acc=69.468%, 34734/50000]\n",
      "Epoch 28  test: 100%|██████████| 20/20 [00:06<00:00,  3.13it/s, loss=1.533, acc=59.210%, 5921/10000]\n"
     ]
    },
    {
     "name": "stdout",
     "output_type": "stream",
     "text": [
      "Saving..\n",
      "Epoch 28 | total time: 64s, test acc: 59.210%, best acc: 59.210%\n"
     ]
    },
    {
     "name": "stderr",
     "output_type": "stream",
     "text": [
      "Epoch 29 train: 100%|██████████| 391/391 [00:56<00:00,  6.87it/s, loss=1.022, acc=69.792%, 34896/50000]\n",
      "Epoch 29  test: 100%|██████████| 20/20 [00:06<00:00,  3.12it/s, loss=1.820, acc=54.580%, 5458/10000]"
     ]
    },
    {
     "name": "stdout",
     "output_type": "stream",
     "text": [
      "Epoch 29 | total time: 64s, test acc: 54.580%, best acc: 59.210%\n"
     ]
    },
    {
     "name": "stderr",
     "output_type": "stream",
     "text": [
      "\n",
      "Epoch 30 train: 100%|██████████| 391/391 [00:56<00:00,  6.86it/s, loss=1.022, acc=70.076%, 35038/50000]\n",
      "Epoch 30  test: 100%|██████████| 20/20 [00:05<00:00,  3.39it/s, loss=1.597, acc=58.190%, 5819/10000]"
     ]
    },
    {
     "name": "stdout",
     "output_type": "stream",
     "text": [
      "Epoch 30 | total time: 63s, test acc: 58.190%, best acc: 59.210%\n"
     ]
    },
    {
     "name": "stderr",
     "output_type": "stream",
     "text": [
      "\n",
      "Epoch 31 train: 100%|██████████| 391/391 [00:56<00:00,  6.94it/s, loss=1.014, acc=70.068%, 35034/50000]\n",
      "Epoch 31  test: 100%|██████████| 20/20 [00:05<00:00,  3.40it/s, loss=1.641, acc=57.260%, 5726/10000]"
     ]
    },
    {
     "name": "stdout",
     "output_type": "stream",
     "text": [
      "Epoch 31 | total time: 63s, test acc: 57.260%, best acc: 59.210%\n"
     ]
    },
    {
     "name": "stderr",
     "output_type": "stream",
     "text": [
      "\n",
      "Epoch 32 train: 100%|██████████| 391/391 [00:57<00:00,  6.86it/s, loss=1.006, acc=70.304%, 35152/50000]\n",
      "Epoch 32  test: 100%|██████████| 20/20 [00:06<00:00,  3.20it/s, loss=1.565, acc=59.090%, 5909/10000]"
     ]
    },
    {
     "name": "stdout",
     "output_type": "stream",
     "text": [
      "Epoch 32 | total time: 64s, test acc: 59.090%, best acc: 59.210%\n"
     ]
    },
    {
     "name": "stderr",
     "output_type": "stream",
     "text": [
      "\n",
      "Epoch 33 train: 100%|██████████| 391/391 [00:55<00:00,  6.99it/s, loss=0.993, acc=70.680%, 35340/50000]\n",
      "Epoch 33  test: 100%|██████████| 20/20 [00:06<00:00,  3.08it/s, loss=1.601, acc=57.690%, 5769/10000]"
     ]
    },
    {
     "name": "stdout",
     "output_type": "stream",
     "text": [
      "Epoch 33 | total time: 63s, test acc: 57.690%, best acc: 59.210%\n"
     ]
    },
    {
     "name": "stderr",
     "output_type": "stream",
     "text": [
      "\n",
      "Epoch 34 train: 100%|██████████| 391/391 [00:56<00:00,  6.93it/s, loss=0.980, acc=70.946%, 35473/50000]\n",
      "Epoch 34  test: 100%|██████████| 20/20 [00:06<00:00,  3.07it/s, loss=1.718, acc=55.900%, 5590/10000]"
     ]
    },
    {
     "name": "stdout",
     "output_type": "stream",
     "text": [
      "Epoch 34 | total time: 63s, test acc: 55.900%, best acc: 59.210%\n"
     ]
    },
    {
     "name": "stderr",
     "output_type": "stream",
     "text": [
      "\n",
      "Epoch 35 train: 100%|██████████| 391/391 [00:56<00:00,  6.96it/s, loss=0.971, acc=71.254%, 35627/50000]\n",
      "Epoch 35  test: 100%|██████████| 20/20 [00:06<00:00,  3.08it/s, loss=1.520, acc=59.950%, 5995/10000]\n"
     ]
    },
    {
     "name": "stdout",
     "output_type": "stream",
     "text": [
      "Saving..\n",
      "Epoch 35 | total time: 63s, test acc: 59.950%, best acc: 59.950%\n"
     ]
    },
    {
     "name": "stderr",
     "output_type": "stream",
     "text": [
      "Epoch 36 train: 100%|██████████| 391/391 [00:56<00:00,  6.96it/s, loss=0.970, acc=71.284%, 35642/50000]\n",
      "Epoch 36  test: 100%|██████████| 20/20 [00:06<00:00,  3.09it/s, loss=1.718, acc=56.020%, 5602/10000]"
     ]
    },
    {
     "name": "stdout",
     "output_type": "stream",
     "text": [
      "Epoch 36 | total time: 63s, test acc: 56.020%, best acc: 59.950%\n"
     ]
    },
    {
     "name": "stderr",
     "output_type": "stream",
     "text": [
      "\n",
      "Epoch 37 train: 100%|██████████| 391/391 [00:56<00:00,  6.97it/s, loss=0.962, acc=71.560%, 35780/50000]\n",
      "Epoch 37  test: 100%|██████████| 20/20 [00:05<00:00,  3.34it/s, loss=1.463, acc=60.590%, 6059/10000]\n"
     ]
    },
    {
     "name": "stdout",
     "output_type": "stream",
     "text": [
      "Saving..\n",
      "Epoch 37 | total time: 63s, test acc: 60.590%, best acc: 60.590%\n"
     ]
    },
    {
     "name": "stderr",
     "output_type": "stream",
     "text": [
      "Epoch 38 train: 100%|██████████| 391/391 [00:56<00:00,  6.94it/s, loss=0.947, acc=71.902%, 35951/50000]\n",
      "Epoch 38  test: 100%|██████████| 20/20 [00:06<00:00,  3.09it/s, loss=1.448, acc=60.800%, 6080/10000]\n"
     ]
    },
    {
     "name": "stdout",
     "output_type": "stream",
     "text": [
      "Saving..\n",
      "Epoch 38 | total time: 64s, test acc: 60.800%, best acc: 60.800%\n"
     ]
    },
    {
     "name": "stderr",
     "output_type": "stream",
     "text": [
      "Epoch 39 train: 100%|██████████| 391/391 [00:56<00:00,  6.96it/s, loss=0.952, acc=71.618%, 35809/50000]\n",
      "Epoch 39  test: 100%|██████████| 20/20 [00:06<00:00,  3.10it/s, loss=1.587, acc=58.340%, 5834/10000]"
     ]
    },
    {
     "name": "stdout",
     "output_type": "stream",
     "text": [
      "Epoch 39 | total time: 63s, test acc: 58.340%, best acc: 60.800%\n"
     ]
    },
    {
     "name": "stderr",
     "output_type": "stream",
     "text": [
      "\n",
      "Epoch 40 train: 100%|██████████| 391/391 [00:56<00:00,  6.91it/s, loss=0.938, acc=72.068%, 36034/50000]\n",
      "Epoch 40  test: 100%|██████████| 20/20 [00:05<00:00,  3.37it/s, loss=1.577, acc=58.680%, 5868/10000]"
     ]
    },
    {
     "name": "stdout",
     "output_type": "stream",
     "text": [
      "Epoch 40 | total time: 64s, test acc: 58.680%, best acc: 60.800%\n"
     ]
    },
    {
     "name": "stderr",
     "output_type": "stream",
     "text": [
      "\n",
      "Epoch 41 train: 100%|██████████| 391/391 [00:56<00:00,  6.96it/s, loss=0.935, acc=72.268%, 36134/50000]\n",
      "Epoch 41  test: 100%|██████████| 20/20 [00:06<00:00,  3.22it/s, loss=1.398, acc=61.860%, 6186/10000]\n"
     ]
    },
    {
     "name": "stdout",
     "output_type": "stream",
     "text": [
      "Saving..\n",
      "Epoch 41 | total time: 64s, test acc: 61.860%, best acc: 61.860%\n"
     ]
    },
    {
     "name": "stderr",
     "output_type": "stream",
     "text": [
      "Epoch 42 train: 100%|██████████| 391/391 [00:56<00:00,  6.90it/s, loss=0.923, acc=72.698%, 36349/50000]\n",
      "Epoch 42  test: 100%|██████████| 20/20 [00:06<00:00,  3.21it/s, loss=1.529, acc=60.160%, 6016/10000]"
     ]
    },
    {
     "name": "stdout",
     "output_type": "stream",
     "text": [
      "Epoch 42 | total time: 63s, test acc: 60.160%, best acc: 61.860%\n"
     ]
    },
    {
     "name": "stderr",
     "output_type": "stream",
     "text": [
      "\n",
      "Epoch 43 train: 100%|██████████| 391/391 [00:56<00:00,  6.87it/s, loss=0.921, acc=72.790%, 36395/50000]\n",
      "Epoch 43  test: 100%|██████████| 20/20 [00:05<00:00,  3.40it/s, loss=1.656, acc=58.430%, 5843/10000]"
     ]
    },
    {
     "name": "stdout",
     "output_type": "stream",
     "text": [
      "Epoch 43 | total time: 63s, test acc: 58.430%, best acc: 61.860%\n"
     ]
    },
    {
     "name": "stderr",
     "output_type": "stream",
     "text": [
      "\n",
      "Epoch 44 train: 100%|██████████| 391/391 [00:56<00:00,  6.98it/s, loss=0.911, acc=72.940%, 36470/50000]\n",
      "Epoch 44  test: 100%|██████████| 20/20 [00:06<00:00,  3.07it/s, loss=1.527, acc=58.840%, 5884/10000]"
     ]
    },
    {
     "name": "stdout",
     "output_type": "stream",
     "text": [
      "Epoch 44 | total time: 63s, test acc: 58.840%, best acc: 61.860%\n"
     ]
    },
    {
     "name": "stderr",
     "output_type": "stream",
     "text": [
      "\n",
      "Epoch 45 train: 100%|██████████| 391/391 [00:55<00:00,  7.02it/s, loss=0.901, acc=73.236%, 36618/50000]\n",
      "Epoch 45  test: 100%|██████████| 20/20 [00:06<00:00,  3.30it/s, loss=1.569, acc=58.990%, 5899/10000]"
     ]
    },
    {
     "name": "stdout",
     "output_type": "stream",
     "text": [
      "Epoch 45 | total time: 63s, test acc: 58.990%, best acc: 61.860%\n"
     ]
    },
    {
     "name": "stderr",
     "output_type": "stream",
     "text": [
      "\n",
      "Epoch 46 train: 100%|██████████| 391/391 [00:56<00:00,  6.89it/s, loss=0.910, acc=72.938%, 36469/50000]\n",
      "Epoch 46  test: 100%|██████████| 20/20 [00:06<00:00,  3.06it/s, loss=1.623, acc=58.330%, 5833/10000]"
     ]
    },
    {
     "name": "stdout",
     "output_type": "stream",
     "text": [
      "Epoch 46 | total time: 64s, test acc: 58.330%, best acc: 61.860%\n"
     ]
    },
    {
     "name": "stderr",
     "output_type": "stream",
     "text": [
      "\n",
      "Epoch 47 train: 100%|██████████| 391/391 [00:55<00:00,  7.03it/s, loss=0.886, acc=73.648%, 36824/50000]\n",
      "Epoch 47  test: 100%|██████████| 20/20 [00:05<00:00,  3.35it/s, loss=1.685, acc=56.660%, 5666/10000]"
     ]
    },
    {
     "name": "stdout",
     "output_type": "stream",
     "text": [
      "Epoch 47 | total time: 63s, test acc: 56.660%, best acc: 61.860%\n"
     ]
    },
    {
     "name": "stderr",
     "output_type": "stream",
     "text": [
      "\n",
      "Epoch 48 train: 100%|██████████| 391/391 [00:56<00:00,  6.98it/s, loss=0.883, acc=73.604%, 36802/50000]\n",
      "Epoch 48  test: 100%|██████████| 20/20 [00:06<00:00,  3.08it/s, loss=1.460, acc=60.690%, 6069/10000]"
     ]
    },
    {
     "name": "stdout",
     "output_type": "stream",
     "text": [
      "Epoch 48 | total time: 63s, test acc: 60.690%, best acc: 61.860%\n"
     ]
    },
    {
     "name": "stderr",
     "output_type": "stream",
     "text": [
      "\n",
      "Epoch 49 train: 100%|██████████| 391/391 [00:56<00:00,  6.87it/s, loss=0.877, acc=73.802%, 36901/50000]\n",
      "Epoch 49  test: 100%|██████████| 20/20 [00:06<00:00,  3.13it/s, loss=1.696, acc=57.410%, 5741/10000]"
     ]
    },
    {
     "name": "stdout",
     "output_type": "stream",
     "text": [
      "Epoch 49 | total time: 64s, test acc: 57.410%, best acc: 61.860%\n"
     ]
    },
    {
     "name": "stderr",
     "output_type": "stream",
     "text": [
      "\n",
      "Epoch 50 train: 100%|██████████| 391/391 [00:56<00:00,  6.86it/s, loss=0.867, acc=74.194%, 37097/50000]\n",
      "Epoch 50  test: 100%|██████████| 20/20 [00:05<00:00,  3.42it/s, loss=1.570, acc=59.860%, 5986/10000]"
     ]
    },
    {
     "name": "stdout",
     "output_type": "stream",
     "text": [
      "Epoch 50 | total time: 63s, test acc: 59.860%, best acc: 61.860%\n"
     ]
    },
    {
     "name": "stderr",
     "output_type": "stream",
     "text": [
      "\n",
      "Epoch 51 train: 100%|██████████| 391/391 [00:56<00:00,  6.93it/s, loss=0.869, acc=73.840%, 36920/50000]\n",
      "Epoch 51  test: 100%|██████████| 20/20 [00:06<00:00,  3.08it/s, loss=1.437, acc=61.220%, 6122/10000]"
     ]
    },
    {
     "name": "stdout",
     "output_type": "stream",
     "text": [
      "Epoch 51 | total time: 64s, test acc: 61.220%, best acc: 61.860%\n"
     ]
    },
    {
     "name": "stderr",
     "output_type": "stream",
     "text": [
      "\n",
      "Epoch 52 train: 100%|██████████| 391/391 [00:56<00:00,  6.90it/s, loss=0.853, acc=74.570%, 37285/50000]\n",
      "Epoch 52  test: 100%|██████████| 20/20 [00:06<00:00,  3.08it/s, loss=1.615, acc=58.490%, 5849/10000]"
     ]
    },
    {
     "name": "stdout",
     "output_type": "stream",
     "text": [
      "Epoch 52 | total time: 64s, test acc: 58.490%, best acc: 61.860%\n"
     ]
    },
    {
     "name": "stderr",
     "output_type": "stream",
     "text": [
      "\n",
      "Epoch 53 train: 100%|██████████| 391/391 [00:56<00:00,  6.94it/s, loss=0.859, acc=74.236%, 37118/50000]\n",
      "Epoch 53  test: 100%|██████████| 20/20 [00:06<00:00,  3.08it/s, loss=1.431, acc=61.850%, 6185/10000]"
     ]
    },
    {
     "name": "stdout",
     "output_type": "stream",
     "text": [
      "Epoch 53 | total time: 64s, test acc: 61.850%, best acc: 61.860%\n"
     ]
    },
    {
     "name": "stderr",
     "output_type": "stream",
     "text": [
      "\n",
      "Epoch 54 train: 100%|██████████| 391/391 [00:56<00:00,  6.86it/s, loss=0.846, acc=74.642%, 37321/50000]\n",
      "Epoch 54  test: 100%|██████████| 20/20 [00:05<00:00,  3.35it/s, loss=1.489, acc=60.650%, 6065/10000]"
     ]
    },
    {
     "name": "stdout",
     "output_type": "stream",
     "text": [
      "Epoch 54 | total time: 63s, test acc: 60.650%, best acc: 61.860%\n"
     ]
    },
    {
     "name": "stderr",
     "output_type": "stream",
     "text": [
      "\n",
      "Epoch 55 train: 100%|██████████| 391/391 [00:55<00:00,  7.00it/s, loss=0.832, acc=75.004%, 37502/50000]\n",
      "Epoch 55  test: 100%|██████████| 20/20 [00:05<00:00,  3.39it/s, loss=1.483, acc=60.960%, 6096/10000]"
     ]
    },
    {
     "name": "stdout",
     "output_type": "stream",
     "text": [
      "Epoch 55 | total time: 63s, test acc: 60.960%, best acc: 61.860%\n"
     ]
    },
    {
     "name": "stderr",
     "output_type": "stream",
     "text": [
      "\n",
      "Epoch 56 train: 100%|██████████| 391/391 [00:56<00:00,  6.94it/s, loss=0.840, acc=74.864%, 37432/50000]\n",
      "Epoch 56  test: 100%|██████████| 20/20 [00:06<00:00,  3.11it/s, loss=1.576, acc=58.750%, 5875/10000]"
     ]
    },
    {
     "name": "stdout",
     "output_type": "stream",
     "text": [
      "Epoch 56 | total time: 64s, test acc: 58.750%, best acc: 61.860%\n"
     ]
    },
    {
     "name": "stderr",
     "output_type": "stream",
     "text": [
      "\n",
      "Epoch 57 train: 100%|██████████| 391/391 [00:56<00:00,  6.95it/s, loss=0.826, acc=75.320%, 37660/50000]\n",
      "Epoch 57  test: 100%|██████████| 20/20 [00:05<00:00,  3.36it/s, loss=1.587, acc=59.430%, 5943/10000]"
     ]
    },
    {
     "name": "stdout",
     "output_type": "stream",
     "text": [
      "Epoch 57 | total time: 63s, test acc: 59.430%, best acc: 61.860%\n"
     ]
    },
    {
     "name": "stderr",
     "output_type": "stream",
     "text": [
      "\n",
      "Epoch 58 train: 100%|██████████| 391/391 [00:55<00:00,  7.00it/s, loss=0.820, acc=75.212%, 37606/50000]\n",
      "Epoch 58  test: 100%|██████████| 20/20 [00:05<00:00,  3.39it/s, loss=1.435, acc=61.880%, 6188/10000]\n"
     ]
    },
    {
     "name": "stdout",
     "output_type": "stream",
     "text": [
      "Saving..\n",
      "Epoch 58 | total time: 63s, test acc: 61.880%, best acc: 61.880%\n"
     ]
    },
    {
     "name": "stderr",
     "output_type": "stream",
     "text": [
      "Epoch 59 train: 100%|██████████| 391/391 [00:56<00:00,  6.94it/s, loss=0.820, acc=75.302%, 37651/50000]\n",
      "Epoch 59  test: 100%|██████████| 20/20 [00:06<00:00,  3.10it/s, loss=1.372, acc=63.420%, 6342/10000]\n"
     ]
    },
    {
     "name": "stdout",
     "output_type": "stream",
     "text": [
      "Saving..\n",
      "Epoch 59 | total time: 64s, test acc: 63.420%, best acc: 63.420%\n"
     ]
    },
    {
     "name": "stderr",
     "output_type": "stream",
     "text": [
      "Epoch 60 train: 100%|██████████| 391/391 [00:56<00:00,  6.97it/s, loss=0.802, acc=75.884%, 37942/50000]\n",
      "Epoch 60  test: 100%|██████████| 20/20 [00:05<00:00,  3.40it/s, loss=1.794, acc=55.980%, 5598/10000]"
     ]
    },
    {
     "name": "stdout",
     "output_type": "stream",
     "text": [
      "Epoch 60 | total time: 62s, test acc: 55.980%, best acc: 63.420%\n"
     ]
    },
    {
     "name": "stderr",
     "output_type": "stream",
     "text": [
      "\n",
      "Epoch 61 train: 100%|██████████| 391/391 [00:56<00:00,  6.95it/s, loss=0.807, acc=75.756%, 37878/50000]\n",
      "Epoch 61  test: 100%|██████████| 20/20 [00:06<00:00,  3.14it/s, loss=2.052, acc=53.800%, 5380/10000]"
     ]
    },
    {
     "name": "stdout",
     "output_type": "stream",
     "text": [
      "Epoch 61 | total time: 63s, test acc: 53.800%, best acc: 63.420%\n"
     ]
    },
    {
     "name": "stderr",
     "output_type": "stream",
     "text": [
      "\n",
      "Epoch 62 train: 100%|██████████| 391/391 [00:56<00:00,  6.94it/s, loss=0.792, acc=76.118%, 38059/50000]\n",
      "Epoch 62  test: 100%|██████████| 20/20 [00:05<00:00,  3.41it/s, loss=1.600, acc=58.970%, 5897/10000]"
     ]
    },
    {
     "name": "stdout",
     "output_type": "stream",
     "text": [
      "Epoch 62 | total time: 63s, test acc: 58.970%, best acc: 63.420%\n"
     ]
    },
    {
     "name": "stderr",
     "output_type": "stream",
     "text": [
      "\n",
      "Epoch 63 train: 100%|██████████| 391/391 [00:55<00:00,  7.03it/s, loss=0.784, acc=76.308%, 38154/50000]\n",
      "Epoch 63  test: 100%|██████████| 20/20 [00:05<00:00,  3.40it/s, loss=1.514, acc=61.010%, 6101/10000]"
     ]
    },
    {
     "name": "stdout",
     "output_type": "stream",
     "text": [
      "Epoch 63 | total time: 63s, test acc: 61.010%, best acc: 63.420%\n"
     ]
    },
    {
     "name": "stderr",
     "output_type": "stream",
     "text": [
      "\n",
      "Epoch 64 train: 100%|██████████| 391/391 [00:55<00:00,  7.01it/s, loss=0.772, acc=76.644%, 38322/50000]\n",
      "Epoch 64  test: 100%|██████████| 20/20 [00:06<00:00,  2.97it/s, loss=1.596, acc=60.530%, 6053/10000]"
     ]
    },
    {
     "name": "stdout",
     "output_type": "stream",
     "text": [
      "Epoch 64 | total time: 63s, test acc: 60.530%, best acc: 63.420%\n"
     ]
    },
    {
     "name": "stderr",
     "output_type": "stream",
     "text": [
      "\n",
      "Epoch 65 train: 100%|██████████| 391/391 [00:56<00:00,  6.94it/s, loss=0.774, acc=76.822%, 38411/50000]\n",
      "Epoch 65  test: 100%|██████████| 20/20 [00:05<00:00,  3.38it/s, loss=1.684, acc=59.080%, 5908/10000]"
     ]
    },
    {
     "name": "stdout",
     "output_type": "stream",
     "text": [
      "Epoch 65 | total time: 63s, test acc: 59.080%, best acc: 63.420%\n"
     ]
    },
    {
     "name": "stderr",
     "output_type": "stream",
     "text": [
      "\n",
      "Epoch 66 train: 100%|██████████| 391/391 [00:56<00:00,  6.96it/s, loss=0.762, acc=76.816%, 38408/50000]\n",
      "Epoch 66  test: 100%|██████████| 20/20 [00:05<00:00,  3.41it/s, loss=1.638, acc=59.000%, 5900/10000]"
     ]
    },
    {
     "name": "stdout",
     "output_type": "stream",
     "text": [
      "Epoch 66 | total time: 63s, test acc: 59.000%, best acc: 63.420%\n"
     ]
    },
    {
     "name": "stderr",
     "output_type": "stream",
     "text": [
      "\n",
      "Epoch 67 train: 100%|██████████| 391/391 [00:56<00:00,  6.90it/s, loss=0.759, acc=77.004%, 38502/50000]\n",
      "Epoch 67  test: 100%|██████████| 20/20 [00:05<00:00,  3.40it/s, loss=1.414, acc=63.130%, 6313/10000]"
     ]
    },
    {
     "name": "stdout",
     "output_type": "stream",
     "text": [
      "Epoch 67 | total time: 63s, test acc: 63.130%, best acc: 63.420%\n"
     ]
    },
    {
     "name": "stderr",
     "output_type": "stream",
     "text": [
      "\n",
      "Epoch 68 train: 100%|██████████| 391/391 [00:56<00:00,  6.88it/s, loss=0.754, acc=77.286%, 38643/50000]\n",
      "Epoch 68  test: 100%|██████████| 20/20 [00:06<00:00,  3.09it/s, loss=1.396, acc=63.190%, 6319/10000]"
     ]
    },
    {
     "name": "stdout",
     "output_type": "stream",
     "text": [
      "Epoch 68 | total time: 64s, test acc: 63.190%, best acc: 63.420%\n"
     ]
    },
    {
     "name": "stderr",
     "output_type": "stream",
     "text": [
      "\n",
      "Epoch 69 train: 100%|██████████| 391/391 [00:56<00:00,  6.93it/s, loss=0.738, acc=77.498%, 38749/50000]\n",
      "Epoch 69  test: 100%|██████████| 20/20 [00:05<00:00,  3.40it/s, loss=1.568, acc=60.110%, 6011/10000]"
     ]
    },
    {
     "name": "stdout",
     "output_type": "stream",
     "text": [
      "Epoch 69 | total time: 63s, test acc: 60.110%, best acc: 63.420%\n"
     ]
    },
    {
     "name": "stderr",
     "output_type": "stream",
     "text": [
      "\n",
      "Epoch 70 train: 100%|██████████| 391/391 [00:56<00:00,  6.94it/s, loss=0.736, acc=77.740%, 38870/50000]\n",
      "Epoch 70  test: 100%|██████████| 20/20 [00:05<00:00,  3.36it/s, loss=1.512, acc=62.220%, 6222/10000]"
     ]
    },
    {
     "name": "stdout",
     "output_type": "stream",
     "text": [
      "Epoch 70 | total time: 63s, test acc: 62.220%, best acc: 63.420%\n"
     ]
    },
    {
     "name": "stderr",
     "output_type": "stream",
     "text": [
      "\n",
      "Epoch 71 train: 100%|██████████| 391/391 [00:55<00:00,  7.01it/s, loss=0.726, acc=78.002%, 39001/50000]\n",
      "Epoch 71  test: 100%|██████████| 20/20 [00:06<00:00,  3.05it/s, loss=1.452, acc=63.040%, 6304/10000]"
     ]
    },
    {
     "name": "stdout",
     "output_type": "stream",
     "text": [
      "Epoch 71 | total time: 63s, test acc: 63.040%, best acc: 63.420%\n"
     ]
    },
    {
     "name": "stderr",
     "output_type": "stream",
     "text": [
      "\n",
      "Epoch 72 train: 100%|██████████| 391/391 [00:57<00:00,  6.85it/s, loss=0.725, acc=77.980%, 38990/50000]\n",
      "Epoch 72  test: 100%|██████████| 20/20 [00:06<00:00,  3.04it/s, loss=1.502, acc=62.720%, 6272/10000]"
     ]
    },
    {
     "name": "stdout",
     "output_type": "stream",
     "text": [
      "Epoch 72 | total time: 64s, test acc: 62.720%, best acc: 63.420%\n"
     ]
    },
    {
     "name": "stderr",
     "output_type": "stream",
     "text": [
      "\n",
      "Epoch 73 train: 100%|██████████| 391/391 [00:56<00:00,  6.96it/s, loss=0.704, acc=78.696%, 39348/50000]\n",
      "Epoch 73  test: 100%|██████████| 20/20 [00:06<00:00,  3.04it/s, loss=1.594, acc=58.850%, 5885/10000]"
     ]
    },
    {
     "name": "stdout",
     "output_type": "stream",
     "text": [
      "Epoch 73 | total time: 63s, test acc: 58.850%, best acc: 63.420%\n"
     ]
    },
    {
     "name": "stderr",
     "output_type": "stream",
     "text": [
      "\n",
      "Epoch 74 train: 100%|██████████| 391/391 [00:56<00:00,  6.92it/s, loss=0.706, acc=78.846%, 39423/50000]\n",
      "Epoch 74  test: 100%|██████████| 20/20 [00:05<00:00,  3.38it/s, loss=1.553, acc=60.980%, 6098/10000]"
     ]
    },
    {
     "name": "stdout",
     "output_type": "stream",
     "text": [
      "Epoch 74 | total time: 63s, test acc: 60.980%, best acc: 63.420%\n"
     ]
    },
    {
     "name": "stderr",
     "output_type": "stream",
     "text": [
      "\n",
      "Epoch 75 train: 100%|██████████| 391/391 [00:56<00:00,  6.98it/s, loss=0.698, acc=78.706%, 39353/50000]\n",
      "Epoch 75  test: 100%|██████████| 20/20 [00:05<00:00,  3.38it/s, loss=1.447, acc=62.490%, 6249/10000]"
     ]
    },
    {
     "name": "stdout",
     "output_type": "stream",
     "text": [
      "Epoch 75 | total time: 63s, test acc: 62.490%, best acc: 63.420%\n"
     ]
    },
    {
     "name": "stderr",
     "output_type": "stream",
     "text": [
      "\n",
      "Epoch 76 train: 100%|██████████| 391/391 [00:55<00:00,  6.98it/s, loss=0.697, acc=78.804%, 39402/50000]\n",
      "Epoch 76  test: 100%|██████████| 20/20 [00:06<00:00,  3.11it/s, loss=1.365, acc=64.770%, 6477/10000]\n"
     ]
    },
    {
     "name": "stdout",
     "output_type": "stream",
     "text": [
      "Saving..\n",
      "Epoch 76 | total time: 64s, test acc: 64.770%, best acc: 64.770%\n"
     ]
    },
    {
     "name": "stderr",
     "output_type": "stream",
     "text": [
      "Epoch 77 train: 100%|██████████| 391/391 [00:56<00:00,  6.95it/s, loss=0.686, acc=78.998%, 39499/50000]\n",
      "Epoch 77  test: 100%|██████████| 20/20 [00:06<00:00,  3.17it/s, loss=1.263, acc=66.140%, 6614/10000]\n"
     ]
    },
    {
     "name": "stdout",
     "output_type": "stream",
     "text": [
      "Saving..\n",
      "Epoch 77 | total time: 63s, test acc: 66.140%, best acc: 66.140%\n"
     ]
    },
    {
     "name": "stderr",
     "output_type": "stream",
     "text": [
      "Epoch 78 train: 100%|██████████| 391/391 [00:56<00:00,  6.91it/s, loss=0.671, acc=79.424%, 39712/50000]\n",
      "Epoch 78  test: 100%|██████████| 20/20 [00:06<00:00,  3.33it/s, loss=1.409, acc=63.650%, 6365/10000]"
     ]
    },
    {
     "name": "stdout",
     "output_type": "stream",
     "text": [
      "Epoch 78 | total time: 63s, test acc: 63.650%, best acc: 66.140%\n"
     ]
    },
    {
     "name": "stderr",
     "output_type": "stream",
     "text": [
      "\n",
      "Epoch 79 train: 100%|██████████| 391/391 [00:57<00:00,  6.84it/s, loss=0.671, acc=79.358%, 39679/50000]\n",
      "Epoch 79  test: 100%|██████████| 20/20 [00:06<00:00,  3.10it/s, loss=1.432, acc=64.220%, 6422/10000]"
     ]
    },
    {
     "name": "stdout",
     "output_type": "stream",
     "text": [
      "Epoch 79 | total time: 64s, test acc: 64.220%, best acc: 66.140%\n"
     ]
    },
    {
     "name": "stderr",
     "output_type": "stream",
     "text": [
      "\n",
      "Epoch 80 train: 100%|██████████| 391/391 [00:56<00:00,  6.89it/s, loss=0.650, acc=80.130%, 40065/50000]\n",
      "Epoch 80  test: 100%|██████████| 20/20 [00:06<00:00,  3.09it/s, loss=1.529, acc=60.930%, 6093/10000]"
     ]
    },
    {
     "name": "stdout",
     "output_type": "stream",
     "text": [
      "Epoch 80 | total time: 64s, test acc: 60.930%, best acc: 66.140%\n"
     ]
    },
    {
     "name": "stderr",
     "output_type": "stream",
     "text": [
      "\n",
      "Epoch 81 train: 100%|██████████| 391/391 [00:56<00:00,  6.86it/s, loss=0.650, acc=80.072%, 40036/50000]\n",
      "Epoch 81  test: 100%|██████████| 20/20 [00:06<00:00,  3.21it/s, loss=1.372, acc=64.250%, 6425/10000]"
     ]
    },
    {
     "name": "stdout",
     "output_type": "stream",
     "text": [
      "Epoch 81 | total time: 64s, test acc: 64.250%, best acc: 66.140%\n"
     ]
    },
    {
     "name": "stderr",
     "output_type": "stream",
     "text": [
      "\n",
      "Epoch 82 train: 100%|██████████| 391/391 [00:57<00:00,  6.84it/s, loss=0.639, acc=80.480%, 40240/50000]\n",
      "Epoch 82  test: 100%|██████████| 20/20 [00:06<00:00,  3.33it/s, loss=1.387, acc=64.190%, 6419/10000]"
     ]
    },
    {
     "name": "stdout",
     "output_type": "stream",
     "text": [
      "Epoch 82 | total time: 64s, test acc: 64.190%, best acc: 66.140%\n"
     ]
    },
    {
     "name": "stderr",
     "output_type": "stream",
     "text": [
      "\n",
      "Epoch 83 train: 100%|██████████| 391/391 [00:56<00:00,  6.94it/s, loss=0.631, acc=80.658%, 40329/50000]\n",
      "Epoch 83  test: 100%|██████████| 20/20 [00:05<00:00,  3.39it/s, loss=1.377, acc=64.450%, 6445/10000]"
     ]
    },
    {
     "name": "stdout",
     "output_type": "stream",
     "text": [
      "Epoch 83 | total time: 63s, test acc: 64.450%, best acc: 66.140%\n"
     ]
    },
    {
     "name": "stderr",
     "output_type": "stream",
     "text": [
      "\n",
      "Epoch 84 train: 100%|██████████| 391/391 [00:57<00:00,  6.83it/s, loss=0.619, acc=80.954%, 40477/50000]\n",
      "Epoch 84  test: 100%|██████████| 20/20 [00:06<00:00,  3.12it/s, loss=1.385, acc=64.450%, 6445/10000]"
     ]
    },
    {
     "name": "stdout",
     "output_type": "stream",
     "text": [
      "Epoch 84 | total time: 64s, test acc: 64.450%, best acc: 66.140%\n"
     ]
    },
    {
     "name": "stderr",
     "output_type": "stream",
     "text": [
      "\n",
      "Epoch 85 train: 100%|██████████| 391/391 [00:57<00:00,  6.86it/s, loss=0.610, acc=81.148%, 40574/50000]\n",
      "Epoch 85  test: 100%|██████████| 20/20 [00:06<00:00,  3.30it/s, loss=1.505, acc=61.810%, 6181/10000]"
     ]
    },
    {
     "name": "stdout",
     "output_type": "stream",
     "text": [
      "Epoch 85 | total time: 64s, test acc: 61.810%, best acc: 66.140%\n"
     ]
    },
    {
     "name": "stderr",
     "output_type": "stream",
     "text": [
      "\n",
      "Epoch 86 train: 100%|██████████| 391/391 [00:56<00:00,  6.86it/s, loss=0.615, acc=80.910%, 40455/50000]\n",
      "Epoch 86  test: 100%|██████████| 20/20 [00:06<00:00,  3.07it/s, loss=1.511, acc=61.880%, 6188/10000]"
     ]
    },
    {
     "name": "stdout",
     "output_type": "stream",
     "text": [
      "Epoch 86 | total time: 64s, test acc: 61.880%, best acc: 66.140%\n"
     ]
    },
    {
     "name": "stderr",
     "output_type": "stream",
     "text": [
      "\n",
      "Epoch 87 train: 100%|██████████| 391/391 [00:56<00:00,  6.96it/s, loss=0.608, acc=81.370%, 40685/50000]\n",
      "Epoch 87  test: 100%|██████████| 20/20 [00:05<00:00,  3.38it/s, loss=1.427, acc=63.840%, 6384/10000]"
     ]
    },
    {
     "name": "stdout",
     "output_type": "stream",
     "text": [
      "Epoch 87 | total time: 63s, test acc: 63.840%, best acc: 66.140%\n"
     ]
    },
    {
     "name": "stderr",
     "output_type": "stream",
     "text": [
      "\n",
      "Epoch 88 train: 100%|██████████| 391/391 [00:56<00:00,  6.98it/s, loss=0.581, acc=82.004%, 41002/50000]\n",
      "Epoch 88  test: 100%|██████████| 20/20 [00:05<00:00,  3.40it/s, loss=1.401, acc=64.640%, 6464/10000]"
     ]
    },
    {
     "name": "stdout",
     "output_type": "stream",
     "text": [
      "Epoch 88 | total time: 63s, test acc: 64.640%, best acc: 66.140%\n"
     ]
    },
    {
     "name": "stderr",
     "output_type": "stream",
     "text": [
      "\n",
      "Epoch 89 train: 100%|██████████| 391/391 [00:55<00:00,  7.00it/s, loss=0.581, acc=82.140%, 41070/50000]\n",
      "Epoch 89  test: 100%|██████████| 20/20 [00:06<00:00,  3.27it/s, loss=1.355, acc=65.210%, 6521/10000]"
     ]
    },
    {
     "name": "stdout",
     "output_type": "stream",
     "text": [
      "Epoch 89 | total time: 63s, test acc: 65.210%, best acc: 66.140%\n"
     ]
    },
    {
     "name": "stderr",
     "output_type": "stream",
     "text": [
      "\n",
      "Epoch 90 train: 100%|██████████| 391/391 [00:55<00:00,  6.98it/s, loss=0.574, acc=82.304%, 41152/50000]\n",
      "Epoch 90  test: 100%|██████████| 20/20 [00:06<00:00,  3.08it/s, loss=1.358, acc=65.700%, 6570/10000]"
     ]
    },
    {
     "name": "stdout",
     "output_type": "stream",
     "text": [
      "Epoch 90 | total time: 63s, test acc: 65.700%, best acc: 66.140%\n"
     ]
    },
    {
     "name": "stderr",
     "output_type": "stream",
     "text": [
      "\n",
      "Epoch 91 train: 100%|██████████| 391/391 [00:57<00:00,  6.82it/s, loss=0.577, acc=82.228%, 41114/50000]\n",
      "Epoch 91  test: 100%|██████████| 20/20 [00:06<00:00,  3.24it/s, loss=1.454, acc=62.550%, 6255/10000]"
     ]
    },
    {
     "name": "stdout",
     "output_type": "stream",
     "text": [
      "Epoch 91 | total time: 64s, test acc: 62.550%, best acc: 66.140%\n"
     ]
    },
    {
     "name": "stderr",
     "output_type": "stream",
     "text": [
      "\n",
      "Epoch 92 train: 100%|██████████| 391/391 [00:57<00:00,  6.84it/s, loss=0.560, acc=82.662%, 41331/50000]\n",
      "Epoch 92  test: 100%|██████████| 20/20 [00:05<00:00,  3.38it/s, loss=1.475, acc=63.560%, 6356/10000]"
     ]
    },
    {
     "name": "stdout",
     "output_type": "stream",
     "text": [
      "Epoch 92 | total time: 64s, test acc: 63.560%, best acc: 66.140%\n"
     ]
    },
    {
     "name": "stderr",
     "output_type": "stream",
     "text": [
      "\n",
      "Epoch 93 train: 100%|██████████| 391/391 [00:57<00:00,  6.84it/s, loss=0.546, acc=83.112%, 41556/50000]\n",
      "Epoch 93  test: 100%|██████████| 20/20 [00:05<00:00,  3.34it/s, loss=1.489, acc=63.480%, 6348/10000]"
     ]
    },
    {
     "name": "stdout",
     "output_type": "stream",
     "text": [
      "Epoch 93 | total time: 64s, test acc: 63.480%, best acc: 66.140%\n"
     ]
    },
    {
     "name": "stderr",
     "output_type": "stream",
     "text": [
      "\n",
      "Epoch 94 train: 100%|██████████| 391/391 [00:56<00:00,  6.93it/s, loss=0.539, acc=83.476%, 41738/50000]\n",
      "Epoch 94  test: 100%|██████████| 20/20 [00:06<00:00,  3.20it/s, loss=1.324, acc=65.560%, 6556/10000]"
     ]
    },
    {
     "name": "stdout",
     "output_type": "stream",
     "text": [
      "Epoch 94 | total time: 63s, test acc: 65.560%, best acc: 66.140%\n"
     ]
    },
    {
     "name": "stderr",
     "output_type": "stream",
     "text": [
      "\n",
      "Epoch 95 train: 100%|██████████| 391/391 [00:55<00:00,  7.04it/s, loss=0.533, acc=83.482%, 41741/50000]\n",
      "Epoch 95  test: 100%|██████████| 20/20 [00:06<00:00,  3.07it/s, loss=1.292, acc=66.710%, 6671/10000]\n"
     ]
    },
    {
     "name": "stdout",
     "output_type": "stream",
     "text": [
      "Saving..\n",
      "Epoch 95 | total time: 63s, test acc: 66.710%, best acc: 66.710%\n"
     ]
    },
    {
     "name": "stderr",
     "output_type": "stream",
     "text": [
      "Epoch 96 train: 100%|██████████| 391/391 [00:56<00:00,  6.95it/s, loss=0.515, acc=83.992%, 41996/50000]\n",
      "Epoch 96  test: 100%|██████████| 20/20 [00:06<00:00,  3.09it/s, loss=1.450, acc=64.690%, 6469/10000]"
     ]
    },
    {
     "name": "stdout",
     "output_type": "stream",
     "text": [
      "Epoch 96 | total time: 63s, test acc: 64.690%, best acc: 66.710%\n"
     ]
    },
    {
     "name": "stderr",
     "output_type": "stream",
     "text": [
      "\n",
      "Epoch 97 train: 100%|██████████| 391/391 [00:56<00:00,  6.94it/s, loss=0.509, acc=84.292%, 42146/50000]\n",
      "Epoch 97  test: 100%|██████████| 20/20 [00:05<00:00,  3.39it/s, loss=1.415, acc=64.620%, 6462/10000]"
     ]
    },
    {
     "name": "stdout",
     "output_type": "stream",
     "text": [
      "Epoch 97 | total time: 63s, test acc: 64.620%, best acc: 66.710%\n"
     ]
    },
    {
     "name": "stderr",
     "output_type": "stream",
     "text": [
      "\n",
      "Epoch 98 train: 100%|██████████| 391/391 [00:56<00:00,  6.96it/s, loss=0.508, acc=84.282%, 42141/50000]\n",
      "Epoch 98  test: 100%|██████████| 20/20 [00:05<00:00,  3.39it/s, loss=1.570, acc=62.410%, 6241/10000]"
     ]
    },
    {
     "name": "stdout",
     "output_type": "stream",
     "text": [
      "Epoch 98 | total time: 63s, test acc: 62.410%, best acc: 66.710%\n"
     ]
    },
    {
     "name": "stderr",
     "output_type": "stream",
     "text": [
      "\n",
      "Epoch 99 train: 100%|██████████| 391/391 [00:56<00:00,  6.95it/s, loss=0.477, acc=85.246%, 42623/50000]\n",
      "Epoch 99  test: 100%|██████████| 20/20 [00:06<00:00,  3.06it/s, loss=1.479, acc=64.430%, 6443/10000]"
     ]
    },
    {
     "name": "stdout",
     "output_type": "stream",
     "text": [
      "Epoch 99 | total time: 63s, test acc: 64.430%, best acc: 66.710%\n"
     ]
    },
    {
     "name": "stderr",
     "output_type": "stream",
     "text": [
      "\n",
      "Epoch 100 train: 100%|██████████| 391/391 [00:56<00:00,  6.98it/s, loss=0.480, acc=84.998%, 42499/50000]\n",
      "Epoch 100  test: 100%|██████████| 20/20 [00:06<00:00,  3.09it/s, loss=1.501, acc=63.370%, 6337/10000]"
     ]
    },
    {
     "name": "stdout",
     "output_type": "stream",
     "text": [
      "Epoch 100 | total time: 63s, test acc: 63.370%, best acc: 66.710%\n"
     ]
    },
    {
     "name": "stderr",
     "output_type": "stream",
     "text": [
      "\n",
      "Epoch 101 train: 100%|██████████| 391/391 [00:56<00:00,  6.92it/s, loss=0.469, acc=85.428%, 42714/50000]\n",
      "Epoch 101  test: 100%|██████████| 20/20 [00:06<00:00,  3.05it/s, loss=1.423, acc=63.850%, 6385/10000]"
     ]
    },
    {
     "name": "stdout",
     "output_type": "stream",
     "text": [
      "Epoch 101 | total time: 64s, test acc: 63.850%, best acc: 66.710%\n"
     ]
    },
    {
     "name": "stderr",
     "output_type": "stream",
     "text": [
      "\n",
      "Epoch 102 train: 100%|██████████| 391/391 [00:56<00:00,  6.95it/s, loss=0.466, acc=85.444%, 42722/50000]\n",
      "Epoch 102  test: 100%|██████████| 20/20 [00:05<00:00,  3.43it/s, loss=1.391, acc=65.720%, 6572/10000]"
     ]
    },
    {
     "name": "stdout",
     "output_type": "stream",
     "text": [
      "Epoch 102 | total time: 63s, test acc: 65.720%, best acc: 66.710%\n"
     ]
    },
    {
     "name": "stderr",
     "output_type": "stream",
     "text": [
      "\n",
      "Epoch 103 train: 100%|██████████| 391/391 [00:56<00:00,  6.93it/s, loss=0.451, acc=86.106%, 43053/50000]\n",
      "Epoch 103  test: 100%|██████████| 20/20 [00:05<00:00,  3.44it/s, loss=1.416, acc=65.470%, 6547/10000]"
     ]
    },
    {
     "name": "stdout",
     "output_type": "stream",
     "text": [
      "Epoch 103 | total time: 63s, test acc: 65.470%, best acc: 66.710%\n"
     ]
    },
    {
     "name": "stderr",
     "output_type": "stream",
     "text": [
      "\n",
      "Epoch 104 train: 100%|██████████| 391/391 [00:56<00:00,  6.89it/s, loss=0.434, acc=86.386%, 43193/50000]\n",
      "Epoch 104  test: 100%|██████████| 20/20 [00:05<00:00,  3.42it/s, loss=1.331, acc=66.120%, 6612/10000]"
     ]
    },
    {
     "name": "stdout",
     "output_type": "stream",
     "text": [
      "Epoch 104 | total time: 63s, test acc: 66.120%, best acc: 66.710%\n"
     ]
    },
    {
     "name": "stderr",
     "output_type": "stream",
     "text": [
      "\n",
      "Epoch 105 train: 100%|██████████| 391/391 [00:55<00:00,  7.05it/s, loss=0.445, acc=86.118%, 43059/50000]\n",
      "Epoch 105  test: 100%|██████████| 20/20 [00:06<00:00,  3.08it/s, loss=1.365, acc=66.420%, 6642/10000]"
     ]
    },
    {
     "name": "stdout",
     "output_type": "stream",
     "text": [
      "Epoch 105 | total time: 63s, test acc: 66.420%, best acc: 66.710%\n"
     ]
    },
    {
     "name": "stderr",
     "output_type": "stream",
     "text": [
      "\n",
      "Epoch 106 train: 100%|██████████| 391/391 [00:55<00:00,  6.99it/s, loss=0.428, acc=86.726%, 43363/50000]\n",
      "Epoch 106  test: 100%|██████████| 20/20 [00:05<00:00,  3.39it/s, loss=1.554, acc=63.050%, 6305/10000]"
     ]
    },
    {
     "name": "stdout",
     "output_type": "stream",
     "text": [
      "Epoch 106 | total time: 63s, test acc: 63.050%, best acc: 66.710%\n"
     ]
    },
    {
     "name": "stderr",
     "output_type": "stream",
     "text": [
      "\n",
      "Epoch 107 train: 100%|██████████| 391/391 [00:56<00:00,  6.95it/s, loss=0.407, acc=87.336%, 43668/50000]\n",
      "Epoch 107  test: 100%|██████████| 20/20 [00:06<00:00,  3.13it/s, loss=1.500, acc=63.880%, 6388/10000]"
     ]
    },
    {
     "name": "stdout",
     "output_type": "stream",
     "text": [
      "Epoch 107 | total time: 64s, test acc: 63.880%, best acc: 66.710%\n"
     ]
    },
    {
     "name": "stderr",
     "output_type": "stream",
     "text": [
      "\n",
      "Epoch 108 train: 100%|██████████| 391/391 [00:56<00:00,  6.94it/s, loss=0.415, acc=86.912%, 43456/50000]\n",
      "Epoch 108  test: 100%|██████████| 20/20 [00:06<00:00,  3.08it/s, loss=1.327, acc=67.100%, 6710/10000]\n"
     ]
    },
    {
     "name": "stdout",
     "output_type": "stream",
     "text": [
      "Saving..\n",
      "Epoch 108 | total time: 64s, test acc: 67.100%, best acc: 67.100%\n"
     ]
    },
    {
     "name": "stderr",
     "output_type": "stream",
     "text": [
      "Epoch 109 train: 100%|██████████| 391/391 [00:56<00:00,  6.93it/s, loss=0.390, acc=87.842%, 43921/50000]\n",
      "Epoch 109  test: 100%|██████████| 20/20 [00:06<00:00,  3.17it/s, loss=1.383, acc=66.090%, 6609/10000]"
     ]
    },
    {
     "name": "stdout",
     "output_type": "stream",
     "text": [
      "Epoch 109 | total time: 63s, test acc: 66.090%, best acc: 67.100%\n"
     ]
    },
    {
     "name": "stderr",
     "output_type": "stream",
     "text": [
      "\n",
      "Epoch 110 train: 100%|██████████| 391/391 [00:56<00:00,  6.95it/s, loss=0.385, acc=87.810%, 43905/50000]\n",
      "Epoch 110  test: 100%|██████████| 20/20 [00:06<00:00,  3.24it/s, loss=1.398, acc=66.130%, 6613/10000]"
     ]
    },
    {
     "name": "stdout",
     "output_type": "stream",
     "text": [
      "Epoch 110 | total time: 63s, test acc: 66.130%, best acc: 67.100%\n"
     ]
    },
    {
     "name": "stderr",
     "output_type": "stream",
     "text": [
      "\n",
      "Epoch 111 train: 100%|██████████| 391/391 [00:56<00:00,  6.91it/s, loss=0.381, acc=88.108%, 44054/50000]\n",
      "Epoch 111  test: 100%|██████████| 20/20 [00:06<00:00,  3.10it/s, loss=1.263, acc=67.750%, 6775/10000]\n"
     ]
    },
    {
     "name": "stdout",
     "output_type": "stream",
     "text": [
      "Saving..\n",
      "Epoch 111 | total time: 64s, test acc: 67.750%, best acc: 67.750%\n"
     ]
    },
    {
     "name": "stderr",
     "output_type": "stream",
     "text": [
      "Epoch 112 train: 100%|██████████| 391/391 [00:56<00:00,  6.90it/s, loss=0.369, acc=88.504%, 44252/50000]\n",
      "Epoch 112  test: 100%|██████████| 20/20 [00:05<00:00,  3.38it/s, loss=1.347, acc=66.940%, 6694/10000]"
     ]
    },
    {
     "name": "stdout",
     "output_type": "stream",
     "text": [
      "Epoch 112 | total time: 63s, test acc: 66.940%, best acc: 67.750%\n"
     ]
    },
    {
     "name": "stderr",
     "output_type": "stream",
     "text": [
      "\n",
      "Epoch 113 train: 100%|██████████| 391/391 [00:56<00:00,  6.95it/s, loss=0.362, acc=88.634%, 44317/50000]\n",
      "Epoch 113  test: 100%|██████████| 20/20 [00:05<00:00,  3.42it/s, loss=1.365, acc=66.560%, 6656/10000]"
     ]
    },
    {
     "name": "stdout",
     "output_type": "stream",
     "text": [
      "Epoch 113 | total time: 63s, test acc: 66.560%, best acc: 67.750%\n"
     ]
    },
    {
     "name": "stderr",
     "output_type": "stream",
     "text": [
      "\n",
      "Epoch 114 train: 100%|██████████| 391/391 [00:55<00:00,  7.06it/s, loss=0.344, acc=89.178%, 44589/50000]\n",
      "Epoch 114  test: 100%|██████████| 20/20 [00:05<00:00,  3.39it/s, loss=1.360, acc=67.710%, 6771/10000]"
     ]
    },
    {
     "name": "stdout",
     "output_type": "stream",
     "text": [
      "Epoch 114 | total time: 62s, test acc: 67.710%, best acc: 67.750%\n"
     ]
    },
    {
     "name": "stderr",
     "output_type": "stream",
     "text": [
      "\n",
      "Epoch 115 train: 100%|██████████| 391/391 [00:56<00:00,  6.91it/s, loss=0.342, acc=89.350%, 44675/50000]\n",
      "Epoch 115  test: 100%|██████████| 20/20 [00:06<00:00,  3.07it/s, loss=1.445, acc=65.990%, 6599/10000]"
     ]
    },
    {
     "name": "stdout",
     "output_type": "stream",
     "text": [
      "Epoch 115 | total time: 64s, test acc: 65.990%, best acc: 67.750%\n"
     ]
    },
    {
     "name": "stderr",
     "output_type": "stream",
     "text": [
      "\n",
      "Epoch 116 train: 100%|██████████| 391/391 [00:56<00:00,  6.93it/s, loss=0.331, acc=89.684%, 44842/50000]\n",
      "Epoch 116  test: 100%|██████████| 20/20 [00:06<00:00,  3.29it/s, loss=1.378, acc=67.020%, 6702/10000]"
     ]
    },
    {
     "name": "stdout",
     "output_type": "stream",
     "text": [
      "Epoch 116 | total time: 63s, test acc: 67.020%, best acc: 67.750%\n"
     ]
    },
    {
     "name": "stderr",
     "output_type": "stream",
     "text": [
      "\n",
      "Epoch 117 train: 100%|██████████| 391/391 [00:56<00:00,  6.86it/s, loss=0.316, acc=90.160%, 45080/50000]\n",
      "Epoch 117  test: 100%|██████████| 20/20 [00:06<00:00,  3.10it/s, loss=1.386, acc=66.820%, 6682/10000]"
     ]
    },
    {
     "name": "stdout",
     "output_type": "stream",
     "text": [
      "Epoch 117 | total time: 64s, test acc: 66.820%, best acc: 67.750%\n"
     ]
    },
    {
     "name": "stderr",
     "output_type": "stream",
     "text": [
      "\n",
      "Epoch 118 train: 100%|██████████| 391/391 [00:55<00:00,  6.98it/s, loss=0.305, acc=90.516%, 45258/50000]\n",
      "Epoch 118  test: 100%|██████████| 20/20 [00:06<00:00,  3.06it/s, loss=1.337, acc=67.570%, 6757/10000]"
     ]
    },
    {
     "name": "stdout",
     "output_type": "stream",
     "text": [
      "Epoch 118 | total time: 63s, test acc: 67.570%, best acc: 67.750%\n"
     ]
    },
    {
     "name": "stderr",
     "output_type": "stream",
     "text": [
      "\n",
      "Epoch 119 train: 100%|██████████| 391/391 [00:56<00:00,  6.90it/s, loss=0.304, acc=90.538%, 45269/50000]\n",
      "Epoch 119  test: 100%|██████████| 20/20 [00:05<00:00,  3.35it/s, loss=1.502, acc=66.480%, 6648/10000]"
     ]
    },
    {
     "name": "stdout",
     "output_type": "stream",
     "text": [
      "Epoch 119 | total time: 63s, test acc: 66.480%, best acc: 67.750%\n"
     ]
    },
    {
     "name": "stderr",
     "output_type": "stream",
     "text": [
      "\n",
      "Epoch 120 train: 100%|██████████| 391/391 [00:56<00:00,  6.95it/s, loss=0.301, acc=90.716%, 45358/50000]\n",
      "Epoch 120  test: 100%|██████████| 20/20 [00:06<00:00,  3.18it/s, loss=1.441, acc=66.550%, 6655/10000]"
     ]
    },
    {
     "name": "stdout",
     "output_type": "stream",
     "text": [
      "Epoch 120 | total time: 63s, test acc: 66.550%, best acc: 67.750%\n"
     ]
    },
    {
     "name": "stderr",
     "output_type": "stream",
     "text": [
      "\n",
      "Epoch 121 train: 100%|██████████| 391/391 [00:56<00:00,  6.93it/s, loss=0.286, acc=91.164%, 45582/50000]\n",
      "Epoch 121  test: 100%|██████████| 20/20 [00:05<00:00,  3.40it/s, loss=1.351, acc=68.110%, 6811/10000]\n"
     ]
    },
    {
     "name": "stdout",
     "output_type": "stream",
     "text": [
      "Saving..\n",
      "Epoch 121 | total time: 64s, test acc: 68.110%, best acc: 68.110%\n"
     ]
    },
    {
     "name": "stderr",
     "output_type": "stream",
     "text": [
      "Epoch 122 train: 100%|██████████| 391/391 [00:56<00:00,  6.86it/s, loss=0.259, acc=92.060%, 46030/50000]\n",
      "Epoch 122  test: 100%|██████████| 20/20 [00:06<00:00,  3.13it/s, loss=1.387, acc=67.220%, 6722/10000]"
     ]
    },
    {
     "name": "stdout",
     "output_type": "stream",
     "text": [
      "Epoch 122 | total time: 64s, test acc: 67.220%, best acc: 68.110%\n"
     ]
    },
    {
     "name": "stderr",
     "output_type": "stream",
     "text": [
      "\n",
      "Epoch 123 train: 100%|██████████| 391/391 [00:56<00:00,  6.93it/s, loss=0.268, acc=91.650%, 45825/50000]\n",
      "Epoch 123  test: 100%|██████████| 20/20 [00:05<00:00,  3.39it/s, loss=1.399, acc=66.830%, 6683/10000]"
     ]
    },
    {
     "name": "stdout",
     "output_type": "stream",
     "text": [
      "Epoch 123 | total time: 63s, test acc: 66.830%, best acc: 68.110%\n"
     ]
    },
    {
     "name": "stderr",
     "output_type": "stream",
     "text": [
      "\n",
      "Epoch 124 train: 100%|██████████| 391/391 [00:56<00:00,  6.87it/s, loss=0.265, acc=91.824%, 45912/50000]\n",
      "Epoch 124  test: 100%|██████████| 20/20 [00:05<00:00,  3.38it/s, loss=1.412, acc=66.950%, 6695/10000]"
     ]
    },
    {
     "name": "stdout",
     "output_type": "stream",
     "text": [
      "Epoch 124 | total time: 63s, test acc: 66.950%, best acc: 68.110%\n"
     ]
    },
    {
     "name": "stderr",
     "output_type": "stream",
     "text": [
      "\n",
      "Epoch 125 train: 100%|██████████| 391/391 [00:56<00:00,  6.90it/s, loss=0.242, acc=92.476%, 46238/50000]\n",
      "Epoch 125  test: 100%|██████████| 20/20 [00:06<00:00,  3.07it/s, loss=1.413, acc=67.670%, 6767/10000]"
     ]
    },
    {
     "name": "stdout",
     "output_type": "stream",
     "text": [
      "Epoch 125 | total time: 64s, test acc: 67.670%, best acc: 68.110%\n"
     ]
    },
    {
     "name": "stderr",
     "output_type": "stream",
     "text": [
      "\n",
      "Epoch 126 train: 100%|██████████| 391/391 [00:57<00:00,  6.84it/s, loss=0.244, acc=92.618%, 46309/50000]\n",
      "Epoch 126  test: 100%|██████████| 20/20 [00:05<00:00,  3.37it/s, loss=1.283, acc=69.500%, 6950/10000]\n"
     ]
    },
    {
     "name": "stdout",
     "output_type": "stream",
     "text": [
      "Saving..\n",
      "Epoch 126 | total time: 64s, test acc: 69.500%, best acc: 69.500%\n"
     ]
    },
    {
     "name": "stderr",
     "output_type": "stream",
     "text": [
      "Epoch 127 train: 100%|██████████| 391/391 [00:56<00:00,  6.94it/s, loss=0.215, acc=93.496%, 46748/50000]\n",
      "Epoch 127  test: 100%|██████████| 20/20 [00:05<00:00,  3.38it/s, loss=1.304, acc=69.330%, 6933/10000]"
     ]
    },
    {
     "name": "stdout",
     "output_type": "stream",
     "text": [
      "Epoch 127 | total time: 63s, test acc: 69.330%, best acc: 69.500%\n"
     ]
    },
    {
     "name": "stderr",
     "output_type": "stream",
     "text": [
      "\n",
      "Epoch 128 train: 100%|██████████| 391/391 [00:56<00:00,  6.88it/s, loss=0.215, acc=93.458%, 46729/50000]\n",
      "Epoch 128  test: 100%|██████████| 20/20 [00:06<00:00,  3.14it/s, loss=1.355, acc=68.200%, 6820/10000]"
     ]
    },
    {
     "name": "stdout",
     "output_type": "stream",
     "text": [
      "Epoch 128 | total time: 64s, test acc: 68.200%, best acc: 69.500%\n"
     ]
    },
    {
     "name": "stderr",
     "output_type": "stream",
     "text": [
      "\n",
      "Epoch 129 train: 100%|██████████| 391/391 [00:55<00:00,  7.01it/s, loss=0.230, acc=92.900%, 46450/50000]\n",
      "Epoch 129  test: 100%|██████████| 20/20 [00:06<00:00,  3.14it/s, loss=1.452, acc=66.860%, 6686/10000]"
     ]
    },
    {
     "name": "stdout",
     "output_type": "stream",
     "text": [
      "Epoch 129 | total time: 63s, test acc: 66.860%, best acc: 69.500%\n"
     ]
    },
    {
     "name": "stderr",
     "output_type": "stream",
     "text": [
      "\n",
      "Epoch 130 train: 100%|██████████| 391/391 [00:56<00:00,  6.95it/s, loss=0.207, acc=93.744%, 46872/50000]\n",
      "Epoch 130  test: 100%|██████████| 20/20 [00:06<00:00,  3.12it/s, loss=1.274, acc=70.030%, 7003/10000]\n"
     ]
    },
    {
     "name": "stdout",
     "output_type": "stream",
     "text": [
      "Saving..\n",
      "Epoch 130 | total time: 64s, test acc: 70.030%, best acc: 70.030%\n"
     ]
    },
    {
     "name": "stderr",
     "output_type": "stream",
     "text": [
      "Epoch 131 train: 100%|██████████| 391/391 [00:56<00:00,  6.94it/s, loss=0.183, acc=94.452%, 47226/50000]\n",
      "Epoch 131  test: 100%|██████████| 20/20 [00:05<00:00,  3.35it/s, loss=1.268, acc=69.650%, 6965/10000]"
     ]
    },
    {
     "name": "stdout",
     "output_type": "stream",
     "text": [
      "Epoch 131 | total time: 63s, test acc: 69.650%, best acc: 70.030%\n"
     ]
    },
    {
     "name": "stderr",
     "output_type": "stream",
     "text": [
      "\n",
      "Epoch 132 train: 100%|██████████| 391/391 [00:56<00:00,  6.90it/s, loss=0.185, acc=94.428%, 47214/50000]\n",
      "Epoch 132  test: 100%|██████████| 20/20 [00:06<00:00,  3.21it/s, loss=1.325, acc=69.050%, 6905/10000]"
     ]
    },
    {
     "name": "stdout",
     "output_type": "stream",
     "text": [
      "Epoch 132 | total time: 63s, test acc: 69.050%, best acc: 70.030%\n"
     ]
    },
    {
     "name": "stderr",
     "output_type": "stream",
     "text": [
      "\n",
      "Epoch 133 train: 100%|██████████| 391/391 [00:57<00:00,  6.80it/s, loss=0.183, acc=94.440%, 47220/50000]\n",
      "Epoch 133  test: 100%|██████████| 20/20 [00:06<00:00,  3.05it/s, loss=1.335, acc=69.180%, 6918/10000]"
     ]
    },
    {
     "name": "stdout",
     "output_type": "stream",
     "text": [
      "Epoch 133 | total time: 65s, test acc: 69.180%, best acc: 70.030%\n"
     ]
    },
    {
     "name": "stderr",
     "output_type": "stream",
     "text": [
      "\n",
      "Epoch 134 train: 100%|██████████| 391/391 [00:56<00:00,  6.94it/s, loss=0.157, acc=95.444%, 47722/50000]\n",
      "Epoch 134  test: 100%|██████████| 20/20 [00:05<00:00,  3.35it/s, loss=1.247, acc=70.500%, 7050/10000]\n"
     ]
    },
    {
     "name": "stdout",
     "output_type": "stream",
     "text": [
      "Saving..\n",
      "Epoch 134 | total time: 64s, test acc: 70.500%, best acc: 70.500%\n"
     ]
    },
    {
     "name": "stderr",
     "output_type": "stream",
     "text": [
      "Epoch 135 train: 100%|██████████| 391/391 [00:56<00:00,  6.86it/s, loss=0.159, acc=95.318%, 47659/50000]\n",
      "Epoch 135  test: 100%|██████████| 20/20 [00:06<00:00,  3.32it/s, loss=1.309, acc=69.110%, 6911/10000]"
     ]
    },
    {
     "name": "stdout",
     "output_type": "stream",
     "text": [
      "Epoch 135 | total time: 63s, test acc: 69.110%, best acc: 70.500%\n"
     ]
    },
    {
     "name": "stderr",
     "output_type": "stream",
     "text": [
      "\n",
      "Epoch 136 train: 100%|██████████| 391/391 [00:57<00:00,  6.80it/s, loss=0.150, acc=95.628%, 47814/50000]\n",
      "Epoch 136  test: 100%|██████████| 20/20 [00:06<00:00,  3.07it/s, loss=1.192, acc=70.400%, 7040/10000]"
     ]
    },
    {
     "name": "stdout",
     "output_type": "stream",
     "text": [
      "Epoch 136 | total time: 65s, test acc: 70.400%, best acc: 70.500%\n"
     ]
    },
    {
     "name": "stderr",
     "output_type": "stream",
     "text": [
      "\n",
      "Epoch 137 train: 100%|██████████| 391/391 [00:57<00:00,  6.85it/s, loss=0.135, acc=96.094%, 48047/50000]\n",
      "Epoch 137  test: 100%|██████████| 20/20 [00:06<00:00,  3.10it/s, loss=1.252, acc=70.550%, 7055/10000]\n"
     ]
    },
    {
     "name": "stdout",
     "output_type": "stream",
     "text": [
      "Saving..\n",
      "Epoch 137 | total time: 64s, test acc: 70.550%, best acc: 70.550%\n"
     ]
    },
    {
     "name": "stderr",
     "output_type": "stream",
     "text": [
      "Epoch 138 train: 100%|██████████| 391/391 [00:49<00:00,  7.93it/s, loss=0.152, acc=95.560%, 47780/50000]\n",
      "Epoch 138  test: 100%|██████████| 20/20 [00:04<00:00,  4.93it/s, loss=1.262, acc=70.650%, 7065/10000]\n"
     ]
    },
    {
     "name": "stdout",
     "output_type": "stream",
     "text": [
      "Saving..\n",
      "Epoch 138 | total time: 54s, test acc: 70.650%, best acc: 70.650%\n"
     ]
    },
    {
     "name": "stderr",
     "output_type": "stream",
     "text": [
      "Epoch 139 train: 100%|██████████| 391/391 [00:46<00:00,  8.48it/s, loss=0.127, acc=96.324%, 48162/50000]\n",
      "Epoch 139  test: 100%|██████████| 20/20 [00:04<00:00,  4.74it/s, loss=1.211, acc=71.780%, 7178/10000]\n"
     ]
    },
    {
     "name": "stdout",
     "output_type": "stream",
     "text": [
      "Saving..\n",
      "Epoch 139 | total time: 51s, test acc: 71.780%, best acc: 71.780%\n"
     ]
    },
    {
     "name": "stderr",
     "output_type": "stream",
     "text": [
      "Epoch 140 train: 100%|██████████| 391/391 [00:45<00:00,  8.51it/s, loss=0.117, acc=96.738%, 48369/50000]\n",
      "Epoch 140  test: 100%|██████████| 20/20 [00:03<00:00,  5.01it/s, loss=1.338, acc=68.910%, 6891/10000]"
     ]
    },
    {
     "name": "stdout",
     "output_type": "stream",
     "text": [
      "Epoch 140 | total time: 50s, test acc: 68.910%, best acc: 71.780%\n"
     ]
    },
    {
     "name": "stderr",
     "output_type": "stream",
     "text": [
      "\n",
      "Epoch 141 train: 100%|██████████| 391/391 [00:45<00:00,  8.51it/s, loss=0.126, acc=96.418%, 48209/50000]\n",
      "Epoch 141  test: 100%|██████████| 20/20 [00:04<00:00,  4.98it/s, loss=1.272, acc=70.620%, 7062/10000]"
     ]
    },
    {
     "name": "stdout",
     "output_type": "stream",
     "text": [
      "Epoch 141 | total time: 50s, test acc: 70.620%, best acc: 71.780%\n"
     ]
    },
    {
     "name": "stderr",
     "output_type": "stream",
     "text": [
      "\n",
      "Epoch 142 train: 100%|██████████| 391/391 [00:46<00:00,  8.48it/s, loss=0.106, acc=96.990%, 48495/50000]\n",
      "Epoch 142  test: 100%|██████████| 20/20 [00:04<00:00,  4.96it/s, loss=1.241, acc=71.160%, 7116/10000]"
     ]
    },
    {
     "name": "stdout",
     "output_type": "stream",
     "text": [
      "Epoch 142 | total time: 50s, test acc: 71.160%, best acc: 71.780%\n"
     ]
    },
    {
     "name": "stderr",
     "output_type": "stream",
     "text": [
      "\n",
      "Epoch 143 train: 100%|██████████| 391/391 [00:46<00:00,  8.47it/s, loss=0.101, acc=97.252%, 48626/50000]\n",
      "Epoch 143  test: 100%|██████████| 20/20 [00:04<00:00,  5.00it/s, loss=1.194, acc=71.950%, 7195/10000]\n"
     ]
    },
    {
     "name": "stdout",
     "output_type": "stream",
     "text": [
      "Saving..\n",
      "Epoch 143 | total time: 51s, test acc: 71.950%, best acc: 71.950%\n"
     ]
    },
    {
     "name": "stderr",
     "output_type": "stream",
     "text": [
      "Epoch 144 train: 100%|██████████| 391/391 [00:46<00:00,  8.46it/s, loss=0.091, acc=97.466%, 48733/50000]\n",
      "Epoch 144  test: 100%|██████████| 20/20 [00:04<00:00,  4.85it/s, loss=1.178, acc=72.450%, 7245/10000]\n"
     ]
    },
    {
     "name": "stdout",
     "output_type": "stream",
     "text": [
      "Saving..\n",
      "Epoch 144 | total time: 51s, test acc: 72.450%, best acc: 72.450%\n"
     ]
    },
    {
     "name": "stderr",
     "output_type": "stream",
     "text": [
      "Epoch 145 train: 100%|██████████| 391/391 [00:45<00:00,  8.50it/s, loss=0.086, acc=97.750%, 48875/50000]\n",
      "Epoch 145  test: 100%|██████████| 20/20 [00:03<00:00,  5.41it/s, loss=1.151, acc=72.560%, 7256/10000]\n"
     ]
    },
    {
     "name": "stdout",
     "output_type": "stream",
     "text": [
      "Saving..\n",
      "Epoch 145 | total time: 50s, test acc: 72.560%, best acc: 72.560%\n"
     ]
    },
    {
     "name": "stderr",
     "output_type": "stream",
     "text": [
      "Epoch 146 train: 100%|██████████| 391/391 [00:46<00:00,  8.49it/s, loss=0.080, acc=97.850%, 48925/50000]\n",
      "Epoch 146  test: 100%|██████████| 20/20 [00:04<00:00,  4.95it/s, loss=1.176, acc=72.100%, 7210/10000]"
     ]
    },
    {
     "name": "stdout",
     "output_type": "stream",
     "text": [
      "Epoch 146 | total time: 50s, test acc: 72.100%, best acc: 72.560%\n"
     ]
    },
    {
     "name": "stderr",
     "output_type": "stream",
     "text": [
      "\n",
      "Epoch 147 train: 100%|██████████| 391/391 [00:45<00:00,  8.56it/s, loss=0.070, acc=98.316%, 49158/50000]\n",
      "Epoch 147  test: 100%|██████████| 20/20 [00:04<00:00,  4.96it/s, loss=1.126, acc=73.870%, 7387/10000]\n"
     ]
    },
    {
     "name": "stdout",
     "output_type": "stream",
     "text": [
      "Saving..\n",
      "Epoch 147 | total time: 50s, test acc: 73.870%, best acc: 73.870%\n"
     ]
    },
    {
     "name": "stderr",
     "output_type": "stream",
     "text": [
      "Epoch 148 train: 100%|██████████| 391/391 [00:46<00:00,  8.48it/s, loss=0.054, acc=98.712%, 49356/50000]\n",
      "Epoch 148  test: 100%|██████████| 20/20 [00:03<00:00,  5.01it/s, loss=1.117, acc=73.640%, 7364/10000]"
     ]
    },
    {
     "name": "stdout",
     "output_type": "stream",
     "text": [
      "Epoch 148 | total time: 50s, test acc: 73.640%, best acc: 73.870%\n"
     ]
    },
    {
     "name": "stderr",
     "output_type": "stream",
     "text": [
      "\n",
      "Epoch 149 train: 100%|██████████| 391/391 [00:45<00:00,  8.50it/s, loss=0.047, acc=98.930%, 49465/50000]\n",
      "Epoch 149  test: 100%|██████████| 20/20 [00:04<00:00,  4.97it/s, loss=1.100, acc=74.100%, 7410/10000]\n"
     ]
    },
    {
     "name": "stdout",
     "output_type": "stream",
     "text": [
      "Saving..\n",
      "Epoch 149 | total time: 50s, test acc: 74.100%, best acc: 74.100%\n"
     ]
    },
    {
     "name": "stderr",
     "output_type": "stream",
     "text": [
      "Epoch 150 train: 100%|██████████| 391/391 [00:45<00:00,  8.59it/s, loss=0.048, acc=98.932%, 49466/50000]\n",
      "Epoch 150  test: 100%|██████████| 20/20 [00:04<00:00,  4.98it/s, loss=1.069, acc=74.990%, 7499/10000]\n"
     ]
    },
    {
     "name": "stdout",
     "output_type": "stream",
     "text": [
      "Saving..\n",
      "Epoch 150 | total time: 50s, test acc: 74.990%, best acc: 74.990%\n"
     ]
    },
    {
     "name": "stderr",
     "output_type": "stream",
     "text": [
      "Epoch 151 train: 100%|██████████| 391/391 [00:46<00:00,  8.47it/s, loss=0.043, acc=99.080%, 49540/50000]\n",
      "Epoch 151  test: 100%|██████████| 20/20 [00:04<00:00,  4.98it/s, loss=1.057, acc=73.970%, 7397/10000]"
     ]
    },
    {
     "name": "stdout",
     "output_type": "stream",
     "text": [
      "Epoch 151 | total time: 50s, test acc: 73.970%, best acc: 74.990%\n"
     ]
    },
    {
     "name": "stderr",
     "output_type": "stream",
     "text": [
      "\n",
      "Epoch 152 train: 100%|██████████| 391/391 [00:46<00:00,  8.46it/s, loss=0.032, acc=99.406%, 49703/50000]\n",
      "Epoch 152  test: 100%|██████████| 20/20 [00:04<00:00,  4.86it/s, loss=1.046, acc=75.400%, 7540/10000]\n"
     ]
    },
    {
     "name": "stdout",
     "output_type": "stream",
     "text": [
      "Saving..\n",
      "Epoch 152 | total time: 51s, test acc: 75.400%, best acc: 75.400%\n"
     ]
    },
    {
     "name": "stderr",
     "output_type": "stream",
     "text": [
      "Epoch 153 train: 100%|██████████| 391/391 [00:46<00:00,  8.46it/s, loss=0.035, acc=99.316%, 49658/50000]\n",
      "Epoch 153  test: 100%|██████████| 20/20 [00:04<00:00,  4.75it/s, loss=1.011, acc=75.730%, 7573/10000]\n"
     ]
    },
    {
     "name": "stdout",
     "output_type": "stream",
     "text": [
      "Saving..\n",
      "Epoch 153 | total time: 51s, test acc: 75.730%, best acc: 75.730%\n"
     ]
    },
    {
     "name": "stderr",
     "output_type": "stream",
     "text": [
      "Epoch 154 train: 100%|██████████| 391/391 [00:46<00:00,  8.47it/s, loss=0.026, acc=99.548%, 49774/50000]\n",
      "Epoch 154  test: 100%|██████████| 20/20 [00:04<00:00,  4.90it/s, loss=0.989, acc=76.530%, 7653/10000]\n"
     ]
    },
    {
     "name": "stdout",
     "output_type": "stream",
     "text": [
      "Saving..\n",
      "Epoch 154 | total time: 51s, test acc: 76.530%, best acc: 76.530%\n"
     ]
    },
    {
     "name": "stderr",
     "output_type": "stream",
     "text": [
      "Epoch 155 train: 100%|██████████| 391/391 [00:46<00:00,  8.46it/s, loss=0.022, acc=99.656%, 49828/50000]\n",
      "Epoch 155  test: 100%|██████████| 20/20 [00:04<00:00,  4.83it/s, loss=0.992, acc=76.330%, 7633/10000]"
     ]
    },
    {
     "name": "stdout",
     "output_type": "stream",
     "text": [
      "Epoch 155 | total time: 51s, test acc: 76.330%, best acc: 76.530%\n"
     ]
    },
    {
     "name": "stderr",
     "output_type": "stream",
     "text": [
      "\n",
      "Epoch 156 train: 100%|██████████| 391/391 [00:46<00:00,  8.48it/s, loss=0.020, acc=99.706%, 49853/50000]\n",
      "Epoch 156  test: 100%|██████████| 20/20 [00:04<00:00,  4.92it/s, loss=0.977, acc=76.320%, 7632/10000]"
     ]
    },
    {
     "name": "stdout",
     "output_type": "stream",
     "text": [
      "Epoch 156 | total time: 50s, test acc: 76.320%, best acc: 76.530%\n"
     ]
    },
    {
     "name": "stderr",
     "output_type": "stream",
     "text": [
      "\n",
      "Epoch 157 train: 100%|██████████| 391/391 [00:46<00:00,  8.49it/s, loss=0.018, acc=99.778%, 49889/50000]\n",
      "Epoch 157  test: 100%|██████████| 20/20 [00:04<00:00,  4.87it/s, loss=0.944, acc=77.440%, 7744/10000]\n"
     ]
    },
    {
     "name": "stdout",
     "output_type": "stream",
     "text": [
      "Saving..\n",
      "Epoch 157 | total time: 51s, test acc: 77.440%, best acc: 77.440%\n"
     ]
    },
    {
     "name": "stderr",
     "output_type": "stream",
     "text": [
      "Epoch 158 train: 100%|██████████| 391/391 [00:46<00:00,  8.46it/s, loss=0.015, acc=99.796%, 49898/50000]\n",
      "Epoch 158  test: 100%|██████████| 20/20 [00:04<00:00,  4.81it/s, loss=0.955, acc=77.030%, 7703/10000]"
     ]
    },
    {
     "name": "stdout",
     "output_type": "stream",
     "text": [
      "Epoch 158 | total time: 51s, test acc: 77.030%, best acc: 77.440%\n"
     ]
    },
    {
     "name": "stderr",
     "output_type": "stream",
     "text": [
      "\n",
      "Epoch 159 train: 100%|██████████| 391/391 [00:45<00:00,  8.51it/s, loss=0.013, acc=99.854%, 49927/50000]\n",
      "Epoch 159  test: 100%|██████████| 20/20 [00:04<00:00,  4.99it/s, loss=0.924, acc=77.710%, 7771/10000]\n"
     ]
    },
    {
     "name": "stdout",
     "output_type": "stream",
     "text": [
      "Saving..\n",
      "Epoch 159 | total time: 50s, test acc: 77.710%, best acc: 77.710%\n"
     ]
    },
    {
     "name": "stderr",
     "output_type": "stream",
     "text": [
      "Epoch 160 train: 100%|██████████| 391/391 [00:46<00:00,  8.47it/s, loss=0.012, acc=99.886%, 49943/50000]\n",
      "Epoch 160  test: 100%|██████████| 20/20 [00:04<00:00,  4.96it/s, loss=0.914, acc=77.800%, 7780/10000]\n"
     ]
    },
    {
     "name": "stdout",
     "output_type": "stream",
     "text": [
      "Saving..\n",
      "Epoch 160 | total time: 51s, test acc: 77.800%, best acc: 77.800%\n"
     ]
    },
    {
     "name": "stderr",
     "output_type": "stream",
     "text": [
      "Epoch 161 train: 100%|██████████| 391/391 [00:46<00:00,  8.45it/s, loss=0.011, acc=99.900%, 49950/50000]\n",
      "Epoch 161  test: 100%|██████████| 20/20 [00:04<00:00,  5.00it/s, loss=0.906, acc=77.900%, 7790/10000]\n"
     ]
    },
    {
     "name": "stdout",
     "output_type": "stream",
     "text": [
      "Saving..\n",
      "Epoch 161 | total time: 51s, test acc: 77.900%, best acc: 77.900%\n"
     ]
    },
    {
     "name": "stderr",
     "output_type": "stream",
     "text": [
      "Epoch 162 train: 100%|██████████| 391/391 [00:45<00:00,  8.51it/s, loss=0.010, acc=99.886%, 49943/50000]\n",
      "Epoch 162  test: 100%|██████████| 20/20 [00:04<00:00,  4.97it/s, loss=0.898, acc=78.280%, 7828/10000]\n"
     ]
    },
    {
     "name": "stdout",
     "output_type": "stream",
     "text": [
      "Saving..\n",
      "Epoch 162 | total time: 50s, test acc: 78.280%, best acc: 78.280%\n"
     ]
    },
    {
     "name": "stderr",
     "output_type": "stream",
     "text": [
      "Epoch 163 train: 100%|██████████| 391/391 [00:46<00:00,  8.47it/s, loss=0.011, acc=99.886%, 49943/50000]\n",
      "Epoch 163  test: 100%|██████████| 20/20 [00:04<00:00,  4.98it/s, loss=0.879, acc=78.440%, 7844/10000]\n"
     ]
    },
    {
     "name": "stdout",
     "output_type": "stream",
     "text": [
      "Saving..\n",
      "Epoch 163 | total time: 51s, test acc: 78.440%, best acc: 78.440%\n"
     ]
    },
    {
     "name": "stderr",
     "output_type": "stream",
     "text": [
      "Epoch 164 train: 100%|██████████| 391/391 [00:46<00:00,  8.48it/s, loss=0.009, acc=99.928%, 49964/50000]\n",
      "Epoch 164  test: 100%|██████████| 20/20 [00:03<00:00,  5.03it/s, loss=0.875, acc=78.630%, 7863/10000]\n"
     ]
    },
    {
     "name": "stdout",
     "output_type": "stream",
     "text": [
      "Saving..\n",
      "Epoch 164 | total time: 51s, test acc: 78.630%, best acc: 78.630%\n"
     ]
    },
    {
     "name": "stderr",
     "output_type": "stream",
     "text": [
      "Epoch 165 train: 100%|██████████| 391/391 [00:46<00:00,  8.44it/s, loss=0.008, acc=99.952%, 49976/50000]\n",
      "Epoch 165  test: 100%|██████████| 20/20 [00:03<00:00,  5.39it/s, loss=0.859, acc=79.110%, 7911/10000]\n"
     ]
    },
    {
     "name": "stdout",
     "output_type": "stream",
     "text": [
      "Saving..\n",
      "Epoch 165 | total time: 51s, test acc: 79.110%, best acc: 79.110%\n"
     ]
    },
    {
     "name": "stderr",
     "output_type": "stream",
     "text": [
      "Epoch 166 train: 100%|██████████| 391/391 [00:46<00:00,  8.46it/s, loss=0.008, acc=99.940%, 49970/50000]\n",
      "Epoch 166  test: 100%|██████████| 20/20 [00:03<00:00,  5.01it/s, loss=0.855, acc=79.140%, 7914/10000]\n"
     ]
    },
    {
     "name": "stdout",
     "output_type": "stream",
     "text": [
      "Saving..\n",
      "Epoch 166 | total time: 51s, test acc: 79.140%, best acc: 79.140%\n"
     ]
    },
    {
     "name": "stderr",
     "output_type": "stream",
     "text": [
      "Epoch 167 train: 100%|██████████| 391/391 [00:46<00:00,  8.46it/s, loss=0.008, acc=99.938%, 49969/50000]\n",
      "Epoch 167  test: 100%|██████████| 20/20 [00:03<00:00,  5.09it/s, loss=0.852, acc=78.910%, 7891/10000]"
     ]
    },
    {
     "name": "stdout",
     "output_type": "stream",
     "text": [
      "Epoch 167 | total time: 50s, test acc: 78.910%, best acc: 79.140%\n"
     ]
    },
    {
     "name": "stderr",
     "output_type": "stream",
     "text": [
      "\n",
      "Epoch 168 train: 100%|██████████| 391/391 [00:45<00:00,  8.51it/s, loss=0.007, acc=99.962%, 49981/50000]\n",
      "Epoch 168  test: 100%|██████████| 20/20 [00:04<00:00,  4.88it/s, loss=0.853, acc=78.940%, 7894/10000]"
     ]
    },
    {
     "name": "stdout",
     "output_type": "stream",
     "text": [
      "Epoch 168 | total time: 51s, test acc: 78.940%, best acc: 79.140%\n"
     ]
    },
    {
     "name": "stderr",
     "output_type": "stream",
     "text": [
      "\n",
      "Epoch 169 train: 100%|██████████| 391/391 [00:46<00:00,  8.47it/s, loss=0.008, acc=99.954%, 49977/50000]\n",
      "Epoch 169  test: 100%|██████████| 20/20 [00:04<00:00,  4.98it/s, loss=0.852, acc=79.090%, 7909/10000]"
     ]
    },
    {
     "name": "stdout",
     "output_type": "stream",
     "text": [
      "Epoch 169 | total time: 50s, test acc: 79.090%, best acc: 79.140%\n"
     ]
    },
    {
     "name": "stderr",
     "output_type": "stream",
     "text": [
      "\n",
      "Epoch 170 train: 100%|██████████| 391/391 [00:46<00:00,  8.47it/s, loss=0.007, acc=99.950%, 49975/50000]\n",
      "Epoch 170  test: 100%|██████████| 20/20 [00:04<00:00,  4.97it/s, loss=0.850, acc=79.160%, 7916/10000]\n"
     ]
    },
    {
     "name": "stdout",
     "output_type": "stream",
     "text": [
      "Saving..\n",
      "Epoch 170 | total time: 51s, test acc: 79.160%, best acc: 79.160%\n"
     ]
    },
    {
     "name": "stderr",
     "output_type": "stream",
     "text": [
      "Epoch 171 train: 100%|██████████| 391/391 [00:46<00:00,  8.48it/s, loss=0.007, acc=99.952%, 49976/50000]\n",
      "Epoch 171  test: 100%|██████████| 20/20 [00:04<00:00,  4.83it/s, loss=0.845, acc=79.050%, 7905/10000]"
     ]
    },
    {
     "name": "stdout",
     "output_type": "stream",
     "text": [
      "Epoch 171 | total time: 50s, test acc: 79.050%, best acc: 79.160%\n"
     ]
    },
    {
     "name": "stderr",
     "output_type": "stream",
     "text": [
      "\n",
      "Epoch 172 train: 100%|██████████| 391/391 [00:46<00:00,  8.42it/s, loss=0.008, acc=99.944%, 49972/50000]\n",
      "Epoch 172  test: 100%|██████████| 20/20 [00:04<00:00,  4.96it/s, loss=0.844, acc=79.080%, 7908/10000]"
     ]
    },
    {
     "name": "stdout",
     "output_type": "stream",
     "text": [
      "Epoch 172 | total time: 51s, test acc: 79.080%, best acc: 79.160%\n"
     ]
    },
    {
     "name": "stderr",
     "output_type": "stream",
     "text": [
      "\n",
      "Epoch 173 train: 100%|██████████| 391/391 [00:45<00:00,  8.52it/s, loss=0.008, acc=99.948%, 49974/50000]\n",
      "Epoch 173  test: 100%|██████████| 20/20 [00:04<00:00,  4.93it/s, loss=0.843, acc=78.870%, 7887/10000]"
     ]
    },
    {
     "name": "stdout",
     "output_type": "stream",
     "text": [
      "Epoch 173 | total time: 50s, test acc: 78.870%, best acc: 79.160%\n"
     ]
    },
    {
     "name": "stderr",
     "output_type": "stream",
     "text": [
      "\n",
      "Epoch 174 train: 100%|██████████| 391/391 [00:46<00:00,  8.46it/s, loss=0.007, acc=99.946%, 49973/50000]\n",
      "Epoch 174  test: 100%|██████████| 20/20 [00:04<00:00,  4.97it/s, loss=0.838, acc=79.160%, 7916/10000]"
     ]
    },
    {
     "name": "stdout",
     "output_type": "stream",
     "text": [
      "Epoch 174 | total time: 50s, test acc: 79.160%, best acc: 79.160%\n"
     ]
    },
    {
     "name": "stderr",
     "output_type": "stream",
     "text": [
      "\n",
      "Epoch 175 train: 100%|██████████| 391/391 [00:46<00:00,  8.46it/s, loss=0.007, acc=99.964%, 49982/50000]\n",
      "Epoch 175  test: 100%|██████████| 20/20 [00:03<00:00,  5.01it/s, loss=0.839, acc=79.090%, 7909/10000]"
     ]
    },
    {
     "name": "stdout",
     "output_type": "stream",
     "text": [
      "Epoch 175 | total time: 50s, test acc: 79.090%, best acc: 79.160%\n"
     ]
    },
    {
     "name": "stderr",
     "output_type": "stream",
     "text": [
      "\n",
      "Epoch 176 train: 100%|██████████| 391/391 [00:46<00:00,  8.47it/s, loss=0.007, acc=99.956%, 49978/50000]\n",
      "Epoch 176  test: 100%|██████████| 20/20 [00:04<00:00,  4.86it/s, loss=0.837, acc=79.440%, 7944/10000]\n"
     ]
    },
    {
     "name": "stdout",
     "output_type": "stream",
     "text": [
      "Saving..\n",
      "Epoch 176 | total time: 51s, test acc: 79.440%, best acc: 79.440%\n"
     ]
    },
    {
     "name": "stderr",
     "output_type": "stream",
     "text": [
      "Epoch 177 train: 100%|██████████| 391/391 [00:45<00:00,  8.51it/s, loss=0.007, acc=99.952%, 49976/50000]\n",
      "Epoch 177  test: 100%|██████████| 20/20 [00:04<00:00,  4.67it/s, loss=0.841, acc=79.210%, 7921/10000]"
     ]
    },
    {
     "name": "stdout",
     "output_type": "stream",
     "text": [
      "Epoch 177 | total time: 50s, test acc: 79.210%, best acc: 79.440%\n"
     ]
    },
    {
     "name": "stderr",
     "output_type": "stream",
     "text": [
      "\n",
      "Epoch 178 train: 100%|██████████| 391/391 [00:46<00:00,  8.40it/s, loss=0.007, acc=99.952%, 49976/50000]\n",
      "Epoch 178  test: 100%|██████████| 20/20 [00:04<00:00,  4.82it/s, loss=0.840, acc=79.380%, 7938/10000]"
     ]
    },
    {
     "name": "stdout",
     "output_type": "stream",
     "text": [
      "Epoch 178 | total time: 51s, test acc: 79.380%, best acc: 79.440%\n"
     ]
    },
    {
     "name": "stderr",
     "output_type": "stream",
     "text": [
      "\n",
      "Epoch 179 train: 100%|██████████| 391/391 [00:46<00:00,  8.46it/s, loss=0.007, acc=99.964%, 49982/50000]\n",
      "Epoch 179  test: 100%|██████████| 20/20 [00:04<00:00,  4.99it/s, loss=0.836, acc=79.320%, 7932/10000]"
     ]
    },
    {
     "name": "stdout",
     "output_type": "stream",
     "text": [
      "Epoch 179 | total time: 50s, test acc: 79.320%, best acc: 79.440%\n"
     ]
    },
    {
     "name": "stderr",
     "output_type": "stream",
     "text": [
      "\n",
      "Epoch 180 train: 100%|██████████| 391/391 [00:46<00:00,  8.47it/s, loss=0.007, acc=99.964%, 49982/50000]\n",
      "Epoch 180  test: 100%|██████████| 20/20 [00:04<00:00,  4.62it/s, loss=0.835, acc=79.410%, 7941/10000]"
     ]
    },
    {
     "name": "stdout",
     "output_type": "stream",
     "text": [
      "Epoch 180 | total time: 51s, test acc: 79.410%, best acc: 79.440%\n"
     ]
    },
    {
     "name": "stderr",
     "output_type": "stream",
     "text": [
      "\n",
      "Epoch 181 train: 100%|██████████| 391/391 [00:45<00:00,  8.52it/s, loss=0.007, acc=99.972%, 49986/50000]\n",
      "Epoch 181  test: 100%|██████████| 20/20 [00:04<00:00,  4.94it/s, loss=0.833, acc=79.450%, 7945/10000]\n"
     ]
    },
    {
     "name": "stdout",
     "output_type": "stream",
     "text": [
      "Saving..\n",
      "Epoch 181 | total time: 50s, test acc: 79.450%, best acc: 79.450%\n"
     ]
    },
    {
     "name": "stderr",
     "output_type": "stream",
     "text": [
      "Epoch 182 train: 100%|██████████| 391/391 [00:46<00:00,  8.48it/s, loss=0.007, acc=99.962%, 49981/50000]\n",
      "Epoch 182  test: 100%|██████████| 20/20 [00:03<00:00,  5.40it/s, loss=0.834, acc=79.500%, 7950/10000]\n"
     ]
    },
    {
     "name": "stdout",
     "output_type": "stream",
     "text": [
      "Saving..\n",
      "Epoch 182 | total time: 50s, test acc: 79.500%, best acc: 79.500%\n"
     ]
    },
    {
     "name": "stderr",
     "output_type": "stream",
     "text": [
      "Epoch 183 train: 100%|██████████| 391/391 [00:46<00:00,  8.48it/s, loss=0.007, acc=99.958%, 49979/50000]\n",
      "Epoch 183  test: 100%|██████████| 20/20 [00:03<00:00,  5.02it/s, loss=0.833, acc=79.630%, 7963/10000]\n"
     ]
    },
    {
     "name": "stdout",
     "output_type": "stream",
     "text": [
      "Saving..\n",
      "Epoch 183 | total time: 51s, test acc: 79.630%, best acc: 79.630%\n"
     ]
    },
    {
     "name": "stderr",
     "output_type": "stream",
     "text": [
      "Epoch 184 train: 100%|██████████| 391/391 [00:46<00:00,  8.49it/s, loss=0.007, acc=99.972%, 49986/50000]\n",
      "Epoch 184  test: 100%|██████████| 20/20 [00:04<00:00,  4.97it/s, loss=0.830, acc=79.510%, 7951/10000]"
     ]
    },
    {
     "name": "stdout",
     "output_type": "stream",
     "text": [
      "Epoch 184 | total time: 50s, test acc: 79.510%, best acc: 79.630%\n"
     ]
    },
    {
     "name": "stderr",
     "output_type": "stream",
     "text": [
      "\n",
      "Epoch 185 train: 100%|██████████| 391/391 [00:46<00:00,  8.47it/s, loss=0.007, acc=99.970%, 49985/50000]\n",
      "Epoch 185  test: 100%|██████████| 20/20 [00:04<00:00,  4.95it/s, loss=0.834, acc=79.410%, 7941/10000]"
     ]
    },
    {
     "name": "stdout",
     "output_type": "stream",
     "text": [
      "Epoch 185 | total time: 50s, test acc: 79.410%, best acc: 79.630%\n"
     ]
    },
    {
     "name": "stderr",
     "output_type": "stream",
     "text": [
      "\n",
      "Epoch 186 train: 100%|██████████| 391/391 [00:45<00:00,  8.52it/s, loss=0.007, acc=99.962%, 49981/50000]\n",
      "Epoch 186  test: 100%|██████████| 20/20 [00:04<00:00,  4.97it/s, loss=0.833, acc=79.520%, 7952/10000]"
     ]
    },
    {
     "name": "stdout",
     "output_type": "stream",
     "text": [
      "Epoch 186 | total time: 50s, test acc: 79.520%, best acc: 79.630%\n"
     ]
    },
    {
     "name": "stderr",
     "output_type": "stream",
     "text": [
      "\n",
      "Epoch 187 train: 100%|██████████| 391/391 [00:46<00:00,  8.45it/s, loss=0.006, acc=99.968%, 49984/50000]\n",
      "Epoch 187  test: 100%|██████████| 20/20 [00:03<00:00,  5.02it/s, loss=0.833, acc=79.650%, 7965/10000]\n"
     ]
    },
    {
     "name": "stdout",
     "output_type": "stream",
     "text": [
      "Saving..\n",
      "Epoch 187 | total time: 51s, test acc: 79.650%, best acc: 79.650%\n"
     ]
    },
    {
     "name": "stderr",
     "output_type": "stream",
     "text": [
      "Epoch 188 train: 100%|██████████| 391/391 [00:46<00:00,  8.47it/s, loss=0.007, acc=99.972%, 49986/50000]\n",
      "Epoch 188  test: 100%|██████████| 20/20 [00:04<00:00,  4.81it/s, loss=0.832, acc=79.580%, 7958/10000]"
     ]
    },
    {
     "name": "stdout",
     "output_type": "stream",
     "text": [
      "Epoch 188 | total time: 51s, test acc: 79.580%, best acc: 79.650%\n"
     ]
    },
    {
     "name": "stderr",
     "output_type": "stream",
     "text": [
      "\n",
      "Epoch 189 train: 100%|██████████| 391/391 [00:46<00:00,  8.45it/s, loss=0.006, acc=99.976%, 49988/50000]\n",
      "Epoch 189  test: 100%|██████████| 20/20 [00:03<00:00,  5.03it/s, loss=0.831, acc=79.500%, 7950/10000]"
     ]
    },
    {
     "name": "stdout",
     "output_type": "stream",
     "text": [
      "Epoch 189 | total time: 50s, test acc: 79.500%, best acc: 79.650%\n"
     ]
    },
    {
     "name": "stderr",
     "output_type": "stream",
     "text": [
      "\n",
      "Epoch 190 train: 100%|██████████| 391/391 [00:46<00:00,  8.46it/s, loss=0.006, acc=99.970%, 49985/50000]\n",
      "Epoch 190  test: 100%|██████████| 20/20 [00:04<00:00,  4.96it/s, loss=0.833, acc=79.580%, 7958/10000]"
     ]
    },
    {
     "name": "stdout",
     "output_type": "stream",
     "text": [
      "Epoch 190 | total time: 50s, test acc: 79.580%, best acc: 79.650%\n"
     ]
    },
    {
     "name": "stderr",
     "output_type": "stream",
     "text": [
      "\n",
      "Epoch 191 train: 100%|██████████| 391/391 [00:46<00:00,  8.43it/s, loss=0.007, acc=99.970%, 49985/50000]\n",
      "Epoch 191  test: 100%|██████████| 20/20 [00:04<00:00,  4.98it/s, loss=0.836, acc=79.290%, 7929/10000]"
     ]
    },
    {
     "name": "stdout",
     "output_type": "stream",
     "text": [
      "Epoch 191 | total time: 51s, test acc: 79.290%, best acc: 79.650%\n"
     ]
    },
    {
     "name": "stderr",
     "output_type": "stream",
     "text": [
      "\n",
      "Epoch 192 train: 100%|██████████| 391/391 [00:46<00:00,  8.47it/s, loss=0.007, acc=99.966%, 49983/50000]\n",
      "Epoch 192  test: 100%|██████████| 20/20 [00:04<00:00,  4.71it/s, loss=0.834, acc=79.520%, 7952/10000]"
     ]
    },
    {
     "name": "stdout",
     "output_type": "stream",
     "text": [
      "Epoch 192 | total time: 51s, test acc: 79.520%, best acc: 79.650%\n"
     ]
    },
    {
     "name": "stderr",
     "output_type": "stream",
     "text": [
      "\n",
      "Epoch 193 train: 100%|██████████| 391/391 [00:46<00:00,  8.49it/s, loss=0.006, acc=99.978%, 49989/50000]\n",
      "Epoch 193  test: 100%|██████████| 20/20 [00:03<00:00,  5.01it/s, loss=0.829, acc=79.520%, 7952/10000]"
     ]
    },
    {
     "name": "stdout",
     "output_type": "stream",
     "text": [
      "Epoch 193 | total time: 50s, test acc: 79.520%, best acc: 79.650%\n"
     ]
    },
    {
     "name": "stderr",
     "output_type": "stream",
     "text": [
      "\n",
      "Epoch 194 train: 100%|██████████| 391/391 [00:45<00:00,  8.59it/s, loss=0.006, acc=99.978%, 49989/50000]\n",
      "Epoch 194  test: 100%|██████████| 20/20 [00:04<00:00,  4.97it/s, loss=0.831, acc=79.550%, 7955/10000]"
     ]
    },
    {
     "name": "stdout",
     "output_type": "stream",
     "text": [
      "Epoch 194 | total time: 50s, test acc: 79.550%, best acc: 79.650%\n"
     ]
    },
    {
     "name": "stderr",
     "output_type": "stream",
     "text": [
      "\n",
      "Epoch 195 train: 100%|██████████| 391/391 [00:46<00:00,  8.45it/s, loss=0.006, acc=99.978%, 49989/50000]\n",
      "Epoch 195  test: 100%|██████████| 20/20 [00:03<00:00,  5.88it/s, loss=0.831, acc=79.310%, 7931/10000]"
     ]
    },
    {
     "name": "stdout",
     "output_type": "stream",
     "text": [
      "Epoch 195 | total time: 50s, test acc: 79.310%, best acc: 79.650%\n"
     ]
    },
    {
     "name": "stderr",
     "output_type": "stream",
     "text": [
      "\n",
      "Epoch 196 train: 100%|██████████| 391/391 [00:46<00:00,  8.50it/s, loss=0.006, acc=99.976%, 49988/50000]\n",
      "Epoch 196  test: 100%|██████████| 20/20 [00:03<00:00,  5.01it/s, loss=0.834, acc=79.360%, 7936/10000]"
     ]
    },
    {
     "name": "stdout",
     "output_type": "stream",
     "text": [
      "Epoch 196 | total time: 50s, test acc: 79.360%, best acc: 79.650%\n"
     ]
    },
    {
     "name": "stderr",
     "output_type": "stream",
     "text": [
      "\n",
      "Epoch 197 train: 100%|██████████| 391/391 [00:46<00:00,  8.46it/s, loss=0.007, acc=99.972%, 49986/50000]\n",
      "Epoch 197  test: 100%|██████████| 20/20 [00:04<00:00,  4.67it/s, loss=0.832, acc=79.480%, 7948/10000]"
     ]
    },
    {
     "name": "stdout",
     "output_type": "stream",
     "text": [
      "Epoch 197 | total time: 51s, test acc: 79.480%, best acc: 79.650%\n"
     ]
    },
    {
     "name": "stderr",
     "output_type": "stream",
     "text": [
      "\n",
      "Epoch 198 train: 100%|██████████| 391/391 [00:46<00:00,  8.45it/s, loss=0.006, acc=99.982%, 49991/50000]\n",
      "Epoch 198  test: 100%|██████████| 20/20 [00:04<00:00,  4.93it/s, loss=0.833, acc=79.420%, 7942/10000]"
     ]
    },
    {
     "name": "stdout",
     "output_type": "stream",
     "text": [
      "Epoch 198 | total time: 51s, test acc: 79.420%, best acc: 79.650%\n"
     ]
    },
    {
     "name": "stderr",
     "output_type": "stream",
     "text": [
      "\n",
      "Epoch 199 train: 100%|██████████| 391/391 [00:45<00:00,  8.59it/s, loss=0.006, acc=99.974%, 49987/50000]\n",
      "Epoch 199  test: 100%|██████████| 20/20 [00:04<00:00,  4.94it/s, loss=0.833, acc=79.250%, 7925/10000]"
     ]
    },
    {
     "name": "stdout",
     "output_type": "stream",
     "text": [
      "Epoch 199 | total time: 50s, test acc: 79.250%, best acc: 79.650%\n"
     ]
    },
    {
     "name": "stderr",
     "output_type": "stream",
     "text": [
      "\n"
     ]
    }
   ],
   "source": [
    "# Training\n",
    "def train(epoch):\n",
    "    net.train()\n",
    "    train_loss = 0\n",
    "    correct = 0\n",
    "    total = 0\n",
    "\n",
    "    with tqdm.tqdm(enumerate(trainloader), total=len(trainloader)) as t:\n",
    "        t.set_description(f\"Epoch {epoch} train\")\n",
    "        for batch_idx, (inputs, targets) in t:\n",
    "            inputs, targets = inputs.to(device), targets.to(device)\n",
    "            optimizer.zero_grad()\n",
    "            outputs = net(inputs)\n",
    "            loss = criterion(outputs, targets)\n",
    "            loss.backward()\n",
    "            optimizer.step()\n",
    "\n",
    "            train_loss += loss.item()\n",
    "            _, predicted = outputs.max(1)\n",
    "            total += targets.size(0)\n",
    "            correct += predicted.eq(targets).sum().item()\n",
    "\n",
    "            t.set_postfix(\n",
    "                {\n",
    "                    \"loss\": f\"{train_loss/(batch_idx+1):.3f}\",\n",
    "                    \"acc\": f\"{100.*correct/total:.3f}%, {correct}/{total}\",\n",
    "                }\n",
    "            )\n",
    "\n",
    "    writer.add_scalars(\n",
    "        \"loss\", {\"train\": train_loss / len(trainloader)},\n",
    "        global_step=epoch * len(trainloader)\n",
    "    )\n",
    "    writer.add_scalars(\n",
    "        \"accuracy\", {\"train\": correct/total},\n",
    "        global_step=epoch\n",
    "    )\n",
    "\n",
    "\n",
    "# validation\n",
    "def test(epoch):\n",
    "    global best_acc\n",
    "    net.eval()\n",
    "    test_loss = 0\n",
    "    correct = 0\n",
    "    total = 0\n",
    "    with torch.no_grad():\n",
    "        with tqdm.tqdm(enumerate(testloader), total=len(testloader)) as t:\n",
    "            t.set_description(f\"Epoch {epoch}  test\")\n",
    "            for batch_idx, (inputs, targets) in t:\n",
    "                inputs, targets = inputs.to(device), targets.to(device)\n",
    "                outputs = net(inputs)\n",
    "                loss = criterion(outputs, targets)\n",
    "\n",
    "                test_loss += loss.item()\n",
    "                _, predicted = outputs.max(1)\n",
    "                total += targets.size(0)\n",
    "                correct += predicted.eq(targets).sum().item()\n",
    "\n",
    "                t.set_postfix(\n",
    "                    {\n",
    "                        \"loss\": f\"{test_loss / (batch_idx + 1):.3f}\",\n",
    "                        \"acc\": f\"{correct*100./total:.3f}%, {correct}/{total}\",\n",
    "                    }\n",
    "                )\n",
    "\n",
    "    writer.add_scalars(\n",
    "        \"loss\", {\"test\": test_loss/len(testloader)},\n",
    "        global_step=epoch * len(trainloader)\n",
    "    )\n",
    "    writer.add_scalars(\n",
    "        \"accuracy\", {\"test\": correct/total},\n",
    "        global_step=epoch\n",
    "    )\n",
    "\n",
    "    # Save checkpoint.\n",
    "    acc = 100.0 * correct / total\n",
    "    if acc > best_acc:\n",
    "        print(\"Saving..\")\n",
    "        state = {\n",
    "            \"net\": net.state_dict(),\n",
    "            \"acc\": acc,\n",
    "            \"epoch\": epoch,\n",
    "        }\n",
    "        torch.save(state, os.path.join(save_dir, \"ckpt.pth\"))\n",
    "        best_acc = acc\n",
    "\n",
    "    return acc\n",
    "\n",
    "\n",
    "for epoch in range(0, num_epochs):\n",
    "    tic = time.time()\n",
    "    train(epoch)\n",
    "    test_acc = test(epoch)\n",
    "    t = time.time() - tic\n",
    "    print(\n",
    "        f\"Epoch {epoch} | total time: {t:.0f}s, test acc: {test_acc:.3f}%, best acc: {best_acc:.3f}%\"\n",
    "    )\n",
    "    scheduler.step()"
   ]
  },
  {
   "cell_type": "code",
   "execution_count": null,
   "id": "5bceb1c8-9fc0-4343-a49b-15a5ae815121",
   "metadata": {},
   "outputs": [],
   "source": []
  }
 ],
 "metadata": {
  "kernelspec": {
   "display_name": "Python 3",
   "language": "python",
   "name": "python3"
  },
  "language_info": {
   "codemirror_mode": {
    "name": "ipython",
    "version": 3
   },
   "file_extension": ".py",
   "mimetype": "text/x-python",
   "name": "python",
   "nbconvert_exporter": "python",
   "pygments_lexer": "ipython3",
   "version": "3.8.10"
  },
  "vscode": {
   "interpreter": {
    "hash": "aee8b7b246df8f9039afb4144a1f6fd8d2ca17a180786b69acc140d282b71a49"
   }
  }
 },
 "nbformat": 4,
 "nbformat_minor": 5
}
